{
 "cells": [
  {
   "cell_type": "code",
   "execution_count": 168,
   "id": "9a56a7b9ec6ed9aa",
   "metadata": {
    "collapsed": false,
    "ExecuteTime": {
     "end_time": "2024-01-26T08:36:55.714908900Z",
     "start_time": "2024-01-26T08:36:55.663888400Z"
    }
   },
   "source": [
    "import pandas as pd"
   ],
   "outputs": []
  },
  {
   "cell_type": "code",
   "source": [
    "# Do not run this cell, it has been used to create the csv file\n",
    "# import json\n",
    "# \n",
    "# with open('./datas/heroes.json') as f:\n",
    "#   data = json.load(f)\n",
    "# \n",
    "# df = pd.DataFrame(columns=['Hero', 'Rank', 'Season', 'Stat', 'Value'])\n",
    "# \n",
    "# for hero, hero_data in data.items():\n",
    "#     name = hero_data['name']\n",
    "#     for rank, rank_data in hero_data['stats'].items():\n",
    "#         for season, season_data in rank_data.items():\n",
    "#             for stat, value in season_data.items():\n",
    "#                 print(f'{name} - {rank} - {season} - {stat} - {value}')\n",
    "#                 df = df._append({'Hero': name, 'Rank': rank, 'Season': season, 'Stat': stat, 'Value': value}, ignore_index=True)\n",
    "# print(df)\n",
    "# df.to_csv('./datas/heroes.csv', index=False)"
   ],
   "metadata": {
    "collapsed": true,
    "ExecuteTime": {
     "end_time": "2024-01-26T08:36:55.717908600Z",
     "start_time": "2024-01-26T08:36:55.693913300Z"
    }
   },
   "id": "initial_id",
   "execution_count": 169,
   "outputs": []
  },
  {
   "cell_type": "code",
   "source": [
    "df = pd.read_csv('./datas/heroes.csv')\n",
    "print(df)"
   ],
   "metadata": {
    "collapsed": false,
    "ExecuteTime": {
     "end_time": "2024-01-26T08:36:55.851876100Z",
     "start_time": "2024-01-26T08:36:55.721877400Z"
    }
   },
   "id": "2ddf0286904d571d",
   "execution_count": 170,
   "outputs": []
  },
  {
   "cell_type": "code",
   "source": [
    "def get_season_index(season_string: str):\n",
    "    last_season_ow1 = 36\n",
    "    game_version = int(season_string[2])\n",
    "    season_number = int(season_string[4:])\n",
    "    return (game_version - 1) * last_season_ow1 + season_number"
   ],
   "metadata": {
    "collapsed": false,
    "ExecuteTime": {
     "end_time": "2024-01-26T08:36:55.867876300Z",
     "start_time": "2024-01-26T08:36:55.833877Z"
    }
   },
   "id": "9b1d510accdb58d0",
   "execution_count": 171,
   "outputs": []
  },
  {
   "cell_type": "code",
   "source": [
    "# add to dataframe the column 'Season Index' with the index of the season\n",
    "df['Season Index'] = df['Season'].apply(get_season_index)\n",
    "print(df.columns)"
   ],
   "metadata": {
    "collapsed": false,
    "ExecuteTime": {
     "end_time": "2024-01-26T08:36:55.964879100Z",
     "start_time": "2024-01-26T08:36:55.851876100Z"
    }
   },
   "id": "a994946137ae9571",
   "execution_count": 172,
   "outputs": []
  },
  {
   "cell_type": "code",
   "source": [
    "def get_parsed_stat(stat: str):\n",
    "    # apply this function on a whole column to create a copy of it without '/ 10 min'\n",
    "    if '/ 10min' in str(stat):\n",
    "        stat = stat.replace(',', '')\n",
    "        return stat[:-8]\n",
    "    else:\n",
    "        return stat\n",
    "    \n",
    "\n",
    "df['Parsed Stat'] = df['Value'].apply(get_parsed_stat)    "
   ],
   "metadata": {
    "collapsed": false,
    "ExecuteTime": {
     "end_time": "2024-01-26T08:36:55.989894Z",
     "start_time": "2024-01-26T08:36:55.930876400Z"
    }
   },
   "id": "d86098c727333b79",
   "execution_count": 173,
   "outputs": []
  },
  {
   "cell_type": "code",
   "source": [
    "# save the dataframe to a csv file\n",
    "df.to_csv('./datas/heroes.csv', index=False)\n",
    "df = pd.read_csv('./datas/heroes.csv')\n",
    "print(df)"
   ],
   "metadata": {
    "collapsed": false,
    "ExecuteTime": {
     "end_time": "2024-01-26T08:36:56.336879100Z",
     "start_time": "2024-01-26T08:36:55.981876400Z"
    }
   },
   "id": "28b2eb196d997c5a",
   "execution_count": 174,
   "outputs": []
  },
  {
   "cell_type": "code",
   "source": [
    "# get every hero sort by name\n",
    "heroes = df['Hero'].unique()\n",
    "heroes = sorted(heroes)\n",
    "print(heroes)"
   ],
   "metadata": {
    "collapsed": false,
    "ExecuteTime": {
     "end_time": "2024-01-26T08:36:56.360876900Z",
     "start_time": "2024-01-26T08:36:56.334885300Z"
    }
   },
   "id": "ff504737f6ac42bd",
   "execution_count": 175,
   "outputs": []
  },
  {
   "cell_type": "code",
   "source": [
    "# get every Stat 'Win Rate' for 'ana'\n",
    "ana = df[df['Hero'] == 'ana']\n",
    "ana_win_rate = ana[ana['Stat'] == 'Win Rate']\n",
    "print(ana_win_rate)"
   ],
   "metadata": {
    "collapsed": false,
    "ExecuteTime": {
     "end_time": "2024-01-26T08:36:56.397876300Z",
     "start_time": "2024-01-26T08:36:56.347876700Z"
    }
   },
   "id": "a9ee324f4430d7e6",
   "execution_count": 176,
   "outputs": []
  },
  {
   "cell_type": "code",
   "source": [
    "import matplotlib.pyplot as plt\n",
    "import numpy as np\n",
    "\n",
    "\n",
    "def plot_character_stats_by_rank(character: str, stat: str, rank: str):\n",
    "    # get the data\n",
    "    character_df = df[df['Hero'] == character]\n",
    "    character_stat = character_df[character_df['Stat'] == stat]\n",
    "    character_stat_rank = character_stat[character_stat['Rank'] == rank].sort_values(by='Value')\n",
    "    character_stat_rank = character_stat_rank[character_stat_rank['Value'] != 'Unknown']\n",
    "    character_stat_rank['Value'] = character_stat_rank['Value'].apply(lambda x: float(x[:-1]))\n",
    "\n",
    "    # create the plot\n",
    "    plt.figure(figsize=(10, 5))\n",
    "    plt.bar(character_stat_rank['Season Index'], character_stat_rank['Value'], width=1)\n",
    "    plt.xticks(np.arange(0, 45, 2))\n",
    "    plt.xlabel('Season')\n",
    "    plt.ylabel(stat)\n",
    "    plt.title(f'{stat} for {character} in {rank} Rank')\n",
    "    plt.show()"
   ],
   "metadata": {
    "collapsed": false,
    "ExecuteTime": {
     "end_time": "2024-01-26T08:36:56.398879200Z",
     "start_time": "2024-01-26T08:36:56.378878700Z"
    }
   },
   "id": "c7803cc7e0eb925c",
   "execution_count": 177,
   "outputs": []
  },
  {
   "cell_type": "code",
   "source": [
    "plot_character_stats_by_rank('ana', 'Win Rate', 'bronze')\n",
    "plot_character_stats_by_rank('ana', 'Win Rate', 'silver')"
   ],
   "metadata": {
    "collapsed": false,
    "ExecuteTime": {
     "end_time": "2024-01-26T08:36:56.746876900Z",
     "start_time": "2024-01-26T08:36:56.394875900Z"
    }
   },
   "id": "b4c4a81594158ee6",
   "execution_count": 178,
   "outputs": []
  },
  {
   "cell_type": "code",
   "source": [
    "plot_character_stats_by_rank('widowmaker', 'KDA Ratio', 'bronze')\n",
    "plot_character_stats_by_rank('widowmaker', 'KDA Ratio', 'grandmaster')"
   ],
   "metadata": {
    "collapsed": false,
    "ExecuteTime": {
     "end_time": "2024-01-26T08:36:57.121876100Z",
     "start_time": "2024-01-26T08:36:56.740876700Z"
    }
   },
   "id": "4b20d17ee8a07499",
   "execution_count": 179,
   "outputs": []
  },
  {
   "cell_type": "code",
   "source": [
    "plot_character_stats_by_rank('genji', 'Pick Rate', 'grandmaster')"
   ],
   "metadata": {
    "collapsed": false,
    "ExecuteTime": {
     "end_time": "2024-01-26T08:36:57.326913800Z",
     "start_time": "2024-01-26T08:36:57.123876500Z"
    }
   },
   "id": "e99c6aca673498c0",
   "execution_count": 180,
   "outputs": []
  },
  {
   "cell_type": "code",
   "source": [
    "# todo: use this to compare 2 stats for a character (example: 'ana', 'Win Rate', 'grandmaster' and 'ana', 'Win Rate', 'bronze') \n",
    "#  you need to use 2 bars for each season, one for each stat, and you need to use different colors for each stat\n",
    "def merge_plot_character_stats_by_rank(character1: str, stat1: str, rank1: str, character2: str, stat2: str, rank2: str,\n",
    "                                       limit: int = 44):\n",
    "    # get the data\n",
    "    character_df1 = df[df['Hero'] == character1]\n",
    "    character_stat1 = character_df1[character_df1['Stat'] == stat1]\n",
    "    character_stat_rank1 = character_stat1[character_stat1['Rank'] == rank1].sort_values(by='Parsed Stat')\n",
    "    character_stat_rank1 = character_stat_rank1[character_stat_rank1['Parsed Stat'] != 'Unknown']\n",
    "    character_stat_rank1['Parsed Stat'] = character_stat_rank1['Parsed Stat'].apply(lambda x: float(x[:-1]))\n",
    "\n",
    "    character_df2 = df[df['Hero'] == character2]\n",
    "    character_stat2 = character_df2[character_df2['Stat'] == stat2]\n",
    "    character_stat_rank2 = character_stat2[character_stat2['Rank'] == rank2].sort_values(by='Parsed Stat')\n",
    "    character_stat_rank2 = character_stat_rank2[character_stat_rank2['Parsed Stat'] != 'Unknown']\n",
    "    character_stat_rank2['Parsed Stat'] = character_stat_rank2['Parsed Stat'].apply(lambda x: float(x[:-1]))\n",
    "\n",
    "    # create the plot\n",
    "    fig, ax1 = plt.subplots()\n",
    "    ax1.bar(character_stat_rank1['Season Index'], character_stat_rank1['Parsed Stat'], width=1, color='blue')\n",
    "    ax1.set_ylabel(f'{rank1} {character1} {stat1}', color='blue')\n",
    "    ax1.set_xlabel('Season')\n",
    "    ax2 = ax1.twinx()\n",
    "    ax2.bar(character_stat_rank2['Season Index'], character_stat_rank2['Parsed Stat'], width=1, color='r')  \n",
    "    ax2.set_ylabel(f'{rank2} {character2} {stat2}', color='r')\n",
    "    ax1.set_title(f'{stat1} and {stat2} comparison')\n",
    "    ax1.set_xlim(0,limit)\n",
    "    ax1.grid()\n",
    "    fig.tight_layout()\n",
    "    # add legend\n",
    "    plt.legend([stat1, stat2])\n",
    "    plt.show()"
   ],
   "metadata": {
    "collapsed": false,
    "ExecuteTime": {
     "end_time": "2024-01-26T08:36:57.493908800Z",
     "start_time": "2024-01-26T08:36:57.334877600Z"
    }
   },
   "id": "7eeef53fa892ff7c",
   "execution_count": 181,
   "outputs": []
  },
  {
   "cell_type": "code",
   "source": [
    "merge_plot_character_stats_by_rank('ana', 'KDA Ratio', 'grandmaster', 'ana', 'Win Rate', 'bronze', limit=45)"
   ],
   "metadata": {
    "collapsed": false,
    "ExecuteTime": {
     "end_time": "2024-01-26T08:36:57.673877900Z",
     "start_time": "2024-01-26T08:36:57.340876100Z"
    }
   },
   "id": "48d826523cadeca",
   "execution_count": 182,
   "outputs": []
  },
  {
   "cell_type": "code",
   "source": [
    "merge_plot_character_stats_by_rank('ana', 'Damage', 'bronze', 'cassidy', 'Damage', 'bronze', limit=45)"
   ],
   "metadata": {
    "collapsed": false,
    "ExecuteTime": {
     "end_time": "2024-01-26T08:59:46.603361100Z",
     "start_time": "2024-01-26T08:59:46.298369900Z"
    }
   },
   "id": "8e1c83d2114bb434",
   "execution_count": 187,
   "outputs": []
  },
  {
   "cell_type": "code",
   "source": [
    "plot_character_stats_by_rank('wrecking-ball', 'Win Rate', 'diamond')"
   ],
   "metadata": {
    "collapsed": false,
    "ExecuteTime": {
     "end_time": "2024-01-26T11:23:32.463338500Z",
     "start_time": "2024-01-26T11:23:32.278337500Z"
    }
   },
   "id": "28fccfcc250024f8",
   "execution_count": 189,
   "outputs": []
  }
 ],
 "metadata": {
  "kernelspec": {
   "display_name": "Python 3",
   "language": "python",
   "name": "python3"
  },
  "language_info": {
   "codemirror_mode": {
    "name": "ipython",
    "version": 2
   },
   "file_extension": ".py",
   "mimetype": "text/x-python",
   "name": "python",
   "nbconvert_exporter": "python",
   "pygments_lexer": "ipython2",
   "version": "2.7.6"
  }
 },
 "nbformat": 4,
 "nbformat_minor": 5
}
