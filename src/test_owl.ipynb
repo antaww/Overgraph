{
 "cells": [
  {
   "cell_type": "code",
   "execution_count": 99,
   "id": "initial_id",
   "metadata": {
    "collapsed": true,
    "ExecuteTime": {
     "end_time": "2024-02-08T00:51:49.300410900Z",
     "start_time": "2024-02-08T00:51:49.195242600Z"
    }
   },
   "outputs": [],
   "source": [
    "import pandas as pd"
   ]
  },
  {
   "cell_type": "markdown",
   "source": [
    "# 2018 STAGE 1"
   ],
   "metadata": {
    "collapsed": false
   },
   "id": "49b3b0b721be898e"
  },
  {
   "cell_type": "code",
   "outputs": [
    {
     "name": "stdout",
     "output_type": "stream",
     "text": [
      "            start_time  match_id                                       stage  \\\n",
      "0       1/11/2018 0:12     10223                  Overwatch League - Stage 1   \n",
      "1       1/11/2018 0:12     10223                  Overwatch League - Stage 1   \n",
      "2       1/11/2018 0:12     10223                  Overwatch League - Stage 1   \n",
      "3       1/11/2018 0:12     10223                  Overwatch League - Stage 1   \n",
      "4       1/11/2018 0:12     10223                  Overwatch League - Stage 1   \n",
      "...                ...       ...                                         ...   \n",
      "256040  2/11/2018 5:51     10539  Overwatch League - Stage 1 - Title Matches   \n",
      "256041  2/11/2018 5:51     10539  Overwatch League - Stage 1 - Title Matches   \n",
      "256042  2/11/2018 5:51     10539  Overwatch League - Stage 1 - Title Matches   \n",
      "256043  2/11/2018 5:51     10539  Overwatch League - Stage 1 - Title Matches   \n",
      "256044  2/11/2018 5:51     10539  Overwatch League - Stage 1 - Title Matches   \n",
      "\n",
      "       map_type     map      player                 team  \\\n",
      "0       PAYLOAD  Dorado   Agilities  Los Angeles Valiant   \n",
      "1       PAYLOAD  Dorado   Agilities  Los Angeles Valiant   \n",
      "2       PAYLOAD  Dorado   Agilities  Los Angeles Valiant   \n",
      "3       PAYLOAD  Dorado   Agilities  Los Angeles Valiant   \n",
      "4       PAYLOAD  Dorado   Agilities  Los Angeles Valiant   \n",
      "...         ...     ...         ...                  ...   \n",
      "256040  PAYLOAD  Dorado  SAEBYEOLBE   New York Excelsior   \n",
      "256041  PAYLOAD  Dorado  SAEBYEOLBE   New York Excelsior   \n",
      "256042  PAYLOAD  Dorado  SAEBYEOLBE   New York Excelsior   \n",
      "256043  PAYLOAD  Dorado  SAEBYEOLBE   New York Excelsior   \n",
      "256044  PAYLOAD  Dorado  SAEBYEOLBE   New York Excelsior   \n",
      "\n",
      "                                 stat        hero   stat_amount  \n",
      "0                     All Damage Done  All Heroes  18079.206920  \n",
      "1                             Assists  All Heroes     17.000000  \n",
      "2                 Barrier Damage Done  All Heroes   2893.659185  \n",
      "3                Damage - Quick Melee  All Heroes    443.204010  \n",
      "4                              Deaths  All Heroes     11.000000  \n",
      "...                               ...         ...           ...  \n",
      "256040          Time Holding Ultimate  Widowmaker      8.316000  \n",
      "256041                    Time Played  Widowmaker    248.275474  \n",
      "256042  Ultimates Earned - Fractional  Widowmaker      2.592931  \n",
      "256043                 Ultimates Used  Widowmaker      2.000000  \n",
      "256044                Weapon Accuracy  Widowmaker      0.585366  \n",
      "\n",
      "[256045 rows x 10 columns]\n"
     ]
    }
   ],
   "source": [
    "df_2018_s1 = pd.read_csv('./datas/owl/phs_2018_stage_1.csv')\n",
    "print(df_2018_s1)"
   ],
   "metadata": {
    "collapsed": false,
    "ExecuteTime": {
     "end_time": "2024-02-08T00:51:49.522388Z",
     "start_time": "2024-02-08T00:51:49.301411300Z"
    }
   },
   "id": "fe30803ec16390d9",
   "execution_count": 100
  },
  {
   "cell_type": "markdown",
   "source": [
    "# 2018 STAGE 2"
   ],
   "metadata": {
    "collapsed": false
   },
   "id": "d950a081343e6e55"
  },
  {
   "cell_type": "code",
   "outputs": [
    {
     "name": "stdout",
     "output_type": "stream",
     "text": [
      "            start_time  match_id                                     stage  \\\n",
      "0       2/22/2018 0:14     10278                Overwatch League - Stage 2   \n",
      "1       2/22/2018 0:14     10278                Overwatch League - Stage 2   \n",
      "2       2/22/2018 0:14     10278                Overwatch League - Stage 2   \n",
      "3       2/22/2018 0:14     10278                Overwatch League - Stage 2   \n",
      "4       2/22/2018 0:14     10278                Overwatch League - Stage 2   \n",
      "...                ...       ...                                       ...   \n",
      "268321  3/26/2018 0:01     10542  Overwatch League - Stage 2 Title Matches   \n",
      "268322  3/26/2018 0:01     10542  Overwatch League - Stage 2 Title Matches   \n",
      "268323  3/26/2018 0:01     10542  Overwatch League - Stage 2 Title Matches   \n",
      "268324  3/26/2018 0:01     10542  Overwatch League - Stage 2 Title Matches   \n",
      "268325  3/26/2018 0:01     10542  Overwatch League - Stage 2 Title Matches   \n",
      "\n",
      "       map_type                    map     player                 team  \\\n",
      "0       ASSAULT    Volskaya Industries  Agilities  Los Angeles Valiant   \n",
      "1       ASSAULT    Volskaya Industries  Agilities  Los Angeles Valiant   \n",
      "2       ASSAULT    Volskaya Industries  Agilities  Los Angeles Valiant   \n",
      "3       ASSAULT    Volskaya Industries  Agilities  Los Angeles Valiant   \n",
      "4       ASSAULT    Volskaya Industries  Agilities  Los Angeles Valiant   \n",
      "...         ...                    ...        ...                  ...   \n",
      "268321  PAYLOAD  Watchpoint: Gibraltar    neptuNo  Philadelphia Fusion   \n",
      "268322  PAYLOAD  Watchpoint: Gibraltar    neptuNo  Philadelphia Fusion   \n",
      "268323  PAYLOAD  Watchpoint: Gibraltar    neptuNo  Philadelphia Fusion   \n",
      "268324  PAYLOAD  Watchpoint: Gibraltar    neptuNo  Philadelphia Fusion   \n",
      "268325  PAYLOAD  Watchpoint: Gibraltar    neptuNo  Philadelphia Fusion   \n",
      "\n",
      "                                 stat        hero   stat_amount  \n",
      "0                     All Damage Done  All Heroes  13196.751110  \n",
      "1                             Assists  All Heroes      9.000000  \n",
      "2                 Barrier Damage Done  All Heroes   3501.660326  \n",
      "3                Damage - Quick Melee  All Heroes    196.278833  \n",
      "4                              Deaths  All Heroes      9.000000  \n",
      "...                               ...         ...           ...  \n",
      "268321          Time Holding Ultimate       Mercy     42.405001  \n",
      "268322                    Time Played       Mercy    574.379346  \n",
      "268323  Ultimates Earned - Fractional       Mercy      5.489618  \n",
      "268324                 Ultimates Used       Mercy      4.000000  \n",
      "268325                Weapon Accuracy       Mercy      0.323529  \n",
      "\n",
      "[268326 rows x 10 columns]\n"
     ]
    }
   ],
   "source": [
    "df_2018_s2 = pd.read_csv('./datas/owl/phs_2018_stage_2.csv')\n",
    "print(df_2018_s2)"
   ],
   "metadata": {
    "collapsed": false,
    "ExecuteTime": {
     "end_time": "2024-02-08T00:51:49.738113700Z",
     "start_time": "2024-02-08T00:51:49.518388200Z"
    }
   },
   "id": "777f2fc5104e577a",
   "execution_count": 101
  },
  {
   "cell_type": "markdown",
   "source": [
    "# 2018 STAGE 3"
   ],
   "metadata": {
    "collapsed": false
   },
   "id": "b4aa8f5ca6a90da3"
  },
  {
   "cell_type": "code",
   "outputs": [
    {
     "name": "stdout",
     "output_type": "stream",
     "text": [
      "            start_time  match_id                                     stage  \\\n",
      "0       4/4/2018 23:16     10333                Overwatch League - Stage 3   \n",
      "1       4/4/2018 23:16     10333                Overwatch League - Stage 3   \n",
      "2       4/4/2018 23:16     10333                Overwatch League - Stage 3   \n",
      "3       4/4/2018 23:16     10333                Overwatch League - Stage 3   \n",
      "4       4/4/2018 23:16     10333                Overwatch League - Stage 3   \n",
      "...                ...       ...                                       ...   \n",
      "259744   5/7/2018 0:46     10545  Overwatch League - Stage 3 Title Matches   \n",
      "259745   5/7/2018 0:46     10545  Overwatch League - Stage 3 Title Matches   \n",
      "259746   5/7/2018 0:46     10545  Overwatch League - Stage 3 Title Matches   \n",
      "259747   5/7/2018 0:46     10545  Overwatch League - Stage 3 Title Matches   \n",
      "259748   5/7/2018 0:46     10545  Overwatch League - Stage 3 Title Matches   \n",
      "\n",
      "       map_type                  map      player                team  \\\n",
      "0       ASSAULT  Volskaya Industries      EFFECT         Dallas Fuel   \n",
      "1       ASSAULT  Volskaya Industries      EFFECT         Dallas Fuel   \n",
      "2       ASSAULT  Volskaya Industries      EFFECT         Dallas Fuel   \n",
      "3       ASSAULT  Volskaya Industries      EFFECT         Dallas Fuel   \n",
      "4       ASSAULT  Volskaya Industries      EFFECT         Dallas Fuel   \n",
      "...         ...                  ...         ...                 ...   \n",
      "259744   HYBRID              Numbani  SAEBYEOLBE  New York Excelsior   \n",
      "259745   HYBRID              Numbani  SAEBYEOLBE  New York Excelsior   \n",
      "259746   HYBRID              Numbani  SAEBYEOLBE  New York Excelsior   \n",
      "259747   HYBRID              Numbani  SAEBYEOLBE  New York Excelsior   \n",
      "259748   HYBRID              Numbani  SAEBYEOLBE  New York Excelsior   \n",
      "\n",
      "                                 stat        hero   stat_amount  \n",
      "0                     All Damage Done  All Heroes  13924.479150  \n",
      "1                             Assists  All Heroes     15.000000  \n",
      "2                 Barrier Damage Done  All Heroes   2170.792630  \n",
      "3                Damage - Quick Melee  All Heroes    135.604904  \n",
      "4                              Deaths  All Heroes      2.000000  \n",
      "...                               ...         ...           ...  \n",
      "259744          Time Holding Ultimate      Tracer    198.179006  \n",
      "259745                    Time Played      Tracer   1027.807027  \n",
      "259746  Ultimates Earned - Fractional      Tracer     11.105958  \n",
      "259747                 Ultimates Used      Tracer     10.000000  \n",
      "259748                Weapon Accuracy      Tracer      0.362767  \n",
      "\n",
      "[259749 rows x 10 columns]\n"
     ]
    }
   ],
   "source": [
    "df_2018_s3 = pd.read_csv('./datas/owl/phs_2018_stage_3.csv')\n",
    "print(df_2018_s3)"
   ],
   "metadata": {
    "collapsed": false,
    "ExecuteTime": {
     "end_time": "2024-02-08T00:51:49.946544800Z",
     "start_time": "2024-02-08T00:51:49.738113700Z"
    }
   },
   "id": "fdd95eb6a7aef722",
   "execution_count": 102
  },
  {
   "cell_type": "markdown",
   "source": [
    "# 2018 STAGE 4"
   ],
   "metadata": {
    "collapsed": false
   },
   "id": "d486c5a7da7f8a6a"
  },
  {
   "cell_type": "code",
   "outputs": [
    {
     "name": "stdout",
     "output_type": "stream",
     "text": [
      "             start_time  match_id                                     stage  \\\n",
      "0       5/16/2018 23:14     10443                Overwatch League - Stage 4   \n",
      "1       5/16/2018 23:14     10443                Overwatch League - Stage 4   \n",
      "2       5/16/2018 23:14     10443                Overwatch League - Stage 4   \n",
      "3       5/16/2018 23:14     10443                Overwatch League - Stage 4   \n",
      "4       5/16/2018 23:14     10443                Overwatch League - Stage 4   \n",
      "...                 ...       ...                                       ...   \n",
      "285037   6/18/2018 2:07     10548  Overwatch League - Stage 4 Title Matches   \n",
      "285038   6/18/2018 2:07     10548  Overwatch League - Stage 4 Title Matches   \n",
      "285039   6/18/2018 2:07     10548  Overwatch League - Stage 4 Title Matches   \n",
      "285040   6/18/2018 2:07     10548  Overwatch League - Stage 4 Title Matches   \n",
      "285041   6/18/2018 2:07     10548  Overwatch League - Stage 4 Title Matches   \n",
      "\n",
      "       map_type             map      player                    team  \\\n",
      "0        HYBRID  Blizzard World    BigG00se  Los Angeles Gladiators   \n",
      "1        HYBRID  Blizzard World    BigG00se  Los Angeles Gladiators   \n",
      "2        HYBRID  Blizzard World    BigG00se  Los Angeles Gladiators   \n",
      "3        HYBRID  Blizzard World    BigG00se  Los Angeles Gladiators   \n",
      "4        HYBRID  Blizzard World    BigG00se  Los Angeles Gladiators   \n",
      "...         ...             ...         ...                     ...   \n",
      "285037   HYBRID  Blizzard World  SAEBYEOLBE      New York Excelsior   \n",
      "285038   HYBRID  Blizzard World  SAEBYEOLBE      New York Excelsior   \n",
      "285039   HYBRID  Blizzard World  SAEBYEOLBE      New York Excelsior   \n",
      "285040   HYBRID  Blizzard World  SAEBYEOLBE      New York Excelsior   \n",
      "285041   HYBRID  Blizzard World  SAEBYEOLBE      New York Excelsior   \n",
      "\n",
      "                                    stat        hero  stat_amount  \n",
      "0                        All Damage Done  All Heroes   324.000000  \n",
      "1                                Assists  All Heroes     3.000000  \n",
      "2                     Average Time Alive  All Heroes    94.816128  \n",
      "3                    Barrier Damage Done  All Heroes   120.000000  \n",
      "4                   Damage - Quick Melee  All Heroes    69.000000  \n",
      "...                                  ...         ...          ...  \n",
      "285037            Time Building Ultimate  Widowmaker    80.808002  \n",
      "285038  Time Elapsed per Ultimate Earned  Widowmaker   115.720338  \n",
      "285039                       Time Played  Widowmaker    79.807571  \n",
      "285040     Ultimates Earned - Fractional  Widowmaker     0.698304  \n",
      "285041                   Weapon Accuracy  Widowmaker     0.600000  \n",
      "\n",
      "[285042 rows x 10 columns]\n"
     ]
    }
   ],
   "source": [
    "df_2018_s4 = pd.read_csv('./datas/owl/phs_2018_stage_4.csv')\n",
    "print(df_2018_s4)"
   ],
   "metadata": {
    "collapsed": false,
    "ExecuteTime": {
     "end_time": "2024-02-08T00:51:50.183358100Z",
     "start_time": "2024-02-08T00:51:49.948547900Z"
    }
   },
   "id": "496d913d87e78886",
   "execution_count": 103
  },
  {
   "cell_type": "markdown",
   "source": [
    "# 2018 PLAYOFFS"
   ],
   "metadata": {
    "collapsed": false
   },
   "id": "1c29402ecde8f4cb"
  },
  {
   "cell_type": "code",
   "outputs": [
    {
     "name": "stdout",
     "output_type": "stream",
     "text": [
      "            start_time  match_id  \\\n",
      "0       7/12/2018 0:19     13121   \n",
      "1       7/12/2018 0:19     13121   \n",
      "2       7/12/2018 0:19     13121   \n",
      "3       7/12/2018 0:19     13121   \n",
      "4       7/12/2018 0:19     13121   \n",
      "...                ...       ...   \n",
      "55251  7/28/2018 21:18     13134   \n",
      "55252  7/28/2018 21:18     13134   \n",
      "55253  7/28/2018 21:18     13134   \n",
      "55254  7/28/2018 21:18     13134   \n",
      "55255  7/28/2018 21:18     13134   \n",
      "\n",
      "                                                stage map_type         map  \\\n",
      "0      Overwatch League Inaugural Season Championship  PAYLOAD      Dorado   \n",
      "1      Overwatch League Inaugural Season Championship  PAYLOAD      Dorado   \n",
      "2      Overwatch League Inaugural Season Championship  PAYLOAD      Dorado   \n",
      "3      Overwatch League Inaugural Season Championship  PAYLOAD      Dorado   \n",
      "4      Overwatch League Inaugural Season Championship  PAYLOAD      Dorado   \n",
      "...                                               ...      ...         ...   \n",
      "55251  Overwatch League Inaugural Season Championship   HYBRID  King's Row   \n",
      "55252  Overwatch League Inaugural Season Championship   HYBRID  King's Row   \n",
      "55253  Overwatch League Inaugural Season Championship   HYBRID  King's Row   \n",
      "55254  Overwatch League Inaugural Season Championship   HYBRID  King's Row   \n",
      "55255  Overwatch League Inaugural Season Championship   HYBRID  King's Row   \n",
      "\n",
      "        player                 team                           stat  \\\n",
      "0        Gamsu      Boston Uprising                All Damage Done   \n",
      "1        Gamsu      Boston Uprising                        Assists   \n",
      "2        Gamsu      Boston Uprising             Average Time Alive   \n",
      "3        Gamsu      Boston Uprising            Barrier Damage Done   \n",
      "4        Gamsu      Boston Uprising           Damage - Quick Melee   \n",
      "...        ...                  ...                            ...   \n",
      "55251  neptuNo  Philadelphia Fusion                    Time Played   \n",
      "55252  neptuNo  Philadelphia Fusion  Ultimates Earned - Fractional   \n",
      "55253  neptuNo  Philadelphia Fusion                 Ultimates Used   \n",
      "55254  neptuNo  Philadelphia Fusion    Valkyrie Healing Efficiency   \n",
      "55255  neptuNo  Philadelphia Fusion                Weapon Accuracy   \n",
      "\n",
      "             hero   stat_amount  \n",
      "0      All Heroes  10677.179340  \n",
      "1      All Heroes     10.000000  \n",
      "2      All Heroes     60.004185  \n",
      "3      All Heroes   4868.578228  \n",
      "4      All Heroes    304.000000  \n",
      "...           ...           ...  \n",
      "55251       Mercy    966.522496  \n",
      "55252       Mercy      9.265461  \n",
      "55253       Mercy      8.000000  \n",
      "55254       Mercy    494.746389  \n",
      "55255       Mercy      0.357143  \n",
      "\n",
      "[55256 rows x 10 columns]\n"
     ]
    }
   ],
   "source": [
    "df_2018_po = pd.read_csv('./datas/owl/phs_2018_playoffs.csv')\n",
    "print(df_2018_po)"
   ],
   "metadata": {
    "collapsed": false,
    "ExecuteTime": {
     "end_time": "2024-02-08T00:51:50.239096300Z",
     "start_time": "2024-02-08T00:51:50.179331800Z"
    }
   },
   "id": "4a3fa51552d0add3",
   "execution_count": 104
  },
  {
   "cell_type": "markdown",
   "source": [
    "# 2019 STAGE 1"
   ],
   "metadata": {
    "collapsed": false
   },
   "id": "ada37fbd3f635046"
  },
  {
   "cell_type": "code",
   "outputs": [
    {
     "name": "stdout",
     "output_type": "stream",
     "text": [
      "             start_time  match_id                                   stage  \\\n",
      "0        2/15/2019 0:11     21211                Overwatch League Stage 1   \n",
      "1        2/15/2019 0:11     21211                Overwatch League Stage 1   \n",
      "2        2/15/2019 0:11     21211                Overwatch League Stage 1   \n",
      "3        2/15/2019 0:11     21211                Overwatch League Stage 1   \n",
      "4        2/15/2019 0:11     21211                Overwatch League Stage 1   \n",
      "...                 ...       ...                                     ...   \n",
      "331218  3/24/2019 21:34     20306  Overwatch League Stage 1 Title Matches   \n",
      "331219  3/24/2019 21:34     20306  Overwatch League Stage 1 Title Matches   \n",
      "331220  3/24/2019 21:34     20306  Overwatch League Stage 1 Title Matches   \n",
      "331221  3/24/2019 21:34     20306  Overwatch League Stage 1 Title Matches   \n",
      "331222  3/24/2019 21:34     20306  Overwatch League Stage 1 Title Matches   \n",
      "\n",
      "       map_type     map    player              team  \\\n",
      "0       CONTROL   Ilios    Bdosin   London Spitfire   \n",
      "1       CONTROL   Ilios    Bdosin   London Spitfire   \n",
      "2       CONTROL   Ilios    Bdosin   London Spitfire   \n",
      "3       CONTROL   Ilios    Bdosin   London Spitfire   \n",
      "4       CONTROL   Ilios    Bdosin   London Spitfire   \n",
      "...         ...     ...       ...               ...   \n",
      "331218  PAYLOAD  Rialto  Twilight  Vancouver Titans   \n",
      "331219  PAYLOAD  Rialto  Twilight  Vancouver Titans   \n",
      "331220  PAYLOAD  Rialto  Twilight  Vancouver Titans   \n",
      "331221  PAYLOAD  Rialto  Twilight  Vancouver Titans   \n",
      "331222  PAYLOAD  Rialto  Twilight  Vancouver Titans   \n",
      "\n",
      "                                    stat        hero   stat_amount  \n",
      "0                        All Damage Done  All Heroes  14845.193400  \n",
      "1                                Assists  All Heroes     13.000000  \n",
      "2                     Average Time Alive  All Heroes     87.623574  \n",
      "3                    Barrier Damage Done  All Heroes   5674.344475  \n",
      "4                   Damage - Quick Melee  All Heroes     78.000000  \n",
      "...                                  ...         ...           ...  \n",
      "331218             Transcendence Healing    Zenyatta   8144.733865  \n",
      "331219  Transcendence Percent of Healing    Zenyatta      0.528182  \n",
      "331220     Ultimates Earned - Fractional    Zenyatta      9.904689  \n",
      "331221                    Ultimates Used    Zenyatta      9.000000  \n",
      "331222                   Weapon Accuracy    Zenyatta      0.400000  \n",
      "\n",
      "[331223 rows x 10 columns]\n"
     ]
    }
   ],
   "source": [
    "df_2019_s1 = pd.read_csv('./datas/owl/phs_2019_stage_1.csv')\n",
    "print(df_2019_s1)"
   ],
   "metadata": {
    "collapsed": false,
    "ExecuteTime": {
     "end_time": "2024-02-08T00:51:50.510052200Z",
     "start_time": "2024-02-08T00:51:50.235097Z"
    }
   },
   "id": "882ceb34022383ec",
   "execution_count": 105
  },
  {
   "cell_type": "markdown",
   "source": [
    "# 2019 STAGE 2"
   ],
   "metadata": {
    "collapsed": false
   },
   "id": "2224c90be0782609"
  },
  {
   "cell_type": "code",
   "outputs": [
    {
     "name": "stdout",
     "output_type": "stream",
     "text": [
      "             start_time  match_id                                   stage  \\\n",
      "0        4/4/2019 23:07     21313                Overwatch League Stage 2   \n",
      "1        4/4/2019 23:07     21313                Overwatch League Stage 2   \n",
      "2        4/4/2019 23:07     21313                Overwatch League Stage 2   \n",
      "3        4/4/2019 23:07     21313                Overwatch League Stage 2   \n",
      "4        4/4/2019 23:07     21313                Overwatch League Stage 2   \n",
      "...                 ...       ...                                     ...   \n",
      "375854  5/12/2019 19:15     20316  Overwatch League Stage 2 Title Matches   \n",
      "375855  5/12/2019 19:15     20316  Overwatch League Stage 2 Title Matches   \n",
      "375856  5/12/2019 19:15     20316  Overwatch League Stage 2 Title Matches   \n",
      "375857  5/12/2019 19:15     20316  Overwatch League Stage 2 Title Matches   \n",
      "375858  5/12/2019 19:15     20316  Overwatch League Stage 2 Title Matches   \n",
      "\n",
      "       map_type             map    player                team  \\\n",
      "0       CONTROL   Lijiang Tower     Anamo  New York Excelsior   \n",
      "1       CONTROL   Lijiang Tower     Anamo  New York Excelsior   \n",
      "2       CONTROL   Lijiang Tower     Anamo  New York Excelsior   \n",
      "3       CONTROL   Lijiang Tower     Anamo  New York Excelsior   \n",
      "4       CONTROL   Lijiang Tower     Anamo  New York Excelsior   \n",
      "...         ...             ...       ...                 ...   \n",
      "375854   HYBRID  Blizzard World  Twilight    Vancouver Titans   \n",
      "375855   HYBRID  Blizzard World  Twilight    Vancouver Titans   \n",
      "375856   HYBRID  Blizzard World  Twilight    Vancouver Titans   \n",
      "375857   HYBRID  Blizzard World  Twilight    Vancouver Titans   \n",
      "375858   HYBRID  Blizzard World  Twilight    Vancouver Titans   \n",
      "\n",
      "                                    stat        hero  stat_amount  \n",
      "0                        All Damage Done  All Heroes  6627.941752  \n",
      "1                                Assists  All Heroes    17.000000  \n",
      "2                     Average Time Alive  All Heroes   232.836007  \n",
      "3                    Barrier Damage Done  All Heroes  2912.682075  \n",
      "4                   Damage - Quick Melee  All Heroes   143.512508  \n",
      "...                                  ...         ...          ...  \n",
      "375854             Transcendence Healing    Zenyatta  7479.629228  \n",
      "375855  Transcendence Percent of Healing    Zenyatta     0.452374  \n",
      "375856     Ultimates Earned - Fractional    Zenyatta     7.242204  \n",
      "375857                    Ultimates Used    Zenyatta     6.000000  \n",
      "375858                   Weapon Accuracy    Zenyatta     0.390358  \n",
      "\n",
      "[375859 rows x 10 columns]\n"
     ]
    }
   ],
   "source": [
    "df_2019_s2 = pd.read_csv('./datas/owl/phs_2019_stage_2.csv')\n",
    "print(df_2019_s2)"
   ],
   "metadata": {
    "collapsed": false,
    "ExecuteTime": {
     "end_time": "2024-02-08T00:51:50.804577700Z",
     "start_time": "2024-02-08T00:51:50.507053800Z"
    }
   },
   "id": "ec480adb2d7725a5",
   "execution_count": 106
  },
  {
   "cell_type": "markdown",
   "source": [
    "# 2019 STAGE 3"
   ],
   "metadata": {
    "collapsed": false
   },
   "id": "87508769140d0047"
  },
  {
   "cell_type": "code",
   "outputs": [
    {
     "name": "stdout",
     "output_type": "stream",
     "text": [
      "             start_time  match_id                                   stage  \\\n",
      "0        6/6/2019 23:08     21300                Overwatch League Stage 3   \n",
      "1        6/6/2019 23:08     21300                Overwatch League Stage 3   \n",
      "2        6/6/2019 23:08     21300                Overwatch League Stage 3   \n",
      "3        6/6/2019 23:08     21300                Overwatch League Stage 3   \n",
      "4        6/6/2019 23:08     21300                Overwatch League Stage 3   \n",
      "...                 ...       ...                                     ...   \n",
      "384480  7/14/2019 22:40     20326  Overwatch League Stage 3 Title Matches   \n",
      "384481  7/14/2019 22:40     20326  Overwatch League Stage 3 Title Matches   \n",
      "384482  7/14/2019 22:40     20326  Overwatch League Stage 3 Title Matches   \n",
      "384483  7/14/2019 22:40     20326  Overwatch League Stage 3 Title Matches   \n",
      "384484  7/14/2019 22:40     20326  Overwatch League Stage 3 Title Matches   \n",
      "\n",
      "       map_type     map player              team  \\\n",
      "0       CONTROL   Ilios   Daco     Atlanta Reign   \n",
      "1       CONTROL   Ilios   Daco     Atlanta Reign   \n",
      "2       CONTROL   Ilios   Daco     Atlanta Reign   \n",
      "3       CONTROL   Ilios   Daco     Atlanta Reign   \n",
      "4       CONTROL   Ilios   Daco     Atlanta Reign   \n",
      "...         ...     ...    ...               ...   \n",
      "384480  PAYLOAD  Dorado   diem  Shanghai Dragons   \n",
      "384481  PAYLOAD  Dorado   diem  Shanghai Dragons   \n",
      "384482  PAYLOAD  Dorado   diem  Shanghai Dragons   \n",
      "384483  PAYLOAD  Dorado   diem  Shanghai Dragons   \n",
      "384484  PAYLOAD  Dorado   diem  Shanghai Dragons   \n",
      "\n",
      "                                 stat        hero   stat_amount  \n",
      "0                     All Damage Done  All Heroes  16204.560360  \n",
      "1                             Assists  All Heroes     24.000000  \n",
      "2                  Average Time Alive  All Heroes    142.997504  \n",
      "3                 Barrier Damage Done  All Heroes   5989.367281  \n",
      "4                Damage - Quick Melee  All Heroes    131.131728  \n",
      "...                               ...         ...           ...  \n",
      "384480                    Time Played  Widowmaker    589.852445  \n",
      "384481  Ultimates Earned - Fractional  Widowmaker      6.204235  \n",
      "384482                 Ultimates Used  Widowmaker      6.000000  \n",
      "384483               Venom Mine Kills  Widowmaker      1.000000  \n",
      "384484                Weapon Accuracy  Widowmaker      0.576271  \n",
      "\n",
      "[384485 rows x 10 columns]\n"
     ]
    }
   ],
   "source": [
    "df_2019_s3 = pd.read_csv('./datas/owl/phs_2019_stage_3.csv')\n",
    "print(df_2019_s3)"
   ],
   "metadata": {
    "collapsed": false,
    "ExecuteTime": {
     "end_time": "2024-02-08T00:51:51.110698700Z",
     "start_time": "2024-02-08T00:51:50.801497900Z"
    }
   },
   "id": "c0bdbaf542ff32cd",
   "execution_count": 107
  },
  {
   "cell_type": "markdown",
   "source": [
    "# 2019 STAGE 4"
   ],
   "metadata": {
    "collapsed": false
   },
   "id": "81c9026aba4bb06e"
  },
  {
   "cell_type": "code",
   "outputs": [
    {
     "name": "stdout",
     "output_type": "stream",
     "text": [
      "             start_time  match_id                     stage map_type  \\\n",
      "0       7/25/2019 23:05     21358  Overwatch League Stage 4  CONTROL   \n",
      "1       7/25/2019 23:05     21358  Overwatch League Stage 4  CONTROL   \n",
      "2       7/25/2019 23:05     21358  Overwatch League Stage 4  CONTROL   \n",
      "3       7/25/2019 23:05     21358  Overwatch League Stage 4  CONTROL   \n",
      "4       7/25/2019 23:05     21358  Overwatch League Stage 4  CONTROL   \n",
      "...                 ...       ...                       ...      ...   \n",
      "362288   8/26/2019 1:48     21515  Overwatch League Stage 4  PAYLOAD   \n",
      "362289   8/26/2019 1:48     21515  Overwatch League Stage 4  PAYLOAD   \n",
      "362290   8/26/2019 1:48     21515  Overwatch League Stage 4  PAYLOAD   \n",
      "362291   8/26/2019 1:48     21515  Overwatch League Stage 4  PAYLOAD   \n",
      "362292   8/26/2019 1:48     21515  Overwatch League Stage 4  PAYLOAD   \n",
      "\n",
      "               map player                 team  \\\n",
      "0            Busan  Boink      Houston Outlaws   \n",
      "1            Busan  Boink      Houston Outlaws   \n",
      "2            Busan  Boink      Houston Outlaws   \n",
      "3            Busan  Boink      Houston Outlaws   \n",
      "4            Busan  Boink      Houston Outlaws   \n",
      "...            ...    ...                  ...   \n",
      "362288  Junkertown  super  San Francisco Shock   \n",
      "362289  Junkertown  super  San Francisco Shock   \n",
      "362290  Junkertown  super  San Francisco Shock   \n",
      "362291  Junkertown  super  San Francisco Shock   \n",
      "362292  Junkertown  super  San Francisco Shock   \n",
      "\n",
      "                                    stat        hero  stat_amount  \n",
      "0                        All Damage Done  All Heroes  5511.995864  \n",
      "1                                Assists  All Heroes    11.000000  \n",
      "2                     Average Time Alive  All Heroes   103.182203  \n",
      "3                    Barrier Damage Done  All Heroes  1733.995926  \n",
      "4                   Damage - Quick Melee  All Heroes    80.708832  \n",
      "...                                  ...         ...          ...  \n",
      "362288  Time Elapsed per Ultimate Earned   Reinhardt    82.719690  \n",
      "362289             Time Holding Ultimate   Reinhardt     3.115000  \n",
      "362290                       Time Played   Reinhardt   188.790534  \n",
      "362291     Ultimates Earned - Fractional   Reinhardt     2.177353  \n",
      "362292                    Ultimates Used   Reinhardt     2.000000  \n",
      "\n",
      "[362293 rows x 10 columns]\n"
     ]
    }
   ],
   "source": [
    "df_2019_s4 = pd.read_csv('./datas/owl/phs_2019_stage_4.csv')\n",
    "print(df_2019_s4)"
   ],
   "metadata": {
    "collapsed": false,
    "ExecuteTime": {
     "end_time": "2024-02-08T00:51:51.393902Z",
     "start_time": "2024-02-08T00:51:51.108701100Z"
    }
   },
   "id": "93cddffdb3983aba",
   "execution_count": 108
  },
  {
   "cell_type": "markdown",
   "source": [
    "# 2019 PLAYOFFS"
   ],
   "metadata": {
    "collapsed": false
   },
   "id": "741707e96539b4db"
  },
  {
   "cell_type": "code",
   "outputs": [
    {
     "name": "stdout",
     "output_type": "stream",
     "text": [
      "             start_time  match_id                              stage map_type  \\\n",
      "0        8/31/2019 1:09     30172  Overwatch League 2019 Post-Season  CONTROL   \n",
      "1        8/31/2019 1:09     30172  Overwatch League 2019 Post-Season  CONTROL   \n",
      "2        8/31/2019 1:09     30172  Overwatch League 2019 Post-Season  CONTROL   \n",
      "3        8/31/2019 1:09     30172  Overwatch League 2019 Post-Season  CONTROL   \n",
      "4        8/31/2019 1:09     30172  Overwatch League 2019 Post-Season  CONTROL   \n",
      "...                 ...       ...                                ...      ...   \n",
      "103967  9/29/2019 20:47     30157  Overwatch League 2019 Post-Season  PAYLOAD   \n",
      "103968  9/29/2019 20:47     30157  Overwatch League 2019 Post-Season  PAYLOAD   \n",
      "103969  9/29/2019 20:47     30157  Overwatch League 2019 Post-Season  PAYLOAD   \n",
      "103970  9/29/2019 20:47     30157  Overwatch League 2019 Post-Season  PAYLOAD   \n",
      "103971  9/29/2019 20:47     30157  Overwatch League 2019 Post-Season  PAYLOAD   \n",
      "\n",
      "                          map    player              team  \\\n",
      "0                       Ilios      Elsa   Chengdu Hunters   \n",
      "1                       Ilios      Elsa   Chengdu Hunters   \n",
      "2                       Ilios      Elsa   Chengdu Hunters   \n",
      "3                       Ilios      Elsa   Chengdu Hunters   \n",
      "4                       Ilios      Elsa   Chengdu Hunters   \n",
      "...                       ...       ...               ...   \n",
      "103967  Watchpoint: Gibraltar  Twilight  Vancouver Titans   \n",
      "103968  Watchpoint: Gibraltar  Twilight  Vancouver Titans   \n",
      "103969  Watchpoint: Gibraltar  Twilight  Vancouver Titans   \n",
      "103970  Watchpoint: Gibraltar  Twilight  Vancouver Titans   \n",
      "103971  Watchpoint: Gibraltar  Twilight  Vancouver Titans   \n",
      "\n",
      "                        stat        hero   stat_amount  \n",
      "0            All Damage Done  All Heroes  19059.670270  \n",
      "1                    Assists  All Heroes     22.000000  \n",
      "2         Average Time Alive  All Heroes    302.704223  \n",
      "3        Barrier Damage Done  All Heroes   8861.540116  \n",
      "4       Damage - Quick Melee  All Heroes    152.999995  \n",
      "...                      ...         ...           ...  \n",
      "103967        Ultimates Used         Ana      6.000000  \n",
      "103968     Unscoped Accuracy         Ana      0.528777  \n",
      "103969         Unscoped Hits         Ana    147.000000  \n",
      "103970        Unscoped Shots         Ana    278.000000  \n",
      "103971       Weapon Accuracy         Ana      0.273504  \n",
      "\n",
      "[103972 rows x 10 columns]\n"
     ]
    }
   ],
   "source": [
    "df_2019_po = pd.read_csv('./datas/owl/phs_2019_playoffs.csv')\n",
    "print(df_2019_po)"
   ],
   "metadata": {
    "collapsed": false,
    "ExecuteTime": {
     "end_time": "2024-02-08T00:51:51.495559400Z",
     "start_time": "2024-02-08T00:51:51.395904Z"
    }
   },
   "id": "c21ff89aaedece33",
   "execution_count": 109
  },
  {
   "cell_type": "markdown",
   "source": [
    "# 2020 STAGE 1"
   ],
   "metadata": {
    "collapsed": false
   },
   "id": "de42be7a4a2bea68"
  },
  {
   "cell_type": "code",
   "outputs": [
    {
     "name": "stdout",
     "output_type": "stream",
     "text": [
      "            start_time  match_id                    stage map_type  \\\n",
      "0       2/8/2020 18:13     30991  OWL 2020 Regular Season  CONTROL   \n",
      "1       2/8/2020 18:13     30991  OWL 2020 Regular Season  CONTROL   \n",
      "2       2/8/2020 18:13     30991  OWL 2020 Regular Season  CONTROL   \n",
      "3       2/8/2020 18:13     30991  OWL 2020 Regular Season  CONTROL   \n",
      "4       2/8/2020 18:13     30991  OWL 2020 Regular Season  CONTROL   \n",
      "...                ...       ...                      ...      ...   \n",
      "760106   7/6/2020 3:12     34751  OWL 2020 Regular Season  PAYLOAD   \n",
      "760107   7/6/2020 3:12     34751  OWL 2020 Regular Season  PAYLOAD   \n",
      "760108   7/6/2020 3:12     34751  OWL 2020 Regular Season  PAYLOAD   \n",
      "760109   7/6/2020 3:12     34751  OWL 2020 Regular Season  PAYLOAD   \n",
      "760110   7/6/2020 3:12     34751  OWL 2020 Regular Season  PAYLOAD   \n",
      "\n",
      "                  map   player                 team  \\\n",
      "0       Lijiang Tower  BenBest        Paris Eternal   \n",
      "1       Lijiang Tower  BenBest        Paris Eternal   \n",
      "2       Lijiang Tower  BenBest        Paris Eternal   \n",
      "3       Lijiang Tower  BenBest        Paris Eternal   \n",
      "4       Lijiang Tower  BenBest        Paris Eternal   \n",
      "...               ...      ...                  ...   \n",
      "760106         Rialto      eqo  Philadelphia Fusion   \n",
      "760107         Rialto      eqo  Philadelphia Fusion   \n",
      "760108         Rialto      eqo  Philadelphia Fusion   \n",
      "760109         Rialto      eqo  Philadelphia Fusion   \n",
      "760110         Rialto      eqo  Philadelphia Fusion   \n",
      "\n",
      "                                    stat        hero   stat_amount  \n",
      "0                        All Damage Done  All Heroes   6674.164055  \n",
      "1                                Assists  All Heroes     11.000000  \n",
      "2                     Average Time Alive  All Heroes     60.199502  \n",
      "3                    Barrier Damage Done  All Heroes   1875.000000  \n",
      "4                         Damage Blocked  All Heroes  14640.911780  \n",
      "...                                  ...         ...           ...  \n",
      "760106                        Time Alive      Tracer      3.675000  \n",
      "760107            Time Building Ultimate      Tracer      3.675000  \n",
      "760108  Time Elapsed per Ultimate Earned      Tracer    308.700003  \n",
      "760109                       Time Played      Tracer      3.896239  \n",
      "760110     Ultimates Earned - Fractional      Tracer      0.011905  \n",
      "\n",
      "[760111 rows x 10 columns]\n"
     ]
    }
   ],
   "source": [
    "df_2020_s1 = pd.read_csv('./datas/owl/phs_2020_1.csv')\n",
    "print(df_2020_s1)"
   ],
   "metadata": {
    "collapsed": false,
    "ExecuteTime": {
     "end_time": "2024-02-08T00:51:52.066616Z",
     "start_time": "2024-02-08T00:51:51.491430800Z"
    }
   },
   "id": "7e14106bf8758131",
   "execution_count": 110
  },
  {
   "cell_type": "markdown",
   "source": [
    "# 2020 STAGE 2"
   ],
   "metadata": {
    "collapsed": false
   },
   "id": "5f2cadb575664ed4"
  },
  {
   "cell_type": "code",
   "outputs": [
    {
     "name": "stdout",
     "output_type": "stream",
     "text": [
      "                 start_time  match_id                    stage map_type  \\\n",
      "0       2020-07-17 19:17:13     34844  OWL 2020 Regular Season  CONTROL   \n",
      "1       2020-07-17 19:17:13     34844  OWL 2020 Regular Season  CONTROL   \n",
      "2       2020-07-17 19:17:13     34844  OWL 2020 Regular Season  CONTROL   \n",
      "3       2020-07-17 19:17:13     34844  OWL 2020 Regular Season  CONTROL   \n",
      "4       2020-07-17 19:17:13     34844  OWL 2020 Regular Season  CONTROL   \n",
      "...                     ...       ...                      ...      ...   \n",
      "473159  2020-10-10 15:21:26     35552  OWL 2020 Regular Season   HYBRID   \n",
      "473160  2020-10-10 15:21:26     35552  OWL 2020 Regular Season   HYBRID   \n",
      "473161  2020-10-10 15:21:26     35552  OWL 2020 Regular Season   HYBRID   \n",
      "473162  2020-10-10 15:21:26     35552  OWL 2020 Regular Season   HYBRID   \n",
      "473163  2020-10-10 15:21:26     35552  OWL 2020 Regular Season   HYBRID   \n",
      "\n",
      "                  map   player           team                           stat  \\\n",
      "0       Lijiang Tower  BenBest  Paris Eternal                All Damage Done   \n",
      "1       Lijiang Tower  BenBest  Paris Eternal                        Assists   \n",
      "2       Lijiang Tower  BenBest  Paris Eternal             Average Time Alive   \n",
      "3       Lijiang Tower  BenBest  Paris Eternal            Barrier Damage Done   \n",
      "4       Lijiang Tower  BenBest  Paris Eternal                 Damage Blocked   \n",
      "...               ...      ...            ...                            ...   \n",
      "473159      Hollywood     tobi  Seoul Dynasty                    Time Played   \n",
      "473160      Hollywood     tobi  Seoul Dynasty  Ultimates Earned - Fractional   \n",
      "473161      Hollywood     tobi  Seoul Dynasty                 Ultimates Used   \n",
      "473162      Hollywood     tobi  Seoul Dynasty    Valkyrie Healing Efficiency   \n",
      "473163      Hollywood     tobi  Seoul Dynasty                Weapon Accuracy   \n",
      "\n",
      "              hero   stat_amount  \n",
      "0       All Heroes   6437.383286  \n",
      "1       All Heroes     12.000000  \n",
      "2       All Heroes     63.518002  \n",
      "3       All Heroes   2300.000000  \n",
      "4       All Heroes  10770.851446  \n",
      "...            ...           ...  \n",
      "473159       Mercy    919.875289  \n",
      "473160       Mercy      4.811592  \n",
      "473161       Mercy      4.000000  \n",
      "473162       Mercy    301.680441  \n",
      "473163       Mercy      0.368421  \n",
      "\n",
      "[473164 rows x 10 columns]\n"
     ]
    }
   ],
   "source": [
    "df_2020_s2 = pd.read_csv('./datas/owl/phs_2020_2.csv')\n",
    "print(df_2020_s2)"
   ],
   "metadata": {
    "collapsed": false,
    "ExecuteTime": {
     "end_time": "2024-02-08T00:51:52.447018700Z",
     "start_time": "2024-02-08T00:51:52.063616500Z"
    }
   },
   "id": "efbfc9b1ce370a70",
   "execution_count": 111
  },
  {
   "cell_type": "markdown",
   "source": [
    "# 2021 STAGE"
   ],
   "metadata": {
    "collapsed": false
   },
   "id": "44f2c084cfff13ea"
  },
  {
   "cell_type": "code",
   "outputs": [
    {
     "name": "stdout",
     "output_type": "stream",
     "text": [
      "                  start_time  match_id     stage map_type     map player  \\\n",
      "0        2021-04-16 19:08:52     37234  OWL 2021  CONTROL   Busan   Doha   \n",
      "1        2021-04-16 19:08:52     37234  OWL 2021  CONTROL   Busan   Doha   \n",
      "2        2021-04-16 19:08:52     37234  OWL 2021  CONTROL   Busan   Doha   \n",
      "3        2021-04-16 19:08:52     37234  OWL 2021  CONTROL   Busan   Doha   \n",
      "4        2021-04-16 19:08:52     37234  OWL 2021  CONTROL   Busan   Doha   \n",
      "...                      ...       ...       ...      ...     ...    ...   \n",
      "1031553  2021-09-26 02:53:59     37441  OWL 2021  PAYLOAD  Havana   Void   \n",
      "1031554  2021-09-26 02:53:59     37441  OWL 2021  PAYLOAD  Havana   Void   \n",
      "1031555  2021-09-26 02:53:59     37441  OWL 2021  PAYLOAD  Havana   Void   \n",
      "1031556  2021-09-26 02:53:59     37441  OWL 2021  PAYLOAD  Havana   Void   \n",
      "1031557  2021-09-26 02:53:59     37441  OWL 2021  PAYLOAD  Havana   Void   \n",
      "\n",
      "                     team                  stat        hero   stat_amount  \n",
      "0             Dallas Fuel       All Damage Done  All Heroes  13900.680095  \n",
      "1             Dallas Fuel               Assists  All Heroes      8.000000  \n",
      "2             Dallas Fuel    Average Time Alive  All Heroes     56.481102  \n",
      "3             Dallas Fuel   Barrier Damage Done  All Heroes   1495.492155  \n",
      "4             Dallas Fuel  Damage - Quick Melee  All Heroes     60.000000  \n",
      "...                   ...                   ...         ...           ...  \n",
      "1031553  Shanghai Dragons        Ultimates Used       Zarya      2.000000  \n",
      "1031554  Shanghai Dragons       Weapon Accuracy       Zarya      0.260870  \n",
      "1031555  Shanghai Dragons                   NaN       Zarya      0.919047  \n",
      "1031556  Shanghai Dragons                   NaN       Zarya      0.459524  \n",
      "1031557  Shanghai Dragons                   NaN       Zarya      0.459524  \n",
      "\n",
      "[1031558 rows x 10 columns]\n"
     ]
    }
   ],
   "source": [
    "df_2021 = pd.read_csv('./datas/owl/phs_2021_1.csv')\n",
    "print(df_2021)"
   ],
   "metadata": {
    "collapsed": false,
    "ExecuteTime": {
     "end_time": "2024-02-08T00:51:53.174423900Z",
     "start_time": "2024-02-08T00:51:52.444016Z"
    }
   },
   "id": "29cc3e2458900720",
   "execution_count": 112
  },
  {
   "cell_type": "markdown",
   "source": [
    "# 2022 STAGE"
   ],
   "metadata": {
    "collapsed": false
   },
   "id": "fc10f27cf20fbb5c"
  },
  {
   "cell_type": "code",
   "outputs": [
    {
     "name": "stdout",
     "output_type": "stream",
     "text": [
      "                      start_time  match_id                      stage  \\\n",
      "0        2022-05-05 19:10:00 UTC     38971  Kickoff Clash: Qualifiers   \n",
      "1        2022-05-05 19:10:00 UTC     38971  Kickoff Clash: Qualifiers   \n",
      "2        2022-05-05 19:10:00 UTC     38971  Kickoff Clash: Qualifiers   \n",
      "3        2022-05-05 19:10:00 UTC     38971  Kickoff Clash: Qualifiers   \n",
      "4        2022-05-05 19:10:00 UTC     38971  Kickoff Clash: Qualifiers   \n",
      "...                          ...       ...                        ...   \n",
      "1048570  2022-10-08 10:28:00 UTC     39346  Countdown Cup: Qualifiers   \n",
      "1048571  2022-10-08 10:28:00 UTC     39346  Countdown Cup: Qualifiers   \n",
      "1048572  2022-10-08 10:28:00 UTC     39346  Countdown Cup: Qualifiers   \n",
      "1048573  2022-10-08 10:28:00 UTC     39346  Countdown Cup: Qualifiers   \n",
      "1048574  2022-10-08 10:28:00 UTC     39346  Countdown Cup: Qualifiers   \n",
      "\n",
      "        map_type            map      player                    team  \\\n",
      "0        control  Lijiang Tower  FunnyAstro  Los Angeles Gladiators   \n",
      "1        control  Lijiang Tower  FunnyAstro  Los Angeles Gladiators   \n",
      "2        control  Lijiang Tower  FunnyAstro  Los Angeles Gladiators   \n",
      "3        control  Lijiang Tower  FunnyAstro  Los Angeles Gladiators   \n",
      "4        control  Lijiang Tower  FunnyAstro  Los Angeles Gladiators   \n",
      "...          ...            ...         ...                     ...   \n",
      "1048570   hybrid    Eichenwalde  ChoiSehwan        Guangzhou Charge   \n",
      "1048571   hybrid    Eichenwalde  ChoiSehwan        Guangzhou Charge   \n",
      "1048572   hybrid    Eichenwalde  ChoiSehwan        Guangzhou Charge   \n",
      "1048573   hybrid    Eichenwalde  ChoiSehwan        Guangzhou Charge   \n",
      "1048574   hybrid    Eichenwalde  ChoiSehwan        Guangzhou Charge   \n",
      "\n",
      "                         stat        hero   stat_amount  \n",
      "0             All Damage Done  All Heroes  11560.871071  \n",
      "1                     Assists  All Heroes     15.000000  \n",
      "2          Average Time Alive  All Heroes     83.394003  \n",
      "3         Barrier Damage Done  All Heroes   4265.500527  \n",
      "4        Damage - Quick Melee  All Heroes    135.000000  \n",
      "...                       ...         ...           ...  \n",
      "1048570      Healing Received      Tracer   4543.289774  \n",
      "1048571      Hero Damage Done      Tracer  14736.386035  \n",
      "1048572     Melee Final Blows      Tracer      5.000000  \n",
      "1048573       Objective Kills      Tracer      9.000000  \n",
      "1048574     Quick Melee Ticks      Tracer     41.000000  \n",
      "\n",
      "[1048575 rows x 10 columns]\n"
     ]
    }
   ],
   "source": [
    "df_2022 = pd.read_csv('./datas/owl/phs_2022.csv')\n",
    "print(df_2022)"
   ],
   "metadata": {
    "collapsed": false,
    "ExecuteTime": {
     "end_time": "2024-02-08T00:51:53.969252300Z",
     "start_time": "2024-02-08T00:51:53.170916400Z"
    }
   },
   "id": "a63195fa6b0be279",
   "execution_count": 113
  },
  {
   "cell_type": "markdown",
   "source": [
    "# 2023 STAGE"
   ],
   "metadata": {
    "collapsed": false
   },
   "id": "9b8f0c2967b2d0f"
  },
  {
   "cell_type": "code",
   "outputs": [
    {
     "name": "stdout",
     "output_type": "stream",
     "text": [
      "                     start_time  match_id              stage map_type  \\\n",
      "0       2023-03-23 20:11:00 UTC     41215             Pro-Am  control   \n",
      "1       2023-03-23 20:11:00 UTC     41215             Pro-Am  control   \n",
      "2       2023-03-23 20:11:00 UTC     41215             Pro-Am  control   \n",
      "3       2023-03-23 20:11:00 UTC     41215             Pro-Am  control   \n",
      "4       2023-03-23 20:11:00 UTC     41215             Pro-Am  control   \n",
      "...                         ...       ...                ...      ...   \n",
      "676461  2023-06-18 05:27:00 UTC     41057  Midseason Madness  control   \n",
      "676462  2023-06-18 05:27:00 UTC     41057  Midseason Madness  control   \n",
      "676463  2023-06-18 05:27:00 UTC     41057  Midseason Madness  control   \n",
      "676464  2023-06-18 05:27:00 UTC     41057  Midseason Madness  control   \n",
      "676465  2023-06-18 05:27:00 UTC     41057  Midseason Madness  control   \n",
      "\n",
      "                        map   player             team  \\\n",
      "0                     Nepal  CH0R0NG   Florida Mayhem   \n",
      "1                     Nepal  CH0R0NG   Florida Mayhem   \n",
      "2                     Nepal  CH0R0NG   Florida Mayhem   \n",
      "3                     Nepal  CH0R0NG   Florida Mayhem   \n",
      "4                     Nepal  CH0R0NG   Florida Mayhem   \n",
      "...                     ...      ...              ...   \n",
      "676461  Antarctic Peninsula      shu  Houston Outlaws   \n",
      "676462  Antarctic Peninsula      shu  Houston Outlaws   \n",
      "676463  Antarctic Peninsula      shu  Houston Outlaws   \n",
      "676464  Antarctic Peninsula      shu  Houston Outlaws   \n",
      "676465  Antarctic Peninsula      shu  Houston Outlaws   \n",
      "\n",
      "                                    stat        hero  stat_amount  \n",
      "0                        All Damage Done  All Heroes  4618.946262  \n",
      "1                                Assists  All Heroes    23.000000  \n",
      "2                                Assists  All Heroes    10.000000  \n",
      "3              Assists  - Avg per 10 min  All Heroes     0.029220  \n",
      "4                 Assists - Most in Game  All Heroes    23.000000  \n",
      "...                                  ...         ...          ...  \n",
      "676461                        Time Alive       Moira    51.267001  \n",
      "676462            Time Building Ultimate       Moira    74.061002  \n",
      "676463  Time Elapsed per Ultimate Earned       Moira   123.979228  \n",
      "676464                       Time Played       Moira    74.527243  \n",
      "676465     Ultimates Earned - Fractional       Moira     0.597366  \n",
      "\n",
      "[676466 rows x 10 columns]\n"
     ]
    }
   ],
   "source": [
    "df_2023 = pd.read_csv('./datas/owl/phs_2023.csv')\n",
    "print(df_2023)"
   ],
   "metadata": {
    "collapsed": false,
    "ExecuteTime": {
     "end_time": "2024-02-08T00:51:54.455867900Z",
     "start_time": "2024-02-08T00:51:53.965252800Z"
    }
   },
   "id": "86a05193bc4ec221",
   "execution_count": 114
  },
  {
   "cell_type": "markdown",
   "source": [
    "# MERGE DATAFRAMES"
   ],
   "metadata": {
    "collapsed": false
   },
   "id": "611ac6522bfb9392"
  },
  {
   "cell_type": "code",
   "outputs": [
    {
     "name": "stdout",
     "output_type": "stream",
     "text": [
      "                     start_time  match_id                       stage  \\\n",
      "0                1/11/2018 0:12     10223  Overwatch League - Stage 1   \n",
      "1                1/11/2018 0:12     10223  Overwatch League - Stage 1   \n",
      "2                1/11/2018 0:12     10223  Overwatch League - Stage 1   \n",
      "3                1/11/2018 0:12     10223  Overwatch League - Stage 1   \n",
      "4                1/11/2018 0:12     10223  Overwatch League - Stage 1   \n",
      "...                         ...       ...                         ...   \n",
      "676461  2023-06-18 05:27:00 UTC     41057           Midseason Madness   \n",
      "676462  2023-06-18 05:27:00 UTC     41057           Midseason Madness   \n",
      "676463  2023-06-18 05:27:00 UTC     41057           Midseason Madness   \n",
      "676464  2023-06-18 05:27:00 UTC     41057           Midseason Madness   \n",
      "676465  2023-06-18 05:27:00 UTC     41057           Midseason Madness   \n",
      "\n",
      "       map_type                  map     player                 team  \\\n",
      "0       PAYLOAD               Dorado  Agilities  Los Angeles Valiant   \n",
      "1       PAYLOAD               Dorado  Agilities  Los Angeles Valiant   \n",
      "2       PAYLOAD               Dorado  Agilities  Los Angeles Valiant   \n",
      "3       PAYLOAD               Dorado  Agilities  Los Angeles Valiant   \n",
      "4       PAYLOAD               Dorado  Agilities  Los Angeles Valiant   \n",
      "...         ...                  ...        ...                  ...   \n",
      "676461  control  Antarctic Peninsula        shu      Houston Outlaws   \n",
      "676462  control  Antarctic Peninsula        shu      Houston Outlaws   \n",
      "676463  control  Antarctic Peninsula        shu      Houston Outlaws   \n",
      "676464  control  Antarctic Peninsula        shu      Houston Outlaws   \n",
      "676465  control  Antarctic Peninsula        shu      Houston Outlaws   \n",
      "\n",
      "                                    stat        hero   stat_amount  \n",
      "0                        All Damage Done  All Heroes  18079.206920  \n",
      "1                                Assists  All Heroes     17.000000  \n",
      "2                    Barrier Damage Done  All Heroes   2893.659185  \n",
      "3                   Damage - Quick Melee  All Heroes    443.204010  \n",
      "4                                 Deaths  All Heroes     11.000000  \n",
      "...                                  ...         ...           ...  \n",
      "676461                        Time Alive       Moira     51.267001  \n",
      "676462            Time Building Ultimate       Moira     74.061002  \n",
      "676463  Time Elapsed per Ultimate Earned       Moira    123.979228  \n",
      "676464                       Time Played       Moira     74.527243  \n",
      "676465     Ultimates Earned - Fractional       Moira      0.597366  \n",
      "\n",
      "[6672124 rows x 10 columns]\n"
     ]
    }
   ],
   "source": [
    "# merge every dataframes in one\n",
    "df = pd.concat(\n",
    "    [df_2018_s1, df_2018_s2, df_2018_s3, df_2018_s4, df_2018_po, df_2019_s1, df_2019_s2, df_2019_s3, df_2019_s4,\n",
    "     df_2019_po, df_2020_s1, df_2020_s2, df_2021, df_2022, df_2023])\n",
    "print(df)"
   ],
   "metadata": {
    "collapsed": false,
    "ExecuteTime": {
     "end_time": "2024-02-08T00:51:54.837112Z",
     "start_time": "2024-02-08T00:51:54.452580400Z"
    }
   },
   "id": "9cef15576c323ae3",
   "execution_count": 115
  },
  {
   "cell_type": "markdown",
   "source": [
    "# CLEAN DATA"
   ],
   "metadata": {
    "collapsed": false
   },
   "id": "1fb7a7b355de6cbe"
  },
  {
   "cell_type": "code",
   "outputs": [
    {
     "name": "stdout",
     "output_type": "stream",
     "text": [
      "Empty DataFrame\n",
      "Columns: [start_time, match_id, stage, map_type, map, player, team, stat, hero, stat_amount]\n",
      "Index: []\n"
     ]
    }
   ],
   "source": [
    "# replace every 'McCree' in 'hero' column by 'Cassidy' (do not create a new column)\n",
    "df.replace({'hero': 'McCree'}, 'Cassidy', inplace=True)\n",
    "# todo rename every 'old' teams by their 'new' name\n",
    "# check if it worked\n",
    "print(df[df['hero'] == 'McCree'])"
   ],
   "metadata": {
    "collapsed": false,
    "ExecuteTime": {
     "end_time": "2024-02-08T00:51:55.302474400Z",
     "start_time": "2024-02-08T00:51:54.957429300Z"
    }
   },
   "id": "aa6ac5613df082b1",
   "execution_count": 116
  },
  {
   "cell_type": "markdown",
   "source": [
    "# PLAYGROUND"
   ],
   "metadata": {
    "collapsed": false
   },
   "id": "660a099e741ec1e7"
  },
  {
   "cell_type": "code",
   "outputs": [
    {
     "name": "stdout",
     "output_type": "stream",
     "text": [
      "Index(['start_time', 'match_id', 'stage', 'map_type', 'map', 'player', 'team',\n",
      "       'stat', 'hero', 'stat_amount'],\n",
      "      dtype='object')\n"
     ]
    }
   ],
   "source": [
    "# get columns\n",
    "print(df.columns)"
   ],
   "metadata": {
    "collapsed": false,
    "ExecuteTime": {
     "end_time": "2024-02-08T00:51:55.302474400Z",
     "start_time": "2024-02-08T00:51:55.299695300Z"
    }
   },
   "id": "159cbca5a19ad2b5",
   "execution_count": 117
  },
  {
   "cell_type": "code",
   "outputs": [],
   "source": [
    "def get_heroes_stat(stat: str) -> pd.Series:\n",
    "    return df[df['stat'] == stat].groupby('hero')['stat_amount'].sum().sort_values(ascending=False)"
   ],
   "metadata": {
    "collapsed": false,
    "ExecuteTime": {
     "end_time": "2024-02-08T00:51:55.309179300Z",
     "start_time": "2024-02-08T00:51:55.301474800Z"
    }
   },
   "id": "ac4573860101ded6",
   "execution_count": 118
  },
  {
   "cell_type": "code",
   "outputs": [
    {
     "name": "stdout",
     "output_type": "stream",
     "text": [
      "hero\n",
      "All Heroes       8.299741e+08\n",
      "D.Va             8.199815e+07\n",
      "Zenyatta         6.297596e+07\n",
      "Tracer           5.112753e+07\n",
      "Zarya            5.029583e+07\n",
      "Mei              4.329609e+07\n",
      "Winston          4.155442e+07\n",
      "Orisa            3.430049e+07\n",
      "Lúcio            3.297910e+07\n",
      "Reinhardt        3.287589e+07\n",
      "Brigitte         3.142372e+07\n",
      "Sigma            2.976321e+07\n",
      "Genji            2.746661e+07\n",
      "Sombra           2.563539e+07\n",
      "Baptiste         2.204957e+07\n",
      "Ashe             2.145620e+07\n",
      "Ana              2.114024e+07\n",
      "Widowmaker       2.022752e+07\n",
      "Reaper           1.902218e+07\n",
      "Hanzo            1.886631e+07\n",
      "Cassidy          1.831742e+07\n",
      "Echo             1.647917e+07\n",
      "Pharah           1.526327e+07\n",
      "Sojourn          1.458519e+07\n",
      "Wrecking Ball    1.207208e+07\n",
      "Lucio            1.152953e+07\n",
      "Soldier: 76      1.142326e+07\n",
      "Roadhog          1.089738e+07\n",
      "Moira            9.950549e+06\n",
      "Junkrat          9.947510e+06\n",
      "Doomfist         7.995310e+06\n",
      "Junker Queen     6.935336e+06\n",
      "Symmetra         3.975925e+06\n",
      "Ramattra         3.432131e+06\n",
      "Torbjörn         3.399680e+06\n",
      "Bastion          3.199383e+06\n",
      "Kiriko           1.577239e+06\n",
      "Mercy            6.363104e+05\n",
      "Torbjorn         1.045362e+05\n",
      "Lifeweaver       5.255176e+03\n",
      "Name: stat_amount, dtype: float64\n"
     ]
    }
   ],
   "source": [
    "print(get_heroes_stat('All Damage Done'))"
   ],
   "metadata": {
    "collapsed": false,
    "ExecuteTime": {
     "end_time": "2024-02-08T00:51:55.562556400Z",
     "start_time": "2024-02-08T00:51:55.308179700Z"
    }
   },
   "id": "412730dfa5c33193",
   "execution_count": 119
  },
  {
   "cell_type": "code",
   "outputs": [],
   "source": [
    "def get_heroes_stat_by_player(stat: str, player: str) -> pd.Series:\n",
    "    return df[(df['stat'] == stat) & (df['player'] == player)].groupby('hero')['stat_amount'].sum().sort_values(\n",
    "        ascending=False)"
   ],
   "metadata": {
    "collapsed": false,
    "ExecuteTime": {
     "end_time": "2024-02-08T00:51:55.562556400Z",
     "start_time": "2024-02-08T00:51:55.558994Z"
    }
   },
   "id": "7f80046716c303bc",
   "execution_count": 120
  },
  {
   "cell_type": "code",
   "outputs": [
    {
     "data": {
      "text/plain": "hero\nAll Heroes     3.475305e+06\nTracer         1.117671e+06\nWidowmaker     8.452178e+05\nZarya          4.540467e+05\nReaper         2.464126e+05\nSombra         1.892018e+05\nAshe           1.616637e+05\nCassidy        1.578507e+05\nHanzo          7.359692e+04\nSymmetra       6.375518e+04\nJunkrat        6.177393e+04\nBastion        4.808167e+04\nTorbjörn       2.485384e+04\nSoldier: 76    1.818807e+04\nBrigitte       5.557341e+03\nDoomfist       3.000751e+03\nRoadhog        2.571373e+03\nMei            1.862042e+03\nName: stat_amount, dtype: float64"
     },
     "execution_count": 121,
     "metadata": {},
     "output_type": "execute_result"
    }
   ],
   "source": [
    "get_heroes_stat_by_player('Hero Damage Done', 'SoOn')"
   ],
   "metadata": {
    "collapsed": false,
    "ExecuteTime": {
     "end_time": "2024-02-08T00:51:55.979426400Z",
     "start_time": "2024-02-08T00:51:55.561555600Z"
    }
   },
   "id": "78c36d2859327c6b",
   "execution_count": 121
  },
  {
   "cell_type": "code",
   "outputs": [],
   "source": [
    "def get_players_stat_by_team(stat: str, team: str) -> pd.DataFrame:\n",
    "    return df[(df['stat'] == stat) & (df['team'] == team)].groupby('player')['stat_amount'].sum().sort_values(\n",
    "        ascending=False)"
   ],
   "metadata": {
    "collapsed": false,
    "ExecuteTime": {
     "end_time": "2024-02-08T00:51:55.980426300Z",
     "start_time": "2024-02-08T00:51:55.976192500Z"
    }
   },
   "id": "437343fad92ca3aa",
   "execution_count": 122
  },
  {
   "cell_type": "code",
   "outputs": [
    {
     "data": {
      "text/plain": "player\nSoOn          3.263117e+06\nHanbin        2.181567e+06\nBenBest       2.133641e+06\nNiCOgdh       2.021381e+06\nFinnsi        1.811031e+06\nNaga          1.494430e+06\nGreyy         1.442293e+06\nOnigod        1.440920e+06\nSP9RK1E       1.222159e+06\nKruise        1.180250e+06\nDaan          1.177268e+06\nXzi           1.156354e+06\nFDGod         1.088555e+06\nShaDowBurn    1.072179e+06\nLhCloudy      9.694601e+05\nKaan          8.627800e+05\ndanye         8.441667e+05\nVestola       8.026986e+05\nFielder       7.108555e+05\nNoSmite       6.840970e+05\nHyP           6.744572e+05\ndridro        4.515350e+05\nELLIVOTE      3.717484e+05\nTsuna         1.682613e+05\nneptuNo       1.280552e+05\nName: stat_amount, dtype: float64"
     },
     "execution_count": 123,
     "metadata": {},
     "output_type": "execute_result"
    }
   ],
   "source": [
    "get_players_stat_by_team('Hero Damage Done', 'Paris Eternal')"
   ],
   "metadata": {
    "collapsed": false,
    "ExecuteTime": {
     "end_time": "2024-02-08T00:51:56.433738300Z",
     "start_time": "2024-02-08T00:51:55.979426400Z"
    }
   },
   "id": "621dd27f87e3dca5",
   "execution_count": 123
  },
  {
   "cell_type": "code",
   "outputs": [
    {
     "name": "stderr",
     "output_type": "stream",
     "text": [
      "C:\\Users\\anta\\AppData\\Local\\Temp\\ipykernel_12632\\1287635753.py:48: FutureWarning: The behavior of DataFrame concatenation with empty or all-NA entries is deprecated. In a future version, this will no longer exclude empty or all-NA columns when determining the result dtypes. To retain the old behavior, exclude the relevant entries before the concat operation.\n",
      "  results = pd.concat([results, row], ignore_index=True)\n"
     ]
    },
    {
     "data": {
      "text/plain": "           team                opponent win loss   winrate map_type  \\\n0   Dallas Fuel           Seoul Dynasty   3    5  0.375000     None   \n1   Dallas Fuel     Los Angeles Valiant   3    5  0.375000     None   \n2   Dallas Fuel         Houston Outlaws   8    6  0.571429     None   \n3   Dallas Fuel         London Spitfire   6    3  0.666667     None   \n4   Dallas Fuel     San Francisco Shock   8   12  0.400000     None   \n5   Dallas Fuel         Boston Uprising   5    4  0.555556     None   \n6   Dallas Fuel     Philadelphia Fusion   2    5  0.285714     None   \n7   Dallas Fuel      New York Excelsior   2    5  0.285714     None   \n8   Dallas Fuel        Shanghai Dragons  10    3  0.769231     None   \n9   Dallas Fuel  Los Angeles Gladiators   6    8  0.428571     None   \n10  Dallas Fuel          Florida Mayhem   7    3  0.700000     None   \n11  Dallas Fuel        Guangzhou Charge   0    3  0.000000     None   \n12  Dallas Fuel         Toronto Defiant   7    0  1.000000     None   \n13  Dallas Fuel           Paris Eternal   1    4  0.200000     None   \n14  Dallas Fuel        Vancouver Titans   4    4  0.500000     None   \n15  Dallas Fuel      Washington Justice   9    2  0.818182     None   \n16  Dallas Fuel         Chengdu Hunters   2    4  0.333333     None   \n17  Dallas Fuel          Hangzhou Spark   1    3  0.250000     None   \n18  Dallas Fuel           Atlanta Reign   5    5  0.500000     None   \n19  Dallas Fuel           Vegas Eternal   2    0  1.000000     None   \n20  Dallas Fuel          Seoul Infernal   0    4  0.000000     None   \n21  Dallas Fuel        Sin Prisa Gaming   1    0  1.000000     None   \n22  Dallas Fuel                O2 Blast   1    0  1.000000     None   \n\n   only_matches  total_matches  \n0          True            8.0  \n1          True            8.0  \n2          True           14.0  \n3          True            9.0  \n4          True           20.0  \n5          True            9.0  \n6          True            7.0  \n7          True            7.0  \n8          True           13.0  \n9          True           14.0  \n10         True           10.0  \n11         True            3.0  \n12         True            7.0  \n13         True            5.0  \n14         True            8.0  \n15         True           11.0  \n16         True            6.0  \n17         True            4.0  \n18         True           10.0  \n19         True            2.0  \n20         True            4.0  \n21         True            1.0  \n22         True            1.0  ",
      "text/html": "<div>\n<style scoped>\n    .dataframe tbody tr th:only-of-type {\n        vertical-align: middle;\n    }\n\n    .dataframe tbody tr th {\n        vertical-align: top;\n    }\n\n    .dataframe thead th {\n        text-align: right;\n    }\n</style>\n<table border=\"1\" class=\"dataframe\">\n  <thead>\n    <tr style=\"text-align: right;\">\n      <th></th>\n      <th>team</th>\n      <th>opponent</th>\n      <th>win</th>\n      <th>loss</th>\n      <th>winrate</th>\n      <th>map_type</th>\n      <th>only_matches</th>\n      <th>total_matches</th>\n    </tr>\n  </thead>\n  <tbody>\n    <tr>\n      <th>0</th>\n      <td>Dallas Fuel</td>\n      <td>Seoul Dynasty</td>\n      <td>3</td>\n      <td>5</td>\n      <td>0.375000</td>\n      <td>None</td>\n      <td>True</td>\n      <td>8.0</td>\n    </tr>\n    <tr>\n      <th>1</th>\n      <td>Dallas Fuel</td>\n      <td>Los Angeles Valiant</td>\n      <td>3</td>\n      <td>5</td>\n      <td>0.375000</td>\n      <td>None</td>\n      <td>True</td>\n      <td>8.0</td>\n    </tr>\n    <tr>\n      <th>2</th>\n      <td>Dallas Fuel</td>\n      <td>Houston Outlaws</td>\n      <td>8</td>\n      <td>6</td>\n      <td>0.571429</td>\n      <td>None</td>\n      <td>True</td>\n      <td>14.0</td>\n    </tr>\n    <tr>\n      <th>3</th>\n      <td>Dallas Fuel</td>\n      <td>London Spitfire</td>\n      <td>6</td>\n      <td>3</td>\n      <td>0.666667</td>\n      <td>None</td>\n      <td>True</td>\n      <td>9.0</td>\n    </tr>\n    <tr>\n      <th>4</th>\n      <td>Dallas Fuel</td>\n      <td>San Francisco Shock</td>\n      <td>8</td>\n      <td>12</td>\n      <td>0.400000</td>\n      <td>None</td>\n      <td>True</td>\n      <td>20.0</td>\n    </tr>\n    <tr>\n      <th>5</th>\n      <td>Dallas Fuel</td>\n      <td>Boston Uprising</td>\n      <td>5</td>\n      <td>4</td>\n      <td>0.555556</td>\n      <td>None</td>\n      <td>True</td>\n      <td>9.0</td>\n    </tr>\n    <tr>\n      <th>6</th>\n      <td>Dallas Fuel</td>\n      <td>Philadelphia Fusion</td>\n      <td>2</td>\n      <td>5</td>\n      <td>0.285714</td>\n      <td>None</td>\n      <td>True</td>\n      <td>7.0</td>\n    </tr>\n    <tr>\n      <th>7</th>\n      <td>Dallas Fuel</td>\n      <td>New York Excelsior</td>\n      <td>2</td>\n      <td>5</td>\n      <td>0.285714</td>\n      <td>None</td>\n      <td>True</td>\n      <td>7.0</td>\n    </tr>\n    <tr>\n      <th>8</th>\n      <td>Dallas Fuel</td>\n      <td>Shanghai Dragons</td>\n      <td>10</td>\n      <td>3</td>\n      <td>0.769231</td>\n      <td>None</td>\n      <td>True</td>\n      <td>13.0</td>\n    </tr>\n    <tr>\n      <th>9</th>\n      <td>Dallas Fuel</td>\n      <td>Los Angeles Gladiators</td>\n      <td>6</td>\n      <td>8</td>\n      <td>0.428571</td>\n      <td>None</td>\n      <td>True</td>\n      <td>14.0</td>\n    </tr>\n    <tr>\n      <th>10</th>\n      <td>Dallas Fuel</td>\n      <td>Florida Mayhem</td>\n      <td>7</td>\n      <td>3</td>\n      <td>0.700000</td>\n      <td>None</td>\n      <td>True</td>\n      <td>10.0</td>\n    </tr>\n    <tr>\n      <th>11</th>\n      <td>Dallas Fuel</td>\n      <td>Guangzhou Charge</td>\n      <td>0</td>\n      <td>3</td>\n      <td>0.000000</td>\n      <td>None</td>\n      <td>True</td>\n      <td>3.0</td>\n    </tr>\n    <tr>\n      <th>12</th>\n      <td>Dallas Fuel</td>\n      <td>Toronto Defiant</td>\n      <td>7</td>\n      <td>0</td>\n      <td>1.000000</td>\n      <td>None</td>\n      <td>True</td>\n      <td>7.0</td>\n    </tr>\n    <tr>\n      <th>13</th>\n      <td>Dallas Fuel</td>\n      <td>Paris Eternal</td>\n      <td>1</td>\n      <td>4</td>\n      <td>0.200000</td>\n      <td>None</td>\n      <td>True</td>\n      <td>5.0</td>\n    </tr>\n    <tr>\n      <th>14</th>\n      <td>Dallas Fuel</td>\n      <td>Vancouver Titans</td>\n      <td>4</td>\n      <td>4</td>\n      <td>0.500000</td>\n      <td>None</td>\n      <td>True</td>\n      <td>8.0</td>\n    </tr>\n    <tr>\n      <th>15</th>\n      <td>Dallas Fuel</td>\n      <td>Washington Justice</td>\n      <td>9</td>\n      <td>2</td>\n      <td>0.818182</td>\n      <td>None</td>\n      <td>True</td>\n      <td>11.0</td>\n    </tr>\n    <tr>\n      <th>16</th>\n      <td>Dallas Fuel</td>\n      <td>Chengdu Hunters</td>\n      <td>2</td>\n      <td>4</td>\n      <td>0.333333</td>\n      <td>None</td>\n      <td>True</td>\n      <td>6.0</td>\n    </tr>\n    <tr>\n      <th>17</th>\n      <td>Dallas Fuel</td>\n      <td>Hangzhou Spark</td>\n      <td>1</td>\n      <td>3</td>\n      <td>0.250000</td>\n      <td>None</td>\n      <td>True</td>\n      <td>4.0</td>\n    </tr>\n    <tr>\n      <th>18</th>\n      <td>Dallas Fuel</td>\n      <td>Atlanta Reign</td>\n      <td>5</td>\n      <td>5</td>\n      <td>0.500000</td>\n      <td>None</td>\n      <td>True</td>\n      <td>10.0</td>\n    </tr>\n    <tr>\n      <th>19</th>\n      <td>Dallas Fuel</td>\n      <td>Vegas Eternal</td>\n      <td>2</td>\n      <td>0</td>\n      <td>1.000000</td>\n      <td>None</td>\n      <td>True</td>\n      <td>2.0</td>\n    </tr>\n    <tr>\n      <th>20</th>\n      <td>Dallas Fuel</td>\n      <td>Seoul Infernal</td>\n      <td>0</td>\n      <td>4</td>\n      <td>0.000000</td>\n      <td>None</td>\n      <td>True</td>\n      <td>4.0</td>\n    </tr>\n    <tr>\n      <th>21</th>\n      <td>Dallas Fuel</td>\n      <td>Sin Prisa Gaming</td>\n      <td>1</td>\n      <td>0</td>\n      <td>1.000000</td>\n      <td>None</td>\n      <td>True</td>\n      <td>1.0</td>\n    </tr>\n    <tr>\n      <th>22</th>\n      <td>Dallas Fuel</td>\n      <td>O2 Blast</td>\n      <td>1</td>\n      <td>0</td>\n      <td>1.000000</td>\n      <td>None</td>\n      <td>True</td>\n      <td>1.0</td>\n    </tr>\n  </tbody>\n</table>\n</div>"
     },
     "execution_count": 182,
     "metadata": {},
     "output_type": "execute_result"
    }
   ],
   "source": [
    "def get_team_scores(team: str, map_type: str = None) -> pd.DataFrame:\n",
    "    map_stats = pd.read_csv('./datas/owl/match_map_stats.csv')\n",
    "    # stock every unique game from team (each game as a unique 'match_id'), team name is stocked in 'team_one_name' or 'team_two_name'\n",
    "    team_games = map_stats[(map_stats['team_one_name'] == team) | (map_stats['team_two_name'] == team)]\n",
    "    if map_type:  # only 1 row per game\n",
    "        # add column 'map_type' from dataframe 'df'\n",
    "        team_games = team_games.merge(df[['match_id', 'map_type']], on='match_id')\n",
    "        print(team_games['map_type'].str.lower().unique())\n",
    "        team_games = team_games[team_games['map_type'].str.lower() == map_type.lower()]\n",
    "        # get one row per map\n",
    "        team_games = team_games.drop_duplicates(subset='round_start_time')\n",
    "        # do not keep twice same game_number per match_id\n",
    "        df_grp = team_games.groupby(['match_id', 'game_number'])\n",
    "        team_games = df_grp.first().reset_index()\n",
    "    else:  # only 1 row per match\n",
    "        # get one row per match\n",
    "        team_games = team_games.drop_duplicates(subset='match_id')\n",
    "\n",
    "    # get teams list\n",
    "    opponents = team_games[['team_one_name', 'team_two_name']]\n",
    "    # remove team input from opponents list\n",
    "    opponents = opponents[opponents != team]\n",
    "    # regroup in one column and remove duplicates\n",
    "    opponents = opponents.stack().reset_index(drop=True).drop_duplicates()\n",
    "\n",
    "    results = pd.DataFrame(columns=['team', 'opponent', 'win', 'loss', 'winrate', 'map_type', 'only_matches'])\n",
    "    \n",
    "    for opponent in opponents:\n",
    "        matches = team_games[((team_games['team_one_name'] == team) &\n",
    "                             (team_games['team_two_name'] == opponent)) | (\n",
    "                                (team_games['team_one_name'] == opponent) & (team_games['team_two_name'] == team))]\n",
    "                        \n",
    "        if map_type:\n",
    "            wins = matches['map_winner'] == team\n",
    "        else:\n",
    "            wins = matches['match_winner'] == team\n",
    "\n",
    "        total_matches = matches.shape[0]\n",
    "        if total_matches == 0:\n",
    "            continue\n",
    "        wins = wins.sum()\n",
    "        losses = len(matches) - wins\n",
    "        winrate = wins / total_matches\n",
    "\n",
    "        row = pd.DataFrame(\n",
    "            {'team': team, 'opponent': opponent, 'total_matches': total_matches, 'win': wins, 'loss': losses, 'winrate': winrate, 'map_type': map_type,\n",
    "             'only_matches': not map_type}, index=[0])\n",
    "        results = pd.concat([results, row], ignore_index=True)\n",
    "\n",
    "    return results\n",
    "\n",
    "get_team_scores('Dallas Fuel')"
   ],
   "metadata": {
    "collapsed": false,
    "ExecuteTime": {
     "end_time": "2024-02-08T01:52:39.257430100Z",
     "start_time": "2024-02-08T01:52:39.194249Z"
    }
   },
   "id": "3ea2eafd8bece7f9",
   "execution_count": 182
  },
  {
   "cell_type": "code",
   "outputs": [
    {
     "name": "stdout",
     "output_type": "stream",
     "text": [
      "64\n"
     ]
    },
    {
     "data": {
      "text/plain": "['ANS',\n 'Atlanta Reign',\n 'Baconjack',\n 'Boston Uprising',\n 'Bren',\n 'Brick Movers',\n 'Carpe',\n 'Chengdu Hunters',\n 'Colourhex',\n 'Dallas Fuel',\n 'Dalton',\n 'Diem',\n 'Dreamers',\n 'Fits',\n 'Florida Mayhem',\n 'Glister',\n 'GodsB',\n 'Guangzhou Charge',\n 'Haksal',\n 'Hangzhou Spark',\n 'Happy',\n 'Houston Outlaws',\n 'Jehong and Students',\n 'Jinmu',\n 'KSP',\n 'LiNkzr',\n 'Logix',\n 'London Spitfire',\n 'Los Angeles Gladiators',\n 'Los Angeles Valiant',\n 'New York Excelsior',\n 'O2 Blast',\n 'Onigod',\n 'PANTHERA',\n 'Paris Eternal',\n 'Philadelphia Fusion',\n 'Poker Face',\n 'Profit',\n 'Redbird Esports',\n 'Rhodes',\n 'Saints',\n 'San Francisco Shock',\n 'Seoul Dynasty',\n 'Seoul Infernal',\n 'Shanghai Dragons',\n 'Shockwave',\n 'Sin Prisa Gaming',\n 'Soon',\n 'Sp9rk1e',\n 'Team Custa',\n 'Team D.va',\n 'Team Jake',\n 'Team Peps',\n 'Team Reinhardt',\n 'Team Universe',\n 'Timeless',\n 'Toronto Defiant',\n 'Trick Room',\n 'Triple A',\n 'Twisted Minds',\n 'Vancouver Titans',\n 'Vegas Eternal',\n 'WISP',\n 'Washington Justice']"
     },
     "execution_count": 125,
     "metadata": {},
     "output_type": "execute_result"
    }
   ],
   "source": [
    "# get every team in alphabetical order\n",
    "teams = df['team'].unique()\n",
    "print(len(teams))\n",
    "sorted(teams)"
   ],
   "metadata": {
    "collapsed": false,
    "ExecuteTime": {
     "end_time": "2024-02-08T00:51:56.705309200Z",
     "start_time": "2024-02-08T00:51:56.521456400Z"
    }
   },
   "id": "982b59a4e5509a4c",
   "execution_count": 125
  },
  {
   "cell_type": "code",
   "outputs": [
    {
     "name": "stdout",
     "output_type": "stream",
     "text": [
      "32\n"
     ]
    },
    {
     "data": {
      "text/plain": "['Antarctic Peninsula',\n 'Blizzard World',\n 'Busan',\n 'Castillo',\n 'Circuit royal',\n 'Colosseo',\n 'Dorado',\n 'Ecopoint: Antarctica',\n 'Eichenwalde',\n 'Esperança',\n 'Hanamura',\n 'Havana',\n 'Hollywood',\n 'Horizon Lunar Colony',\n 'Ilios',\n 'Junkertown',\n \"King's Row\",\n 'Lijiang Tower',\n 'Midtown',\n 'Necropolis',\n 'Nepal',\n 'New Queen Street',\n 'Numbani',\n 'Oasis',\n 'Paraíso',\n 'Paris',\n 'Rialto',\n 'Route 66',\n 'Shambali Monastery',\n 'Temple of Anubis',\n 'Volskaya Industries',\n 'Watchpoint: Gibraltar']"
     },
     "execution_count": 126,
     "metadata": {},
     "output_type": "execute_result"
    }
   ],
   "source": [
    "# get every map in alphabetical order\n",
    "maps = df['map'].unique()\n",
    "print(len(maps))\n",
    "sorted(maps)"
   ],
   "metadata": {
    "collapsed": false,
    "ExecuteTime": {
     "end_time": "2024-02-08T00:51:56.862469200Z",
     "start_time": "2024-02-08T00:51:56.706311600Z"
    }
   },
   "id": "59dcec0a88787ac7",
   "execution_count": 126
  },
  {
   "cell_type": "code",
   "outputs": [
    {
     "name": "stdout",
     "output_type": "stream",
     "text": [
      "40\n"
     ]
    },
    {
     "data": {
      "text/plain": "['All Heroes',\n 'Ana',\n 'Ashe',\n 'Baptiste',\n 'Bastion',\n 'Brigitte',\n 'Cassidy',\n 'D.Va',\n 'Doomfist',\n 'Echo',\n 'Genji',\n 'Hanzo',\n 'Junker Queen',\n 'Junkrat',\n 'Kiriko',\n 'Lifeweaver',\n 'Lucio',\n 'Lúcio',\n 'Mei',\n 'Mercy',\n 'Moira',\n 'Orisa',\n 'Pharah',\n 'Ramattra',\n 'Reaper',\n 'Reinhardt',\n 'Roadhog',\n 'Sigma',\n 'Sojourn',\n 'Soldier: 76',\n 'Sombra',\n 'Symmetra',\n 'Torbjorn',\n 'Torbjörn',\n 'Tracer',\n 'Widowmaker',\n 'Winston',\n 'Wrecking Ball',\n 'Zarya',\n 'Zenyatta']"
     },
     "execution_count": 127,
     "metadata": {},
     "output_type": "execute_result"
    }
   ],
   "source": [
    "# get every hero in alphabetical order\n",
    "heroes = df['hero'].unique()\n",
    "print(len(heroes))\n",
    "sorted(heroes)"
   ],
   "metadata": {
    "collapsed": false,
    "ExecuteTime": {
     "end_time": "2024-02-08T00:51:57.007844600Z",
     "start_time": "2024-02-08T00:51:56.957612Z"
    }
   },
   "id": "21ab26a7cd80311a",
   "execution_count": 127
  },
  {
   "cell_type": "code",
   "outputs": [],
   "source": [],
   "metadata": {
    "collapsed": false,
    "ExecuteTime": {
     "end_time": "2024-02-08T00:51:57.008844Z",
     "start_time": "2024-02-08T00:51:57.003896300Z"
    }
   },
   "id": "b577031b89f7bd99",
   "execution_count": 127
  }
 ],
 "metadata": {
  "kernelspec": {
   "display_name": "Python 3",
   "language": "python",
   "name": "python3"
  },
  "language_info": {
   "codemirror_mode": {
    "name": "ipython",
    "version": 2
   },
   "file_extension": ".py",
   "mimetype": "text/x-python",
   "name": "python",
   "nbconvert_exporter": "python",
   "pygments_lexer": "ipython2",
   "version": "2.7.6"
  }
 },
 "nbformat": 4,
 "nbformat_minor": 5
}
