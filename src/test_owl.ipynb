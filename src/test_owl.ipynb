{
 "cells": [
  {
   "cell_type": "code",
   "execution_count": 125,
   "id": "initial_id",
   "metadata": {
    "collapsed": true,
    "ExecuteTime": {
     "end_time": "2024-01-26T14:37:08.223991Z",
     "start_time": "2024-01-26T14:37:08.126005100Z"
    }
   },
   "outputs": [],
   "source": [
    "import pandas as pd"
   ]
  },
  {
   "cell_type": "markdown",
   "source": [
    "# 2018 STAGE 1"
   ],
   "metadata": {
    "collapsed": false
   },
   "id": "49b3b0b721be898e"
  },
  {
   "cell_type": "code",
   "outputs": [
    {
     "name": "stdout",
     "output_type": "stream",
     "text": [
      "            start_time  match_id                                       stage  \\\n",
      "0       1/11/2018 0:12     10223                  Overwatch League - Stage 1   \n",
      "1       1/11/2018 0:12     10223                  Overwatch League - Stage 1   \n",
      "2       1/11/2018 0:12     10223                  Overwatch League - Stage 1   \n",
      "3       1/11/2018 0:12     10223                  Overwatch League - Stage 1   \n",
      "4       1/11/2018 0:12     10223                  Overwatch League - Stage 1   \n",
      "...                ...       ...                                         ...   \n",
      "256040  2/11/2018 5:51     10539  Overwatch League - Stage 1 - Title Matches   \n",
      "256041  2/11/2018 5:51     10539  Overwatch League - Stage 1 - Title Matches   \n",
      "256042  2/11/2018 5:51     10539  Overwatch League - Stage 1 - Title Matches   \n",
      "256043  2/11/2018 5:51     10539  Overwatch League - Stage 1 - Title Matches   \n",
      "256044  2/11/2018 5:51     10539  Overwatch League - Stage 1 - Title Matches   \n",
      "\n",
      "       map_type     map      player                 team  \\\n",
      "0       PAYLOAD  Dorado   Agilities  Los Angeles Valiant   \n",
      "1       PAYLOAD  Dorado   Agilities  Los Angeles Valiant   \n",
      "2       PAYLOAD  Dorado   Agilities  Los Angeles Valiant   \n",
      "3       PAYLOAD  Dorado   Agilities  Los Angeles Valiant   \n",
      "4       PAYLOAD  Dorado   Agilities  Los Angeles Valiant   \n",
      "...         ...     ...         ...                  ...   \n",
      "256040  PAYLOAD  Dorado  SAEBYEOLBE   New York Excelsior   \n",
      "256041  PAYLOAD  Dorado  SAEBYEOLBE   New York Excelsior   \n",
      "256042  PAYLOAD  Dorado  SAEBYEOLBE   New York Excelsior   \n",
      "256043  PAYLOAD  Dorado  SAEBYEOLBE   New York Excelsior   \n",
      "256044  PAYLOAD  Dorado  SAEBYEOLBE   New York Excelsior   \n",
      "\n",
      "                                 stat        hero   stat_amount  \n",
      "0                     All Damage Done  All Heroes  18079.206920  \n",
      "1                             Assists  All Heroes     17.000000  \n",
      "2                 Barrier Damage Done  All Heroes   2893.659185  \n",
      "3                Damage - Quick Melee  All Heroes    443.204010  \n",
      "4                              Deaths  All Heroes     11.000000  \n",
      "...                               ...         ...           ...  \n",
      "256040          Time Holding Ultimate  Widowmaker      8.316000  \n",
      "256041                    Time Played  Widowmaker    248.275474  \n",
      "256042  Ultimates Earned - Fractional  Widowmaker      2.592931  \n",
      "256043                 Ultimates Used  Widowmaker      2.000000  \n",
      "256044                Weapon Accuracy  Widowmaker      0.585366  \n",
      "\n",
      "[256045 rows x 10 columns]\n"
     ]
    }
   ],
   "source": [
    "df_2018_s1 = pd.read_csv('./datas/owl/phs_2018_stage_1.csv')\n",
    "print(df_2018_s1)"
   ],
   "metadata": {
    "collapsed": false,
    "ExecuteTime": {
     "end_time": "2024-01-26T14:37:08.611995800Z",
     "start_time": "2024-01-26T14:37:08.224993400Z"
    }
   },
   "id": "fe30803ec16390d9",
   "execution_count": 126
  },
  {
   "cell_type": "markdown",
   "source": [
    "# 2018 STAGE 2"
   ],
   "metadata": {
    "collapsed": false
   },
   "id": "d950a081343e6e55"
  },
  {
   "cell_type": "code",
   "outputs": [
    {
     "name": "stdout",
     "output_type": "stream",
     "text": [
      "            start_time  match_id                                     stage  \\\n",
      "0       2/22/2018 0:14     10278                Overwatch League - Stage 2   \n",
      "1       2/22/2018 0:14     10278                Overwatch League - Stage 2   \n",
      "2       2/22/2018 0:14     10278                Overwatch League - Stage 2   \n",
      "3       2/22/2018 0:14     10278                Overwatch League - Stage 2   \n",
      "4       2/22/2018 0:14     10278                Overwatch League - Stage 2   \n",
      "...                ...       ...                                       ...   \n",
      "268321  3/26/2018 0:01     10542  Overwatch League - Stage 2 Title Matches   \n",
      "268322  3/26/2018 0:01     10542  Overwatch League - Stage 2 Title Matches   \n",
      "268323  3/26/2018 0:01     10542  Overwatch League - Stage 2 Title Matches   \n",
      "268324  3/26/2018 0:01     10542  Overwatch League - Stage 2 Title Matches   \n",
      "268325  3/26/2018 0:01     10542  Overwatch League - Stage 2 Title Matches   \n",
      "\n",
      "       map_type                    map     player                 team  \\\n",
      "0       ASSAULT    Volskaya Industries  Agilities  Los Angeles Valiant   \n",
      "1       ASSAULT    Volskaya Industries  Agilities  Los Angeles Valiant   \n",
      "2       ASSAULT    Volskaya Industries  Agilities  Los Angeles Valiant   \n",
      "3       ASSAULT    Volskaya Industries  Agilities  Los Angeles Valiant   \n",
      "4       ASSAULT    Volskaya Industries  Agilities  Los Angeles Valiant   \n",
      "...         ...                    ...        ...                  ...   \n",
      "268321  PAYLOAD  Watchpoint: Gibraltar    neptuNo  Philadelphia Fusion   \n",
      "268322  PAYLOAD  Watchpoint: Gibraltar    neptuNo  Philadelphia Fusion   \n",
      "268323  PAYLOAD  Watchpoint: Gibraltar    neptuNo  Philadelphia Fusion   \n",
      "268324  PAYLOAD  Watchpoint: Gibraltar    neptuNo  Philadelphia Fusion   \n",
      "268325  PAYLOAD  Watchpoint: Gibraltar    neptuNo  Philadelphia Fusion   \n",
      "\n",
      "                                 stat        hero   stat_amount  \n",
      "0                     All Damage Done  All Heroes  13196.751110  \n",
      "1                             Assists  All Heroes      9.000000  \n",
      "2                 Barrier Damage Done  All Heroes   3501.660326  \n",
      "3                Damage - Quick Melee  All Heroes    196.278833  \n",
      "4                              Deaths  All Heroes      9.000000  \n",
      "...                               ...         ...           ...  \n",
      "268321          Time Holding Ultimate       Mercy     42.405001  \n",
      "268322                    Time Played       Mercy    574.379346  \n",
      "268323  Ultimates Earned - Fractional       Mercy      5.489618  \n",
      "268324                 Ultimates Used       Mercy      4.000000  \n",
      "268325                Weapon Accuracy       Mercy      0.323529  \n",
      "\n",
      "[268326 rows x 10 columns]\n"
     ]
    }
   ],
   "source": [
    "df_2018_s2 = pd.read_csv('./datas/owl/phs_2018_stage_2.csv')\n",
    "print(df_2018_s2)"
   ],
   "metadata": {
    "collapsed": false,
    "ExecuteTime": {
     "end_time": "2024-01-26T14:37:08.993992400Z",
     "start_time": "2024-01-26T14:37:08.599992100Z"
    }
   },
   "id": "777f2fc5104e577a",
   "execution_count": 127
  },
  {
   "cell_type": "markdown",
   "source": [
    "# 2018 STAGE 3"
   ],
   "metadata": {
    "collapsed": false
   },
   "id": "b4aa8f5ca6a90da3"
  },
  {
   "cell_type": "code",
   "outputs": [
    {
     "name": "stdout",
     "output_type": "stream",
     "text": [
      "            start_time  match_id                                     stage  \\\n",
      "0       4/4/2018 23:16     10333                Overwatch League - Stage 3   \n",
      "1       4/4/2018 23:16     10333                Overwatch League - Stage 3   \n",
      "2       4/4/2018 23:16     10333                Overwatch League - Stage 3   \n",
      "3       4/4/2018 23:16     10333                Overwatch League - Stage 3   \n",
      "4       4/4/2018 23:16     10333                Overwatch League - Stage 3   \n",
      "...                ...       ...                                       ...   \n",
      "259744   5/7/2018 0:46     10545  Overwatch League - Stage 3 Title Matches   \n",
      "259745   5/7/2018 0:46     10545  Overwatch League - Stage 3 Title Matches   \n",
      "259746   5/7/2018 0:46     10545  Overwatch League - Stage 3 Title Matches   \n",
      "259747   5/7/2018 0:46     10545  Overwatch League - Stage 3 Title Matches   \n",
      "259748   5/7/2018 0:46     10545  Overwatch League - Stage 3 Title Matches   \n",
      "\n",
      "       map_type                  map      player                team  \\\n",
      "0       ASSAULT  Volskaya Industries      EFFECT         Dallas Fuel   \n",
      "1       ASSAULT  Volskaya Industries      EFFECT         Dallas Fuel   \n",
      "2       ASSAULT  Volskaya Industries      EFFECT         Dallas Fuel   \n",
      "3       ASSAULT  Volskaya Industries      EFFECT         Dallas Fuel   \n",
      "4       ASSAULT  Volskaya Industries      EFFECT         Dallas Fuel   \n",
      "...         ...                  ...         ...                 ...   \n",
      "259744   HYBRID              Numbani  SAEBYEOLBE  New York Excelsior   \n",
      "259745   HYBRID              Numbani  SAEBYEOLBE  New York Excelsior   \n",
      "259746   HYBRID              Numbani  SAEBYEOLBE  New York Excelsior   \n",
      "259747   HYBRID              Numbani  SAEBYEOLBE  New York Excelsior   \n",
      "259748   HYBRID              Numbani  SAEBYEOLBE  New York Excelsior   \n",
      "\n",
      "                                 stat        hero   stat_amount  \n",
      "0                     All Damage Done  All Heroes  13924.479150  \n",
      "1                             Assists  All Heroes     15.000000  \n",
      "2                 Barrier Damage Done  All Heroes   2170.792630  \n",
      "3                Damage - Quick Melee  All Heroes    135.604904  \n",
      "4                              Deaths  All Heroes      2.000000  \n",
      "...                               ...         ...           ...  \n",
      "259744          Time Holding Ultimate      Tracer    198.179006  \n",
      "259745                    Time Played      Tracer   1027.807027  \n",
      "259746  Ultimates Earned - Fractional      Tracer     11.105958  \n",
      "259747                 Ultimates Used      Tracer     10.000000  \n",
      "259748                Weapon Accuracy      Tracer      0.362767  \n",
      "\n",
      "[259749 rows x 10 columns]\n"
     ]
    }
   ],
   "source": [
    "df_2018_s3 = pd.read_csv('./datas/owl/phs_2018_stage_3.csv')\n",
    "print(df_2018_s3)"
   ],
   "metadata": {
    "collapsed": false,
    "ExecuteTime": {
     "end_time": "2024-01-26T14:37:09.350994Z",
     "start_time": "2024-01-26T14:37:08.991991700Z"
    }
   },
   "id": "fdd95eb6a7aef722",
   "execution_count": 128
  },
  {
   "cell_type": "markdown",
   "source": [
    "# 2018 STAGE 4"
   ],
   "metadata": {
    "collapsed": false
   },
   "id": "d486c5a7da7f8a6a"
  },
  {
   "cell_type": "code",
   "outputs": [
    {
     "name": "stdout",
     "output_type": "stream",
     "text": [
      "             start_time  match_id                                     stage  \\\n",
      "0       5/16/2018 23:14     10443                Overwatch League - Stage 4   \n",
      "1       5/16/2018 23:14     10443                Overwatch League - Stage 4   \n",
      "2       5/16/2018 23:14     10443                Overwatch League - Stage 4   \n",
      "3       5/16/2018 23:14     10443                Overwatch League - Stage 4   \n",
      "4       5/16/2018 23:14     10443                Overwatch League - Stage 4   \n",
      "...                 ...       ...                                       ...   \n",
      "285037   6/18/2018 2:07     10548  Overwatch League - Stage 4 Title Matches   \n",
      "285038   6/18/2018 2:07     10548  Overwatch League - Stage 4 Title Matches   \n",
      "285039   6/18/2018 2:07     10548  Overwatch League - Stage 4 Title Matches   \n",
      "285040   6/18/2018 2:07     10548  Overwatch League - Stage 4 Title Matches   \n",
      "285041   6/18/2018 2:07     10548  Overwatch League - Stage 4 Title Matches   \n",
      "\n",
      "       map_type             map      player                    team  \\\n",
      "0        HYBRID  Blizzard World    BigG00se  Los Angeles Gladiators   \n",
      "1        HYBRID  Blizzard World    BigG00se  Los Angeles Gladiators   \n",
      "2        HYBRID  Blizzard World    BigG00se  Los Angeles Gladiators   \n",
      "3        HYBRID  Blizzard World    BigG00se  Los Angeles Gladiators   \n",
      "4        HYBRID  Blizzard World    BigG00se  Los Angeles Gladiators   \n",
      "...         ...             ...         ...                     ...   \n",
      "285037   HYBRID  Blizzard World  SAEBYEOLBE      New York Excelsior   \n",
      "285038   HYBRID  Blizzard World  SAEBYEOLBE      New York Excelsior   \n",
      "285039   HYBRID  Blizzard World  SAEBYEOLBE      New York Excelsior   \n",
      "285040   HYBRID  Blizzard World  SAEBYEOLBE      New York Excelsior   \n",
      "285041   HYBRID  Blizzard World  SAEBYEOLBE      New York Excelsior   \n",
      "\n",
      "                                    stat        hero  stat_amount  \n",
      "0                        All Damage Done  All Heroes   324.000000  \n",
      "1                                Assists  All Heroes     3.000000  \n",
      "2                     Average Time Alive  All Heroes    94.816128  \n",
      "3                    Barrier Damage Done  All Heroes   120.000000  \n",
      "4                   Damage - Quick Melee  All Heroes    69.000000  \n",
      "...                                  ...         ...          ...  \n",
      "285037            Time Building Ultimate  Widowmaker    80.808002  \n",
      "285038  Time Elapsed per Ultimate Earned  Widowmaker   115.720338  \n",
      "285039                       Time Played  Widowmaker    79.807571  \n",
      "285040     Ultimates Earned - Fractional  Widowmaker     0.698304  \n",
      "285041                   Weapon Accuracy  Widowmaker     0.600000  \n",
      "\n",
      "[285042 rows x 10 columns]\n"
     ]
    }
   ],
   "source": [
    "df_2018_s4 = pd.read_csv('./datas/owl/phs_2018_stage_4.csv')\n",
    "print(df_2018_s4)"
   ],
   "metadata": {
    "collapsed": false,
    "ExecuteTime": {
     "end_time": "2024-01-26T14:37:09.776999400Z",
     "start_time": "2024-01-26T14:37:09.353993100Z"
    }
   },
   "id": "496d913d87e78886",
   "execution_count": 129
  },
  {
   "cell_type": "markdown",
   "source": [
    "# 2018 PLAYOFFS"
   ],
   "metadata": {
    "collapsed": false
   },
   "id": "1c29402ecde8f4cb"
  },
  {
   "cell_type": "code",
   "outputs": [
    {
     "name": "stdout",
     "output_type": "stream",
     "text": [
      "            start_time  match_id  \\\n",
      "0       7/12/2018 0:19     13121   \n",
      "1       7/12/2018 0:19     13121   \n",
      "2       7/12/2018 0:19     13121   \n",
      "3       7/12/2018 0:19     13121   \n",
      "4       7/12/2018 0:19     13121   \n",
      "...                ...       ...   \n",
      "55251  7/28/2018 21:18     13134   \n",
      "55252  7/28/2018 21:18     13134   \n",
      "55253  7/28/2018 21:18     13134   \n",
      "55254  7/28/2018 21:18     13134   \n",
      "55255  7/28/2018 21:18     13134   \n",
      "\n",
      "                                                stage map_type         map  \\\n",
      "0      Overwatch League Inaugural Season Championship  PAYLOAD      Dorado   \n",
      "1      Overwatch League Inaugural Season Championship  PAYLOAD      Dorado   \n",
      "2      Overwatch League Inaugural Season Championship  PAYLOAD      Dorado   \n",
      "3      Overwatch League Inaugural Season Championship  PAYLOAD      Dorado   \n",
      "4      Overwatch League Inaugural Season Championship  PAYLOAD      Dorado   \n",
      "...                                               ...      ...         ...   \n",
      "55251  Overwatch League Inaugural Season Championship   HYBRID  King's Row   \n",
      "55252  Overwatch League Inaugural Season Championship   HYBRID  King's Row   \n",
      "55253  Overwatch League Inaugural Season Championship   HYBRID  King's Row   \n",
      "55254  Overwatch League Inaugural Season Championship   HYBRID  King's Row   \n",
      "55255  Overwatch League Inaugural Season Championship   HYBRID  King's Row   \n",
      "\n",
      "        player                 team                           stat  \\\n",
      "0        Gamsu      Boston Uprising                All Damage Done   \n",
      "1        Gamsu      Boston Uprising                        Assists   \n",
      "2        Gamsu      Boston Uprising             Average Time Alive   \n",
      "3        Gamsu      Boston Uprising            Barrier Damage Done   \n",
      "4        Gamsu      Boston Uprising           Damage - Quick Melee   \n",
      "...        ...                  ...                            ...   \n",
      "55251  neptuNo  Philadelphia Fusion                    Time Played   \n",
      "55252  neptuNo  Philadelphia Fusion  Ultimates Earned - Fractional   \n",
      "55253  neptuNo  Philadelphia Fusion                 Ultimates Used   \n",
      "55254  neptuNo  Philadelphia Fusion    Valkyrie Healing Efficiency   \n",
      "55255  neptuNo  Philadelphia Fusion                Weapon Accuracy   \n",
      "\n",
      "             hero   stat_amount  \n",
      "0      All Heroes  10677.179340  \n",
      "1      All Heroes     10.000000  \n",
      "2      All Heroes     60.004185  \n",
      "3      All Heroes   4868.578228  \n",
      "4      All Heroes    304.000000  \n",
      "...           ...           ...  \n",
      "55251       Mercy    966.522496  \n",
      "55252       Mercy      9.265461  \n",
      "55253       Mercy      8.000000  \n",
      "55254       Mercy    494.746389  \n",
      "55255       Mercy      0.357143  \n",
      "\n",
      "[55256 rows x 10 columns]\n"
     ]
    }
   ],
   "source": [
    "df_2018_po = pd.read_csv('./datas/owl/phs_2018_playoffs.csv')\n",
    "print(df_2018_po)"
   ],
   "metadata": {
    "collapsed": false,
    "ExecuteTime": {
     "end_time": "2024-01-26T14:37:09.886992800Z",
     "start_time": "2024-01-26T14:37:09.775992900Z"
    }
   },
   "id": "4a3fa51552d0add3",
   "execution_count": 130
  },
  {
   "cell_type": "markdown",
   "source": [
    "# 2019 STAGE 1"
   ],
   "metadata": {
    "collapsed": false
   },
   "id": "ada37fbd3f635046"
  },
  {
   "cell_type": "code",
   "outputs": [
    {
     "name": "stdout",
     "output_type": "stream",
     "text": [
      "             start_time  match_id                                   stage  \\\n",
      "0        2/15/2019 0:11     21211                Overwatch League Stage 1   \n",
      "1        2/15/2019 0:11     21211                Overwatch League Stage 1   \n",
      "2        2/15/2019 0:11     21211                Overwatch League Stage 1   \n",
      "3        2/15/2019 0:11     21211                Overwatch League Stage 1   \n",
      "4        2/15/2019 0:11     21211                Overwatch League Stage 1   \n",
      "...                 ...       ...                                     ...   \n",
      "331218  3/24/2019 21:34     20306  Overwatch League Stage 1 Title Matches   \n",
      "331219  3/24/2019 21:34     20306  Overwatch League Stage 1 Title Matches   \n",
      "331220  3/24/2019 21:34     20306  Overwatch League Stage 1 Title Matches   \n",
      "331221  3/24/2019 21:34     20306  Overwatch League Stage 1 Title Matches   \n",
      "331222  3/24/2019 21:34     20306  Overwatch League Stage 1 Title Matches   \n",
      "\n",
      "       map_type     map    player              team  \\\n",
      "0       CONTROL   Ilios    Bdosin   London Spitfire   \n",
      "1       CONTROL   Ilios    Bdosin   London Spitfire   \n",
      "2       CONTROL   Ilios    Bdosin   London Spitfire   \n",
      "3       CONTROL   Ilios    Bdosin   London Spitfire   \n",
      "4       CONTROL   Ilios    Bdosin   London Spitfire   \n",
      "...         ...     ...       ...               ...   \n",
      "331218  PAYLOAD  Rialto  Twilight  Vancouver Titans   \n",
      "331219  PAYLOAD  Rialto  Twilight  Vancouver Titans   \n",
      "331220  PAYLOAD  Rialto  Twilight  Vancouver Titans   \n",
      "331221  PAYLOAD  Rialto  Twilight  Vancouver Titans   \n",
      "331222  PAYLOAD  Rialto  Twilight  Vancouver Titans   \n",
      "\n",
      "                                    stat        hero   stat_amount  \n",
      "0                        All Damage Done  All Heroes  14845.193400  \n",
      "1                                Assists  All Heroes     13.000000  \n",
      "2                     Average Time Alive  All Heroes     87.623574  \n",
      "3                    Barrier Damage Done  All Heroes   5674.344475  \n",
      "4                   Damage - Quick Melee  All Heroes     78.000000  \n",
      "...                                  ...         ...           ...  \n",
      "331218             Transcendence Healing    Zenyatta   8144.733865  \n",
      "331219  Transcendence Percent of Healing    Zenyatta      0.528182  \n",
      "331220     Ultimates Earned - Fractional    Zenyatta      9.904689  \n",
      "331221                    Ultimates Used    Zenyatta      9.000000  \n",
      "331222                   Weapon Accuracy    Zenyatta      0.400000  \n",
      "\n",
      "[331223 rows x 10 columns]\n"
     ]
    }
   ],
   "source": [
    "df_2019_s1 = pd.read_csv('./datas/owl/phs_2019_stage_1.csv')\n",
    "print(df_2019_s1)"
   ],
   "metadata": {
    "collapsed": false,
    "ExecuteTime": {
     "end_time": "2024-01-26T14:37:10.382992Z",
     "start_time": "2024-01-26T14:37:09.885011200Z"
    }
   },
   "id": "882ceb34022383ec",
   "execution_count": 131
  },
  {
   "cell_type": "markdown",
   "source": [
    "# 2019 STAGE 2"
   ],
   "metadata": {
    "collapsed": false
   },
   "id": "2224c90be0782609"
  },
  {
   "cell_type": "code",
   "outputs": [
    {
     "name": "stdout",
     "output_type": "stream",
     "text": [
      "             start_time  match_id                                   stage  \\\n",
      "0        4/4/2019 23:07     21313                Overwatch League Stage 2   \n",
      "1        4/4/2019 23:07     21313                Overwatch League Stage 2   \n",
      "2        4/4/2019 23:07     21313                Overwatch League Stage 2   \n",
      "3        4/4/2019 23:07     21313                Overwatch League Stage 2   \n",
      "4        4/4/2019 23:07     21313                Overwatch League Stage 2   \n",
      "...                 ...       ...                                     ...   \n",
      "375854  5/12/2019 19:15     20316  Overwatch League Stage 2 Title Matches   \n",
      "375855  5/12/2019 19:15     20316  Overwatch League Stage 2 Title Matches   \n",
      "375856  5/12/2019 19:15     20316  Overwatch League Stage 2 Title Matches   \n",
      "375857  5/12/2019 19:15     20316  Overwatch League Stage 2 Title Matches   \n",
      "375858  5/12/2019 19:15     20316  Overwatch League Stage 2 Title Matches   \n",
      "\n",
      "       map_type             map    player                team  \\\n",
      "0       CONTROL   Lijiang Tower     Anamo  New York Excelsior   \n",
      "1       CONTROL   Lijiang Tower     Anamo  New York Excelsior   \n",
      "2       CONTROL   Lijiang Tower     Anamo  New York Excelsior   \n",
      "3       CONTROL   Lijiang Tower     Anamo  New York Excelsior   \n",
      "4       CONTROL   Lijiang Tower     Anamo  New York Excelsior   \n",
      "...         ...             ...       ...                 ...   \n",
      "375854   HYBRID  Blizzard World  Twilight    Vancouver Titans   \n",
      "375855   HYBRID  Blizzard World  Twilight    Vancouver Titans   \n",
      "375856   HYBRID  Blizzard World  Twilight    Vancouver Titans   \n",
      "375857   HYBRID  Blizzard World  Twilight    Vancouver Titans   \n",
      "375858   HYBRID  Blizzard World  Twilight    Vancouver Titans   \n",
      "\n",
      "                                    stat        hero  stat_amount  \n",
      "0                        All Damage Done  All Heroes  6627.941752  \n",
      "1                                Assists  All Heroes    17.000000  \n",
      "2                     Average Time Alive  All Heroes   232.836007  \n",
      "3                    Barrier Damage Done  All Heroes  2912.682075  \n",
      "4                   Damage - Quick Melee  All Heroes   143.512508  \n",
      "...                                  ...         ...          ...  \n",
      "375854             Transcendence Healing    Zenyatta  7479.629228  \n",
      "375855  Transcendence Percent of Healing    Zenyatta     0.452374  \n",
      "375856     Ultimates Earned - Fractional    Zenyatta     7.242204  \n",
      "375857                    Ultimates Used    Zenyatta     6.000000  \n",
      "375858                   Weapon Accuracy    Zenyatta     0.390358  \n",
      "\n",
      "[375859 rows x 10 columns]\n"
     ]
    }
   ],
   "source": [
    "df_2019_s2 = pd.read_csv('./datas/owl/phs_2019_stage_2.csv')\n",
    "print(df_2019_s2)"
   ],
   "metadata": {
    "collapsed": false,
    "ExecuteTime": {
     "end_time": "2024-01-26T14:37:10.851991200Z",
     "start_time": "2024-01-26T14:37:10.383994600Z"
    }
   },
   "id": "ec480adb2d7725a5",
   "execution_count": 132
  },
  {
   "cell_type": "markdown",
   "source": [
    "# 2019 STAGE 3"
   ],
   "metadata": {
    "collapsed": false
   },
   "id": "87508769140d0047"
  },
  {
   "cell_type": "code",
   "outputs": [
    {
     "name": "stdout",
     "output_type": "stream",
     "text": [
      "             start_time  match_id                                   stage  \\\n",
      "0        6/6/2019 23:08     21300                Overwatch League Stage 3   \n",
      "1        6/6/2019 23:08     21300                Overwatch League Stage 3   \n",
      "2        6/6/2019 23:08     21300                Overwatch League Stage 3   \n",
      "3        6/6/2019 23:08     21300                Overwatch League Stage 3   \n",
      "4        6/6/2019 23:08     21300                Overwatch League Stage 3   \n",
      "...                 ...       ...                                     ...   \n",
      "384480  7/14/2019 22:40     20326  Overwatch League Stage 3 Title Matches   \n",
      "384481  7/14/2019 22:40     20326  Overwatch League Stage 3 Title Matches   \n",
      "384482  7/14/2019 22:40     20326  Overwatch League Stage 3 Title Matches   \n",
      "384483  7/14/2019 22:40     20326  Overwatch League Stage 3 Title Matches   \n",
      "384484  7/14/2019 22:40     20326  Overwatch League Stage 3 Title Matches   \n",
      "\n",
      "       map_type     map player              team  \\\n",
      "0       CONTROL   Ilios   Daco     Atlanta Reign   \n",
      "1       CONTROL   Ilios   Daco     Atlanta Reign   \n",
      "2       CONTROL   Ilios   Daco     Atlanta Reign   \n",
      "3       CONTROL   Ilios   Daco     Atlanta Reign   \n",
      "4       CONTROL   Ilios   Daco     Atlanta Reign   \n",
      "...         ...     ...    ...               ...   \n",
      "384480  PAYLOAD  Dorado   diem  Shanghai Dragons   \n",
      "384481  PAYLOAD  Dorado   diem  Shanghai Dragons   \n",
      "384482  PAYLOAD  Dorado   diem  Shanghai Dragons   \n",
      "384483  PAYLOAD  Dorado   diem  Shanghai Dragons   \n",
      "384484  PAYLOAD  Dorado   diem  Shanghai Dragons   \n",
      "\n",
      "                                 stat        hero   stat_amount  \n",
      "0                     All Damage Done  All Heroes  16204.560360  \n",
      "1                             Assists  All Heroes     24.000000  \n",
      "2                  Average Time Alive  All Heroes    142.997504  \n",
      "3                 Barrier Damage Done  All Heroes   5989.367281  \n",
      "4                Damage - Quick Melee  All Heroes    131.131728  \n",
      "...                               ...         ...           ...  \n",
      "384480                    Time Played  Widowmaker    589.852445  \n",
      "384481  Ultimates Earned - Fractional  Widowmaker      6.204235  \n",
      "384482                 Ultimates Used  Widowmaker      6.000000  \n",
      "384483               Venom Mine Kills  Widowmaker      1.000000  \n",
      "384484                Weapon Accuracy  Widowmaker      0.576271  \n",
      "\n",
      "[384485 rows x 10 columns]\n"
     ]
    }
   ],
   "source": [
    "df_2019_s3 = pd.read_csv('./datas/owl/phs_2019_stage_3.csv')\n",
    "print(df_2019_s3)"
   ],
   "metadata": {
    "collapsed": false,
    "ExecuteTime": {
     "end_time": "2024-01-26T14:37:11.338995300Z",
     "start_time": "2024-01-26T14:37:10.855991800Z"
    }
   },
   "id": "c0bdbaf542ff32cd",
   "execution_count": 133
  },
  {
   "cell_type": "markdown",
   "source": [
    "# 2019 STAGE 4"
   ],
   "metadata": {
    "collapsed": false
   },
   "id": "81c9026aba4bb06e"
  },
  {
   "cell_type": "code",
   "outputs": [
    {
     "name": "stdout",
     "output_type": "stream",
     "text": [
      "             start_time  match_id                     stage map_type  \\\n",
      "0       7/25/2019 23:05     21358  Overwatch League Stage 4  CONTROL   \n",
      "1       7/25/2019 23:05     21358  Overwatch League Stage 4  CONTROL   \n",
      "2       7/25/2019 23:05     21358  Overwatch League Stage 4  CONTROL   \n",
      "3       7/25/2019 23:05     21358  Overwatch League Stage 4  CONTROL   \n",
      "4       7/25/2019 23:05     21358  Overwatch League Stage 4  CONTROL   \n",
      "...                 ...       ...                       ...      ...   \n",
      "362288   8/26/2019 1:48     21515  Overwatch League Stage 4  PAYLOAD   \n",
      "362289   8/26/2019 1:48     21515  Overwatch League Stage 4  PAYLOAD   \n",
      "362290   8/26/2019 1:48     21515  Overwatch League Stage 4  PAYLOAD   \n",
      "362291   8/26/2019 1:48     21515  Overwatch League Stage 4  PAYLOAD   \n",
      "362292   8/26/2019 1:48     21515  Overwatch League Stage 4  PAYLOAD   \n",
      "\n",
      "               map player                 team  \\\n",
      "0            Busan  Boink      Houston Outlaws   \n",
      "1            Busan  Boink      Houston Outlaws   \n",
      "2            Busan  Boink      Houston Outlaws   \n",
      "3            Busan  Boink      Houston Outlaws   \n",
      "4            Busan  Boink      Houston Outlaws   \n",
      "...            ...    ...                  ...   \n",
      "362288  Junkertown  super  San Francisco Shock   \n",
      "362289  Junkertown  super  San Francisco Shock   \n",
      "362290  Junkertown  super  San Francisco Shock   \n",
      "362291  Junkertown  super  San Francisco Shock   \n",
      "362292  Junkertown  super  San Francisco Shock   \n",
      "\n",
      "                                    stat        hero  stat_amount  \n",
      "0                        All Damage Done  All Heroes  5511.995864  \n",
      "1                                Assists  All Heroes    11.000000  \n",
      "2                     Average Time Alive  All Heroes   103.182203  \n",
      "3                    Barrier Damage Done  All Heroes  1733.995926  \n",
      "4                   Damage - Quick Melee  All Heroes    80.708832  \n",
      "...                                  ...         ...          ...  \n",
      "362288  Time Elapsed per Ultimate Earned   Reinhardt    82.719690  \n",
      "362289             Time Holding Ultimate   Reinhardt     3.115000  \n",
      "362290                       Time Played   Reinhardt   188.790534  \n",
      "362291     Ultimates Earned - Fractional   Reinhardt     2.177353  \n",
      "362292                    Ultimates Used   Reinhardt     2.000000  \n",
      "\n",
      "[362293 rows x 10 columns]\n"
     ]
    }
   ],
   "source": [
    "df_2019_s4 = pd.read_csv('./datas/owl/phs_2019_stage_4.csv')\n",
    "print(df_2019_s4)"
   ],
   "metadata": {
    "collapsed": false,
    "ExecuteTime": {
     "end_time": "2024-01-26T14:37:11.790991400Z",
     "start_time": "2024-01-26T14:37:11.341992200Z"
    }
   },
   "id": "93cddffdb3983aba",
   "execution_count": 134
  },
  {
   "cell_type": "markdown",
   "source": [
    "# 2019 PLAYOFFS"
   ],
   "metadata": {
    "collapsed": false
   },
   "id": "741707e96539b4db"
  },
  {
   "cell_type": "code",
   "outputs": [
    {
     "name": "stdout",
     "output_type": "stream",
     "text": [
      "             start_time  match_id                              stage map_type  \\\n",
      "0        8/31/2019 1:09     30172  Overwatch League 2019 Post-Season  CONTROL   \n",
      "1        8/31/2019 1:09     30172  Overwatch League 2019 Post-Season  CONTROL   \n",
      "2        8/31/2019 1:09     30172  Overwatch League 2019 Post-Season  CONTROL   \n",
      "3        8/31/2019 1:09     30172  Overwatch League 2019 Post-Season  CONTROL   \n",
      "4        8/31/2019 1:09     30172  Overwatch League 2019 Post-Season  CONTROL   \n",
      "...                 ...       ...                                ...      ...   \n",
      "103967  9/29/2019 20:47     30157  Overwatch League 2019 Post-Season  PAYLOAD   \n",
      "103968  9/29/2019 20:47     30157  Overwatch League 2019 Post-Season  PAYLOAD   \n",
      "103969  9/29/2019 20:47     30157  Overwatch League 2019 Post-Season  PAYLOAD   \n",
      "103970  9/29/2019 20:47     30157  Overwatch League 2019 Post-Season  PAYLOAD   \n",
      "103971  9/29/2019 20:47     30157  Overwatch League 2019 Post-Season  PAYLOAD   \n",
      "\n",
      "                          map    player              team  \\\n",
      "0                       Ilios      Elsa   Chengdu Hunters   \n",
      "1                       Ilios      Elsa   Chengdu Hunters   \n",
      "2                       Ilios      Elsa   Chengdu Hunters   \n",
      "3                       Ilios      Elsa   Chengdu Hunters   \n",
      "4                       Ilios      Elsa   Chengdu Hunters   \n",
      "...                       ...       ...               ...   \n",
      "103967  Watchpoint: Gibraltar  Twilight  Vancouver Titans   \n",
      "103968  Watchpoint: Gibraltar  Twilight  Vancouver Titans   \n",
      "103969  Watchpoint: Gibraltar  Twilight  Vancouver Titans   \n",
      "103970  Watchpoint: Gibraltar  Twilight  Vancouver Titans   \n",
      "103971  Watchpoint: Gibraltar  Twilight  Vancouver Titans   \n",
      "\n",
      "                        stat        hero   stat_amount  \n",
      "0            All Damage Done  All Heroes  19059.670270  \n",
      "1                    Assists  All Heroes     22.000000  \n",
      "2         Average Time Alive  All Heroes    302.704223  \n",
      "3        Barrier Damage Done  All Heroes   8861.540116  \n",
      "4       Damage - Quick Melee  All Heroes    152.999995  \n",
      "...                      ...         ...           ...  \n",
      "103967        Ultimates Used         Ana      6.000000  \n",
      "103968     Unscoped Accuracy         Ana      0.528777  \n",
      "103969         Unscoped Hits         Ana    147.000000  \n",
      "103970        Unscoped Shots         Ana    278.000000  \n",
      "103971       Weapon Accuracy         Ana      0.273504  \n",
      "\n",
      "[103972 rows x 10 columns]\n"
     ]
    }
   ],
   "source": [
    "df_2019_po = pd.read_csv('./datas/owl/phs_2019_playoffs.csv')\n",
    "print(df_2019_po)"
   ],
   "metadata": {
    "collapsed": false,
    "ExecuteTime": {
     "end_time": "2024-01-26T14:37:11.961991800Z",
     "start_time": "2024-01-26T14:37:11.792027600Z"
    }
   },
   "id": "c21ff89aaedece33",
   "execution_count": 135
  },
  {
   "cell_type": "markdown",
   "source": [
    "# 2020 STAGE 1"
   ],
   "metadata": {
    "collapsed": false
   },
   "id": "de42be7a4a2bea68"
  },
  {
   "cell_type": "code",
   "outputs": [
    {
     "name": "stdout",
     "output_type": "stream",
     "text": [
      "            start_time  match_id                    stage map_type  \\\n",
      "0       2/8/2020 18:13     30991  OWL 2020 Regular Season  CONTROL   \n",
      "1       2/8/2020 18:13     30991  OWL 2020 Regular Season  CONTROL   \n",
      "2       2/8/2020 18:13     30991  OWL 2020 Regular Season  CONTROL   \n",
      "3       2/8/2020 18:13     30991  OWL 2020 Regular Season  CONTROL   \n",
      "4       2/8/2020 18:13     30991  OWL 2020 Regular Season  CONTROL   \n",
      "...                ...       ...                      ...      ...   \n",
      "760106   7/6/2020 3:12     34751  OWL 2020 Regular Season  PAYLOAD   \n",
      "760107   7/6/2020 3:12     34751  OWL 2020 Regular Season  PAYLOAD   \n",
      "760108   7/6/2020 3:12     34751  OWL 2020 Regular Season  PAYLOAD   \n",
      "760109   7/6/2020 3:12     34751  OWL 2020 Regular Season  PAYLOAD   \n",
      "760110   7/6/2020 3:12     34751  OWL 2020 Regular Season  PAYLOAD   \n",
      "\n",
      "                  map   player                 team  \\\n",
      "0       Lijiang Tower  BenBest        Paris Eternal   \n",
      "1       Lijiang Tower  BenBest        Paris Eternal   \n",
      "2       Lijiang Tower  BenBest        Paris Eternal   \n",
      "3       Lijiang Tower  BenBest        Paris Eternal   \n",
      "4       Lijiang Tower  BenBest        Paris Eternal   \n",
      "...               ...      ...                  ...   \n",
      "760106         Rialto      eqo  Philadelphia Fusion   \n",
      "760107         Rialto      eqo  Philadelphia Fusion   \n",
      "760108         Rialto      eqo  Philadelphia Fusion   \n",
      "760109         Rialto      eqo  Philadelphia Fusion   \n",
      "760110         Rialto      eqo  Philadelphia Fusion   \n",
      "\n",
      "                                    stat        hero   stat_amount  \n",
      "0                        All Damage Done  All Heroes   6674.164055  \n",
      "1                                Assists  All Heroes     11.000000  \n",
      "2                     Average Time Alive  All Heroes     60.199502  \n",
      "3                    Barrier Damage Done  All Heroes   1875.000000  \n",
      "4                         Damage Blocked  All Heroes  14640.911780  \n",
      "...                                  ...         ...           ...  \n",
      "760106                        Time Alive      Tracer      3.675000  \n",
      "760107            Time Building Ultimate      Tracer      3.675000  \n",
      "760108  Time Elapsed per Ultimate Earned      Tracer    308.700003  \n",
      "760109                       Time Played      Tracer      3.896239  \n",
      "760110     Ultimates Earned - Fractional      Tracer      0.011905  \n",
      "\n",
      "[760111 rows x 10 columns]\n"
     ]
    }
   ],
   "source": [
    "df_2020_s1 = pd.read_csv('./datas/owl/phs_2020_1.csv')\n",
    "print(df_2020_s1)"
   ],
   "metadata": {
    "collapsed": false,
    "ExecuteTime": {
     "end_time": "2024-01-26T14:37:12.816028500Z",
     "start_time": "2024-01-26T14:37:11.957991700Z"
    }
   },
   "id": "7e14106bf8758131",
   "execution_count": 136
  },
  {
   "cell_type": "markdown",
   "source": [
    "# 2020 STAGE 2"
   ],
   "metadata": {
    "collapsed": false
   },
   "id": "5f2cadb575664ed4"
  },
  {
   "cell_type": "code",
   "outputs": [
    {
     "name": "stdout",
     "output_type": "stream",
     "text": [
      "                 start_time  match_id                    stage map_type  \\\n",
      "0       2020-07-17 19:17:13     34844  OWL 2020 Regular Season  CONTROL   \n",
      "1       2020-07-17 19:17:13     34844  OWL 2020 Regular Season  CONTROL   \n",
      "2       2020-07-17 19:17:13     34844  OWL 2020 Regular Season  CONTROL   \n",
      "3       2020-07-17 19:17:13     34844  OWL 2020 Regular Season  CONTROL   \n",
      "4       2020-07-17 19:17:13     34844  OWL 2020 Regular Season  CONTROL   \n",
      "...                     ...       ...                      ...      ...   \n",
      "473159  2020-10-10 15:21:26     35552  OWL 2020 Regular Season   HYBRID   \n",
      "473160  2020-10-10 15:21:26     35552  OWL 2020 Regular Season   HYBRID   \n",
      "473161  2020-10-10 15:21:26     35552  OWL 2020 Regular Season   HYBRID   \n",
      "473162  2020-10-10 15:21:26     35552  OWL 2020 Regular Season   HYBRID   \n",
      "473163  2020-10-10 15:21:26     35552  OWL 2020 Regular Season   HYBRID   \n",
      "\n",
      "                  map   player           team                           stat  \\\n",
      "0       Lijiang Tower  BenBest  Paris Eternal                All Damage Done   \n",
      "1       Lijiang Tower  BenBest  Paris Eternal                        Assists   \n",
      "2       Lijiang Tower  BenBest  Paris Eternal             Average Time Alive   \n",
      "3       Lijiang Tower  BenBest  Paris Eternal            Barrier Damage Done   \n",
      "4       Lijiang Tower  BenBest  Paris Eternal                 Damage Blocked   \n",
      "...               ...      ...            ...                            ...   \n",
      "473159      Hollywood     tobi  Seoul Dynasty                    Time Played   \n",
      "473160      Hollywood     tobi  Seoul Dynasty  Ultimates Earned - Fractional   \n",
      "473161      Hollywood     tobi  Seoul Dynasty                 Ultimates Used   \n",
      "473162      Hollywood     tobi  Seoul Dynasty    Valkyrie Healing Efficiency   \n",
      "473163      Hollywood     tobi  Seoul Dynasty                Weapon Accuracy   \n",
      "\n",
      "              hero   stat_amount  \n",
      "0       All Heroes   6437.383286  \n",
      "1       All Heroes     12.000000  \n",
      "2       All Heroes     63.518002  \n",
      "3       All Heroes   2300.000000  \n",
      "4       All Heroes  10770.851446  \n",
      "...            ...           ...  \n",
      "473159       Mercy    919.875289  \n",
      "473160       Mercy      4.811592  \n",
      "473161       Mercy      4.000000  \n",
      "473162       Mercy    301.680441  \n",
      "473163       Mercy      0.368421  \n",
      "\n",
      "[473164 rows x 10 columns]\n"
     ]
    }
   ],
   "source": [
    "df_2020_s2 = pd.read_csv('./datas/owl/phs_2020_2.csv')\n",
    "print(df_2020_s2)"
   ],
   "metadata": {
    "collapsed": false,
    "ExecuteTime": {
     "end_time": "2024-01-26T14:37:13.399991400Z",
     "start_time": "2024-01-26T14:37:12.816994400Z"
    }
   },
   "id": "efbfc9b1ce370a70",
   "execution_count": 137
  },
  {
   "cell_type": "markdown",
   "source": [
    "# 2021 STAGE"
   ],
   "metadata": {
    "collapsed": false
   },
   "id": "44f2c084cfff13ea"
  },
  {
   "cell_type": "code",
   "outputs": [
    {
     "name": "stdout",
     "output_type": "stream",
     "text": [
      "                  start_time  match_id     stage map_type     map player  \\\n",
      "0        2021-04-16 19:08:52     37234  OWL 2021  CONTROL   Busan   Doha   \n",
      "1        2021-04-16 19:08:52     37234  OWL 2021  CONTROL   Busan   Doha   \n",
      "2        2021-04-16 19:08:52     37234  OWL 2021  CONTROL   Busan   Doha   \n",
      "3        2021-04-16 19:08:52     37234  OWL 2021  CONTROL   Busan   Doha   \n",
      "4        2021-04-16 19:08:52     37234  OWL 2021  CONTROL   Busan   Doha   \n",
      "...                      ...       ...       ...      ...     ...    ...   \n",
      "1031553  2021-09-26 02:53:59     37441  OWL 2021  PAYLOAD  Havana   Void   \n",
      "1031554  2021-09-26 02:53:59     37441  OWL 2021  PAYLOAD  Havana   Void   \n",
      "1031555  2021-09-26 02:53:59     37441  OWL 2021  PAYLOAD  Havana   Void   \n",
      "1031556  2021-09-26 02:53:59     37441  OWL 2021  PAYLOAD  Havana   Void   \n",
      "1031557  2021-09-26 02:53:59     37441  OWL 2021  PAYLOAD  Havana   Void   \n",
      "\n",
      "                     team                  stat        hero   stat_amount  \n",
      "0             Dallas Fuel       All Damage Done  All Heroes  13900.680095  \n",
      "1             Dallas Fuel               Assists  All Heroes      8.000000  \n",
      "2             Dallas Fuel    Average Time Alive  All Heroes     56.481102  \n",
      "3             Dallas Fuel   Barrier Damage Done  All Heroes   1495.492155  \n",
      "4             Dallas Fuel  Damage - Quick Melee  All Heroes     60.000000  \n",
      "...                   ...                   ...         ...           ...  \n",
      "1031553  Shanghai Dragons        Ultimates Used       Zarya      2.000000  \n",
      "1031554  Shanghai Dragons       Weapon Accuracy       Zarya      0.260870  \n",
      "1031555  Shanghai Dragons                   NaN       Zarya      0.919047  \n",
      "1031556  Shanghai Dragons                   NaN       Zarya      0.459524  \n",
      "1031557  Shanghai Dragons                   NaN       Zarya      0.459524  \n",
      "\n",
      "[1031558 rows x 10 columns]\n"
     ]
    }
   ],
   "source": [
    "df_2021 = pd.read_csv('./datas/owl/phs_2021_1.csv')\n",
    "print(df_2021)"
   ],
   "metadata": {
    "collapsed": false,
    "ExecuteTime": {
     "end_time": "2024-01-26T14:37:14.545993100Z",
     "start_time": "2024-01-26T14:37:13.395991500Z"
    }
   },
   "id": "29cc3e2458900720",
   "execution_count": 138
  },
  {
   "cell_type": "markdown",
   "source": [
    "# 2022 STAGE"
   ],
   "metadata": {
    "collapsed": false
   },
   "id": "fc10f27cf20fbb5c"
  },
  {
   "cell_type": "code",
   "outputs": [
    {
     "name": "stdout",
     "output_type": "stream",
     "text": [
      "                      start_time  match_id                      stage  \\\n",
      "0        2022-05-05 19:10:00 UTC     38971  Kickoff Clash: Qualifiers   \n",
      "1        2022-05-05 19:10:00 UTC     38971  Kickoff Clash: Qualifiers   \n",
      "2        2022-05-05 19:10:00 UTC     38971  Kickoff Clash: Qualifiers   \n",
      "3        2022-05-05 19:10:00 UTC     38971  Kickoff Clash: Qualifiers   \n",
      "4        2022-05-05 19:10:00 UTC     38971  Kickoff Clash: Qualifiers   \n",
      "...                          ...       ...                        ...   \n",
      "1048570  2022-10-08 10:28:00 UTC     39346  Countdown Cup: Qualifiers   \n",
      "1048571  2022-10-08 10:28:00 UTC     39346  Countdown Cup: Qualifiers   \n",
      "1048572  2022-10-08 10:28:00 UTC     39346  Countdown Cup: Qualifiers   \n",
      "1048573  2022-10-08 10:28:00 UTC     39346  Countdown Cup: Qualifiers   \n",
      "1048574  2022-10-08 10:28:00 UTC     39346  Countdown Cup: Qualifiers   \n",
      "\n",
      "        map_type            map      player                    team  \\\n",
      "0        control  Lijiang Tower  FunnyAstro  Los Angeles Gladiators   \n",
      "1        control  Lijiang Tower  FunnyAstro  Los Angeles Gladiators   \n",
      "2        control  Lijiang Tower  FunnyAstro  Los Angeles Gladiators   \n",
      "3        control  Lijiang Tower  FunnyAstro  Los Angeles Gladiators   \n",
      "4        control  Lijiang Tower  FunnyAstro  Los Angeles Gladiators   \n",
      "...          ...            ...         ...                     ...   \n",
      "1048570   hybrid    Eichenwalde  ChoiSehwan        Guangzhou Charge   \n",
      "1048571   hybrid    Eichenwalde  ChoiSehwan        Guangzhou Charge   \n",
      "1048572   hybrid    Eichenwalde  ChoiSehwan        Guangzhou Charge   \n",
      "1048573   hybrid    Eichenwalde  ChoiSehwan        Guangzhou Charge   \n",
      "1048574   hybrid    Eichenwalde  ChoiSehwan        Guangzhou Charge   \n",
      "\n",
      "                         stat        hero   stat_amount  \n",
      "0             All Damage Done  All Heroes  11560.871071  \n",
      "1                     Assists  All Heroes     15.000000  \n",
      "2          Average Time Alive  All Heroes     83.394003  \n",
      "3         Barrier Damage Done  All Heroes   4265.500527  \n",
      "4        Damage - Quick Melee  All Heroes    135.000000  \n",
      "...                       ...         ...           ...  \n",
      "1048570      Healing Received      Tracer   4543.289774  \n",
      "1048571      Hero Damage Done      Tracer  14736.386035  \n",
      "1048572     Melee Final Blows      Tracer      5.000000  \n",
      "1048573       Objective Kills      Tracer      9.000000  \n",
      "1048574     Quick Melee Ticks      Tracer     41.000000  \n",
      "\n",
      "[1048575 rows x 10 columns]\n"
     ]
    }
   ],
   "source": [
    "df_2022 = pd.read_csv('./datas/owl/phs_2022.csv')\n",
    "print(df_2022)"
   ],
   "metadata": {
    "collapsed": false,
    "ExecuteTime": {
     "end_time": "2024-01-26T14:37:15.884994700Z",
     "start_time": "2024-01-26T14:37:14.549010200Z"
    }
   },
   "id": "a63195fa6b0be279",
   "execution_count": 139
  },
  {
   "cell_type": "markdown",
   "source": [
    "# 2023 STAGE"
   ],
   "metadata": {
    "collapsed": false
   },
   "id": "9b8f0c2967b2d0f"
  },
  {
   "cell_type": "code",
   "outputs": [
    {
     "name": "stdout",
     "output_type": "stream",
     "text": [
      "                     start_time  match_id              stage map_type  \\\n",
      "0       2023-03-23 20:11:00 UTC     41215             Pro-Am  control   \n",
      "1       2023-03-23 20:11:00 UTC     41215             Pro-Am  control   \n",
      "2       2023-03-23 20:11:00 UTC     41215             Pro-Am  control   \n",
      "3       2023-03-23 20:11:00 UTC     41215             Pro-Am  control   \n",
      "4       2023-03-23 20:11:00 UTC     41215             Pro-Am  control   \n",
      "...                         ...       ...                ...      ...   \n",
      "676461  2023-06-18 05:27:00 UTC     41057  Midseason Madness  control   \n",
      "676462  2023-06-18 05:27:00 UTC     41057  Midseason Madness  control   \n",
      "676463  2023-06-18 05:27:00 UTC     41057  Midseason Madness  control   \n",
      "676464  2023-06-18 05:27:00 UTC     41057  Midseason Madness  control   \n",
      "676465  2023-06-18 05:27:00 UTC     41057  Midseason Madness  control   \n",
      "\n",
      "                        map   player             team  \\\n",
      "0                     Nepal  CH0R0NG   Florida Mayhem   \n",
      "1                     Nepal  CH0R0NG   Florida Mayhem   \n",
      "2                     Nepal  CH0R0NG   Florida Mayhem   \n",
      "3                     Nepal  CH0R0NG   Florida Mayhem   \n",
      "4                     Nepal  CH0R0NG   Florida Mayhem   \n",
      "...                     ...      ...              ...   \n",
      "676461  Antarctic Peninsula      shu  Houston Outlaws   \n",
      "676462  Antarctic Peninsula      shu  Houston Outlaws   \n",
      "676463  Antarctic Peninsula      shu  Houston Outlaws   \n",
      "676464  Antarctic Peninsula      shu  Houston Outlaws   \n",
      "676465  Antarctic Peninsula      shu  Houston Outlaws   \n",
      "\n",
      "                                    stat        hero  stat_amount  \n",
      "0                        All Damage Done  All Heroes  4618.946262  \n",
      "1                                Assists  All Heroes    23.000000  \n",
      "2                                Assists  All Heroes    10.000000  \n",
      "3              Assists  - Avg per 10 min  All Heroes     0.029220  \n",
      "4                 Assists - Most in Game  All Heroes    23.000000  \n",
      "...                                  ...         ...          ...  \n",
      "676461                        Time Alive       Moira    51.267001  \n",
      "676462            Time Building Ultimate       Moira    74.061002  \n",
      "676463  Time Elapsed per Ultimate Earned       Moira   123.979228  \n",
      "676464                       Time Played       Moira    74.527243  \n",
      "676465     Ultimates Earned - Fractional       Moira     0.597366  \n",
      "\n",
      "[676466 rows x 10 columns]\n"
     ]
    }
   ],
   "source": [
    "df_2023 = pd.read_csv('./datas/owl/phs_2023.csv')\n",
    "print(df_2023)"
   ],
   "metadata": {
    "collapsed": false,
    "ExecuteTime": {
     "end_time": "2024-01-26T14:37:16.647992900Z",
     "start_time": "2024-01-26T14:37:15.888991700Z"
    }
   },
   "id": "86a05193bc4ec221",
   "execution_count": 140
  },
  {
   "cell_type": "code",
   "outputs": [
    {
     "name": "stdout",
     "output_type": "stream",
     "text": [
      "                     start_time  match_id                       stage  \\\n",
      "0                1/11/2018 0:12     10223  Overwatch League - Stage 1   \n",
      "1                1/11/2018 0:12     10223  Overwatch League - Stage 1   \n",
      "2                1/11/2018 0:12     10223  Overwatch League - Stage 1   \n",
      "3                1/11/2018 0:12     10223  Overwatch League - Stage 1   \n",
      "4                1/11/2018 0:12     10223  Overwatch League - Stage 1   \n",
      "...                         ...       ...                         ...   \n",
      "676461  2023-06-18 05:27:00 UTC     41057           Midseason Madness   \n",
      "676462  2023-06-18 05:27:00 UTC     41057           Midseason Madness   \n",
      "676463  2023-06-18 05:27:00 UTC     41057           Midseason Madness   \n",
      "676464  2023-06-18 05:27:00 UTC     41057           Midseason Madness   \n",
      "676465  2023-06-18 05:27:00 UTC     41057           Midseason Madness   \n",
      "\n",
      "       map_type                  map     player                 team  \\\n",
      "0       PAYLOAD               Dorado  Agilities  Los Angeles Valiant   \n",
      "1       PAYLOAD               Dorado  Agilities  Los Angeles Valiant   \n",
      "2       PAYLOAD               Dorado  Agilities  Los Angeles Valiant   \n",
      "3       PAYLOAD               Dorado  Agilities  Los Angeles Valiant   \n",
      "4       PAYLOAD               Dorado  Agilities  Los Angeles Valiant   \n",
      "...         ...                  ...        ...                  ...   \n",
      "676461  control  Antarctic Peninsula        shu      Houston Outlaws   \n",
      "676462  control  Antarctic Peninsula        shu      Houston Outlaws   \n",
      "676463  control  Antarctic Peninsula        shu      Houston Outlaws   \n",
      "676464  control  Antarctic Peninsula        shu      Houston Outlaws   \n",
      "676465  control  Antarctic Peninsula        shu      Houston Outlaws   \n",
      "\n",
      "                                    stat        hero   stat_amount  \n",
      "0                        All Damage Done  All Heroes  18079.206920  \n",
      "1                                Assists  All Heroes     17.000000  \n",
      "2                    Barrier Damage Done  All Heroes   2893.659185  \n",
      "3                   Damage - Quick Melee  All Heroes    443.204010  \n",
      "4                                 Deaths  All Heroes     11.000000  \n",
      "...                                  ...         ...           ...  \n",
      "676461                        Time Alive       Moira     51.267001  \n",
      "676462            Time Building Ultimate       Moira     74.061002  \n",
      "676463  Time Elapsed per Ultimate Earned       Moira    123.979228  \n",
      "676464                       Time Played       Moira     74.527243  \n",
      "676465     Ultimates Earned - Fractional       Moira      0.597366  \n",
      "\n",
      "[6672124 rows x 10 columns]\n"
     ]
    }
   ],
   "source": [
    "# merge every dataframes in one\n",
    "df = pd.concat([df_2018_s1, df_2018_s2, df_2018_s3, df_2018_s4, df_2018_po, df_2019_s1, df_2019_s2, df_2019_s3, df_2019_s4, df_2019_po, df_2020_s1, df_2020_s2, df_2021, df_2022, df_2023])\n",
    "print(df)"
   ],
   "metadata": {
    "collapsed": false,
    "ExecuteTime": {
     "end_time": "2024-01-26T14:37:16.978992800Z",
     "start_time": "2024-01-26T14:37:16.650992300Z"
    }
   },
   "id": "9cef15576c323ae3",
   "execution_count": 141
  },
  {
   "cell_type": "code",
   "outputs": [
    {
     "name": "stdout",
     "output_type": "stream",
     "text": [
      "Empty DataFrame\n",
      "Columns: [start_time, match_id, stage, map_type, map, player, team, stat, hero, stat_amount]\n",
      "Index: []\n"
     ]
    }
   ],
   "source": [
    "# replace every 'McCree' in 'hero' column by 'Cassidy' (do not create a new column)\n",
    "df.replace({'hero': 'McCree'}, 'Cassidy', inplace=True)\n",
    "# check if it worked\n",
    "print(df[df['hero'] == 'McCree'])"
   ],
   "metadata": {
    "collapsed": false,
    "ExecuteTime": {
     "end_time": "2024-01-26T14:37:17.630991700Z",
     "start_time": "2024-01-26T14:37:16.978992800Z"
    }
   },
   "id": "aa6ac5613df082b1",
   "execution_count": 142
  },
  {
   "cell_type": "code",
   "outputs": [
    {
     "name": "stdout",
     "output_type": "stream",
     "text": [
      "Index(['start_time', 'match_id', 'stage', 'map_type', 'map', 'player', 'team',\n",
      "       'stat', 'hero', 'stat_amount'],\n",
      "      dtype='object')\n"
     ]
    }
   ],
   "source": [
    "# get columns\n",
    "print(df.columns)"
   ],
   "metadata": {
    "collapsed": false,
    "ExecuteTime": {
     "end_time": "2024-01-26T14:37:17.662997900Z",
     "start_time": "2024-01-26T14:37:17.631991600Z"
    }
   },
   "id": "159cbca5a19ad2b5",
   "execution_count": 143
  },
  {
   "cell_type": "code",
   "outputs": [
    {
     "name": "stdout",
     "output_type": "stream",
     "text": [
      "hero\n",
      "All Heroes       5.276624e+08\n",
      "D.Va             4.938023e+07\n",
      "Tracer           4.045653e+07\n",
      "Zenyatta         3.799789e+07\n",
      "Winston          3.410991e+07\n",
      "Zarya            3.002529e+07\n",
      "Brigitte         2.282757e+07\n",
      "Reinhardt        2.203964e+07\n",
      "Genji            2.026381e+07\n",
      "Lúcio            1.959909e+07\n",
      "Sombra           1.772802e+07\n",
      "Sigma            1.658381e+07\n",
      "Widowmaker       1.556286e+07\n",
      "Ashe             1.491497e+07\n",
      "Orisa            1.443518e+07\n",
      "Ana              1.440564e+07\n",
      "Cassidy          1.250256e+07\n",
      "Reaper           1.185404e+07\n",
      "Mei              1.157157e+07\n",
      "Sojourn          1.138871e+07\n",
      "Hanzo            1.095003e+07\n",
      "Echo             1.081501e+07\n",
      "Baptiste         1.068435e+07\n",
      "Pharah           1.005415e+07\n",
      "Wrecking Ball    9.119774e+06\n",
      "Soldier: 76      8.750529e+06\n",
      "Lucio            8.637177e+06\n",
      "Moira            7.957078e+06\n",
      "Junker Queen     6.368943e+06\n",
      "Doomfist         5.995476e+06\n",
      "Junkrat          5.962906e+06\n",
      "Roadhog          5.006571e+06\n",
      "Ramattra         2.582117e+06\n",
      "Torbjörn         2.199818e+06\n",
      "Symmetra         2.191157e+06\n",
      "Bastion          1.302136e+06\n",
      "Kiriko           1.215698e+06\n",
      "Mercy            5.569027e+05\n",
      "Torbjorn         7.645364e+04\n",
      "Lifeweaver       2.185426e+03\n",
      "Name: stat_amount, dtype: float64\n"
     ]
    }
   ],
   "source": [
    "# count sum of every 'stat_amount' where 'stat' is 'Damage Done' by 'hero' sort by descending order\n",
    "print(df[df['stat'] == 'Hero Damage Done'].groupby('hero')['stat_amount'].sum().sort_values(ascending=False))"
   ],
   "metadata": {
    "collapsed": false,
    "ExecuteTime": {
     "end_time": "2024-01-26T14:58:04.303045500Z",
     "start_time": "2024-01-26T14:58:03.915048700Z"
    }
   },
   "id": "ac4573860101ded6",
   "execution_count": 157
  },
  {
   "cell_type": "code",
   "outputs": [
    {
     "name": "stdout",
     "output_type": "stream",
     "text": [
      "64\n",
      "['ANS', 'Atlanta Reign', 'Baconjack', 'Boston Uprising', 'Bren', 'Brick Movers', 'Carpe', 'Chengdu Hunters', 'Colourhex', 'Dallas Fuel', 'Dalton', 'Diem', 'Dreamers', 'Fits', 'Florida Mayhem', 'Glister', 'GodsB', 'Guangzhou Charge', 'Haksal', 'Hangzhou Spark', 'Happy', 'Houston Outlaws', 'Jehong and Students', 'Jinmu', 'KSP', 'LiNkzr', 'Logix', 'London Spitfire', 'Los Angeles Gladiators', 'Los Angeles Valiant', 'New York Excelsior', 'O2 Blast', 'Onigod', 'PANTHERA', 'Paris Eternal', 'Philadelphia Fusion', 'Poker Face', 'Profit', 'Redbird Esports', 'Rhodes', 'Saints', 'San Francisco Shock', 'Seoul Dynasty', 'Seoul Infernal', 'Shanghai Dragons', 'Shockwave', 'Sin Prisa Gaming', 'Soon', 'Sp9rk1e', 'Team Custa', 'Team D.va', 'Team Jake', 'Team Peps', 'Team Reinhardt', 'Team Universe', 'Timeless', 'Toronto Defiant', 'Trick Room', 'Triple A', 'Twisted Minds', 'Vancouver Titans', 'Vegas Eternal', 'WISP', 'Washington Justice']\n"
     ]
    }
   ],
   "source": [
    "# get every team in alphabetical order\n",
    "teams = df['team'].unique()\n",
    "print(len(teams))\n",
    "print(sorted(teams))"
   ],
   "metadata": {
    "collapsed": false,
    "ExecuteTime": {
     "end_time": "2024-01-26T14:37:17.948991200Z",
     "start_time": "2024-01-26T14:37:17.647993800Z"
    }
   },
   "id": "982b59a4e5509a4c",
   "execution_count": 144
  },
  {
   "cell_type": "code",
   "outputs": [
    {
     "name": "stdout",
     "output_type": "stream",
     "text": [
      "32\n",
      "['Antarctic Peninsula', 'Blizzard World', 'Busan', 'Castillo', 'Circuit royal', 'Colosseo', 'Dorado', 'Ecopoint: Antarctica', 'Eichenwalde', 'Esperança', 'Hanamura', 'Havana', 'Hollywood', 'Horizon Lunar Colony', 'Ilios', 'Junkertown', \"King's Row\", 'Lijiang Tower', 'Midtown', 'Necropolis', 'Nepal', 'New Queen Street', 'Numbani', 'Oasis', 'Paraíso', 'Paris', 'Rialto', 'Route 66', 'Shambali Monastery', 'Temple of Anubis', 'Volskaya Industries', 'Watchpoint: Gibraltar']\n"
     ]
    }
   ],
   "source": [
    "# get every map in alphabetical order\n",
    "maps = df['map'].unique()\n",
    "print(len(maps))\n",
    "print(sorted(maps))"
   ],
   "metadata": {
    "collapsed": false,
    "ExecuteTime": {
     "end_time": "2024-01-26T14:37:18.198028800Z",
     "start_time": "2024-01-26T14:37:17.943991500Z"
    }
   },
   "id": "59dcec0a88787ac7",
   "execution_count": 145
  },
  {
   "cell_type": "code",
   "outputs": [
    {
     "name": "stdout",
     "output_type": "stream",
     "text": [
      "40\n",
      "['All Heroes', 'Ana', 'Ashe', 'Baptiste', 'Bastion', 'Brigitte', 'Cassidy', 'D.Va', 'Doomfist', 'Echo', 'Genji', 'Hanzo', 'Junker Queen', 'Junkrat', 'Kiriko', 'Lifeweaver', 'Lucio', 'Lúcio', 'Mei', 'Mercy', 'Moira', 'Orisa', 'Pharah', 'Ramattra', 'Reaper', 'Reinhardt', 'Roadhog', 'Sigma', 'Sojourn', 'Soldier: 76', 'Sombra', 'Symmetra', 'Torbjorn', 'Torbjörn', 'Tracer', 'Widowmaker', 'Winston', 'Wrecking Ball', 'Zarya', 'Zenyatta']\n"
     ]
    }
   ],
   "source": [
    "# get every hero in alphabetical order\n",
    "heroes = df['hero'].unique()\n",
    "print(len(heroes))\n",
    "print(sorted(heroes))"
   ],
   "metadata": {
    "collapsed": false,
    "ExecuteTime": {
     "end_time": "2024-01-26T14:37:18.429991900Z",
     "start_time": "2024-01-26T14:37:18.226992500Z"
    }
   },
   "id": "21ab26a7cd80311a",
   "execution_count": 146
  },
  {
   "cell_type": "code",
   "outputs": [],
   "source": [],
   "metadata": {
    "collapsed": false
   },
   "id": "b577031b89f7bd99"
  }
 ],
 "metadata": {
  "kernelspec": {
   "display_name": "Python 3",
   "language": "python",
   "name": "python3"
  },
  "language_info": {
   "codemirror_mode": {
    "name": "ipython",
    "version": 2
   },
   "file_extension": ".py",
   "mimetype": "text/x-python",
   "name": "python",
   "nbconvert_exporter": "python",
   "pygments_lexer": "ipython2",
   "version": "2.7.6"
  }
 },
 "nbformat": 4,
 "nbformat_minor": 5
}
