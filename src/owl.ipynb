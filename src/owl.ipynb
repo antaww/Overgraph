{
 "cells": [
  {
   "cell_type": "code",
   "execution_count": 250,
   "id": "initial_id",
   "metadata": {
    "collapsed": true,
    "ExecuteTime": {
     "end_time": "2024-02-13T22:03:23.748129800Z",
     "start_time": "2024-02-13T22:03:23.591245400Z"
    }
   },
   "outputs": [],
   "source": [
    "# |exporti\n",
    "\n",
    "import pandas as pd\n",
    "import streamlit as st\n",
    "import dateutil.parser as dparser\n",
    "from streamlit_jupyter import StreamlitPatcher"
   ]
  },
  {
   "cell_type": "code",
   "outputs": [],
   "source": [
    "sp = StreamlitPatcher()\n",
    "sp.jupyter()  # register patcher with streamlit"
   ],
   "metadata": {
    "collapsed": false,
    "ExecuteTime": {
     "end_time": "2024-02-13T22:03:23.775881600Z",
     "start_time": "2024-02-13T22:03:23.747238200Z"
    }
   },
   "id": "7e2936994752ffeb",
   "execution_count": 251
  },
  {
   "cell_type": "code",
   "outputs": [],
   "source": [
    "# |exporti\n",
    "import os\n",
    "\n",
    "project_name = 'Overgraph'\n",
    "path = os.getcwd().split(project_name)[0] + project_name\n",
    "owl_path = f'{path}/src/datas/owl'\n"
   ],
   "metadata": {
    "collapsed": false,
    "ExecuteTime": {
     "end_time": "2024-02-13T22:03:23.792910400Z",
     "start_time": "2024-02-13T22:03:23.775881600Z"
    }
   },
   "id": "e40769f2e005bab",
   "execution_count": 252
  },
  {
   "cell_type": "markdown",
   "source": [
    "# MAPS"
   ],
   "metadata": {
    "collapsed": false
   },
   "id": "d070459e9200c8b0"
  },
  {
   "cell_type": "code",
   "outputs": [],
   "source": [
    "# |export\n",
    "map_stats = pd.read_csv(f'{owl_path}/match_map_stats.csv')"
   ],
   "metadata": {
    "collapsed": false,
    "ExecuteTime": {
     "end_time": "2024-02-13T22:03:23.826988500Z",
     "start_time": "2024-02-13T22:03:23.792910400Z"
    }
   },
   "id": "430f11901d665e",
   "execution_count": 253
  },
  {
   "cell_type": "markdown",
   "source": [
    "# 2018 STAGE 1"
   ],
   "metadata": {
    "collapsed": false
   },
   "id": "fedaf35c47762b6f"
  },
  {
   "cell_type": "code",
   "outputs": [],
   "source": [
    "# |exporti\n",
    "df_2018_s1 = pd.read_csv(f'{owl_path}/phs_2018_stage_1.csv')"
   ],
   "metadata": {
    "collapsed": false,
    "ExecuteTime": {
     "end_time": "2024-02-13T22:03:24.031742900Z",
     "start_time": "2024-02-13T22:03:23.826988500Z"
    }
   },
   "id": "ae71f4d91bb0dad5",
   "execution_count": 254
  },
  {
   "cell_type": "code",
   "outputs": [],
   "source": [
    "# df_2018_s1"
   ],
   "metadata": {
    "collapsed": false,
    "ExecuteTime": {
     "end_time": "2024-02-13T22:03:24.033743Z",
     "start_time": "2024-02-13T22:03:24.029729700Z"
    }
   },
   "id": "e8f655ce086ea1b6",
   "execution_count": 255
  },
  {
   "cell_type": "markdown",
   "source": [
    "# 2018 STAGE 2"
   ],
   "metadata": {
    "collapsed": false
   },
   "id": "8b1f51fab3dc6a59"
  },
  {
   "cell_type": "code",
   "outputs": [],
   "source": [
    "# |exporti\n",
    "df_2018_s2 = pd.read_csv(f'{owl_path}/phs_2018_stage_2.csv')"
   ],
   "metadata": {
    "collapsed": false,
    "ExecuteTime": {
     "end_time": "2024-02-13T22:03:24.250577900Z",
     "start_time": "2024-02-13T22:03:24.031742900Z"
    }
   },
   "id": "afc06707722d7660",
   "execution_count": 256
  },
  {
   "cell_type": "code",
   "outputs": [],
   "source": [
    "# df_2018_s2"
   ],
   "metadata": {
    "collapsed": false,
    "ExecuteTime": {
     "end_time": "2024-02-13T22:03:24.253904300Z",
     "start_time": "2024-02-13T22:03:24.251398400Z"
    }
   },
   "id": "6822f1b3bc0103a1",
   "execution_count": 257
  },
  {
   "cell_type": "markdown",
   "source": [
    "# 2018 STAGE 3"
   ],
   "metadata": {
    "collapsed": false
   },
   "id": "3e44f8484353a9bf"
  },
  {
   "cell_type": "code",
   "outputs": [],
   "source": [
    "# |exporti\n",
    "df_2018_s3 = pd.read_csv(f'{owl_path}/phs_2018_stage_3.csv')"
   ],
   "metadata": {
    "collapsed": false,
    "ExecuteTime": {
     "end_time": "2024-02-13T22:03:24.457886800Z",
     "start_time": "2024-02-13T22:03:24.252905500Z"
    }
   },
   "id": "a29a2634f35346f0",
   "execution_count": 258
  },
  {
   "cell_type": "code",
   "outputs": [],
   "source": [
    "# df_2018_s3"
   ],
   "metadata": {
    "collapsed": false,
    "ExecuteTime": {
     "end_time": "2024-02-13T22:03:24.460733500Z",
     "start_time": "2024-02-13T22:03:24.457886800Z"
    }
   },
   "id": "c443a94b249fd428",
   "execution_count": 259
  },
  {
   "cell_type": "markdown",
   "source": [
    "# 2018 STAGE 4"
   ],
   "metadata": {
    "collapsed": false
   },
   "id": "a8e6220b55a18269"
  },
  {
   "cell_type": "code",
   "outputs": [],
   "source": [
    "# |exporti\n",
    "df_2018_s4 = pd.read_csv(f'{owl_path}/phs_2018_stage_4.csv')"
   ],
   "metadata": {
    "collapsed": false,
    "ExecuteTime": {
     "end_time": "2024-02-13T22:03:24.758253400Z",
     "start_time": "2024-02-13T22:03:24.459223600Z"
    }
   },
   "id": "dd0b2d17a2727a20",
   "execution_count": 260
  },
  {
   "cell_type": "code",
   "outputs": [],
   "source": [
    "# df_2018_s4"
   ],
   "metadata": {
    "collapsed": false,
    "ExecuteTime": {
     "end_time": "2024-02-13T22:03:24.763642100Z",
     "start_time": "2024-02-13T22:03:24.759253200Z"
    }
   },
   "id": "5495d6682805f3bc",
   "execution_count": 261
  },
  {
   "cell_type": "markdown",
   "source": [
    "# 2018 PLAYOFFS"
   ],
   "metadata": {
    "collapsed": false
   },
   "id": "65d01c2b31074ef1"
  },
  {
   "cell_type": "code",
   "outputs": [],
   "source": [
    "# |exporti\n",
    "df_2018_po = pd.read_csv(f'{owl_path}/phs_2018_playoffs.csv')"
   ],
   "metadata": {
    "collapsed": false,
    "ExecuteTime": {
     "end_time": "2024-02-13T22:03:24.817685Z",
     "start_time": "2024-02-13T22:03:24.761642400Z"
    }
   },
   "id": "601d38346d8fb1fb",
   "execution_count": 262
  },
  {
   "cell_type": "code",
   "outputs": [],
   "source": [
    "# df_2018_po"
   ],
   "metadata": {
    "collapsed": false,
    "ExecuteTime": {
     "end_time": "2024-02-13T22:03:24.819193700Z",
     "start_time": "2024-02-13T22:03:24.817685Z"
    }
   },
   "id": "ca51f63d5c712272",
   "execution_count": 263
  },
  {
   "cell_type": "markdown",
   "source": [
    "# 2019 STAGE 1"
   ],
   "metadata": {
    "collapsed": false
   },
   "id": "476eec10af4d6220"
  },
  {
   "cell_type": "code",
   "outputs": [],
   "source": [
    "# |exporti\n",
    "df_2019_s1 = pd.read_csv(f'{owl_path}/phs_2019_stage_1.csv')"
   ],
   "metadata": {
    "collapsed": false,
    "ExecuteTime": {
     "end_time": "2024-02-13T22:03:25.074709400Z",
     "start_time": "2024-02-13T22:03:24.820703100Z"
    }
   },
   "id": "a7c744f5ff8a32f8",
   "execution_count": 264
  },
  {
   "cell_type": "code",
   "outputs": [],
   "source": [
    "# df_2019_s1"
   ],
   "metadata": {
    "collapsed": false,
    "ExecuteTime": {
     "end_time": "2024-02-13T22:03:25.077010Z",
     "start_time": "2024-02-13T22:03:25.074709400Z"
    }
   },
   "id": "ba50696b0f72f5a5",
   "execution_count": 265
  },
  {
   "cell_type": "markdown",
   "source": [
    "# 2019 STAGE 2"
   ],
   "metadata": {
    "collapsed": false
   },
   "id": "4eb6e02ffdaffa00"
  },
  {
   "cell_type": "code",
   "outputs": [],
   "source": [
    "# |exporti\n",
    "df_2019_s2 = pd.read_csv(f'{owl_path}/phs_2019_stage_2.csv')"
   ],
   "metadata": {
    "collapsed": false,
    "ExecuteTime": {
     "end_time": "2024-02-13T22:03:25.363311400Z",
     "start_time": "2024-02-13T22:03:25.077010Z"
    }
   },
   "id": "4aa2a5e715ac8790",
   "execution_count": 266
  },
  {
   "cell_type": "code",
   "outputs": [],
   "source": [
    "# df_2019_s2"
   ],
   "metadata": {
    "collapsed": false,
    "ExecuteTime": {
     "end_time": "2024-02-13T22:03:25.365451900Z",
     "start_time": "2024-02-13T22:03:25.363946Z"
    }
   },
   "id": "845ee1781bfa5f8b",
   "execution_count": 267
  },
  {
   "cell_type": "markdown",
   "source": [
    "# 2019 STAGE 3"
   ],
   "metadata": {
    "collapsed": false
   },
   "id": "a0ea23af7e5877be"
  },
  {
   "cell_type": "code",
   "outputs": [],
   "source": [
    "# |exporti\n",
    "df_2019_s3 = pd.read_csv(f'{owl_path}/phs_2019_stage_3.csv')"
   ],
   "metadata": {
    "collapsed": false,
    "ExecuteTime": {
     "end_time": "2024-02-13T22:03:25.660754900Z",
     "start_time": "2024-02-13T22:03:25.365451900Z"
    }
   },
   "id": "6ec37fb764a37d6f",
   "execution_count": 268
  },
  {
   "cell_type": "code",
   "outputs": [],
   "source": [
    "# df_2019_s3"
   ],
   "metadata": {
    "collapsed": false,
    "ExecuteTime": {
     "end_time": "2024-02-13T22:03:25.662916200Z",
     "start_time": "2024-02-13T22:03:25.661408600Z"
    }
   },
   "id": "d79668f0958771fe",
   "execution_count": 269
  },
  {
   "cell_type": "markdown",
   "source": [
    "# 2019 STAGE 4"
   ],
   "metadata": {
    "collapsed": false
   },
   "id": "169aca4202c080a8"
  },
  {
   "cell_type": "code",
   "outputs": [],
   "source": [
    "# |exporti\n",
    "df_2019_s4 = pd.read_csv(f'{owl_path}/phs_2019_stage_4.csv')"
   ],
   "metadata": {
    "collapsed": false,
    "ExecuteTime": {
     "end_time": "2024-02-13T22:03:25.951959100Z",
     "start_time": "2024-02-13T22:03:25.662916200Z"
    }
   },
   "id": "1139c720bd0d9602",
   "execution_count": 270
  },
  {
   "cell_type": "code",
   "outputs": [],
   "source": [
    "# df_2019_s4"
   ],
   "metadata": {
    "collapsed": false,
    "ExecuteTime": {
     "end_time": "2024-02-13T22:03:25.954642700Z",
     "start_time": "2024-02-13T22:03:25.951959100Z"
    }
   },
   "id": "de265edd7486d1e6",
   "execution_count": 271
  },
  {
   "cell_type": "markdown",
   "source": [
    "# 2019 PLAYOFFS"
   ],
   "metadata": {
    "collapsed": false
   },
   "id": "258d3d09ad9baaa9"
  },
  {
   "cell_type": "code",
   "outputs": [],
   "source": [
    "# |exporti\n",
    "df_2019_po = pd.read_csv(f'{owl_path}/phs_2019_playoffs.csv')"
   ],
   "metadata": {
    "collapsed": false,
    "ExecuteTime": {
     "end_time": "2024-02-13T22:03:26.064966200Z",
     "start_time": "2024-02-13T22:03:25.954642700Z"
    }
   },
   "id": "a7c34fc760fbba55",
   "execution_count": 272
  },
  {
   "cell_type": "code",
   "outputs": [],
   "source": [
    "# df_2019_po"
   ],
   "metadata": {
    "collapsed": false,
    "ExecuteTime": {
     "end_time": "2024-02-13T22:03:26.067380200Z",
     "start_time": "2024-02-13T22:03:26.065871800Z"
    }
   },
   "id": "8d09479ebd112f14",
   "execution_count": 273
  },
  {
   "cell_type": "markdown",
   "source": [
    "# 2020 STAGE 1"
   ],
   "metadata": {
    "collapsed": false
   },
   "id": "758b9254ffd7c77e"
  },
  {
   "cell_type": "code",
   "outputs": [],
   "source": [
    "# |exporti\n",
    "df_2020_s1 = pd.read_csv(f'{owl_path}/phs_2020_1.csv')"
   ],
   "metadata": {
    "collapsed": false,
    "ExecuteTime": {
     "end_time": "2024-02-13T22:03:26.672411500Z",
     "start_time": "2024-02-13T22:03:26.067380200Z"
    }
   },
   "id": "3a2cfa21f90612d4",
   "execution_count": 274
  },
  {
   "cell_type": "code",
   "outputs": [],
   "source": [
    "# df_2020_s1"
   ],
   "metadata": {
    "collapsed": false,
    "ExecuteTime": {
     "end_time": "2024-02-13T22:03:26.674936900Z",
     "start_time": "2024-02-13T22:03:26.672411500Z"
    }
   },
   "id": "b330e51dcc6d11a7",
   "execution_count": 275
  },
  {
   "cell_type": "markdown",
   "source": [
    "# 2020 STAGE 2"
   ],
   "metadata": {
    "collapsed": false
   },
   "id": "3c2f401924341244"
  },
  {
   "cell_type": "code",
   "outputs": [],
   "source": [
    "# |exporti\n",
    "df_2020_s2 = pd.read_csv(f'{owl_path}/phs_2020_2.csv')"
   ],
   "metadata": {
    "collapsed": false,
    "ExecuteTime": {
     "end_time": "2024-02-13T22:03:27.059817300Z",
     "start_time": "2024-02-13T22:03:26.675937300Z"
    }
   },
   "id": "d258beaea2726aeb",
   "execution_count": 276
  },
  {
   "cell_type": "code",
   "outputs": [],
   "source": [
    "# df_2020_s2"
   ],
   "metadata": {
    "collapsed": false,
    "ExecuteTime": {
     "end_time": "2024-02-13T22:03:27.062324300Z",
     "start_time": "2024-02-13T22:03:27.060818200Z"
    }
   },
   "id": "af48fc760f5a616c",
   "execution_count": 277
  },
  {
   "cell_type": "markdown",
   "source": [
    "# 2021 STAGE"
   ],
   "metadata": {
    "collapsed": false
   },
   "id": "f0e399cf79fdd603"
  },
  {
   "cell_type": "code",
   "outputs": [],
   "source": [
    "# |exporti\n",
    "df_2021 = pd.read_csv(f'{owl_path}/phs_2021_1.csv')"
   ],
   "metadata": {
    "collapsed": false,
    "ExecuteTime": {
     "end_time": "2024-02-13T22:03:27.768817700Z",
     "start_time": "2024-02-13T22:03:27.062324300Z"
    }
   },
   "id": "4cd117336d6455e2",
   "execution_count": 278
  },
  {
   "cell_type": "code",
   "outputs": [],
   "source": [
    "# df_2021"
   ],
   "metadata": {
    "collapsed": false,
    "ExecuteTime": {
     "end_time": "2024-02-13T22:03:27.771831700Z",
     "start_time": "2024-02-13T22:03:27.769818400Z"
    }
   },
   "id": "ed7eace15d3f8045",
   "execution_count": 279
  },
  {
   "cell_type": "markdown",
   "source": [
    "# 2022 STAGE"
   ],
   "metadata": {
    "collapsed": false
   },
   "id": "1bf7513ffeba41e2"
  },
  {
   "cell_type": "code",
   "outputs": [],
   "source": [
    "# |exporti\n",
    "df_2022 = pd.read_csv(f'{owl_path}/phs_2022.csv')"
   ],
   "metadata": {
    "collapsed": false,
    "ExecuteTime": {
     "end_time": "2024-02-13T22:03:28.549269700Z",
     "start_time": "2024-02-13T22:03:27.771831700Z"
    }
   },
   "id": "41672bf958b5759d",
   "execution_count": 280
  },
  {
   "cell_type": "code",
   "outputs": [],
   "source": [
    "# df_2022"
   ],
   "metadata": {
    "collapsed": false,
    "ExecuteTime": {
     "end_time": "2024-02-13T22:03:28.551777200Z",
     "start_time": "2024-02-13T22:03:28.549269700Z"
    }
   },
   "id": "848145f5694561",
   "execution_count": 281
  },
  {
   "cell_type": "markdown",
   "source": [
    "# 2023 STAGE"
   ],
   "metadata": {
    "collapsed": false
   },
   "id": "77300b08a323f6cb"
  },
  {
   "cell_type": "code",
   "outputs": [],
   "source": [
    "# |exporti\n",
    "df_2023 = pd.read_csv(f'{owl_path}/phs_2023.csv')"
   ],
   "metadata": {
    "collapsed": false,
    "ExecuteTime": {
     "end_time": "2024-02-13T22:03:29.029415400Z",
     "start_time": "2024-02-13T22:03:28.551777200Z"
    }
   },
   "id": "c90b4df891bc6cba",
   "execution_count": 282
  },
  {
   "cell_type": "code",
   "outputs": [],
   "source": [
    "# df_2023"
   ],
   "metadata": {
    "collapsed": false,
    "ExecuteTime": {
     "end_time": "2024-02-13T22:03:29.031923400Z",
     "start_time": "2024-02-13T22:03:29.029415400Z"
    }
   },
   "id": "abdefd073a4ef70",
   "execution_count": 283
  },
  {
   "cell_type": "markdown",
   "source": [
    "# MERGE DATAFRAMES"
   ],
   "metadata": {
    "collapsed": false
   },
   "id": "f9f44aa3cc12b1a7"
  },
  {
   "cell_type": "code",
   "outputs": [],
   "source": [
    "# |export\n",
    "# merge every dataframes in one\n",
    "df = pd.concat(\n",
    "    [df_2018_s1, df_2018_s2, df_2018_s3, df_2018_s4, df_2018_po, df_2019_s1, df_2019_s2, df_2019_s3, df_2019_s4,\n",
    "     df_2019_po, df_2020_s1, df_2020_s2, df_2021, df_2022, df_2023])"
   ],
   "metadata": {
    "collapsed": false,
    "ExecuteTime": {
     "end_time": "2024-02-13T22:03:29.242216500Z",
     "start_time": "2024-02-13T22:03:29.031923400Z"
    }
   },
   "id": "ae7a63da7d03489e",
   "execution_count": 284
  },
  {
   "cell_type": "code",
   "outputs": [],
   "source": [
    "# df"
   ],
   "metadata": {
    "collapsed": false,
    "ExecuteTime": {
     "end_time": "2024-02-13T22:03:29.244679Z",
     "start_time": "2024-02-13T22:03:29.242216500Z"
    }
   },
   "id": "47f8c6c2861c3ba2",
   "execution_count": 285
  },
  {
   "cell_type": "markdown",
   "source": [
    "# CLEAN DATA"
   ],
   "metadata": {
    "collapsed": false
   },
   "id": "47e536ff43c2f4a0"
  },
  {
   "cell_type": "code",
   "outputs": [],
   "source": [
    "# |exporti\n",
    "df.replace({'hero': 'McCree'}, 'Cassidy', inplace=True)\n",
    "df.replace({'hero': 'Lucio'}, 'Lúcio', inplace=True)\n",
    "df.replace({'hero': 'Torbjorn'}, 'Torbjörn', inplace=True)\n",
    "df = df[df['map_type'].str.lower() != 'UNKNOWN'.lower()]\n",
    "df.replace({'team': 'Paris Eternal'}, 'Vegas Eternal', inplace=True)\n",
    "df.replace({'team': 'Philadelphia Fusion'}, 'Seoul Infernal', inplace=True)\n",
    "# todo: rework this part with 'start_time' year extraction and place it in 'stage'\n",
    "stage_2018 = ['Overwatch League - Stage 1', 'Overwatch League - Stage 2', 'Overwatch League - Stage 3',\n",
    "              'Overwatch League - Stage 4', 'Overwatch League - Stage 1 - Title Matches',\n",
    "              'Overwatch League - Stage 2 Title Matches',\n",
    "              'Overwatch League - Stage 3 Title Matches', 'Overwatch League - Stage 4 Title Matches',\n",
    "              'Overwatch League Inaugural Season Championship']\n",
    "stage_2019 = ['Overwatch League Stage 1', 'Overwatch League Stage 2', 'Overwatch League Stage 3',\n",
    "              'Overwatch League Stage 4', 'Overwatch League Stage 1 Title Matches',\n",
    "              'Overwatch League Stage 2 Title Matches', 'Overwatch League Stage 3 Title Matches',\n",
    "              'Overwatch League Stage 4 Title Matches', 'Overwatch League 2019 Post-Season']\n",
    "stage_2020 = ['OWL 2020 Regular Season', 'OWL APAC All-Stars', 'OWL North America All-Stars']\n",
    "stage_2021 = ['OWL 2021']\n",
    "stage_2022 = ['Kickoff Clash: Qualifiers', 'Kickoff Clash: Tournament', 'Midseason Madness: Qualifiers',\n",
    "              'Midseason Madness: Tournament', 'Summer Showdown: Qualifiers', 'Summer Showdown: Tournament',\n",
    "              'Countdown Cup: Qualifiers', 'Countdown Cup: Tournament', 'Postseason']\n",
    "stage_2023 = ['Pro-Am', 'Spring Qualifiers', 'Spring Knockouts', 'Midseason Madness', 'Summer Showdown',\n",
    "              'Countdown Cup', 'Postseason']\n",
    "\n",
    "for stage in stage_2018:\n",
    "    df.replace({'stage': stage}, f'2018 : {stage}', inplace=True)\n",
    "for stage in stage_2019:\n",
    "    df.replace({'stage': stage}, f'2019 : {stage}', inplace=True)\n",
    "for stage in stage_2020:\n",
    "    df.replace({'stage': stage}, f'2020 : {stage}', inplace=True)\n",
    "for stage in stage_2021:\n",
    "    df.replace({'stage': stage}, f'2021 : {stage}', inplace=True)\n",
    "for stage in stage_2022:\n",
    "    df.replace({'stage': stage}, f'2022 : {stage}', inplace=True)\n",
    "for stage in stage_2023:\n",
    "    df.replace({'stage': stage}, f'2023 : {stage}', inplace=True)\n",
    "\n",
    "\n",
    "\n",
    "# !!!! to save execution time, match_map_stats.csv cleaned version has been saved\n",
    "# !!!! if it's your first run, you must uncomment the following part: \n",
    "# for col in ['match_winner', 'map_winner', 'map_loser', 'attacker', 'defender', 'team_one_name', 'team_two_name']:\n",
    "#     map_stats.replace({col: 'Paris Eternal'}, 'Vegas Eternal', inplace=True)\n",
    "#     map_stats.replace({col: 'Philadelphia Fusion'}, 'Seoul Infernal', inplace=True)\n",
    "# map_stats['round_start_time'] = map_stats['round_start_time'].str.replace(' UTC', '')\n",
    "# map_stats['round_end_time'] = map_stats['round_end_time'].str.replace(' UTC', '')\n",
    "# map_stats['round_start_time'] = map_stats['round_start_time'].apply(lambda x: dparser.parse(x, fuzzy=True))\n",
    "# map_stats['round_end_time'] = map_stats['round_end_time'].apply(lambda x: dparser.parse(x, fuzzy=True))\n",
    "# map_stats.to_csv(f'{owl_path}/match_map_stats.csv', index=False)"
   ],
   "metadata": {
    "collapsed": false,
    "ExecuteTime": {
     "end_time": "2024-02-13T22:03:40.927356500Z",
     "start_time": "2024-02-13T22:03:29.245678800Z"
    }
   },
   "id": "fd3d61ef96e05cfe",
   "execution_count": 286
  },
  {
   "cell_type": "markdown",
   "source": [
    "# PLAYGROUND"
   ],
   "metadata": {
    "collapsed": false
   },
   "id": "efc94a3a6d74f1c8"
  },
  {
   "cell_type": "code",
   "outputs": [
    {
     "data": {
      "text/plain": "Index(['start_time', 'match_id', 'stage', 'map_type', 'map', 'player', 'team',\n       'stat', 'hero', 'stat_amount'],\n      dtype='object')"
     },
     "execution_count": 287,
     "metadata": {},
     "output_type": "execute_result"
    }
   ],
   "source": [
    "df.columns"
   ],
   "metadata": {
    "collapsed": false,
    "ExecuteTime": {
     "end_time": "2024-02-13T22:03:40.929383900Z",
     "start_time": "2024-02-13T22:03:40.927356500Z"
    }
   },
   "id": "ae366b829d48e921",
   "execution_count": 287
  },
  {
   "cell_type": "code",
   "outputs": [
    {
     "data": {
      "text/plain": "Index(['round_start_time', 'round_end_time', 'stage', 'match_id',\n       'game_number', 'match_winner', 'map_winner', 'map_loser', 'map_name',\n       'map_round', 'winning_team_final_map_score',\n       'losing_team_final_map_score', 'control_round_name', 'Attacker',\n       'Defender', 'team_one_name', 'team_two_name',\n       'attacker_payload_distance', 'defender_payload_distance',\n       'attacker_time_banked', 'defender_time_banked',\n       'attacker_control_perecent', 'defender_control_perecent',\n       'attacker_round_end_score', 'defender_round_end_score'],\n      dtype='object')"
     },
     "execution_count": 288,
     "metadata": {},
     "output_type": "execute_result"
    }
   ],
   "source": [
    "map_stats.columns"
   ],
   "metadata": {
    "collapsed": false,
    "ExecuteTime": {
     "end_time": "2024-02-13T22:03:40.936273900Z",
     "start_time": "2024-02-13T22:03:40.930892Z"
    }
   },
   "id": "5f0972d157d4eab7",
   "execution_count": 288
  },
  {
   "cell_type": "code",
   "outputs": [],
   "source": [
    "# |export\n",
    "def get_team_profile(team: str, stat: str, stage: str = None) -> pd.DataFrame:\n",
    "    \"\"\"\n",
    "    This function generates a profile for a given team, based on a specific statistic and optionally for a specific stage.\n",
    "    \n",
    "    Parameters:\n",
    "    team (str): The name of the team.\n",
    "    stat (str): The statistic to consider.\n",
    "    stage (str, optional): The stage to consider. If None, all stages are considered.\n",
    "    \n",
    "    Returns:\n",
    "    pd.DataFrame: A DataFrame containing the team profile.\n",
    "    \"\"\"\n",
    "    \n",
    "    # Filter the DataFrame based on the team, stat, and hero\n",
    "    result = df[df['team'] == team]\n",
    "    result = result[result['stat'] == stat]\n",
    "    result = result[result['hero'] == 'All Heroes']\n",
    "    \n",
    "    # If a stage is specified, filter the DataFrame based on the stage\n",
    "    if stage:\n",
    "        print('stage filter')\n",
    "        result = result[result['stage'] == stage]\n",
    "    \n",
    "    # Calculate the total stat amount for each match\n",
    "    stat_result = result.groupby(['match_id'])['stat_amount'].sum()\n",
    "    \n",
    "    # Calculate the total stat amount for each match and start time\n",
    "    total_stat_amount = result.groupby(['match_id', 'start_time'])['stat_amount'].sum()\n",
    "    \n",
    "    # Calculate the number of start times for each match\n",
    "    number_of_start_time_per_match = total_stat_amount.groupby(['match_id']).count()\n",
    "    \n",
    "    # Calculate the average stat amount\n",
    "    avg_stat = total_stat_amount.groupby(['match_id']).sum() / number_of_start_time_per_match\n",
    "    \n",
    "    # Add the total and average stat amounts to the DataFrame\n",
    "    result['stat_match_total'] = result['match_id'].apply(lambda x: stat_result[x])\n",
    "    result['avg_stat'] = result['match_id'].apply(lambda x: avg_stat[x])\n",
    "    \n",
    "    # Replace the stat amount with the total stat amount\n",
    "    result['stat_amount'] = result['stat_match_total']\n",
    "    result = result.drop(columns=['stat_match_total'])\n",
    "    \n",
    "    # Merge the DataFrame with the map stats DataFrame\n",
    "    result = result.reset_index().merge(\n",
    "        map_stats[['match_id', 'match_winner', 'team_one_name', 'team_two_name']], on='match_id')\n",
    "    \n",
    "    # Add the opponent team to the DataFrame\n",
    "    result['opponent'] = result['team_one_name']\n",
    "    result['opponent'] = result['opponent'].where(result['team_one_name'] != team, result['team_two_name'])\n",
    "    result = result.drop(columns=['team_one_name', 'team_two_name'])\n",
    "    \n",
    "    # Remove duplicate matches\n",
    "    result = result.drop_duplicates(subset='match_id')\n",
    "    result = result.set_index('match_id')\n",
    "    \n",
    "    # Convert the start time to a datetime object and sort the DataFrame by start time\n",
    "    result['start_time'] = result['start_time'].str.replace(' UTC', '')\n",
    "    result['start_time'] = result['start_time'].apply(lambda x: dparser.parse(x, fuzzy=True))\n",
    "    result = result.sort_values(by='start_time')\n",
    "    \n",
    "    # Calculate the win rate for each match\n",
    "    result['winrate'] = 0\n",
    "    win = 0\n",
    "    loss = 0\n",
    "    for match in result.index:\n",
    "        if result.loc[match, 'match_winner'] == team:\n",
    "            win += 1\n",
    "        else:\n",
    "            loss += 1\n",
    "        result.loc[match, 'winrate'] = win / (win + loss) * 100\n",
    "    \n",
    "    # Remove unnecessary columns\n",
    "    result = result.drop(columns=['index', 'stat', 'map_type', 'map', 'player', 'hero', 'team'])\n",
    "    \n",
    "    # Rename the columns\n",
    "    result.rename(\n",
    "        columns={'start_time': 'Start Time', 'stat_amount': stat, 'match_winner': 'Match Winner', 'winrate': 'Winrate', 'opponent': 'Opponent', 'stage': 'Stage', 'avg_stat': f'Avg {stat}'},\n",
    "        inplace=True)\n",
    "    \n",
    "    result.index.name = 'Match ID'\n",
    "    \n",
    "    return result"
   ],
   "metadata": {
    "collapsed": false,
    "ExecuteTime": {
     "end_time": "2024-02-13T22:03:41.036981200Z",
     "start_time": "2024-02-13T22:03:41.031844700Z"
    }
   },
   "id": "398dcf28002011fa",
   "execution_count": 289
  },
  {
   "cell_type": "code",
   "outputs": [],
   "source": [
    "# get_team_profile('Vegas Eternal', 'Hero Damage Done')"
   ],
   "metadata": {
    "collapsed": false,
    "ExecuteTime": {
     "end_time": "2024-02-13T22:03:41.041350900Z",
     "start_time": "2024-02-13T22:03:41.033979900Z"
    }
   },
   "id": "a9f978128baf33f3",
   "execution_count": 290
  },
  {
   "cell_type": "code",
   "outputs": [],
   "source": [
    "# |export\n",
    "def get_heroes_stat(stat: str) -> pd.DataFrame:\n",
    "    \"\"\"\n",
    "    This function calculates the total amount of a specific statistic for each hero in the dataset.\n",
    "\n",
    "    Parameters:\n",
    "    stat (str): The statistic to consider.\n",
    "\n",
    "    Returns:\n",
    "    pd.DataFrame: A DataFrame containing the total amount of the statistic for each hero, sorted in descending order.\n",
    "    \"\"\"\n",
    "    # Filter the DataFrame based on the statistic\n",
    "    result = df[df['stat'] == stat]\n",
    "    \n",
    "    # Group by hero and sum the statistic amounts\n",
    "    result = result.groupby('hero')['stat_amount'].sum().sort_values(ascending=False)\n",
    "    \n",
    "    # Set the name of the Series and its index\n",
    "    result.name = stat\n",
    "    result.index.name = 'Hero'\n",
    "    \n",
    "    # Convert the Series to a DataFrame\n",
    "    result = result.to_frame()\n",
    "    \n",
    "    return result\n"
   ],
   "metadata": {
    "collapsed": false,
    "ExecuteTime": {
     "end_time": "2024-02-13T22:03:41.047489900Z",
     "start_time": "2024-02-13T22:03:41.041350900Z"
    }
   },
   "id": "652979432107645a",
   "execution_count": 291
  },
  {
   "cell_type": "code",
   "outputs": [],
   "source": [
    "# get_heroes_stat('Hero Damage Done')"
   ],
   "metadata": {
    "collapsed": false,
    "ExecuteTime": {
     "end_time": "2024-02-13T22:03:41.064855200Z",
     "start_time": "2024-02-13T22:03:41.047489900Z"
    }
   },
   "id": "7de4dd0240b4719c",
   "execution_count": 292
  },
  {
   "cell_type": "code",
   "outputs": [],
   "source": [
    "# |export\n",
    "def get_players_stat(stat: str) -> pd.DataFrame:\n",
    "    \"\"\"\n",
    "    This function calculates the total amount of a specific statistic for each player in the dataset.\n",
    "\n",
    "    Parameters:\n",
    "    stat (str): The statistic to consider.\n",
    "\n",
    "    Returns:\n",
    "    pd.DataFrame: A DataFrame containing the total amount of the statistic for each player, sorted in descending order.\n",
    "    \"\"\"\n",
    "    # Filter the DataFrame based on the statistic\n",
    "    result = df[df['stat'] == stat]\n",
    "\n",
    "    # Group by player and sum the statistic amounts\n",
    "    result = result.groupby('player')['stat_amount'].sum().sort_values(ascending=False)\n",
    "\n",
    "    # Set the name of the Series and its index\n",
    "    result.name = stat\n",
    "    result.index.name = 'Player'\n",
    "\n",
    "    # Convert the Series to a DataFrame\n",
    "    result = result.to_frame()\n",
    "\n",
    "    return result"
   ],
   "metadata": {
    "collapsed": false,
    "ExecuteTime": {
     "end_time": "2024-02-13T22:03:41.067604900Z",
     "start_time": "2024-02-13T22:03:41.055350200Z"
    }
   },
   "id": "859d029a0a1deb",
   "execution_count": 293
  },
  {
   "cell_type": "code",
   "outputs": [],
   "source": [
    "# get_players_stat('Hero Damage Done')"
   ],
   "metadata": {
    "collapsed": false,
    "ExecuteTime": {
     "end_time": "2024-02-13T22:03:41.074609800Z",
     "start_time": "2024-02-13T22:03:41.066605Z"
    }
   },
   "id": "c02504eb51e5a53d",
   "execution_count": 294
  },
  {
   "cell_type": "code",
   "outputs": [],
   "source": [
    "# |exporti\n",
    "def avg_stats_per_game(stat: str, player: str) -> pd.DataFrame:\n",
    "    \"\"\"\n",
    "    This function calculates the average amount of a specific statistic per game for a specific player.\n",
    "\n",
    "    Parameters:\n",
    "    stat (str): The statistic to consider.\n",
    "    player (str): The player to consider.\n",
    "\n",
    "    Returns:\n",
    "    pd.DataFrame: A DataFrame containing the average amount of the statistic per game for each hero the player has played, \n",
    "    the number of games played with each hero, sorted in descending order of the average statistic.\n",
    "    \"\"\"\n",
    "    # Filter the DataFrame based on the statistic and player\n",
    "    player_data = df[(df['stat'] == stat) & (df['player'] == player)]\n",
    "    results = pd.DataFrame(columns=['Hero', 'Stat', 'Avg per game'])\n",
    "\n",
    "    # Filter the DataFrame based on the statistic\n",
    "    stat_data = player_data[player_data['stat'] == stat]\n",
    "    \n",
    "    # Calculate the average statistic amount per game for each hero\n",
    "    avg_per_game = stat_data.groupby(['hero'])['stat_amount'].mean().reset_index()\n",
    "    avg_per_game.columns = ['Hero', 'Avg per game']\n",
    "    \n",
    "    # Calculate the number of games played with each hero\n",
    "    avg_per_game['Number of game'] = stat_data.groupby(['hero'])['stat_amount'].count().reset_index()['stat_amount']\n",
    "    \n",
    "    # Concatenate the results\n",
    "    results = pd.concat([results, avg_per_game], ignore_index=True, sort=False)\n",
    "\n",
    "    return results[['Hero', 'Avg per game', 'Number of game']]"
   ],
   "metadata": {
    "collapsed": false,
    "ExecuteTime": {
     "end_time": "2024-02-13T22:03:41.083758400Z",
     "start_time": "2024-02-13T22:03:41.075610100Z"
    }
   },
   "id": "2117c7d3c4980543",
   "execution_count": 295
  },
  {
   "cell_type": "code",
   "outputs": [],
   "source": [
    "# |export\n",
    "def get_heroes_stat_by_player(stat: str, player: str) -> pd.Series:\n",
    "    \"\"\"\n",
    "    This function calculates the total amount of a specific statistic for each hero played by a specific player.\n",
    "\n",
    "    Parameters:\n",
    "    stat (str): The statistic to consider.\n",
    "    player (str): The player to consider.\n",
    "\n",
    "    Returns:\n",
    "    pd.Series: A Series containing the total amount of the statistic for each hero played by the player, \n",
    "    sorted in descending order, and the average statistic per game.\n",
    "    \"\"\"\n",
    "    # Filter the DataFrame based on the statistic and player\n",
    "    result = df[(df['stat'] == stat) & (df['player'] == player)].groupby('hero')['stat_amount'].sum().sort_values(\n",
    "        ascending=False)\n",
    "    result.name = stat\n",
    "    result.index.name = 'Hero'\n",
    "    \n",
    "    # Calculate the average statistic per game\n",
    "    stat_avg = avg_stats_per_game(stat, player)\n",
    "    \n",
    "    # Merge the total and average statistics\n",
    "    result = result.reset_index().merge(stat_avg, on='Hero', how='left')\n",
    "    \n",
    "    # Reset the index\n",
    "    result = result.set_index('Hero')\n",
    "    \n",
    "    return result"
   ],
   "metadata": {
    "collapsed": false,
    "ExecuteTime": {
     "end_time": "2024-02-13T22:03:41.093920500Z",
     "start_time": "2024-02-13T22:03:41.084758800Z"
    }
   },
   "id": "4a9787f3b5901826",
   "execution_count": 296
  },
  {
   "cell_type": "markdown",
   "source": [],
   "metadata": {
    "collapsed": false
   },
   "id": "990f5c86d8c8998c"
  },
  {
   "cell_type": "code",
   "outputs": [],
   "source": [
    "# get_heroes_stat_by_player('Hero Damage Done', 'SoOn')\n",
    "# df.head()\n",
    "# avg_stats_per_game('SoOn')"
   ],
   "metadata": {
    "collapsed": false,
    "ExecuteTime": {
     "end_time": "2024-02-13T22:03:41.103438400Z",
     "start_time": "2024-02-13T22:03:41.093920500Z"
    }
   },
   "id": "7153fcad2db4a9f5",
   "execution_count": 297
  },
  {
   "cell_type": "code",
   "outputs": [],
   "source": [
    "# |export\n",
    "def get_players_stat_by_team(stat: str, team: str) -> pd.DataFrame:\n",
    "    \"\"\"\n",
    "    This function calculates the total amount of a specific statistic for each player in a specific team.\n",
    "\n",
    "    Parameters:\n",
    "    stat (str): The statistic to consider.\n",
    "    team (str): The team to consider.\n",
    "\n",
    "    Returns:\n",
    "    pd.DataFrame: A DataFrame containing the total amount of the statistic for each player in the team, sorted in descending order.\n",
    "    \"\"\"\n",
    "    # Filter the DataFrame based on the statistic and team\n",
    "    result = df[(df['stat'] == stat) & (df['team'] == team)].groupby('player')['stat_amount'].sum().sort_values(\n",
    "        ascending=False)\n",
    "\n",
    "    # Set the name of the Series and its index\n",
    "    result.name = stat\n",
    "    result.index.name = 'Player'\n",
    "    result = result.to_frame()\n",
    "\n",
    "    return result"
   ],
   "metadata": {
    "collapsed": false,
    "ExecuteTime": {
     "end_time": "2024-02-13T22:03:41.117105200Z",
     "start_time": "2024-02-13T22:03:41.104441600Z"
    }
   },
   "id": "81355387a68caeb4",
   "execution_count": 298
  },
  {
   "cell_type": "code",
   "outputs": [],
   "source": [
    "# get_players_stat_by_team('Hero Damage Done', 'Paris Eternal')"
   ],
   "metadata": {
    "collapsed": false,
    "ExecuteTime": {
     "end_time": "2024-02-13T22:03:41.132385800Z",
     "start_time": "2024-02-13T22:03:41.114109400Z"
    }
   },
   "id": "19ff4a3270061fd7",
   "execution_count": 299
  },
  {
   "cell_type": "code",
   "outputs": [],
   "source": [
    "# |export\n",
    "def get_team_scores(team: str, map_type: str = None, map_name: str = None) -> pd.DataFrame:\n",
    "    \"\"\"\n",
    "    This function generates a DataFrame containing the scores of a specific team, optionally filtered by map type and map name.\n",
    "\n",
    "    Parameters:\n",
    "    team (str): The name of the team.\n",
    "    map_type (str, optional): The type of the map. If None, all map types are considered.\n",
    "    map_name (str, optional): The name of the map. If None, all maps are considered.\n",
    "\n",
    "    Returns:\n",
    "    pd.DataFrame: A DataFrame containing the scores of the team, including the number of wins, losses, and the win rate.\n",
    "    \"\"\"\n",
    "    # Stock every unique game from team (each game as a unique 'match_id'), team name is stocked in 'team_one_name' or 'team_two_name'\n",
    "    team_games = map_stats[(map_stats['team_one_name'] == team) | (map_stats['team_two_name'] == team)]\n",
    "    if map_type:  # only 1 row per game\n",
    "        # Add column 'map_type' from dataframe 'df'\n",
    "        team_games = team_games.merge(df[['match_id', 'map_type']], on='match_id')\n",
    "        team_games = team_games[team_games['map_type'].str.lower() == map_type.lower()]\n",
    "        if map_name:  # only 1 row per game\n",
    "            team_games = team_games[team_games['map_name'].str.lower() == map_name.lower()]\n",
    "        # Get one row per map\n",
    "        team_games = team_games.drop_duplicates(subset='round_start_time')\n",
    "        # Do not keep twice same game_number per match_id\n",
    "        df_grp = team_games.groupby(['match_id', 'game_number'])\n",
    "        team_games = df_grp.first().reset_index()\n",
    "    else:  # only 1 row per match\n",
    "        # Get one row per match\n",
    "        team_games = team_games.drop_duplicates(subset='match_id')\n",
    "\n",
    "    # Get teams list\n",
    "    opponents = team_games[['team_one_name', 'team_two_name']]\n",
    "    # Remove team input from opponents list\n",
    "    opponents = opponents[opponents != team]\n",
    "    # Regroup in one column and remove duplicates\n",
    "    opponents = opponents.stack().reset_index(drop=True).drop_duplicates()\n",
    "\n",
    "    results = pd.DataFrame(columns=['team', 'opponent', 'win', 'loss', 'winrate', 'map_type', 'only_matches'])\n",
    "\n",
    "    for opponent in opponents:\n",
    "        matches = team_games[((team_games['team_one_name'] == team) &\n",
    "                              (team_games['team_two_name'] == opponent)) | (\n",
    "                                 (team_games['team_one_name'] == opponent) & (team_games['team_two_name'] == team))]\n",
    "\n",
    "        if map_type:\n",
    "            wins = matches['map_winner'] == team\n",
    "        else:\n",
    "            wins = matches['match_winner'] == team\n",
    "\n",
    "        total_matches = matches.shape[0]\n",
    "        if total_matches == 0:\n",
    "            continue\n",
    "        wins = wins.sum()\n",
    "        losses = len(matches) - wins\n",
    "        winrate = wins / total_matches\n",
    "\n",
    "        row = pd.DataFrame(\n",
    "            {'team': team, 'opponent': opponent, 'total_matches': total_matches, 'win': wins, 'loss': losses,\n",
    "             'winrate': winrate * 100, 'map_type': map_type,\n",
    "             'only_matches': not map_type, 'map_name': map_name}, index=[0])\n",
    "        results = pd.concat([results, row])\n",
    "\n",
    "    # Rename columns\n",
    "    results.rename(columns={'team': 'Team', 'opponent': 'Opponent', 'total_matches': 'Total Matches', 'win': 'Win',\n",
    "                            'loss': 'Loss', 'winrate': 'Winrate', 'map_type': 'Map Type',\n",
    "                            'only_matches': 'Only Matches', 'map_name': 'Map Name'},\n",
    "                   inplace=True)\n",
    "\n",
    "    # Reorder columns\n",
    "    results = results[['Team', 'Opponent', 'Total Matches', 'Win', 'Loss', 'Winrate', 'Map Type', 'Map Name', 'Only Matches']]\n",
    "    if not map_type:\n",
    "        results = results.drop(columns='Map Type')\n",
    "    if not map_name:\n",
    "        results = results.drop(columns='Map Name')\n",
    "\n",
    "    results = results.set_index('Team')\n",
    "    return results"
   ],
   "metadata": {
    "collapsed": false,
    "ExecuteTime": {
     "end_time": "2024-02-13T22:03:41.143961600Z",
     "start_time": "2024-02-13T22:03:41.134385100Z"
    }
   },
   "id": "35050d14f1f2aaf4",
   "execution_count": 300
  },
  {
   "cell_type": "code",
   "outputs": [],
   "source": [
    "# get_team_scores('Dallas Fuel', 'Control', 'Nepal')"
   ],
   "metadata": {
    "collapsed": false,
    "ExecuteTime": {
     "end_time": "2024-02-13T22:03:41.144962200Z",
     "start_time": "2024-02-13T22:03:41.139255200Z"
    }
   },
   "id": "da43cd8fcfa32b3b",
   "execution_count": 301
  },
  {
   "cell_type": "code",
   "outputs": [],
   "source": [
    "# get every team in alphabetical order\n",
    "# df['team'].unique()"
   ],
   "metadata": {
    "collapsed": false,
    "ExecuteTime": {
     "end_time": "2024-02-13T22:03:41.153617600Z",
     "start_time": "2024-02-13T22:03:41.142962500Z"
    }
   },
   "id": "10bc4a3296879f81",
   "execution_count": 302
  },
  {
   "cell_type": "code",
   "outputs": [],
   "source": [
    "# get every map in alphabetical order\n",
    "# df['map'].unique()"
   ],
   "metadata": {
    "collapsed": false,
    "ExecuteTime": {
     "end_time": "2024-02-13T22:03:41.155960Z",
     "start_time": "2024-02-13T22:03:41.149108200Z"
    }
   },
   "id": "3f67a44fee9df0c0",
   "execution_count": 303
  },
  {
   "cell_type": "code",
   "outputs": [],
   "source": [
    "# get every hero in alphabetical order\n",
    "# df['hero'].unique()"
   ],
   "metadata": {
    "collapsed": false,
    "ExecuteTime": {
     "end_time": "2024-02-13T22:03:41.169466500Z",
     "start_time": "2024-02-13T22:03:41.155960Z"
    }
   },
   "id": "c1227d7ab661ef07",
   "execution_count": 304
  },
  {
   "cell_type": "code",
   "outputs": [],
   "source": [
    "from nbdev.export import nb_export\n",
    "\n",
    "nb_export(\"owl.ipynb\", lib_path=\"./\", name=\"owl_module\")"
   ],
   "metadata": {
    "collapsed": false,
    "ExecuteTime": {
     "end_time": "2024-02-13T22:03:41.175935300Z",
     "start_time": "2024-02-13T22:03:41.163467200Z"
    }
   },
   "id": "d95a21067163bf79",
   "execution_count": 305
  }
 ],
 "metadata": {
  "kernelspec": {
   "display_name": "Python 3",
   "language": "python",
   "name": "python3"
  },
  "language_info": {
   "codemirror_mode": {
    "name": "ipython",
    "version": 2
   },
   "file_extension": ".py",
   "mimetype": "text/x-python",
   "name": "python",
   "nbconvert_exporter": "python",
   "pygments_lexer": "ipython2",
   "version": "2.7.6"
  }
 },
 "nbformat": 4,
 "nbformat_minor": 5
}
