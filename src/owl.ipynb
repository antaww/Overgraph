{
 "cells": [
  {
   "cell_type": "code",
   "execution_count": 1,
   "id": "initial_id",
   "metadata": {
    "collapsed": true,
    "ExecuteTime": {
     "end_time": "2024-02-12T12:28:38.783746900Z",
     "start_time": "2024-02-12T12:28:36.567766300Z"
    }
   },
   "outputs": [],
   "source": [
    "# |exporti\n",
    "\n",
    "import pandas as pd\n",
    "import streamlit as st\n",
    "import dateutil.parser as dparser\n",
    "from streamlit_jupyter import StreamlitPatcher"
   ]
  },
  {
   "cell_type": "code",
   "outputs": [],
   "source": [
    "sp = StreamlitPatcher()\n",
    "sp.jupyter()  # register patcher with streamlit"
   ],
   "metadata": {
    "collapsed": false,
    "ExecuteTime": {
     "end_time": "2024-02-12T12:28:38.803747600Z",
     "start_time": "2024-02-12T12:28:38.784747400Z"
    }
   },
   "id": "7e2936994752ffeb",
   "execution_count": 2
  },
  {
   "cell_type": "code",
   "outputs": [],
   "source": [
    "# |exporti\n",
    "import os\n",
    "\n",
    "project_name = 'Overgraph'\n",
    "path = os.getcwd().split(project_name)[0] + project_name\n",
    "owl_path = f'{path}/src/datas/owl'\n"
   ],
   "metadata": {
    "collapsed": false,
    "ExecuteTime": {
     "end_time": "2024-02-12T12:28:38.834784400Z",
     "start_time": "2024-02-12T12:28:38.801749100Z"
    }
   },
   "id": "e40769f2e005bab",
   "execution_count": 3
  },
  {
   "cell_type": "markdown",
   "source": [
    "# MAPS"
   ],
   "metadata": {
    "collapsed": false
   },
   "id": "d070459e9200c8b0"
  },
  {
   "cell_type": "code",
   "outputs": [],
   "source": [
    "# |export\n",
    "map_stats = pd.read_csv(f'{owl_path}/match_map_stats.csv')"
   ],
   "metadata": {
    "collapsed": false,
    "ExecuteTime": {
     "end_time": "2024-02-12T00:58:49.941726800Z",
     "start_time": "2024-02-12T00:58:49.901593400Z"
    }
   },
   "id": "430f11901d665e",
   "execution_count": 368
  },
  {
   "cell_type": "markdown",
   "source": [
    "# 2018 STAGE 1"
   ],
   "metadata": {
    "collapsed": false
   },
   "id": "fedaf35c47762b6f"
  },
  {
   "cell_type": "code",
   "outputs": [],
   "source": [
    "# |exporti\n",
    "df_2018_s1 = pd.read_csv(f'{owl_path}/phs_2018_stage_1.csv')"
   ],
   "metadata": {
    "collapsed": false,
    "ExecuteTime": {
     "end_time": "2024-02-12T00:58:50.154142200Z",
     "start_time": "2024-02-12T00:58:49.941726800Z"
    }
   },
   "id": "ae71f4d91bb0dad5",
   "execution_count": 369
  },
  {
   "cell_type": "code",
   "outputs": [],
   "source": [
    "# df_2018_s1"
   ],
   "metadata": {
    "collapsed": false,
    "ExecuteTime": {
     "end_time": "2024-02-12T00:58:50.155141900Z",
     "start_time": "2024-02-12T00:58:50.148270700Z"
    }
   },
   "id": "e8f655ce086ea1b6",
   "execution_count": 370
  },
  {
   "cell_type": "markdown",
   "source": [
    "# 2018 STAGE 2"
   ],
   "metadata": {
    "collapsed": false
   },
   "id": "8b1f51fab3dc6a59"
  },
  {
   "cell_type": "code",
   "outputs": [],
   "source": [
    "# |exporti\n",
    "df_2018_s2 = pd.read_csv(f'{owl_path}/phs_2018_stage_2.csv')"
   ],
   "metadata": {
    "collapsed": false,
    "ExecuteTime": {
     "end_time": "2024-02-12T00:58:50.374891200Z",
     "start_time": "2024-02-12T00:58:50.150746900Z"
    }
   },
   "id": "afc06707722d7660",
   "execution_count": 371
  },
  {
   "cell_type": "code",
   "outputs": [],
   "source": [
    "# df_2018_s2"
   ],
   "metadata": {
    "collapsed": false,
    "ExecuteTime": {
     "end_time": "2024-02-12T00:58:50.376895600Z",
     "start_time": "2024-02-12T00:58:50.374377400Z"
    }
   },
   "id": "6822f1b3bc0103a1",
   "execution_count": 372
  },
  {
   "cell_type": "markdown",
   "source": [
    "# 2018 STAGE 3"
   ],
   "metadata": {
    "collapsed": false
   },
   "id": "3e44f8484353a9bf"
  },
  {
   "cell_type": "code",
   "outputs": [],
   "source": [
    "# |exporti\n",
    "df_2018_s3 = pd.read_csv(f'{owl_path}/phs_2018_stage_3.csv')"
   ],
   "metadata": {
    "collapsed": false,
    "ExecuteTime": {
     "end_time": "2024-02-12T00:58:50.594907400Z",
     "start_time": "2024-02-12T00:58:50.375894200Z"
    }
   },
   "id": "a29a2634f35346f0",
   "execution_count": 373
  },
  {
   "cell_type": "code",
   "outputs": [],
   "source": [
    "# df_2018_s3"
   ],
   "metadata": {
    "collapsed": false,
    "ExecuteTime": {
     "end_time": "2024-02-12T00:58:50.597155Z",
     "start_time": "2024-02-12T00:58:50.595647300Z"
    }
   },
   "id": "c443a94b249fd428",
   "execution_count": 374
  },
  {
   "cell_type": "markdown",
   "source": [
    "# 2018 STAGE 4"
   ],
   "metadata": {
    "collapsed": false
   },
   "id": "a8e6220b55a18269"
  },
  {
   "cell_type": "code",
   "outputs": [],
   "source": [
    "# |exporti\n",
    "df_2018_s4 = pd.read_csv(f'{owl_path}/phs_2018_stage_4.csv')"
   ],
   "metadata": {
    "collapsed": false,
    "ExecuteTime": {
     "end_time": "2024-02-12T00:58:50.838059Z",
     "start_time": "2024-02-12T00:58:50.597155Z"
    }
   },
   "id": "dd0b2d17a2727a20",
   "execution_count": 375
  },
  {
   "cell_type": "code",
   "outputs": [],
   "source": [
    "# df_2018_s4"
   ],
   "metadata": {
    "collapsed": false,
    "ExecuteTime": {
     "end_time": "2024-02-12T00:58:50.838059Z",
     "start_time": "2024-02-12T00:58:50.835551100Z"
    }
   },
   "id": "5495d6682805f3bc",
   "execution_count": 376
  },
  {
   "cell_type": "markdown",
   "source": [
    "# 2018 PLAYOFFS"
   ],
   "metadata": {
    "collapsed": false
   },
   "id": "65d01c2b31074ef1"
  },
  {
   "cell_type": "code",
   "outputs": [],
   "source": [
    "# |exporti\n",
    "df_2018_po = pd.read_csv(f'{owl_path}/phs_2018_playoffs.csv')"
   ],
   "metadata": {
    "collapsed": false,
    "ExecuteTime": {
     "end_time": "2024-02-12T00:58:50.901010700Z",
     "start_time": "2024-02-12T00:58:50.837058400Z"
    }
   },
   "id": "601d38346d8fb1fb",
   "execution_count": 377
  },
  {
   "cell_type": "code",
   "outputs": [],
   "source": [
    "# df_2018_po"
   ],
   "metadata": {
    "collapsed": false,
    "ExecuteTime": {
     "end_time": "2024-02-12T00:58:50.903844700Z",
     "start_time": "2024-02-12T00:58:50.902338700Z"
    }
   },
   "id": "ca51f63d5c712272",
   "execution_count": 378
  },
  {
   "cell_type": "markdown",
   "source": [
    "# 2019 STAGE 1"
   ],
   "metadata": {
    "collapsed": false
   },
   "id": "476eec10af4d6220"
  },
  {
   "cell_type": "code",
   "outputs": [],
   "source": [
    "# |exporti\n",
    "df_2019_s1 = pd.read_csv(f'{owl_path}/phs_2019_stage_1.csv')"
   ],
   "metadata": {
    "collapsed": false,
    "ExecuteTime": {
     "end_time": "2024-02-12T00:58:51.174579300Z",
     "start_time": "2024-02-12T00:58:50.903844700Z"
    }
   },
   "id": "a7c744f5ff8a32f8",
   "execution_count": 379
  },
  {
   "cell_type": "code",
   "outputs": [],
   "source": [
    "# df_2019_s1"
   ],
   "metadata": {
    "collapsed": false,
    "ExecuteTime": {
     "end_time": "2024-02-12T00:58:51.176839600Z",
     "start_time": "2024-02-12T00:58:51.174579300Z"
    }
   },
   "id": "ba50696b0f72f5a5",
   "execution_count": 380
  },
  {
   "cell_type": "markdown",
   "source": [
    "# 2019 STAGE 2"
   ],
   "metadata": {
    "collapsed": false
   },
   "id": "4eb6e02ffdaffa00"
  },
  {
   "cell_type": "code",
   "outputs": [],
   "source": [
    "# |exporti\n",
    "df_2019_s2 = pd.read_csv(f'{owl_path}/phs_2019_stage_2.csv')"
   ],
   "metadata": {
    "collapsed": false,
    "ExecuteTime": {
     "end_time": "2024-02-12T00:58:51.470650Z",
     "start_time": "2024-02-12T00:58:51.176839600Z"
    }
   },
   "id": "4aa2a5e715ac8790",
   "execution_count": 381
  },
  {
   "cell_type": "code",
   "outputs": [],
   "source": [
    "# df_2019_s2"
   ],
   "metadata": {
    "collapsed": false,
    "ExecuteTime": {
     "end_time": "2024-02-12T00:58:51.472973300Z",
     "start_time": "2024-02-12T00:58:51.471466900Z"
    }
   },
   "id": "845ee1781bfa5f8b",
   "execution_count": 382
  },
  {
   "cell_type": "markdown",
   "source": [
    "# 2019 STAGE 3"
   ],
   "metadata": {
    "collapsed": false
   },
   "id": "a0ea23af7e5877be"
  },
  {
   "cell_type": "code",
   "outputs": [],
   "source": [
    "# |exporti\n",
    "df_2019_s3 = pd.read_csv(f'{owl_path}/phs_2019_stage_3.csv')"
   ],
   "metadata": {
    "collapsed": false,
    "ExecuteTime": {
     "end_time": "2024-02-12T00:58:51.780498Z",
     "start_time": "2024-02-12T00:58:51.472973300Z"
    }
   },
   "id": "6ec37fb764a37d6f",
   "execution_count": 383
  },
  {
   "cell_type": "code",
   "outputs": [],
   "source": [
    "# df_2019_s3"
   ],
   "metadata": {
    "collapsed": false,
    "ExecuteTime": {
     "end_time": "2024-02-12T00:58:51.782502Z",
     "start_time": "2024-02-12T00:58:51.776440800Z"
    }
   },
   "id": "d79668f0958771fe",
   "execution_count": 384
  },
  {
   "cell_type": "markdown",
   "source": [
    "# 2019 STAGE 4"
   ],
   "metadata": {
    "collapsed": false
   },
   "id": "169aca4202c080a8"
  },
  {
   "cell_type": "code",
   "outputs": [],
   "source": [
    "# |exporti\n",
    "df_2019_s4 = pd.read_csv(f'{owl_path}/phs_2019_stage_4.csv')"
   ],
   "metadata": {
    "collapsed": false,
    "ExecuteTime": {
     "end_time": "2024-02-12T00:58:52.059788700Z",
     "start_time": "2024-02-12T00:58:51.777994200Z"
    }
   },
   "id": "1139c720bd0d9602",
   "execution_count": 385
  },
  {
   "cell_type": "code",
   "outputs": [],
   "source": [
    "# df_2019_s4"
   ],
   "metadata": {
    "collapsed": false,
    "ExecuteTime": {
     "end_time": "2024-02-12T00:58:52.062295300Z",
     "start_time": "2024-02-12T00:58:52.059788700Z"
    }
   },
   "id": "de265edd7486d1e6",
   "execution_count": 386
  },
  {
   "cell_type": "markdown",
   "source": [
    "# 2019 PLAYOFFS"
   ],
   "metadata": {
    "collapsed": false
   },
   "id": "258d3d09ad9baaa9"
  },
  {
   "cell_type": "code",
   "outputs": [],
   "source": [
    "# |exporti\n",
    "df_2019_po = pd.read_csv(f'{owl_path}/phs_2019_playoffs.csv')"
   ],
   "metadata": {
    "collapsed": false,
    "ExecuteTime": {
     "end_time": "2024-02-12T00:58:52.163931500Z",
     "start_time": "2024-02-12T00:58:52.062295300Z"
    }
   },
   "id": "a7c34fc760fbba55",
   "execution_count": 387
  },
  {
   "cell_type": "code",
   "outputs": [],
   "source": [
    "# df_2019_po"
   ],
   "metadata": {
    "collapsed": false,
    "ExecuteTime": {
     "end_time": "2024-02-12T00:58:52.166175300Z",
     "start_time": "2024-02-12T00:58:52.164668400Z"
    }
   },
   "id": "8d09479ebd112f14",
   "execution_count": 388
  },
  {
   "cell_type": "markdown",
   "source": [
    "# 2020 STAGE 1"
   ],
   "metadata": {
    "collapsed": false
   },
   "id": "758b9254ffd7c77e"
  },
  {
   "cell_type": "code",
   "outputs": [],
   "source": [
    "# |exporti\n",
    "df_2020_s1 = pd.read_csv(f'{owl_path}/phs_2020_1.csv')"
   ],
   "metadata": {
    "collapsed": false,
    "ExecuteTime": {
     "end_time": "2024-02-12T00:58:52.734529600Z",
     "start_time": "2024-02-12T00:58:52.166175300Z"
    }
   },
   "id": "3a2cfa21f90612d4",
   "execution_count": 389
  },
  {
   "cell_type": "code",
   "outputs": [],
   "source": [
    "# df_2020_s1"
   ],
   "metadata": {
    "collapsed": false,
    "ExecuteTime": {
     "end_time": "2024-02-12T00:58:52.736534200Z",
     "start_time": "2024-02-12T00:58:52.734025300Z"
    }
   },
   "id": "b330e51dcc6d11a7",
   "execution_count": 390
  },
  {
   "cell_type": "markdown",
   "source": [
    "# 2020 STAGE 2"
   ],
   "metadata": {
    "collapsed": false
   },
   "id": "3c2f401924341244"
  },
  {
   "cell_type": "code",
   "outputs": [],
   "source": [
    "# |exporti\n",
    "df_2020_s2 = pd.read_csv(f'{owl_path}/phs_2020_2.csv')"
   ],
   "metadata": {
    "collapsed": false,
    "ExecuteTime": {
     "end_time": "2024-02-12T00:58:53.141401100Z",
     "start_time": "2024-02-12T00:58:52.736534200Z"
    }
   },
   "id": "d258beaea2726aeb",
   "execution_count": 391
  },
  {
   "cell_type": "code",
   "outputs": [],
   "source": [
    "# df_2020_s2"
   ],
   "metadata": {
    "collapsed": false,
    "ExecuteTime": {
     "end_time": "2024-02-12T00:58:53.144123200Z",
     "start_time": "2024-02-12T00:58:53.141401100Z"
    }
   },
   "id": "af48fc760f5a616c",
   "execution_count": 392
  },
  {
   "cell_type": "markdown",
   "source": [
    "# 2021 STAGE"
   ],
   "metadata": {
    "collapsed": false
   },
   "id": "f0e399cf79fdd603"
  },
  {
   "cell_type": "code",
   "outputs": [],
   "source": [
    "# |exporti\n",
    "df_2021 = pd.read_csv(f'{owl_path}/phs_2021_1.csv')"
   ],
   "metadata": {
    "collapsed": false,
    "ExecuteTime": {
     "end_time": "2024-02-12T00:58:53.848920400Z",
     "start_time": "2024-02-12T00:58:53.144123200Z"
    }
   },
   "id": "4cd117336d6455e2",
   "execution_count": 393
  },
  {
   "cell_type": "code",
   "outputs": [],
   "source": [
    "# df_2021"
   ],
   "metadata": {
    "collapsed": false,
    "ExecuteTime": {
     "end_time": "2024-02-12T00:58:53.850931800Z",
     "start_time": "2024-02-12T00:58:53.848920400Z"
    }
   },
   "id": "ed7eace15d3f8045",
   "execution_count": 394
  },
  {
   "cell_type": "markdown",
   "source": [
    "# 2022 STAGE"
   ],
   "metadata": {
    "collapsed": false
   },
   "id": "1bf7513ffeba41e2"
  },
  {
   "cell_type": "code",
   "outputs": [],
   "source": [
    "# |exporti\n",
    "df_2022 = pd.read_csv(f'{owl_path}/phs_2022.csv')"
   ],
   "metadata": {
    "collapsed": false,
    "ExecuteTime": {
     "end_time": "2024-02-12T00:58:54.634007800Z",
     "start_time": "2024-02-12T00:58:53.850931800Z"
    }
   },
   "id": "41672bf958b5759d",
   "execution_count": 395
  },
  {
   "cell_type": "code",
   "outputs": [],
   "source": [
    "# df_2022"
   ],
   "metadata": {
    "collapsed": false,
    "ExecuteTime": {
     "end_time": "2024-02-12T00:58:54.637334400Z",
     "start_time": "2024-02-12T00:58:54.635826900Z"
    }
   },
   "id": "848145f5694561",
   "execution_count": 396
  },
  {
   "cell_type": "markdown",
   "source": [
    "# 2023 STAGE"
   ],
   "metadata": {
    "collapsed": false
   },
   "id": "77300b08a323f6cb"
  },
  {
   "cell_type": "code",
   "outputs": [],
   "source": [
    "# |exporti\n",
    "df_2023 = pd.read_csv(f'{owl_path}/phs_2023.csv')"
   ],
   "metadata": {
    "collapsed": false,
    "ExecuteTime": {
     "end_time": "2024-02-12T00:58:55.123046600Z",
     "start_time": "2024-02-12T00:58:54.637334400Z"
    }
   },
   "id": "c90b4df891bc6cba",
   "execution_count": 397
  },
  {
   "cell_type": "code",
   "outputs": [],
   "source": [
    "# df_2023"
   ],
   "metadata": {
    "collapsed": false,
    "ExecuteTime": {
     "end_time": "2024-02-12T00:58:55.125326700Z",
     "start_time": "2024-02-12T00:58:55.123820700Z"
    }
   },
   "id": "abdefd073a4ef70",
   "execution_count": 398
  },
  {
   "cell_type": "markdown",
   "source": [
    "# MERGE DATAFRAMES"
   ],
   "metadata": {
    "collapsed": false
   },
   "id": "f9f44aa3cc12b1a7"
  },
  {
   "cell_type": "code",
   "outputs": [],
   "source": [
    "# |export\n",
    "# merge every dataframes in one\n",
    "df = pd.concat(\n",
    "    [df_2018_s1, df_2018_s2, df_2018_s3, df_2018_s4, df_2018_po, df_2019_s1, df_2019_s2, df_2019_s3, df_2019_s4,\n",
    "     df_2019_po, df_2020_s1, df_2020_s2, df_2021, df_2022, df_2023])"
   ],
   "metadata": {
    "collapsed": false,
    "ExecuteTime": {
     "end_time": "2024-02-12T00:58:55.335030600Z",
     "start_time": "2024-02-12T00:58:55.125326700Z"
    }
   },
   "id": "ae7a63da7d03489e",
   "execution_count": 399
  },
  {
   "cell_type": "code",
   "outputs": [],
   "source": [
    "# df"
   ],
   "metadata": {
    "collapsed": false,
    "ExecuteTime": {
     "end_time": "2024-02-12T00:58:55.337304100Z",
     "start_time": "2024-02-12T00:58:55.335798Z"
    }
   },
   "id": "47f8c6c2861c3ba2",
   "execution_count": 400
  },
  {
   "cell_type": "markdown",
   "source": [
    "# CLEAN DATA"
   ],
   "metadata": {
    "collapsed": false
   },
   "id": "47e536ff43c2f4a0"
  },
  {
   "cell_type": "code",
   "outputs": [],
   "source": [
    "# |exporti\n",
    "df.replace({'hero': 'McCree'}, 'Cassidy', inplace=True)\n",
    "df.replace({'hero': 'Lucio'}, 'Lúcio', inplace=True)\n",
    "df.replace({'hero': 'Torbjorn'}, 'Torbjörn', inplace=True)\n",
    "df = df[df['map_type'].str.lower() != 'UNKNOWN'.lower()]\n",
    "df.replace({'team': 'Paris Eternal'}, 'Vegas Eternal', inplace=True)\n",
    "df.replace({'team': 'Philadelphia Fusion'}, 'Seoul Infernal', inplace=True)\n",
    "stage_2018 = ['Overwatch League - Stage 1', 'Overwatch League - Stage 2', 'Overwatch League - Stage 3',\n",
    "              'Overwatch League - Stage 4', 'Overwatch League - Stage 1 - Title Matches',\n",
    "              'Overwatch League - Stage 2 Title Matches',\n",
    "              'Overwatch League - Stage 3 Title Matches', 'Overwatch League - Stage 4 Title Matches',\n",
    "              'Overwatch League Inaugural Season Championship']\n",
    "stage_2019 = ['Overwatch League Stage 1', 'Overwatch League Stage 2', 'Overwatch League Stage 3',\n",
    "              'Overwatch League Stage 4', 'Overwatch League Stage 1 Title Matches',\n",
    "              'Overwatch League Stage 2 Title Matches', 'Overwatch League Stage 3 Title Matches',\n",
    "              'Overwatch League Stage 4 Title Matches', 'Overwatch League 2019 Post-Season']\n",
    "stage_2020 = ['OWL 2020 Regular Season', 'OWL APAC All-Stars', 'OWL North America All-Stars']\n",
    "stage_2021 = ['OWL 2021']\n",
    "stage_2022 = ['Kickoff Clash: Qualifiers', 'Kickoff Clash: Tournament', 'Midseason Madness: Qualifiers',\n",
    "              'Midseason Madness: Tournament', 'Summer Showdown: Qualifiers', 'Summer Showdown: Tournament',\n",
    "              'Countdown Cup: Qualifiers', 'Countdown Cup: Tournament', 'Postseason']\n",
    "stage_2023 = ['Pro-Am', 'Spring Qualifiers', 'Spring Knockouts', 'Midseason Madness', 'Summer Showdown',\n",
    "              'Countdown Cup', 'Postseason']\n",
    "\n",
    "for stage in stage_2018:\n",
    "    df.replace({'stage': stage}, f'2018 : {stage}', inplace=True)\n",
    "for stage in stage_2019:\n",
    "    df.replace({'stage': stage}, f'2019 : {stage}', inplace=True)\n",
    "for stage in stage_2020:\n",
    "    df.replace({'stage': stage}, f'2020 : {stage}', inplace=True)\n",
    "for stage in stage_2021:\n",
    "    df.replace({'stage': stage}, f'2021 : {stage}', inplace=True)\n",
    "for stage in stage_2022:\n",
    "    df.replace({'stage': stage}, f'2022 : {stage}', inplace=True)\n",
    "for stage in stage_2023:\n",
    "    df.replace({'stage': stage}, f'2023 : {stage}', inplace=True)\n",
    "\n",
    "\n",
    "\n",
    "# !!!! to save execution time, match_map_stats.csv cleaned version has been saved\n",
    "# !!!! if it's your first run, you must uncomment the following part: \n",
    "# for col in ['match_winner', 'map_winner', 'map_loser', 'attacker', 'defender', 'team_one_name', 'team_two_name']:\n",
    "#     map_stats.replace({col: 'Paris Eternal'}, 'Vegas Eternal', inplace=True)\n",
    "#     map_stats.replace({col: 'Philadelphia Fusion'}, 'Seoul Infernal', inplace=True)\n",
    "# map_stats['round_start_time'] = map_stats['round_start_time'].str.replace(' UTC', '')\n",
    "# map_stats['round_end_time'] = map_stats['round_end_time'].str.replace(' UTC', '')\n",
    "# map_stats['round_start_time'] = map_stats['round_start_time'].apply(lambda x: dparser.parse(x, fuzzy=True))\n",
    "# map_stats['round_end_time'] = map_stats['round_end_time'].apply(lambda x: dparser.parse(x, fuzzy=True))\n",
    "# map_stats.to_csv(f'{owl_path}/match_map_stats.csv', index=False)"
   ],
   "metadata": {
    "collapsed": false,
    "ExecuteTime": {
     "end_time": "2024-02-12T01:06:20.564663100Z",
     "start_time": "2024-02-12T01:05:52.886342Z"
    }
   },
   "id": "fd3d61ef96e05cfe",
   "execution_count": 421
  },
  {
   "cell_type": "markdown",
   "source": [
    "# PLAYGROUND"
   ],
   "metadata": {
    "collapsed": false
   },
   "id": "efc94a3a6d74f1c8"
  },
  {
   "cell_type": "code",
   "outputs": [
    {
     "data": {
      "text/plain": "Index(['start_time', 'match_id', 'stage', 'map_type', 'map', 'player', 'team',\n       'stat', 'hero', 'stat_amount'],\n      dtype='object')"
     },
     "execution_count": 402,
     "metadata": {},
     "output_type": "execute_result"
    }
   ],
   "source": [
    "df.columns"
   ],
   "metadata": {
    "collapsed": false,
    "ExecuteTime": {
     "end_time": "2024-02-12T01:00:52.967543300Z",
     "start_time": "2024-02-12T01:00:52.964885Z"
    }
   },
   "id": "ae366b829d48e921",
   "execution_count": 402
  },
  {
   "cell_type": "code",
   "outputs": [
    {
     "data": {
      "text/plain": "Index(['round_start_time', 'round_end_time', 'stage', 'match_id',\n       'game_number', 'match_winner', 'map_winner', 'map_loser', 'map_name',\n       'map_round', 'winning_team_final_map_score',\n       'losing_team_final_map_score', 'control_round_name', 'Attacker',\n       'Defender', 'team_one_name', 'team_two_name',\n       'attacker_payload_distance', 'defender_payload_distance',\n       'attacker_time_banked', 'defender_time_banked',\n       'attacker_control_perecent', 'defender_control_perecent',\n       'attacker_round_end_score', 'defender_round_end_score'],\n      dtype='object')"
     },
     "execution_count": 403,
     "metadata": {},
     "output_type": "execute_result"
    }
   ],
   "source": [
    "map_stats.columns"
   ],
   "metadata": {
    "collapsed": false,
    "ExecuteTime": {
     "end_time": "2024-02-12T01:00:52.978973800Z",
     "start_time": "2024-02-12T01:00:52.967543300Z"
    }
   },
   "id": "5f0972d157d4eab7",
   "execution_count": 403
  },
  {
   "cell_type": "code",
   "outputs": [],
   "source": [
    "# |export\n",
    "def get_team_profile(team: str, stat: str, stage: str = None) -> pd.DataFrame:\n",
    "    result = df[df['team'] == team]\n",
    "    result = result[result['stat'] == stat]\n",
    "    result = result[result['hero'] == 'All Heroes']\n",
    "    if stage:\n",
    "        print('stage filter')\n",
    "        result = result[result['stage'] == stage]\n",
    "    # sum of every stat_amount for the same match_id\n",
    "    stat_result = result.groupby(['match_id'])['stat_amount'].sum()\n",
    "    # before calculating the avg_stat, sum the stat_amount for the same match_id and same start_time\n",
    "    # example:  3 differents start_time & 1 match_id, the mean will be the sum of the 3 stat_amount divided by 3\n",
    "    total_stat_amount = result.groupby(['match_id', 'start_time'])['stat_amount'].sum()\n",
    "    # get the number of start_time for the same match_id\n",
    "    number_of_start_time_per_match = total_stat_amount.groupby(['match_id']).count()\n",
    "    # calculate the avg_stat\n",
    "    avg_stat = total_stat_amount.groupby(['match_id']).sum() / number_of_start_time_per_match\n",
    "    result['stat_match_total'] = result['match_id'].apply(lambda x: stat_result[x])\n",
    "    result['avg_stat'] = result['match_id'].apply(lambda x: avg_stat[x])\n",
    "    # make every value of stat_match_total in stat_amount\n",
    "    result['stat_amount'] = result['stat_match_total']\n",
    "    result = result.drop(columns=['stat_match_total'])\n",
    "    result = result.reset_index().merge(\n",
    "        map_stats[['match_id', 'match_winner', 'team_one_name', 'team_two_name']], on='match_id')\n",
    "    result['opponent'] = result['team_one_name']\n",
    "    result['opponent'] = result['opponent'].where(result['team_one_name'] != team, result['team_two_name'])\n",
    "    result = result.drop(columns=['team_one_name', 'team_two_name'])\n",
    "    result = result.drop_duplicates(subset='match_id')\n",
    "    result = result.set_index('match_id')\n",
    "    result['start_time'] = result['start_time'].str.replace(' UTC', '')\n",
    "    result['start_time'] = result['start_time'].apply(lambda x: dparser.parse(x, fuzzy=True))\n",
    "    result = result.sort_values(by='start_time')\n",
    "    \n",
    "    # add a column winrate, that will start from 0%, and will be updated \n",
    "    result['winrate'] = 0\n",
    "    win = 0\n",
    "    loss = 0\n",
    "    for match in result.index:\n",
    "        if result.loc[match, 'match_winner'] == team:\n",
    "            win += 1\n",
    "        else:\n",
    "            loss += 1\n",
    "        result.loc[match, 'winrate'] = win / (win + loss) * 100\n",
    "        \n",
    "    # delete useless columns\n",
    "    result = result.drop(columns=['index', 'stat', 'map_type', 'map', 'player', 'hero', 'team'])\n",
    "\n",
    "    result.rename(\n",
    "        columns={'start_time': 'Start Time', 'stat_amount': stat, 'match_winner': 'Match Winner', 'winrate': 'Winrate', 'opponent': 'Opponent', 'stage': 'Stage', 'avg_stat': f'Avg {stat}'},\n",
    "        inplace=True)\n",
    "    result.index.name = 'Match ID'\n",
    "    return result"
   ],
   "metadata": {
    "collapsed": false,
    "ExecuteTime": {
     "end_time": "2024-02-13T18:47:26.879777Z",
     "start_time": "2024-02-13T18:47:26.828775100Z"
    }
   },
   "id": "398dcf28002011fa",
   "execution_count": 544
  },
  {
   "cell_type": "code",
   "outputs": [
    {
     "name": "stderr",
     "output_type": "stream",
     "text": [
      "C:\\Users\\antap\\AppData\\Local\\Temp\\ipykernel_4992\\3739937951.py:53: FutureWarning: Setting an item of incompatible dtype is deprecated and will raise an error in a future version of pandas. Value '66.66666666666666' has dtype incompatible with int64, please explicitly cast to a compatible dtype first.\n",
      "  result.loc[match, 'winrate'] = win / (win + loss) * 100\n"
     ]
    },
    {
     "data": {
      "text/plain": "                  Start Time                     Stage  Hero Damage Done  \\\nMatch ID                                                                   \n21209    2019-02-16 20:06:00  Overwatch League Stage 1     158329.157898   \n21243    2019-02-23 20:05:00  Overwatch League Stage 1     288877.539596   \n21263    2019-03-02 20:06:00  Overwatch League Stage 1     185250.958492   \n21303    2019-03-09 01:35:00  Overwatch League Stage 1     243317.837676   \n21236    2019-03-10 19:06:00  Overwatch League Stage 1     217677.266882   \n...                      ...                       ...               ...   \n40967    2023-05-13 20:26:00         Spring Qualifiers     157359.024199   \n40972    2023-05-19 19:12:00         Spring Qualifiers      89274.181043   \n40975    2023-05-20 19:09:00         Spring Qualifiers     123130.519146   \n40982    2023-05-26 20:38:00         Spring Qualifiers      96131.888044   \n40989    2023-05-28 19:05:00         Spring Qualifiers     142845.076955   \n\n          Avg Hero Damage Done            Match Winner  \\\nMatch ID                                                 \n21209             39582.289475           Vegas Eternal   \n21243             72219.384899           Vegas Eternal   \n21263             46312.739623           Atlanta Reign   \n21303             60829.459419        Vancouver Titans   \n21236             54419.316720     San Francisco Shock   \n...                        ...                     ...   \n40967             39339.756050      New York Excelsior   \n40972             29758.060348         Boston Uprising   \n40975             41043.506382  Los Angeles Gladiators   \n40982             32043.962681           Atlanta Reign   \n40989             47615.025652         Toronto Defiant   \n\n                        Opponent     Winrate  \nMatch ID                                      \n21209            London Spitfire  100.000000  \n21243     Los Angeles Gladiators  100.000000  \n21263              Atlanta Reign   66.666667  \n21303           Vancouver Titans   50.000000  \n21236        San Francisco Shock   40.000000  \n...                          ...         ...  \n40967         New York Excelsior   37.272727  \n40972            Boston Uprising   36.936937  \n40975     Los Angeles Gladiators   36.607143  \n40982              Atlanta Reign   36.283186  \n40989            Toronto Defiant   35.964912  \n\n[114 rows x 7 columns]",
      "text/html": "<div>\n<style scoped>\n    .dataframe tbody tr th:only-of-type {\n        vertical-align: middle;\n    }\n\n    .dataframe tbody tr th {\n        vertical-align: top;\n    }\n\n    .dataframe thead th {\n        text-align: right;\n    }\n</style>\n<table border=\"1\" class=\"dataframe\">\n  <thead>\n    <tr style=\"text-align: right;\">\n      <th></th>\n      <th>Start Time</th>\n      <th>Stage</th>\n      <th>Hero Damage Done</th>\n      <th>Avg Hero Damage Done</th>\n      <th>Match Winner</th>\n      <th>Opponent</th>\n      <th>Winrate</th>\n    </tr>\n    <tr>\n      <th>Match ID</th>\n      <th></th>\n      <th></th>\n      <th></th>\n      <th></th>\n      <th></th>\n      <th></th>\n      <th></th>\n    </tr>\n  </thead>\n  <tbody>\n    <tr>\n      <th>21209</th>\n      <td>2019-02-16 20:06:00</td>\n      <td>Overwatch League Stage 1</td>\n      <td>158329.157898</td>\n      <td>39582.289475</td>\n      <td>Vegas Eternal</td>\n      <td>London Spitfire</td>\n      <td>100.000000</td>\n    </tr>\n    <tr>\n      <th>21243</th>\n      <td>2019-02-23 20:05:00</td>\n      <td>Overwatch League Stage 1</td>\n      <td>288877.539596</td>\n      <td>72219.384899</td>\n      <td>Vegas Eternal</td>\n      <td>Los Angeles Gladiators</td>\n      <td>100.000000</td>\n    </tr>\n    <tr>\n      <th>21263</th>\n      <td>2019-03-02 20:06:00</td>\n      <td>Overwatch League Stage 1</td>\n      <td>185250.958492</td>\n      <td>46312.739623</td>\n      <td>Atlanta Reign</td>\n      <td>Atlanta Reign</td>\n      <td>66.666667</td>\n    </tr>\n    <tr>\n      <th>21303</th>\n      <td>2019-03-09 01:35:00</td>\n      <td>Overwatch League Stage 1</td>\n      <td>243317.837676</td>\n      <td>60829.459419</td>\n      <td>Vancouver Titans</td>\n      <td>Vancouver Titans</td>\n      <td>50.000000</td>\n    </tr>\n    <tr>\n      <th>21236</th>\n      <td>2019-03-10 19:06:00</td>\n      <td>Overwatch League Stage 1</td>\n      <td>217677.266882</td>\n      <td>54419.316720</td>\n      <td>San Francisco Shock</td>\n      <td>San Francisco Shock</td>\n      <td>40.000000</td>\n    </tr>\n    <tr>\n      <th>...</th>\n      <td>...</td>\n      <td>...</td>\n      <td>...</td>\n      <td>...</td>\n      <td>...</td>\n      <td>...</td>\n      <td>...</td>\n    </tr>\n    <tr>\n      <th>40967</th>\n      <td>2023-05-13 20:26:00</td>\n      <td>Spring Qualifiers</td>\n      <td>157359.024199</td>\n      <td>39339.756050</td>\n      <td>New York Excelsior</td>\n      <td>New York Excelsior</td>\n      <td>37.272727</td>\n    </tr>\n    <tr>\n      <th>40972</th>\n      <td>2023-05-19 19:12:00</td>\n      <td>Spring Qualifiers</td>\n      <td>89274.181043</td>\n      <td>29758.060348</td>\n      <td>Boston Uprising</td>\n      <td>Boston Uprising</td>\n      <td>36.936937</td>\n    </tr>\n    <tr>\n      <th>40975</th>\n      <td>2023-05-20 19:09:00</td>\n      <td>Spring Qualifiers</td>\n      <td>123130.519146</td>\n      <td>41043.506382</td>\n      <td>Los Angeles Gladiators</td>\n      <td>Los Angeles Gladiators</td>\n      <td>36.607143</td>\n    </tr>\n    <tr>\n      <th>40982</th>\n      <td>2023-05-26 20:38:00</td>\n      <td>Spring Qualifiers</td>\n      <td>96131.888044</td>\n      <td>32043.962681</td>\n      <td>Atlanta Reign</td>\n      <td>Atlanta Reign</td>\n      <td>36.283186</td>\n    </tr>\n    <tr>\n      <th>40989</th>\n      <td>2023-05-28 19:05:00</td>\n      <td>Spring Qualifiers</td>\n      <td>142845.076955</td>\n      <td>47615.025652</td>\n      <td>Toronto Defiant</td>\n      <td>Toronto Defiant</td>\n      <td>35.964912</td>\n    </tr>\n  </tbody>\n</table>\n<p>114 rows × 7 columns</p>\n</div>"
     },
     "execution_count": 545,
     "metadata": {},
     "output_type": "execute_result"
    }
   ],
   "source": [
    "get_team_profile('Vegas Eternal', 'Hero Damage Done')"
   ],
   "metadata": {
    "collapsed": false,
    "ExecuteTime": {
     "end_time": "2024-02-13T18:47:29.998805900Z",
     "start_time": "2024-02-13T18:47:29.492777600Z"
    }
   },
   "id": "a9f978128baf33f3",
   "execution_count": 545
  },
  {
   "cell_type": "code",
   "outputs": [],
   "source": [
    "# |export\n",
    "def get_heroes_stat(stat: str) -> pd.Series:\n",
    "    result = df[df['stat'] == stat].groupby('hero')['stat_amount'].sum().sort_values(ascending=False)\n",
    "    result.name = stat\n",
    "    result.index.name = 'Hero'\n",
    "    return result\n"
   ],
   "metadata": {
    "collapsed": false,
    "ExecuteTime": {
     "end_time": "2024-02-12T01:00:53.254742100Z",
     "start_time": "2024-02-12T01:00:53.252117300Z"
    }
   },
   "id": "652979432107645a",
   "execution_count": 406
  },
  {
   "cell_type": "code",
   "outputs": [],
   "source": [
    "# get_heroes_stat('Hero Damage Done')"
   ],
   "metadata": {
    "collapsed": false,
    "ExecuteTime": {
     "end_time": "2024-02-12T01:00:53.261060700Z",
     "start_time": "2024-02-12T01:00:53.254742100Z"
    }
   },
   "id": "7de4dd0240b4719c",
   "execution_count": 407
  },
  {
   "cell_type": "code",
   "outputs": [],
   "source": [
    "# |export\n",
    "def get_players_stat(stat: str) -> pd.Series:\n",
    "    result = df[df['stat'] == stat].groupby('player')['stat_amount'].sum().sort_values(ascending=False)\n",
    "    result.name = stat\n",
    "    result.index.name = 'Player'\n",
    "    return result"
   ],
   "metadata": {
    "collapsed": false,
    "ExecuteTime": {
     "end_time": "2024-02-12T01:00:53.267172800Z",
     "start_time": "2024-02-12T01:00:53.259556900Z"
    }
   },
   "id": "859d029a0a1deb",
   "execution_count": 408
  },
  {
   "cell_type": "code",
   "outputs": [],
   "source": [
    "# get_players_stat('Hero Damage Done')"
   ],
   "metadata": {
    "collapsed": false,
    "ExecuteTime": {
     "end_time": "2024-02-12T01:00:53.273473Z",
     "start_time": "2024-02-12T01:00:53.266171100Z"
    }
   },
   "id": "c02504eb51e5a53d",
   "execution_count": 409
  },
  {
   "cell_type": "code",
   "outputs": [],
   "source": [
    "# |exporti\n",
    "def avg_stats_per_game(stat: str, player: str) -> pd.DataFrame:\n",
    "    player_data = df[(df['stat'] == stat) & (df['player'] == player)]\n",
    "    results = pd.DataFrame(columns=['Hero', 'Stat', 'Avg per game'])\n",
    "\n",
    "    stat_data = player_data[player_data['stat'] == stat]\n",
    "    avg_per_game = stat_data.groupby(['hero'])['stat_amount'].mean().reset_index()\n",
    "    avg_per_game.columns = ['Hero', 'Avg per game']\n",
    "    avg_per_game['Number of game'] = stat_data.groupby(['hero'])['stat_amount'].count().reset_index()['stat_amount']\n",
    "    results = pd.concat([results, avg_per_game], ignore_index=True, sort=False)\n",
    "\n",
    "    return results[['Hero', 'Avg per game', 'Number of game']]"
   ],
   "metadata": {
    "collapsed": false,
    "ExecuteTime": {
     "end_time": "2024-02-12T01:00:53.349280900Z",
     "start_time": "2024-02-12T01:00:53.344774700Z"
    }
   },
   "id": "2117c7d3c4980543",
   "execution_count": 410
  },
  {
   "cell_type": "code",
   "outputs": [],
   "source": [
    "# |export\n",
    "def get_heroes_stat_by_player(stat: str, player: str) -> pd.Series:\n",
    "    result = df[(df['stat'] == stat) & (df['player'] == player)].groupby('hero')['stat_amount'].sum().sort_values(\n",
    "        ascending=False)\n",
    "    result.name = stat\n",
    "    result.index.name = 'Hero'\n",
    "    stat_avg = avg_stats_per_game(stat, player)\n",
    "    result = result.reset_index().merge(stat_avg, on='Hero', how='left')\n",
    "    #reset index\n",
    "    result = result.set_index('Hero')\n",
    "    return result"
   ],
   "metadata": {
    "collapsed": false,
    "ExecuteTime": {
     "end_time": "2024-02-12T01:00:53.358425200Z",
     "start_time": "2024-02-12T01:00:53.347281Z"
    }
   },
   "id": "4a9787f3b5901826",
   "execution_count": 411
  },
  {
   "cell_type": "markdown",
   "source": [],
   "metadata": {
    "collapsed": false
   },
   "id": "990f5c86d8c8998c"
  },
  {
   "cell_type": "code",
   "outputs": [],
   "source": [
    "# get_heroes_stat_by_player('Hero Damage Done', 'SoOn')\n",
    "# df.head()\n",
    "# avg_stats_per_game('SoOn')"
   ],
   "metadata": {
    "collapsed": false,
    "ExecuteTime": {
     "end_time": "2024-02-12T01:00:53.375451100Z",
     "start_time": "2024-02-12T01:00:53.355425500Z"
    }
   },
   "id": "7153fcad2db4a9f5",
   "execution_count": 412
  },
  {
   "cell_type": "code",
   "outputs": [],
   "source": [
    "# |export\n",
    "def get_players_stat_by_team(stat: str, team: str) -> pd.DataFrame:\n",
    "    result = df[(df['stat'] == stat) & (df['team'] == team)].groupby('player')['stat_amount'].sum().sort_values(\n",
    "        ascending=False)\n",
    "    result.name = stat\n",
    "    result.index.name = 'Player'\n",
    "    return result"
   ],
   "metadata": {
    "collapsed": false,
    "ExecuteTime": {
     "end_time": "2024-02-12T01:00:53.389126800Z",
     "start_time": "2024-02-12T01:00:53.363723500Z"
    }
   },
   "id": "81355387a68caeb4",
   "execution_count": 413
  },
  {
   "cell_type": "code",
   "outputs": [],
   "source": [
    "# get_players_stat_by_team('Hero Damage Done', 'Paris Eternal')"
   ],
   "metadata": {
    "collapsed": false,
    "ExecuteTime": {
     "end_time": "2024-02-12T01:00:53.392862400Z",
     "start_time": "2024-02-12T01:00:53.373452300Z"
    }
   },
   "id": "19ff4a3270061fd7",
   "execution_count": 414
  },
  {
   "cell_type": "code",
   "outputs": [],
   "source": [
    "# |export\n",
    "def get_team_scores(team: str, map_type: str = None) -> pd.DataFrame:\n",
    "    # stock every unique game from team (each game as a unique 'match_id'), team name is stocked in 'team_one_name' or 'team_two_name'\n",
    "    team_games = map_stats[(map_stats['team_one_name'] == team) | (map_stats['team_two_name'] == team)]\n",
    "    if map_type:  # only 1 row per game\n",
    "        # add column 'map_type' from dataframe 'df'\n",
    "        team_games = team_games.merge(df[['match_id', 'map_type']], on='match_id')\n",
    "        print(team_games['map_type'].str.lower().unique())\n",
    "        team_games = team_games[team_games['map_type'].str.lower() == map_type.lower()]\n",
    "        # get one row per map\n",
    "        team_games = team_games.drop_duplicates(subset='round_start_time')\n",
    "        # do not keep twice same game_number per match_id\n",
    "        df_grp = team_games.groupby(['match_id', 'game_number'])\n",
    "        team_games = df_grp.first().reset_index()\n",
    "    else:  # only 1 row per match\n",
    "        # get one row per match\n",
    "        team_games = team_games.drop_duplicates(subset='match_id')\n",
    "\n",
    "    # get teams list\n",
    "    opponents = team_games[['team_one_name', 'team_two_name']]\n",
    "    # remove team input from opponents list\n",
    "    opponents = opponents[opponents != team]\n",
    "    # regroup in one column and remove duplicates\n",
    "    opponents = opponents.stack().reset_index(drop=True).drop_duplicates()\n",
    "\n",
    "    results = pd.DataFrame(columns=['team', 'opponent', 'win', 'loss', 'winrate', 'map_type', 'only_matches'])\n",
    "\n",
    "    for opponent in opponents:\n",
    "        matches = team_games[((team_games['team_one_name'] == team) &\n",
    "                              (team_games['team_two_name'] == opponent)) | (\n",
    "                                     (team_games['team_one_name'] == opponent) & (team_games['team_two_name'] == team))]\n",
    "\n",
    "        if map_type:\n",
    "            wins = matches['map_winner'] == team\n",
    "        else:\n",
    "            wins = matches['match_winner'] == team\n",
    "\n",
    "        total_matches = matches.shape[0]\n",
    "        if total_matches == 0:\n",
    "            continue\n",
    "        wins = wins.sum()\n",
    "        losses = len(matches) - wins\n",
    "        winrate = wins / total_matches\n",
    "\n",
    "        row = pd.DataFrame(\n",
    "            {'team': team, 'opponent': opponent, 'total_matches': total_matches, 'win': wins, 'loss': losses,\n",
    "             'winrate': winrate * 100, 'map_type': map_type,\n",
    "             'only_matches': not map_type}, index=[0])\n",
    "        results = pd.concat([results, row])\n",
    "\n",
    "    # rename columns\n",
    "    results.rename(columns={'team': 'Team', 'opponent': 'Opponent', 'total_matches': 'Total Matches', 'win': 'Win',\n",
    "                            'loss': 'Loss', 'winrate': 'Winrate', 'map_type': 'Map Type',\n",
    "                            'only_matches': 'Only Matches'},\n",
    "                   inplace=True)\n",
    "\n",
    "    # reorder columns\n",
    "    results = results[['Team', 'Opponent', 'Total Matches', 'Win', 'Loss', 'Winrate', 'Map Type', 'Only Matches']]\n",
    "    if not map_type:\n",
    "        results = results.drop(columns='Map Type')\n",
    "\n",
    "    results = results.set_index('Team')\n",
    "    return results"
   ],
   "metadata": {
    "collapsed": false,
    "ExecuteTime": {
     "end_time": "2024-02-12T01:00:53.394865100Z",
     "start_time": "2024-02-12T01:00:53.385127Z"
    }
   },
   "id": "35050d14f1f2aaf4",
   "execution_count": 415
  },
  {
   "cell_type": "code",
   "outputs": [
    {
     "name": "stderr",
     "output_type": "stream",
     "text": [
      "C:\\Users\\antap\\AppData\\Local\\Temp\\ipykernel_4992\\1787698808.py:49: FutureWarning: The behavior of DataFrame concatenation with empty or all-NA entries is deprecated. In a future version, this will no longer exclude empty or all-NA columns when determining the result dtypes. To retain the old behavior, exclude the relevant entries before the concat operation.\n",
      "  results = pd.concat([results, row])\n"
     ]
    },
    {
     "data": {
      "text/plain": "                           Opponent  Total Matches Win Loss     Winrate  \\\nTeam                                                                      \nDallas Fuel           Seoul Dynasty            8.0   3    5   37.500000   \nDallas Fuel     Los Angeles Valiant            8.0   3    5   37.500000   \nDallas Fuel         Houston Outlaws           14.0   8    6   57.142857   \nDallas Fuel         London Spitfire            9.0   6    3   66.666667   \nDallas Fuel     San Francisco Shock           20.0   8   12   40.000000   \nDallas Fuel         Boston Uprising            9.0   5    4   55.555556   \nDallas Fuel          Seoul Infernal           11.0   2    9   18.181818   \nDallas Fuel      New York Excelsior            7.0   2    5   28.571429   \nDallas Fuel        Shanghai Dragons           13.0  10    3   76.923077   \nDallas Fuel  Los Angeles Gladiators           14.0   6    8   42.857143   \nDallas Fuel          Florida Mayhem           10.0   7    3   70.000000   \nDallas Fuel        Guangzhou Charge            3.0   0    3    0.000000   \nDallas Fuel         Toronto Defiant            7.0   7    0  100.000000   \nDallas Fuel           Vegas Eternal            7.0   3    4   42.857143   \nDallas Fuel        Vancouver Titans            8.0   4    4   50.000000   \nDallas Fuel      Washington Justice           11.0   9    2   81.818182   \nDallas Fuel         Chengdu Hunters            6.0   2    4   33.333333   \nDallas Fuel          Hangzhou Spark            4.0   1    3   25.000000   \nDallas Fuel           Atlanta Reign           10.0   5    5   50.000000   \nDallas Fuel        Sin Prisa Gaming            1.0   1    0  100.000000   \nDallas Fuel                O2 Blast            1.0   1    0  100.000000   \n\n            Only Matches  \nTeam                      \nDallas Fuel         True  \nDallas Fuel         True  \nDallas Fuel         True  \nDallas Fuel         True  \nDallas Fuel         True  \nDallas Fuel         True  \nDallas Fuel         True  \nDallas Fuel         True  \nDallas Fuel         True  \nDallas Fuel         True  \nDallas Fuel         True  \nDallas Fuel         True  \nDallas Fuel         True  \nDallas Fuel         True  \nDallas Fuel         True  \nDallas Fuel         True  \nDallas Fuel         True  \nDallas Fuel         True  \nDallas Fuel         True  \nDallas Fuel         True  \nDallas Fuel         True  ",
      "text/html": "<div>\n<style scoped>\n    .dataframe tbody tr th:only-of-type {\n        vertical-align: middle;\n    }\n\n    .dataframe tbody tr th {\n        vertical-align: top;\n    }\n\n    .dataframe thead th {\n        text-align: right;\n    }\n</style>\n<table border=\"1\" class=\"dataframe\">\n  <thead>\n    <tr style=\"text-align: right;\">\n      <th></th>\n      <th>Opponent</th>\n      <th>Total Matches</th>\n      <th>Win</th>\n      <th>Loss</th>\n      <th>Winrate</th>\n      <th>Only Matches</th>\n    </tr>\n    <tr>\n      <th>Team</th>\n      <th></th>\n      <th></th>\n      <th></th>\n      <th></th>\n      <th></th>\n      <th></th>\n    </tr>\n  </thead>\n  <tbody>\n    <tr>\n      <th>Dallas Fuel</th>\n      <td>Seoul Dynasty</td>\n      <td>8.0</td>\n      <td>3</td>\n      <td>5</td>\n      <td>37.500000</td>\n      <td>True</td>\n    </tr>\n    <tr>\n      <th>Dallas Fuel</th>\n      <td>Los Angeles Valiant</td>\n      <td>8.0</td>\n      <td>3</td>\n      <td>5</td>\n      <td>37.500000</td>\n      <td>True</td>\n    </tr>\n    <tr>\n      <th>Dallas Fuel</th>\n      <td>Houston Outlaws</td>\n      <td>14.0</td>\n      <td>8</td>\n      <td>6</td>\n      <td>57.142857</td>\n      <td>True</td>\n    </tr>\n    <tr>\n      <th>Dallas Fuel</th>\n      <td>London Spitfire</td>\n      <td>9.0</td>\n      <td>6</td>\n      <td>3</td>\n      <td>66.666667</td>\n      <td>True</td>\n    </tr>\n    <tr>\n      <th>Dallas Fuel</th>\n      <td>San Francisco Shock</td>\n      <td>20.0</td>\n      <td>8</td>\n      <td>12</td>\n      <td>40.000000</td>\n      <td>True</td>\n    </tr>\n    <tr>\n      <th>Dallas Fuel</th>\n      <td>Boston Uprising</td>\n      <td>9.0</td>\n      <td>5</td>\n      <td>4</td>\n      <td>55.555556</td>\n      <td>True</td>\n    </tr>\n    <tr>\n      <th>Dallas Fuel</th>\n      <td>Seoul Infernal</td>\n      <td>11.0</td>\n      <td>2</td>\n      <td>9</td>\n      <td>18.181818</td>\n      <td>True</td>\n    </tr>\n    <tr>\n      <th>Dallas Fuel</th>\n      <td>New York Excelsior</td>\n      <td>7.0</td>\n      <td>2</td>\n      <td>5</td>\n      <td>28.571429</td>\n      <td>True</td>\n    </tr>\n    <tr>\n      <th>Dallas Fuel</th>\n      <td>Shanghai Dragons</td>\n      <td>13.0</td>\n      <td>10</td>\n      <td>3</td>\n      <td>76.923077</td>\n      <td>True</td>\n    </tr>\n    <tr>\n      <th>Dallas Fuel</th>\n      <td>Los Angeles Gladiators</td>\n      <td>14.0</td>\n      <td>6</td>\n      <td>8</td>\n      <td>42.857143</td>\n      <td>True</td>\n    </tr>\n    <tr>\n      <th>Dallas Fuel</th>\n      <td>Florida Mayhem</td>\n      <td>10.0</td>\n      <td>7</td>\n      <td>3</td>\n      <td>70.000000</td>\n      <td>True</td>\n    </tr>\n    <tr>\n      <th>Dallas Fuel</th>\n      <td>Guangzhou Charge</td>\n      <td>3.0</td>\n      <td>0</td>\n      <td>3</td>\n      <td>0.000000</td>\n      <td>True</td>\n    </tr>\n    <tr>\n      <th>Dallas Fuel</th>\n      <td>Toronto Defiant</td>\n      <td>7.0</td>\n      <td>7</td>\n      <td>0</td>\n      <td>100.000000</td>\n      <td>True</td>\n    </tr>\n    <tr>\n      <th>Dallas Fuel</th>\n      <td>Vegas Eternal</td>\n      <td>7.0</td>\n      <td>3</td>\n      <td>4</td>\n      <td>42.857143</td>\n      <td>True</td>\n    </tr>\n    <tr>\n      <th>Dallas Fuel</th>\n      <td>Vancouver Titans</td>\n      <td>8.0</td>\n      <td>4</td>\n      <td>4</td>\n      <td>50.000000</td>\n      <td>True</td>\n    </tr>\n    <tr>\n      <th>Dallas Fuel</th>\n      <td>Washington Justice</td>\n      <td>11.0</td>\n      <td>9</td>\n      <td>2</td>\n      <td>81.818182</td>\n      <td>True</td>\n    </tr>\n    <tr>\n      <th>Dallas Fuel</th>\n      <td>Chengdu Hunters</td>\n      <td>6.0</td>\n      <td>2</td>\n      <td>4</td>\n      <td>33.333333</td>\n      <td>True</td>\n    </tr>\n    <tr>\n      <th>Dallas Fuel</th>\n      <td>Hangzhou Spark</td>\n      <td>4.0</td>\n      <td>1</td>\n      <td>3</td>\n      <td>25.000000</td>\n      <td>True</td>\n    </tr>\n    <tr>\n      <th>Dallas Fuel</th>\n      <td>Atlanta Reign</td>\n      <td>10.0</td>\n      <td>5</td>\n      <td>5</td>\n      <td>50.000000</td>\n      <td>True</td>\n    </tr>\n    <tr>\n      <th>Dallas Fuel</th>\n      <td>Sin Prisa Gaming</td>\n      <td>1.0</td>\n      <td>1</td>\n      <td>0</td>\n      <td>100.000000</td>\n      <td>True</td>\n    </tr>\n    <tr>\n      <th>Dallas Fuel</th>\n      <td>O2 Blast</td>\n      <td>1.0</td>\n      <td>1</td>\n      <td>0</td>\n      <td>100.000000</td>\n      <td>True</td>\n    </tr>\n  </tbody>\n</table>\n</div>"
     },
     "execution_count": 539,
     "metadata": {},
     "output_type": "execute_result"
    }
   ],
   "source": [
    "get_team_scores('Dallas Fuel')"
   ],
   "metadata": {
    "collapsed": false,
    "ExecuteTime": {
     "end_time": "2024-02-12T01:00:53.479191400Z",
     "start_time": "2024-02-12T01:00:53.393866400Z"
    }
   },
   "id": "da43cd8fcfa32b3b",
   "execution_count": 416
  },
  {
   "cell_type": "code",
   "outputs": [],
   "source": [
    "# get every team in alphabetical order\n",
    "# df['team'].unique()"
   ],
   "metadata": {
    "collapsed": false,
    "ExecuteTime": {
     "end_time": "2024-02-12T01:00:53.486263100Z",
     "start_time": "2024-02-12T01:00:53.479191400Z"
    }
   },
   "id": "10bc4a3296879f81",
   "execution_count": 417
  },
  {
   "cell_type": "code",
   "outputs": [],
   "source": [
    "# get every map in alphabetical order\n",
    "# df['map'].unique()"
   ],
   "metadata": {
    "collapsed": false,
    "ExecuteTime": {
     "end_time": "2024-02-12T01:00:53.492852900Z",
     "start_time": "2024-02-12T01:00:53.486263100Z"
    }
   },
   "id": "3f67a44fee9df0c0",
   "execution_count": 418
  },
  {
   "cell_type": "code",
   "outputs": [],
   "source": [
    "# get every hero in alphabetical order\n",
    "# df['hero'].unique()"
   ],
   "metadata": {
    "collapsed": false,
    "ExecuteTime": {
     "end_time": "2024-02-12T01:00:53.499909200Z",
     "start_time": "2024-02-12T01:00:53.492852900Z"
    }
   },
   "id": "c1227d7ab661ef07",
   "execution_count": 419
  },
  {
   "cell_type": "code",
   "outputs": [],
   "source": [
    "from nbdev.export import nb_export\n",
    "\n",
    "nb_export(\"owl.ipynb\", lib_path=\"./\", name=\"owl_module\")"
   ],
   "metadata": {
    "collapsed": false,
    "ExecuteTime": {
     "end_time": "2024-02-12T01:12:58.735854500Z",
     "start_time": "2024-02-12T01:12:58.728640900Z"
    }
   },
   "id": "d95a21067163bf79",
   "execution_count": 430
  }
 ],
 "metadata": {
  "kernelspec": {
   "display_name": "Python 3",
   "language": "python",
   "name": "python3"
  },
  "language_info": {
   "codemirror_mode": {
    "name": "ipython",
    "version": 2
   },
   "file_extension": ".py",
   "mimetype": "text/x-python",
   "name": "python",
   "nbconvert_exporter": "python",
   "pygments_lexer": "ipython2",
   "version": "2.7.6"
  }
 },
 "nbformat": 4,
 "nbformat_minor": 5
}
