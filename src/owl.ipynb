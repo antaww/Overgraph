{
 "cells": [
  {
   "cell_type": "code",
   "execution_count": 1,
   "id": "initial_id",
   "metadata": {
    "collapsed": true,
    "ExecuteTime": {
     "end_time": "2024-02-08T17:32:57.475113400Z",
     "start_time": "2024-02-08T17:32:56.259353700Z"
    }
   },
   "outputs": [],
   "source": [
    "# |exporti\n",
    "\n",
    "import pandas as pd\n",
    "import streamlit as st\n",
    "\n",
    "from streamlit_jupyter import StreamlitPatcher"
   ]
  },
  {
   "cell_type": "code",
   "outputs": [],
   "source": [
    "sp = StreamlitPatcher()\n",
    "sp.jupyter()  # register patcher with streamlit"
   ],
   "metadata": {
    "collapsed": false,
    "ExecuteTime": {
     "end_time": "2024-02-08T17:32:57.478054400Z",
     "start_time": "2024-02-08T17:32:57.372351400Z"
    }
   },
   "id": "7e2936994752ffeb",
   "execution_count": 2
  },
  {
   "cell_type": "code",
   "outputs": [],
   "source": [
    "# |exporti\n",
    "import os\n",
    "\n",
    "project_name = 'Overgraph'\n",
    "path = os.getcwd().split(project_name)[0] + project_name\n",
    "owl_path = f'{path}/src/datas/owl'\n",
    " "
   ],
   "metadata": {
    "collapsed": false,
    "ExecuteTime": {
     "end_time": "2024-02-08T17:32:57.582654Z",
     "start_time": "2024-02-08T17:32:57.378416500Z"
    }
   },
   "id": "d665395acb288412",
   "execution_count": 3
  },
  {
   "cell_type": "markdown",
   "source": [
    "# MAPS"
   ],
   "metadata": {
    "collapsed": false
   },
   "id": "3cfa13abee0f49ec"
  },
  {
   "cell_type": "code",
   "execution_count": 4,
   "outputs": [],
   "source": [
    "# |exporti\n",
    "map_stats = pd.read_csv(f'{owl_path}/match_map_stats.csv')"
   ],
   "metadata": {
    "collapsed": false,
    "ExecuteTime": {
     "end_time": "2024-02-08T17:32:57.748832400Z",
     "start_time": "2024-02-08T17:32:57.384571500Z"
    }
   },
   "id": "7d59d473d0779de2"
  },
  {
   "cell_type": "markdown",
   "source": [
    "# 2018 STAGE 1"
   ],
   "metadata": {
    "collapsed": false
   },
   "id": "49b3b0b721be898e"
  },
  {
   "cell_type": "code",
   "outputs": [],
   "source": [
    "# |exporti\n",
    "df_2018_s1 = pd.read_csv(f'{owl_path}/phs_2018_stage_1.csv')"
   ],
   "metadata": {
    "collapsed": false,
    "ExecuteTime": {
     "end_time": "2024-02-08T17:32:58.028290900Z",
     "start_time": "2024-02-08T17:32:57.467036500Z"
    }
   },
   "id": "f0f86c6d38cab044",
   "execution_count": 5
  },
  {
   "cell_type": "code",
   "outputs": [
    {
     "data": {
      "text/plain": "            start_time  match_id                                       stage  \\\n0       1/11/2018 0:12     10223                  Overwatch League - Stage 1   \n1       1/11/2018 0:12     10223                  Overwatch League - Stage 1   \n2       1/11/2018 0:12     10223                  Overwatch League - Stage 1   \n3       1/11/2018 0:12     10223                  Overwatch League - Stage 1   \n4       1/11/2018 0:12     10223                  Overwatch League - Stage 1   \n...                ...       ...                                         ...   \n256040  2/11/2018 5:51     10539  Overwatch League - Stage 1 - Title Matches   \n256041  2/11/2018 5:51     10539  Overwatch League - Stage 1 - Title Matches   \n256042  2/11/2018 5:51     10539  Overwatch League - Stage 1 - Title Matches   \n256043  2/11/2018 5:51     10539  Overwatch League - Stage 1 - Title Matches   \n256044  2/11/2018 5:51     10539  Overwatch League - Stage 1 - Title Matches   \n\n       map_type     map      player                 team  \\\n0       PAYLOAD  Dorado   Agilities  Los Angeles Valiant   \n1       PAYLOAD  Dorado   Agilities  Los Angeles Valiant   \n2       PAYLOAD  Dorado   Agilities  Los Angeles Valiant   \n3       PAYLOAD  Dorado   Agilities  Los Angeles Valiant   \n4       PAYLOAD  Dorado   Agilities  Los Angeles Valiant   \n...         ...     ...         ...                  ...   \n256040  PAYLOAD  Dorado  SAEBYEOLBE   New York Excelsior   \n256041  PAYLOAD  Dorado  SAEBYEOLBE   New York Excelsior   \n256042  PAYLOAD  Dorado  SAEBYEOLBE   New York Excelsior   \n256043  PAYLOAD  Dorado  SAEBYEOLBE   New York Excelsior   \n256044  PAYLOAD  Dorado  SAEBYEOLBE   New York Excelsior   \n\n                                 stat        hero   stat_amount  \n0                     All Damage Done  All Heroes  18079.206920  \n1                             Assists  All Heroes     17.000000  \n2                 Barrier Damage Done  All Heroes   2893.659185  \n3                Damage - Quick Melee  All Heroes    443.204010  \n4                              Deaths  All Heroes     11.000000  \n...                               ...         ...           ...  \n256040          Time Holding Ultimate  Widowmaker      8.316000  \n256041                    Time Played  Widowmaker    248.275474  \n256042  Ultimates Earned - Fractional  Widowmaker      2.592931  \n256043                 Ultimates Used  Widowmaker      2.000000  \n256044                Weapon Accuracy  Widowmaker      0.585366  \n\n[256045 rows x 10 columns]",
      "text/html": "<div>\n<style scoped>\n    .dataframe tbody tr th:only-of-type {\n        vertical-align: middle;\n    }\n\n    .dataframe tbody tr th {\n        vertical-align: top;\n    }\n\n    .dataframe thead th {\n        text-align: right;\n    }\n</style>\n<table border=\"1\" class=\"dataframe\">\n  <thead>\n    <tr style=\"text-align: right;\">\n      <th></th>\n      <th>start_time</th>\n      <th>match_id</th>\n      <th>stage</th>\n      <th>map_type</th>\n      <th>map</th>\n      <th>player</th>\n      <th>team</th>\n      <th>stat</th>\n      <th>hero</th>\n      <th>stat_amount</th>\n    </tr>\n  </thead>\n  <tbody>\n    <tr>\n      <th>0</th>\n      <td>1/11/2018 0:12</td>\n      <td>10223</td>\n      <td>Overwatch League - Stage 1</td>\n      <td>PAYLOAD</td>\n      <td>Dorado</td>\n      <td>Agilities</td>\n      <td>Los Angeles Valiant</td>\n      <td>All Damage Done</td>\n      <td>All Heroes</td>\n      <td>18079.206920</td>\n    </tr>\n    <tr>\n      <th>1</th>\n      <td>1/11/2018 0:12</td>\n      <td>10223</td>\n      <td>Overwatch League - Stage 1</td>\n      <td>PAYLOAD</td>\n      <td>Dorado</td>\n      <td>Agilities</td>\n      <td>Los Angeles Valiant</td>\n      <td>Assists</td>\n      <td>All Heroes</td>\n      <td>17.000000</td>\n    </tr>\n    <tr>\n      <th>2</th>\n      <td>1/11/2018 0:12</td>\n      <td>10223</td>\n      <td>Overwatch League - Stage 1</td>\n      <td>PAYLOAD</td>\n      <td>Dorado</td>\n      <td>Agilities</td>\n      <td>Los Angeles Valiant</td>\n      <td>Barrier Damage Done</td>\n      <td>All Heroes</td>\n      <td>2893.659185</td>\n    </tr>\n    <tr>\n      <th>3</th>\n      <td>1/11/2018 0:12</td>\n      <td>10223</td>\n      <td>Overwatch League - Stage 1</td>\n      <td>PAYLOAD</td>\n      <td>Dorado</td>\n      <td>Agilities</td>\n      <td>Los Angeles Valiant</td>\n      <td>Damage - Quick Melee</td>\n      <td>All Heroes</td>\n      <td>443.204010</td>\n    </tr>\n    <tr>\n      <th>4</th>\n      <td>1/11/2018 0:12</td>\n      <td>10223</td>\n      <td>Overwatch League - Stage 1</td>\n      <td>PAYLOAD</td>\n      <td>Dorado</td>\n      <td>Agilities</td>\n      <td>Los Angeles Valiant</td>\n      <td>Deaths</td>\n      <td>All Heroes</td>\n      <td>11.000000</td>\n    </tr>\n    <tr>\n      <th>...</th>\n      <td>...</td>\n      <td>...</td>\n      <td>...</td>\n      <td>...</td>\n      <td>...</td>\n      <td>...</td>\n      <td>...</td>\n      <td>...</td>\n      <td>...</td>\n      <td>...</td>\n    </tr>\n    <tr>\n      <th>256040</th>\n      <td>2/11/2018 5:51</td>\n      <td>10539</td>\n      <td>Overwatch League - Stage 1 - Title Matches</td>\n      <td>PAYLOAD</td>\n      <td>Dorado</td>\n      <td>SAEBYEOLBE</td>\n      <td>New York Excelsior</td>\n      <td>Time Holding Ultimate</td>\n      <td>Widowmaker</td>\n      <td>8.316000</td>\n    </tr>\n    <tr>\n      <th>256041</th>\n      <td>2/11/2018 5:51</td>\n      <td>10539</td>\n      <td>Overwatch League - Stage 1 - Title Matches</td>\n      <td>PAYLOAD</td>\n      <td>Dorado</td>\n      <td>SAEBYEOLBE</td>\n      <td>New York Excelsior</td>\n      <td>Time Played</td>\n      <td>Widowmaker</td>\n      <td>248.275474</td>\n    </tr>\n    <tr>\n      <th>256042</th>\n      <td>2/11/2018 5:51</td>\n      <td>10539</td>\n      <td>Overwatch League - Stage 1 - Title Matches</td>\n      <td>PAYLOAD</td>\n      <td>Dorado</td>\n      <td>SAEBYEOLBE</td>\n      <td>New York Excelsior</td>\n      <td>Ultimates Earned - Fractional</td>\n      <td>Widowmaker</td>\n      <td>2.592931</td>\n    </tr>\n    <tr>\n      <th>256043</th>\n      <td>2/11/2018 5:51</td>\n      <td>10539</td>\n      <td>Overwatch League - Stage 1 - Title Matches</td>\n      <td>PAYLOAD</td>\n      <td>Dorado</td>\n      <td>SAEBYEOLBE</td>\n      <td>New York Excelsior</td>\n      <td>Ultimates Used</td>\n      <td>Widowmaker</td>\n      <td>2.000000</td>\n    </tr>\n    <tr>\n      <th>256044</th>\n      <td>2/11/2018 5:51</td>\n      <td>10539</td>\n      <td>Overwatch League - Stage 1 - Title Matches</td>\n      <td>PAYLOAD</td>\n      <td>Dorado</td>\n      <td>SAEBYEOLBE</td>\n      <td>New York Excelsior</td>\n      <td>Weapon Accuracy</td>\n      <td>Widowmaker</td>\n      <td>0.585366</td>\n    </tr>\n  </tbody>\n</table>\n<p>256045 rows × 10 columns</p>\n</div>"
     },
     "execution_count": 6,
     "metadata": {},
     "output_type": "execute_result"
    }
   ],
   "source": [
    "df_2018_s1"
   ],
   "metadata": {
    "collapsed": false,
    "ExecuteTime": {
     "end_time": "2024-02-08T17:32:58.108351400Z",
     "start_time": "2024-02-08T17:32:57.891776900Z"
    }
   },
   "id": "fe30803ec16390d9",
   "execution_count": 6
  },
  {
   "cell_type": "markdown",
   "source": [
    "# 2018 STAGE 2"
   ],
   "metadata": {
    "collapsed": false
   },
   "id": "d950a081343e6e55"
  },
  {
   "cell_type": "code",
   "outputs": [],
   "source": [
    "# |exporti\n",
    "df_2018_s2 = pd.read_csv(f'{owl_path}/phs_2018_stage_2.csv')"
   ],
   "metadata": {
    "collapsed": false,
    "ExecuteTime": {
     "end_time": "2024-02-08T17:32:58.811784300Z",
     "start_time": "2024-02-08T17:32:57.909113100Z"
    }
   },
   "id": "d94afc6ee52db40e",
   "execution_count": 7
  },
  {
   "cell_type": "code",
   "outputs": [
    {
     "data": {
      "text/plain": "            start_time  match_id                                     stage  \\\n0       2/22/2018 0:14     10278                Overwatch League - Stage 2   \n1       2/22/2018 0:14     10278                Overwatch League - Stage 2   \n2       2/22/2018 0:14     10278                Overwatch League - Stage 2   \n3       2/22/2018 0:14     10278                Overwatch League - Stage 2   \n4       2/22/2018 0:14     10278                Overwatch League - Stage 2   \n...                ...       ...                                       ...   \n268321  3/26/2018 0:01     10542  Overwatch League - Stage 2 Title Matches   \n268322  3/26/2018 0:01     10542  Overwatch League - Stage 2 Title Matches   \n268323  3/26/2018 0:01     10542  Overwatch League - Stage 2 Title Matches   \n268324  3/26/2018 0:01     10542  Overwatch League - Stage 2 Title Matches   \n268325  3/26/2018 0:01     10542  Overwatch League - Stage 2 Title Matches   \n\n       map_type                    map     player                 team  \\\n0       ASSAULT    Volskaya Industries  Agilities  Los Angeles Valiant   \n1       ASSAULT    Volskaya Industries  Agilities  Los Angeles Valiant   \n2       ASSAULT    Volskaya Industries  Agilities  Los Angeles Valiant   \n3       ASSAULT    Volskaya Industries  Agilities  Los Angeles Valiant   \n4       ASSAULT    Volskaya Industries  Agilities  Los Angeles Valiant   \n...         ...                    ...        ...                  ...   \n268321  PAYLOAD  Watchpoint: Gibraltar    neptuNo  Philadelphia Fusion   \n268322  PAYLOAD  Watchpoint: Gibraltar    neptuNo  Philadelphia Fusion   \n268323  PAYLOAD  Watchpoint: Gibraltar    neptuNo  Philadelphia Fusion   \n268324  PAYLOAD  Watchpoint: Gibraltar    neptuNo  Philadelphia Fusion   \n268325  PAYLOAD  Watchpoint: Gibraltar    neptuNo  Philadelphia Fusion   \n\n                                 stat        hero   stat_amount  \n0                     All Damage Done  All Heroes  13196.751110  \n1                             Assists  All Heroes      9.000000  \n2                 Barrier Damage Done  All Heroes   3501.660326  \n3                Damage - Quick Melee  All Heroes    196.278833  \n4                              Deaths  All Heroes      9.000000  \n...                               ...         ...           ...  \n268321          Time Holding Ultimate       Mercy     42.405001  \n268322                    Time Played       Mercy    574.379346  \n268323  Ultimates Earned - Fractional       Mercy      5.489618  \n268324                 Ultimates Used       Mercy      4.000000  \n268325                Weapon Accuracy       Mercy      0.323529  \n\n[268326 rows x 10 columns]",
      "text/html": "<div>\n<style scoped>\n    .dataframe tbody tr th:only-of-type {\n        vertical-align: middle;\n    }\n\n    .dataframe tbody tr th {\n        vertical-align: top;\n    }\n\n    .dataframe thead th {\n        text-align: right;\n    }\n</style>\n<table border=\"1\" class=\"dataframe\">\n  <thead>\n    <tr style=\"text-align: right;\">\n      <th></th>\n      <th>start_time</th>\n      <th>match_id</th>\n      <th>stage</th>\n      <th>map_type</th>\n      <th>map</th>\n      <th>player</th>\n      <th>team</th>\n      <th>stat</th>\n      <th>hero</th>\n      <th>stat_amount</th>\n    </tr>\n  </thead>\n  <tbody>\n    <tr>\n      <th>0</th>\n      <td>2/22/2018 0:14</td>\n      <td>10278</td>\n      <td>Overwatch League - Stage 2</td>\n      <td>ASSAULT</td>\n      <td>Volskaya Industries</td>\n      <td>Agilities</td>\n      <td>Los Angeles Valiant</td>\n      <td>All Damage Done</td>\n      <td>All Heroes</td>\n      <td>13196.751110</td>\n    </tr>\n    <tr>\n      <th>1</th>\n      <td>2/22/2018 0:14</td>\n      <td>10278</td>\n      <td>Overwatch League - Stage 2</td>\n      <td>ASSAULT</td>\n      <td>Volskaya Industries</td>\n      <td>Agilities</td>\n      <td>Los Angeles Valiant</td>\n      <td>Assists</td>\n      <td>All Heroes</td>\n      <td>9.000000</td>\n    </tr>\n    <tr>\n      <th>2</th>\n      <td>2/22/2018 0:14</td>\n      <td>10278</td>\n      <td>Overwatch League - Stage 2</td>\n      <td>ASSAULT</td>\n      <td>Volskaya Industries</td>\n      <td>Agilities</td>\n      <td>Los Angeles Valiant</td>\n      <td>Barrier Damage Done</td>\n      <td>All Heroes</td>\n      <td>3501.660326</td>\n    </tr>\n    <tr>\n      <th>3</th>\n      <td>2/22/2018 0:14</td>\n      <td>10278</td>\n      <td>Overwatch League - Stage 2</td>\n      <td>ASSAULT</td>\n      <td>Volskaya Industries</td>\n      <td>Agilities</td>\n      <td>Los Angeles Valiant</td>\n      <td>Damage - Quick Melee</td>\n      <td>All Heroes</td>\n      <td>196.278833</td>\n    </tr>\n    <tr>\n      <th>4</th>\n      <td>2/22/2018 0:14</td>\n      <td>10278</td>\n      <td>Overwatch League - Stage 2</td>\n      <td>ASSAULT</td>\n      <td>Volskaya Industries</td>\n      <td>Agilities</td>\n      <td>Los Angeles Valiant</td>\n      <td>Deaths</td>\n      <td>All Heroes</td>\n      <td>9.000000</td>\n    </tr>\n    <tr>\n      <th>...</th>\n      <td>...</td>\n      <td>...</td>\n      <td>...</td>\n      <td>...</td>\n      <td>...</td>\n      <td>...</td>\n      <td>...</td>\n      <td>...</td>\n      <td>...</td>\n      <td>...</td>\n    </tr>\n    <tr>\n      <th>268321</th>\n      <td>3/26/2018 0:01</td>\n      <td>10542</td>\n      <td>Overwatch League - Stage 2 Title Matches</td>\n      <td>PAYLOAD</td>\n      <td>Watchpoint: Gibraltar</td>\n      <td>neptuNo</td>\n      <td>Philadelphia Fusion</td>\n      <td>Time Holding Ultimate</td>\n      <td>Mercy</td>\n      <td>42.405001</td>\n    </tr>\n    <tr>\n      <th>268322</th>\n      <td>3/26/2018 0:01</td>\n      <td>10542</td>\n      <td>Overwatch League - Stage 2 Title Matches</td>\n      <td>PAYLOAD</td>\n      <td>Watchpoint: Gibraltar</td>\n      <td>neptuNo</td>\n      <td>Philadelphia Fusion</td>\n      <td>Time Played</td>\n      <td>Mercy</td>\n      <td>574.379346</td>\n    </tr>\n    <tr>\n      <th>268323</th>\n      <td>3/26/2018 0:01</td>\n      <td>10542</td>\n      <td>Overwatch League - Stage 2 Title Matches</td>\n      <td>PAYLOAD</td>\n      <td>Watchpoint: Gibraltar</td>\n      <td>neptuNo</td>\n      <td>Philadelphia Fusion</td>\n      <td>Ultimates Earned - Fractional</td>\n      <td>Mercy</td>\n      <td>5.489618</td>\n    </tr>\n    <tr>\n      <th>268324</th>\n      <td>3/26/2018 0:01</td>\n      <td>10542</td>\n      <td>Overwatch League - Stage 2 Title Matches</td>\n      <td>PAYLOAD</td>\n      <td>Watchpoint: Gibraltar</td>\n      <td>neptuNo</td>\n      <td>Philadelphia Fusion</td>\n      <td>Ultimates Used</td>\n      <td>Mercy</td>\n      <td>4.000000</td>\n    </tr>\n    <tr>\n      <th>268325</th>\n      <td>3/26/2018 0:01</td>\n      <td>10542</td>\n      <td>Overwatch League - Stage 2 Title Matches</td>\n      <td>PAYLOAD</td>\n      <td>Watchpoint: Gibraltar</td>\n      <td>neptuNo</td>\n      <td>Philadelphia Fusion</td>\n      <td>Weapon Accuracy</td>\n      <td>Mercy</td>\n      <td>0.323529</td>\n    </tr>\n  </tbody>\n</table>\n<p>268326 rows × 10 columns</p>\n</div>"
     },
     "execution_count": 8,
     "metadata": {},
     "output_type": "execute_result"
    }
   ],
   "source": [
    "df_2018_s2"
   ],
   "metadata": {
    "collapsed": false,
    "ExecuteTime": {
     "end_time": "2024-02-08T17:32:58.815785300Z",
     "start_time": "2024-02-08T17:32:58.350560200Z"
    }
   },
   "id": "d48047896535d119",
   "execution_count": 8
  },
  {
   "cell_type": "markdown",
   "source": [
    "# 2018 STAGE 3"
   ],
   "metadata": {
    "collapsed": false
   },
   "id": "b4aa8f5ca6a90da3"
  },
  {
   "cell_type": "code",
   "outputs": [],
   "source": [
    "# |exporti\n",
    "df_2018_s3 = pd.read_csv(f'{owl_path}/phs_2018_stage_3.csv')"
   ],
   "metadata": {
    "collapsed": false,
    "ExecuteTime": {
     "end_time": "2024-02-08T17:32:58.989845900Z",
     "start_time": "2024-02-08T17:32:58.362272400Z"
    }
   },
   "id": "2c1f2caa5f8c5eb0",
   "execution_count": 9
  },
  {
   "cell_type": "code",
   "outputs": [
    {
     "data": {
      "text/plain": "            start_time  match_id                                     stage  \\\n0       4/4/2018 23:16     10333                Overwatch League - Stage 3   \n1       4/4/2018 23:16     10333                Overwatch League - Stage 3   \n2       4/4/2018 23:16     10333                Overwatch League - Stage 3   \n3       4/4/2018 23:16     10333                Overwatch League - Stage 3   \n4       4/4/2018 23:16     10333                Overwatch League - Stage 3   \n...                ...       ...                                       ...   \n259744   5/7/2018 0:46     10545  Overwatch League - Stage 3 Title Matches   \n259745   5/7/2018 0:46     10545  Overwatch League - Stage 3 Title Matches   \n259746   5/7/2018 0:46     10545  Overwatch League - Stage 3 Title Matches   \n259747   5/7/2018 0:46     10545  Overwatch League - Stage 3 Title Matches   \n259748   5/7/2018 0:46     10545  Overwatch League - Stage 3 Title Matches   \n\n       map_type                  map      player                team  \\\n0       ASSAULT  Volskaya Industries      EFFECT         Dallas Fuel   \n1       ASSAULT  Volskaya Industries      EFFECT         Dallas Fuel   \n2       ASSAULT  Volskaya Industries      EFFECT         Dallas Fuel   \n3       ASSAULT  Volskaya Industries      EFFECT         Dallas Fuel   \n4       ASSAULT  Volskaya Industries      EFFECT         Dallas Fuel   \n...         ...                  ...         ...                 ...   \n259744   HYBRID              Numbani  SAEBYEOLBE  New York Excelsior   \n259745   HYBRID              Numbani  SAEBYEOLBE  New York Excelsior   \n259746   HYBRID              Numbani  SAEBYEOLBE  New York Excelsior   \n259747   HYBRID              Numbani  SAEBYEOLBE  New York Excelsior   \n259748   HYBRID              Numbani  SAEBYEOLBE  New York Excelsior   \n\n                                 stat        hero   stat_amount  \n0                     All Damage Done  All Heroes  13924.479150  \n1                             Assists  All Heroes     15.000000  \n2                 Barrier Damage Done  All Heroes   2170.792630  \n3                Damage - Quick Melee  All Heroes    135.604904  \n4                              Deaths  All Heroes      2.000000  \n...                               ...         ...           ...  \n259744          Time Holding Ultimate      Tracer    198.179006  \n259745                    Time Played      Tracer   1027.807027  \n259746  Ultimates Earned - Fractional      Tracer     11.105958  \n259747                 Ultimates Used      Tracer     10.000000  \n259748                Weapon Accuracy      Tracer      0.362767  \n\n[259749 rows x 10 columns]",
      "text/html": "<div>\n<style scoped>\n    .dataframe tbody tr th:only-of-type {\n        vertical-align: middle;\n    }\n\n    .dataframe tbody tr th {\n        vertical-align: top;\n    }\n\n    .dataframe thead th {\n        text-align: right;\n    }\n</style>\n<table border=\"1\" class=\"dataframe\">\n  <thead>\n    <tr style=\"text-align: right;\">\n      <th></th>\n      <th>start_time</th>\n      <th>match_id</th>\n      <th>stage</th>\n      <th>map_type</th>\n      <th>map</th>\n      <th>player</th>\n      <th>team</th>\n      <th>stat</th>\n      <th>hero</th>\n      <th>stat_amount</th>\n    </tr>\n  </thead>\n  <tbody>\n    <tr>\n      <th>0</th>\n      <td>4/4/2018 23:16</td>\n      <td>10333</td>\n      <td>Overwatch League - Stage 3</td>\n      <td>ASSAULT</td>\n      <td>Volskaya Industries</td>\n      <td>EFFECT</td>\n      <td>Dallas Fuel</td>\n      <td>All Damage Done</td>\n      <td>All Heroes</td>\n      <td>13924.479150</td>\n    </tr>\n    <tr>\n      <th>1</th>\n      <td>4/4/2018 23:16</td>\n      <td>10333</td>\n      <td>Overwatch League - Stage 3</td>\n      <td>ASSAULT</td>\n      <td>Volskaya Industries</td>\n      <td>EFFECT</td>\n      <td>Dallas Fuel</td>\n      <td>Assists</td>\n      <td>All Heroes</td>\n      <td>15.000000</td>\n    </tr>\n    <tr>\n      <th>2</th>\n      <td>4/4/2018 23:16</td>\n      <td>10333</td>\n      <td>Overwatch League - Stage 3</td>\n      <td>ASSAULT</td>\n      <td>Volskaya Industries</td>\n      <td>EFFECT</td>\n      <td>Dallas Fuel</td>\n      <td>Barrier Damage Done</td>\n      <td>All Heroes</td>\n      <td>2170.792630</td>\n    </tr>\n    <tr>\n      <th>3</th>\n      <td>4/4/2018 23:16</td>\n      <td>10333</td>\n      <td>Overwatch League - Stage 3</td>\n      <td>ASSAULT</td>\n      <td>Volskaya Industries</td>\n      <td>EFFECT</td>\n      <td>Dallas Fuel</td>\n      <td>Damage - Quick Melee</td>\n      <td>All Heroes</td>\n      <td>135.604904</td>\n    </tr>\n    <tr>\n      <th>4</th>\n      <td>4/4/2018 23:16</td>\n      <td>10333</td>\n      <td>Overwatch League - Stage 3</td>\n      <td>ASSAULT</td>\n      <td>Volskaya Industries</td>\n      <td>EFFECT</td>\n      <td>Dallas Fuel</td>\n      <td>Deaths</td>\n      <td>All Heroes</td>\n      <td>2.000000</td>\n    </tr>\n    <tr>\n      <th>...</th>\n      <td>...</td>\n      <td>...</td>\n      <td>...</td>\n      <td>...</td>\n      <td>...</td>\n      <td>...</td>\n      <td>...</td>\n      <td>...</td>\n      <td>...</td>\n      <td>...</td>\n    </tr>\n    <tr>\n      <th>259744</th>\n      <td>5/7/2018 0:46</td>\n      <td>10545</td>\n      <td>Overwatch League - Stage 3 Title Matches</td>\n      <td>HYBRID</td>\n      <td>Numbani</td>\n      <td>SAEBYEOLBE</td>\n      <td>New York Excelsior</td>\n      <td>Time Holding Ultimate</td>\n      <td>Tracer</td>\n      <td>198.179006</td>\n    </tr>\n    <tr>\n      <th>259745</th>\n      <td>5/7/2018 0:46</td>\n      <td>10545</td>\n      <td>Overwatch League - Stage 3 Title Matches</td>\n      <td>HYBRID</td>\n      <td>Numbani</td>\n      <td>SAEBYEOLBE</td>\n      <td>New York Excelsior</td>\n      <td>Time Played</td>\n      <td>Tracer</td>\n      <td>1027.807027</td>\n    </tr>\n    <tr>\n      <th>259746</th>\n      <td>5/7/2018 0:46</td>\n      <td>10545</td>\n      <td>Overwatch League - Stage 3 Title Matches</td>\n      <td>HYBRID</td>\n      <td>Numbani</td>\n      <td>SAEBYEOLBE</td>\n      <td>New York Excelsior</td>\n      <td>Ultimates Earned - Fractional</td>\n      <td>Tracer</td>\n      <td>11.105958</td>\n    </tr>\n    <tr>\n      <th>259747</th>\n      <td>5/7/2018 0:46</td>\n      <td>10545</td>\n      <td>Overwatch League - Stage 3 Title Matches</td>\n      <td>HYBRID</td>\n      <td>Numbani</td>\n      <td>SAEBYEOLBE</td>\n      <td>New York Excelsior</td>\n      <td>Ultimates Used</td>\n      <td>Tracer</td>\n      <td>10.000000</td>\n    </tr>\n    <tr>\n      <th>259748</th>\n      <td>5/7/2018 0:46</td>\n      <td>10545</td>\n      <td>Overwatch League - Stage 3 Title Matches</td>\n      <td>HYBRID</td>\n      <td>Numbani</td>\n      <td>SAEBYEOLBE</td>\n      <td>New York Excelsior</td>\n      <td>Weapon Accuracy</td>\n      <td>Tracer</td>\n      <td>0.362767</td>\n    </tr>\n  </tbody>\n</table>\n<p>259749 rows × 10 columns</p>\n</div>"
     },
     "execution_count": 10,
     "metadata": {},
     "output_type": "execute_result"
    }
   ],
   "source": [
    "df_2018_s3"
   ],
   "metadata": {
    "collapsed": false,
    "ExecuteTime": {
     "end_time": "2024-02-08T17:32:59.007362800Z",
     "start_time": "2024-02-08T17:32:58.782852300Z"
    }
   },
   "id": "fdd95eb6a7aef722",
   "execution_count": 10
  },
  {
   "cell_type": "markdown",
   "source": [
    "# 2018 STAGE 4"
   ],
   "metadata": {
    "collapsed": false
   },
   "id": "d486c5a7da7f8a6a"
  },
  {
   "cell_type": "code",
   "outputs": [],
   "source": [
    "# |exporti\n",
    "df_2018_s4 = pd.read_csv(f'{owl_path}/phs_2018_stage_4.csv')"
   ],
   "metadata": {
    "collapsed": false,
    "ExecuteTime": {
     "end_time": "2024-02-08T17:32:59.618069Z",
     "start_time": "2024-02-08T17:32:58.795766700Z"
    }
   },
   "id": "5b054829ca13dd84",
   "execution_count": 11
  },
  {
   "cell_type": "code",
   "outputs": [
    {
     "data": {
      "text/plain": "             start_time  match_id                                     stage  \\\n0       5/16/2018 23:14     10443                Overwatch League - Stage 4   \n1       5/16/2018 23:14     10443                Overwatch League - Stage 4   \n2       5/16/2018 23:14     10443                Overwatch League - Stage 4   \n3       5/16/2018 23:14     10443                Overwatch League - Stage 4   \n4       5/16/2018 23:14     10443                Overwatch League - Stage 4   \n...                 ...       ...                                       ...   \n285037   6/18/2018 2:07     10548  Overwatch League - Stage 4 Title Matches   \n285038   6/18/2018 2:07     10548  Overwatch League - Stage 4 Title Matches   \n285039   6/18/2018 2:07     10548  Overwatch League - Stage 4 Title Matches   \n285040   6/18/2018 2:07     10548  Overwatch League - Stage 4 Title Matches   \n285041   6/18/2018 2:07     10548  Overwatch League - Stage 4 Title Matches   \n\n       map_type             map      player                    team  \\\n0        HYBRID  Blizzard World    BigG00se  Los Angeles Gladiators   \n1        HYBRID  Blizzard World    BigG00se  Los Angeles Gladiators   \n2        HYBRID  Blizzard World    BigG00se  Los Angeles Gladiators   \n3        HYBRID  Blizzard World    BigG00se  Los Angeles Gladiators   \n4        HYBRID  Blizzard World    BigG00se  Los Angeles Gladiators   \n...         ...             ...         ...                     ...   \n285037   HYBRID  Blizzard World  SAEBYEOLBE      New York Excelsior   \n285038   HYBRID  Blizzard World  SAEBYEOLBE      New York Excelsior   \n285039   HYBRID  Blizzard World  SAEBYEOLBE      New York Excelsior   \n285040   HYBRID  Blizzard World  SAEBYEOLBE      New York Excelsior   \n285041   HYBRID  Blizzard World  SAEBYEOLBE      New York Excelsior   \n\n                                    stat        hero  stat_amount  \n0                        All Damage Done  All Heroes   324.000000  \n1                                Assists  All Heroes     3.000000  \n2                     Average Time Alive  All Heroes    94.816128  \n3                    Barrier Damage Done  All Heroes   120.000000  \n4                   Damage - Quick Melee  All Heroes    69.000000  \n...                                  ...         ...          ...  \n285037            Time Building Ultimate  Widowmaker    80.808002  \n285038  Time Elapsed per Ultimate Earned  Widowmaker   115.720338  \n285039                       Time Played  Widowmaker    79.807571  \n285040     Ultimates Earned - Fractional  Widowmaker     0.698304  \n285041                   Weapon Accuracy  Widowmaker     0.600000  \n\n[285042 rows x 10 columns]",
      "text/html": "<div>\n<style scoped>\n    .dataframe tbody tr th:only-of-type {\n        vertical-align: middle;\n    }\n\n    .dataframe tbody tr th {\n        vertical-align: top;\n    }\n\n    .dataframe thead th {\n        text-align: right;\n    }\n</style>\n<table border=\"1\" class=\"dataframe\">\n  <thead>\n    <tr style=\"text-align: right;\">\n      <th></th>\n      <th>start_time</th>\n      <th>match_id</th>\n      <th>stage</th>\n      <th>map_type</th>\n      <th>map</th>\n      <th>player</th>\n      <th>team</th>\n      <th>stat</th>\n      <th>hero</th>\n      <th>stat_amount</th>\n    </tr>\n  </thead>\n  <tbody>\n    <tr>\n      <th>0</th>\n      <td>5/16/2018 23:14</td>\n      <td>10443</td>\n      <td>Overwatch League - Stage 4</td>\n      <td>HYBRID</td>\n      <td>Blizzard World</td>\n      <td>BigG00se</td>\n      <td>Los Angeles Gladiators</td>\n      <td>All Damage Done</td>\n      <td>All Heroes</td>\n      <td>324.000000</td>\n    </tr>\n    <tr>\n      <th>1</th>\n      <td>5/16/2018 23:14</td>\n      <td>10443</td>\n      <td>Overwatch League - Stage 4</td>\n      <td>HYBRID</td>\n      <td>Blizzard World</td>\n      <td>BigG00se</td>\n      <td>Los Angeles Gladiators</td>\n      <td>Assists</td>\n      <td>All Heroes</td>\n      <td>3.000000</td>\n    </tr>\n    <tr>\n      <th>2</th>\n      <td>5/16/2018 23:14</td>\n      <td>10443</td>\n      <td>Overwatch League - Stage 4</td>\n      <td>HYBRID</td>\n      <td>Blizzard World</td>\n      <td>BigG00se</td>\n      <td>Los Angeles Gladiators</td>\n      <td>Average Time Alive</td>\n      <td>All Heroes</td>\n      <td>94.816128</td>\n    </tr>\n    <tr>\n      <th>3</th>\n      <td>5/16/2018 23:14</td>\n      <td>10443</td>\n      <td>Overwatch League - Stage 4</td>\n      <td>HYBRID</td>\n      <td>Blizzard World</td>\n      <td>BigG00se</td>\n      <td>Los Angeles Gladiators</td>\n      <td>Barrier Damage Done</td>\n      <td>All Heroes</td>\n      <td>120.000000</td>\n    </tr>\n    <tr>\n      <th>4</th>\n      <td>5/16/2018 23:14</td>\n      <td>10443</td>\n      <td>Overwatch League - Stage 4</td>\n      <td>HYBRID</td>\n      <td>Blizzard World</td>\n      <td>BigG00se</td>\n      <td>Los Angeles Gladiators</td>\n      <td>Damage - Quick Melee</td>\n      <td>All Heroes</td>\n      <td>69.000000</td>\n    </tr>\n    <tr>\n      <th>...</th>\n      <td>...</td>\n      <td>...</td>\n      <td>...</td>\n      <td>...</td>\n      <td>...</td>\n      <td>...</td>\n      <td>...</td>\n      <td>...</td>\n      <td>...</td>\n      <td>...</td>\n    </tr>\n    <tr>\n      <th>285037</th>\n      <td>6/18/2018 2:07</td>\n      <td>10548</td>\n      <td>Overwatch League - Stage 4 Title Matches</td>\n      <td>HYBRID</td>\n      <td>Blizzard World</td>\n      <td>SAEBYEOLBE</td>\n      <td>New York Excelsior</td>\n      <td>Time Building Ultimate</td>\n      <td>Widowmaker</td>\n      <td>80.808002</td>\n    </tr>\n    <tr>\n      <th>285038</th>\n      <td>6/18/2018 2:07</td>\n      <td>10548</td>\n      <td>Overwatch League - Stage 4 Title Matches</td>\n      <td>HYBRID</td>\n      <td>Blizzard World</td>\n      <td>SAEBYEOLBE</td>\n      <td>New York Excelsior</td>\n      <td>Time Elapsed per Ultimate Earned</td>\n      <td>Widowmaker</td>\n      <td>115.720338</td>\n    </tr>\n    <tr>\n      <th>285039</th>\n      <td>6/18/2018 2:07</td>\n      <td>10548</td>\n      <td>Overwatch League - Stage 4 Title Matches</td>\n      <td>HYBRID</td>\n      <td>Blizzard World</td>\n      <td>SAEBYEOLBE</td>\n      <td>New York Excelsior</td>\n      <td>Time Played</td>\n      <td>Widowmaker</td>\n      <td>79.807571</td>\n    </tr>\n    <tr>\n      <th>285040</th>\n      <td>6/18/2018 2:07</td>\n      <td>10548</td>\n      <td>Overwatch League - Stage 4 Title Matches</td>\n      <td>HYBRID</td>\n      <td>Blizzard World</td>\n      <td>SAEBYEOLBE</td>\n      <td>New York Excelsior</td>\n      <td>Ultimates Earned - Fractional</td>\n      <td>Widowmaker</td>\n      <td>0.698304</td>\n    </tr>\n    <tr>\n      <th>285041</th>\n      <td>6/18/2018 2:07</td>\n      <td>10548</td>\n      <td>Overwatch League - Stage 4 Title Matches</td>\n      <td>HYBRID</td>\n      <td>Blizzard World</td>\n      <td>SAEBYEOLBE</td>\n      <td>New York Excelsior</td>\n      <td>Weapon Accuracy</td>\n      <td>Widowmaker</td>\n      <td>0.600000</td>\n    </tr>\n  </tbody>\n</table>\n<p>285042 rows × 10 columns</p>\n</div>"
     },
     "execution_count": 12,
     "metadata": {},
     "output_type": "execute_result"
    }
   ],
   "source": [
    "df_2018_s4"
   ],
   "metadata": {
    "collapsed": false,
    "ExecuteTime": {
     "end_time": "2024-02-08T17:32:59.773631400Z",
     "start_time": "2024-02-08T17:32:59.301943900Z"
    }
   },
   "id": "496d913d87e78886",
   "execution_count": 12
  },
  {
   "cell_type": "markdown",
   "source": [
    "# 2018 PLAYOFFS"
   ],
   "metadata": {
    "collapsed": false
   },
   "id": "1c29402ecde8f4cb"
  },
  {
   "cell_type": "code",
   "outputs": [],
   "source": [
    "# |exporti\n",
    "df_2018_po = pd.read_csv(f'{owl_path}/phs_2018_playoffs.csv')"
   ],
   "metadata": {
    "collapsed": false,
    "ExecuteTime": {
     "end_time": "2024-02-08T17:32:59.931232300Z",
     "start_time": "2024-02-08T17:32:59.313907300Z"
    }
   },
   "id": "6b7f02e481a28e80",
   "execution_count": 13
  },
  {
   "cell_type": "code",
   "outputs": [
    {
     "data": {
      "text/plain": "            start_time  match_id  \\\n0       7/12/2018 0:19     13121   \n1       7/12/2018 0:19     13121   \n2       7/12/2018 0:19     13121   \n3       7/12/2018 0:19     13121   \n4       7/12/2018 0:19     13121   \n...                ...       ...   \n55251  7/28/2018 21:18     13134   \n55252  7/28/2018 21:18     13134   \n55253  7/28/2018 21:18     13134   \n55254  7/28/2018 21:18     13134   \n55255  7/28/2018 21:18     13134   \n\n                                                stage map_type         map  \\\n0      Overwatch League Inaugural Season Championship  PAYLOAD      Dorado   \n1      Overwatch League Inaugural Season Championship  PAYLOAD      Dorado   \n2      Overwatch League Inaugural Season Championship  PAYLOAD      Dorado   \n3      Overwatch League Inaugural Season Championship  PAYLOAD      Dorado   \n4      Overwatch League Inaugural Season Championship  PAYLOAD      Dorado   \n...                                               ...      ...         ...   \n55251  Overwatch League Inaugural Season Championship   HYBRID  King's Row   \n55252  Overwatch League Inaugural Season Championship   HYBRID  King's Row   \n55253  Overwatch League Inaugural Season Championship   HYBRID  King's Row   \n55254  Overwatch League Inaugural Season Championship   HYBRID  King's Row   \n55255  Overwatch League Inaugural Season Championship   HYBRID  King's Row   \n\n        player                 team                           stat  \\\n0        Gamsu      Boston Uprising                All Damage Done   \n1        Gamsu      Boston Uprising                        Assists   \n2        Gamsu      Boston Uprising             Average Time Alive   \n3        Gamsu      Boston Uprising            Barrier Damage Done   \n4        Gamsu      Boston Uprising           Damage - Quick Melee   \n...        ...                  ...                            ...   \n55251  neptuNo  Philadelphia Fusion                    Time Played   \n55252  neptuNo  Philadelphia Fusion  Ultimates Earned - Fractional   \n55253  neptuNo  Philadelphia Fusion                 Ultimates Used   \n55254  neptuNo  Philadelphia Fusion    Valkyrie Healing Efficiency   \n55255  neptuNo  Philadelphia Fusion                Weapon Accuracy   \n\n             hero   stat_amount  \n0      All Heroes  10677.179340  \n1      All Heroes     10.000000  \n2      All Heroes     60.004185  \n3      All Heroes   4868.578228  \n4      All Heroes    304.000000  \n...           ...           ...  \n55251       Mercy    966.522496  \n55252       Mercy      9.265461  \n55253       Mercy      8.000000  \n55254       Mercy    494.746389  \n55255       Mercy      0.357143  \n\n[55256 rows x 10 columns]",
      "text/html": "<div>\n<style scoped>\n    .dataframe tbody tr th:only-of-type {\n        vertical-align: middle;\n    }\n\n    .dataframe tbody tr th {\n        vertical-align: top;\n    }\n\n    .dataframe thead th {\n        text-align: right;\n    }\n</style>\n<table border=\"1\" class=\"dataframe\">\n  <thead>\n    <tr style=\"text-align: right;\">\n      <th></th>\n      <th>start_time</th>\n      <th>match_id</th>\n      <th>stage</th>\n      <th>map_type</th>\n      <th>map</th>\n      <th>player</th>\n      <th>team</th>\n      <th>stat</th>\n      <th>hero</th>\n      <th>stat_amount</th>\n    </tr>\n  </thead>\n  <tbody>\n    <tr>\n      <th>0</th>\n      <td>7/12/2018 0:19</td>\n      <td>13121</td>\n      <td>Overwatch League Inaugural Season Championship</td>\n      <td>PAYLOAD</td>\n      <td>Dorado</td>\n      <td>Gamsu</td>\n      <td>Boston Uprising</td>\n      <td>All Damage Done</td>\n      <td>All Heroes</td>\n      <td>10677.179340</td>\n    </tr>\n    <tr>\n      <th>1</th>\n      <td>7/12/2018 0:19</td>\n      <td>13121</td>\n      <td>Overwatch League Inaugural Season Championship</td>\n      <td>PAYLOAD</td>\n      <td>Dorado</td>\n      <td>Gamsu</td>\n      <td>Boston Uprising</td>\n      <td>Assists</td>\n      <td>All Heroes</td>\n      <td>10.000000</td>\n    </tr>\n    <tr>\n      <th>2</th>\n      <td>7/12/2018 0:19</td>\n      <td>13121</td>\n      <td>Overwatch League Inaugural Season Championship</td>\n      <td>PAYLOAD</td>\n      <td>Dorado</td>\n      <td>Gamsu</td>\n      <td>Boston Uprising</td>\n      <td>Average Time Alive</td>\n      <td>All Heroes</td>\n      <td>60.004185</td>\n    </tr>\n    <tr>\n      <th>3</th>\n      <td>7/12/2018 0:19</td>\n      <td>13121</td>\n      <td>Overwatch League Inaugural Season Championship</td>\n      <td>PAYLOAD</td>\n      <td>Dorado</td>\n      <td>Gamsu</td>\n      <td>Boston Uprising</td>\n      <td>Barrier Damage Done</td>\n      <td>All Heroes</td>\n      <td>4868.578228</td>\n    </tr>\n    <tr>\n      <th>4</th>\n      <td>7/12/2018 0:19</td>\n      <td>13121</td>\n      <td>Overwatch League Inaugural Season Championship</td>\n      <td>PAYLOAD</td>\n      <td>Dorado</td>\n      <td>Gamsu</td>\n      <td>Boston Uprising</td>\n      <td>Damage - Quick Melee</td>\n      <td>All Heroes</td>\n      <td>304.000000</td>\n    </tr>\n    <tr>\n      <th>...</th>\n      <td>...</td>\n      <td>...</td>\n      <td>...</td>\n      <td>...</td>\n      <td>...</td>\n      <td>...</td>\n      <td>...</td>\n      <td>...</td>\n      <td>...</td>\n      <td>...</td>\n    </tr>\n    <tr>\n      <th>55251</th>\n      <td>7/28/2018 21:18</td>\n      <td>13134</td>\n      <td>Overwatch League Inaugural Season Championship</td>\n      <td>HYBRID</td>\n      <td>King's Row</td>\n      <td>neptuNo</td>\n      <td>Philadelphia Fusion</td>\n      <td>Time Played</td>\n      <td>Mercy</td>\n      <td>966.522496</td>\n    </tr>\n    <tr>\n      <th>55252</th>\n      <td>7/28/2018 21:18</td>\n      <td>13134</td>\n      <td>Overwatch League Inaugural Season Championship</td>\n      <td>HYBRID</td>\n      <td>King's Row</td>\n      <td>neptuNo</td>\n      <td>Philadelphia Fusion</td>\n      <td>Ultimates Earned - Fractional</td>\n      <td>Mercy</td>\n      <td>9.265461</td>\n    </tr>\n    <tr>\n      <th>55253</th>\n      <td>7/28/2018 21:18</td>\n      <td>13134</td>\n      <td>Overwatch League Inaugural Season Championship</td>\n      <td>HYBRID</td>\n      <td>King's Row</td>\n      <td>neptuNo</td>\n      <td>Philadelphia Fusion</td>\n      <td>Ultimates Used</td>\n      <td>Mercy</td>\n      <td>8.000000</td>\n    </tr>\n    <tr>\n      <th>55254</th>\n      <td>7/28/2018 21:18</td>\n      <td>13134</td>\n      <td>Overwatch League Inaugural Season Championship</td>\n      <td>HYBRID</td>\n      <td>King's Row</td>\n      <td>neptuNo</td>\n      <td>Philadelphia Fusion</td>\n      <td>Valkyrie Healing Efficiency</td>\n      <td>Mercy</td>\n      <td>494.746389</td>\n    </tr>\n    <tr>\n      <th>55255</th>\n      <td>7/28/2018 21:18</td>\n      <td>13134</td>\n      <td>Overwatch League Inaugural Season Championship</td>\n      <td>HYBRID</td>\n      <td>King's Row</td>\n      <td>neptuNo</td>\n      <td>Philadelphia Fusion</td>\n      <td>Weapon Accuracy</td>\n      <td>Mercy</td>\n      <td>0.357143</td>\n    </tr>\n  </tbody>\n</table>\n<p>55256 rows × 10 columns</p>\n</div>"
     },
     "execution_count": 14,
     "metadata": {},
     "output_type": "execute_result"
    }
   ],
   "source": [
    "df_2018_po"
   ],
   "metadata": {
    "collapsed": false,
    "ExecuteTime": {
     "end_time": "2024-02-08T17:33:00.028303Z",
     "start_time": "2024-02-08T17:32:59.443500300Z"
    }
   },
   "id": "4a3fa51552d0add3",
   "execution_count": 14
  },
  {
   "cell_type": "markdown",
   "source": [
    "# 2019 STAGE 1"
   ],
   "metadata": {
    "collapsed": false
   },
   "id": "ada37fbd3f635046"
  },
  {
   "cell_type": "code",
   "outputs": [],
   "source": [
    "# |exporti\n",
    "df_2019_s1 = pd.read_csv(f'{owl_path}/phs_2019_stage_1.csv')"
   ],
   "metadata": {
    "collapsed": false,
    "ExecuteTime": {
     "end_time": "2024-02-08T17:33:00.871431200Z",
     "start_time": "2024-02-08T17:32:59.461527100Z"
    }
   },
   "id": "12308ec5aa1e80ef",
   "execution_count": 15
  },
  {
   "cell_type": "code",
   "outputs": [
    {
     "data": {
      "text/plain": "             start_time  match_id                                   stage  \\\n0        2/15/2019 0:11     21211                Overwatch League Stage 1   \n1        2/15/2019 0:11     21211                Overwatch League Stage 1   \n2        2/15/2019 0:11     21211                Overwatch League Stage 1   \n3        2/15/2019 0:11     21211                Overwatch League Stage 1   \n4        2/15/2019 0:11     21211                Overwatch League Stage 1   \n...                 ...       ...                                     ...   \n331218  3/24/2019 21:34     20306  Overwatch League Stage 1 Title Matches   \n331219  3/24/2019 21:34     20306  Overwatch League Stage 1 Title Matches   \n331220  3/24/2019 21:34     20306  Overwatch League Stage 1 Title Matches   \n331221  3/24/2019 21:34     20306  Overwatch League Stage 1 Title Matches   \n331222  3/24/2019 21:34     20306  Overwatch League Stage 1 Title Matches   \n\n       map_type     map    player              team  \\\n0       CONTROL   Ilios    Bdosin   London Spitfire   \n1       CONTROL   Ilios    Bdosin   London Spitfire   \n2       CONTROL   Ilios    Bdosin   London Spitfire   \n3       CONTROL   Ilios    Bdosin   London Spitfire   \n4       CONTROL   Ilios    Bdosin   London Spitfire   \n...         ...     ...       ...               ...   \n331218  PAYLOAD  Rialto  Twilight  Vancouver Titans   \n331219  PAYLOAD  Rialto  Twilight  Vancouver Titans   \n331220  PAYLOAD  Rialto  Twilight  Vancouver Titans   \n331221  PAYLOAD  Rialto  Twilight  Vancouver Titans   \n331222  PAYLOAD  Rialto  Twilight  Vancouver Titans   \n\n                                    stat        hero   stat_amount  \n0                        All Damage Done  All Heroes  14845.193400  \n1                                Assists  All Heroes     13.000000  \n2                     Average Time Alive  All Heroes     87.623574  \n3                    Barrier Damage Done  All Heroes   5674.344475  \n4                   Damage - Quick Melee  All Heroes     78.000000  \n...                                  ...         ...           ...  \n331218             Transcendence Healing    Zenyatta   8144.733865  \n331219  Transcendence Percent of Healing    Zenyatta      0.528182  \n331220     Ultimates Earned - Fractional    Zenyatta      9.904689  \n331221                    Ultimates Used    Zenyatta      9.000000  \n331222                   Weapon Accuracy    Zenyatta      0.400000  \n\n[331223 rows x 10 columns]",
      "text/html": "<div>\n<style scoped>\n    .dataframe tbody tr th:only-of-type {\n        vertical-align: middle;\n    }\n\n    .dataframe tbody tr th {\n        vertical-align: top;\n    }\n\n    .dataframe thead th {\n        text-align: right;\n    }\n</style>\n<table border=\"1\" class=\"dataframe\">\n  <thead>\n    <tr style=\"text-align: right;\">\n      <th></th>\n      <th>start_time</th>\n      <th>match_id</th>\n      <th>stage</th>\n      <th>map_type</th>\n      <th>map</th>\n      <th>player</th>\n      <th>team</th>\n      <th>stat</th>\n      <th>hero</th>\n      <th>stat_amount</th>\n    </tr>\n  </thead>\n  <tbody>\n    <tr>\n      <th>0</th>\n      <td>2/15/2019 0:11</td>\n      <td>21211</td>\n      <td>Overwatch League Stage 1</td>\n      <td>CONTROL</td>\n      <td>Ilios</td>\n      <td>Bdosin</td>\n      <td>London Spitfire</td>\n      <td>All Damage Done</td>\n      <td>All Heroes</td>\n      <td>14845.193400</td>\n    </tr>\n    <tr>\n      <th>1</th>\n      <td>2/15/2019 0:11</td>\n      <td>21211</td>\n      <td>Overwatch League Stage 1</td>\n      <td>CONTROL</td>\n      <td>Ilios</td>\n      <td>Bdosin</td>\n      <td>London Spitfire</td>\n      <td>Assists</td>\n      <td>All Heroes</td>\n      <td>13.000000</td>\n    </tr>\n    <tr>\n      <th>2</th>\n      <td>2/15/2019 0:11</td>\n      <td>21211</td>\n      <td>Overwatch League Stage 1</td>\n      <td>CONTROL</td>\n      <td>Ilios</td>\n      <td>Bdosin</td>\n      <td>London Spitfire</td>\n      <td>Average Time Alive</td>\n      <td>All Heroes</td>\n      <td>87.623574</td>\n    </tr>\n    <tr>\n      <th>3</th>\n      <td>2/15/2019 0:11</td>\n      <td>21211</td>\n      <td>Overwatch League Stage 1</td>\n      <td>CONTROL</td>\n      <td>Ilios</td>\n      <td>Bdosin</td>\n      <td>London Spitfire</td>\n      <td>Barrier Damage Done</td>\n      <td>All Heroes</td>\n      <td>5674.344475</td>\n    </tr>\n    <tr>\n      <th>4</th>\n      <td>2/15/2019 0:11</td>\n      <td>21211</td>\n      <td>Overwatch League Stage 1</td>\n      <td>CONTROL</td>\n      <td>Ilios</td>\n      <td>Bdosin</td>\n      <td>London Spitfire</td>\n      <td>Damage - Quick Melee</td>\n      <td>All Heroes</td>\n      <td>78.000000</td>\n    </tr>\n    <tr>\n      <th>...</th>\n      <td>...</td>\n      <td>...</td>\n      <td>...</td>\n      <td>...</td>\n      <td>...</td>\n      <td>...</td>\n      <td>...</td>\n      <td>...</td>\n      <td>...</td>\n      <td>...</td>\n    </tr>\n    <tr>\n      <th>331218</th>\n      <td>3/24/2019 21:34</td>\n      <td>20306</td>\n      <td>Overwatch League Stage 1 Title Matches</td>\n      <td>PAYLOAD</td>\n      <td>Rialto</td>\n      <td>Twilight</td>\n      <td>Vancouver Titans</td>\n      <td>Transcendence Healing</td>\n      <td>Zenyatta</td>\n      <td>8144.733865</td>\n    </tr>\n    <tr>\n      <th>331219</th>\n      <td>3/24/2019 21:34</td>\n      <td>20306</td>\n      <td>Overwatch League Stage 1 Title Matches</td>\n      <td>PAYLOAD</td>\n      <td>Rialto</td>\n      <td>Twilight</td>\n      <td>Vancouver Titans</td>\n      <td>Transcendence Percent of Healing</td>\n      <td>Zenyatta</td>\n      <td>0.528182</td>\n    </tr>\n    <tr>\n      <th>331220</th>\n      <td>3/24/2019 21:34</td>\n      <td>20306</td>\n      <td>Overwatch League Stage 1 Title Matches</td>\n      <td>PAYLOAD</td>\n      <td>Rialto</td>\n      <td>Twilight</td>\n      <td>Vancouver Titans</td>\n      <td>Ultimates Earned - Fractional</td>\n      <td>Zenyatta</td>\n      <td>9.904689</td>\n    </tr>\n    <tr>\n      <th>331221</th>\n      <td>3/24/2019 21:34</td>\n      <td>20306</td>\n      <td>Overwatch League Stage 1 Title Matches</td>\n      <td>PAYLOAD</td>\n      <td>Rialto</td>\n      <td>Twilight</td>\n      <td>Vancouver Titans</td>\n      <td>Ultimates Used</td>\n      <td>Zenyatta</td>\n      <td>9.000000</td>\n    </tr>\n    <tr>\n      <th>331222</th>\n      <td>3/24/2019 21:34</td>\n      <td>20306</td>\n      <td>Overwatch League Stage 1 Title Matches</td>\n      <td>PAYLOAD</td>\n      <td>Rialto</td>\n      <td>Twilight</td>\n      <td>Vancouver Titans</td>\n      <td>Weapon Accuracy</td>\n      <td>Zenyatta</td>\n      <td>0.400000</td>\n    </tr>\n  </tbody>\n</table>\n<p>331223 rows × 10 columns</p>\n</div>"
     },
     "execution_count": 16,
     "metadata": {},
     "output_type": "execute_result"
    }
   ],
   "source": [
    "df_2019_s1"
   ],
   "metadata": {
    "collapsed": false,
    "ExecuteTime": {
     "end_time": "2024-02-08T17:33:00.874429100Z",
     "start_time": "2024-02-08T17:33:00.050989900Z"
    }
   },
   "id": "882ceb34022383ec",
   "execution_count": 16
  },
  {
   "cell_type": "markdown",
   "source": [
    "# 2019 STAGE 2"
   ],
   "metadata": {
    "collapsed": false
   },
   "id": "2224c90be0782609"
  },
  {
   "cell_type": "code",
   "outputs": [],
   "source": [
    "# |exporti\n",
    "df_2019_s2 = pd.read_csv(f'{owl_path}/phs_2019_stage_2.csv')"
   ],
   "metadata": {
    "collapsed": false,
    "ExecuteTime": {
     "end_time": "2024-02-08T17:33:01.167114900Z",
     "start_time": "2024-02-08T17:33:00.065008400Z"
    }
   },
   "id": "6022459c2ef67947",
   "execution_count": 17
  },
  {
   "cell_type": "code",
   "outputs": [
    {
     "data": {
      "text/plain": "             start_time  match_id                                   stage  \\\n0        4/4/2019 23:07     21313                Overwatch League Stage 2   \n1        4/4/2019 23:07     21313                Overwatch League Stage 2   \n2        4/4/2019 23:07     21313                Overwatch League Stage 2   \n3        4/4/2019 23:07     21313                Overwatch League Stage 2   \n4        4/4/2019 23:07     21313                Overwatch League Stage 2   \n...                 ...       ...                                     ...   \n375854  5/12/2019 19:15     20316  Overwatch League Stage 2 Title Matches   \n375855  5/12/2019 19:15     20316  Overwatch League Stage 2 Title Matches   \n375856  5/12/2019 19:15     20316  Overwatch League Stage 2 Title Matches   \n375857  5/12/2019 19:15     20316  Overwatch League Stage 2 Title Matches   \n375858  5/12/2019 19:15     20316  Overwatch League Stage 2 Title Matches   \n\n       map_type             map    player                team  \\\n0       CONTROL   Lijiang Tower     Anamo  New York Excelsior   \n1       CONTROL   Lijiang Tower     Anamo  New York Excelsior   \n2       CONTROL   Lijiang Tower     Anamo  New York Excelsior   \n3       CONTROL   Lijiang Tower     Anamo  New York Excelsior   \n4       CONTROL   Lijiang Tower     Anamo  New York Excelsior   \n...         ...             ...       ...                 ...   \n375854   HYBRID  Blizzard World  Twilight    Vancouver Titans   \n375855   HYBRID  Blizzard World  Twilight    Vancouver Titans   \n375856   HYBRID  Blizzard World  Twilight    Vancouver Titans   \n375857   HYBRID  Blizzard World  Twilight    Vancouver Titans   \n375858   HYBRID  Blizzard World  Twilight    Vancouver Titans   \n\n                                    stat        hero  stat_amount  \n0                        All Damage Done  All Heroes  6627.941752  \n1                                Assists  All Heroes    17.000000  \n2                     Average Time Alive  All Heroes   232.836007  \n3                    Barrier Damage Done  All Heroes  2912.682075  \n4                   Damage - Quick Melee  All Heroes   143.512508  \n...                                  ...         ...          ...  \n375854             Transcendence Healing    Zenyatta  7479.629228  \n375855  Transcendence Percent of Healing    Zenyatta     0.452374  \n375856     Ultimates Earned - Fractional    Zenyatta     7.242204  \n375857                    Ultimates Used    Zenyatta     6.000000  \n375858                   Weapon Accuracy    Zenyatta     0.390358  \n\n[375859 rows x 10 columns]",
      "text/html": "<div>\n<style scoped>\n    .dataframe tbody tr th:only-of-type {\n        vertical-align: middle;\n    }\n\n    .dataframe tbody tr th {\n        vertical-align: top;\n    }\n\n    .dataframe thead th {\n        text-align: right;\n    }\n</style>\n<table border=\"1\" class=\"dataframe\">\n  <thead>\n    <tr style=\"text-align: right;\">\n      <th></th>\n      <th>start_time</th>\n      <th>match_id</th>\n      <th>stage</th>\n      <th>map_type</th>\n      <th>map</th>\n      <th>player</th>\n      <th>team</th>\n      <th>stat</th>\n      <th>hero</th>\n      <th>stat_amount</th>\n    </tr>\n  </thead>\n  <tbody>\n    <tr>\n      <th>0</th>\n      <td>4/4/2019 23:07</td>\n      <td>21313</td>\n      <td>Overwatch League Stage 2</td>\n      <td>CONTROL</td>\n      <td>Lijiang Tower</td>\n      <td>Anamo</td>\n      <td>New York Excelsior</td>\n      <td>All Damage Done</td>\n      <td>All Heroes</td>\n      <td>6627.941752</td>\n    </tr>\n    <tr>\n      <th>1</th>\n      <td>4/4/2019 23:07</td>\n      <td>21313</td>\n      <td>Overwatch League Stage 2</td>\n      <td>CONTROL</td>\n      <td>Lijiang Tower</td>\n      <td>Anamo</td>\n      <td>New York Excelsior</td>\n      <td>Assists</td>\n      <td>All Heroes</td>\n      <td>17.000000</td>\n    </tr>\n    <tr>\n      <th>2</th>\n      <td>4/4/2019 23:07</td>\n      <td>21313</td>\n      <td>Overwatch League Stage 2</td>\n      <td>CONTROL</td>\n      <td>Lijiang Tower</td>\n      <td>Anamo</td>\n      <td>New York Excelsior</td>\n      <td>Average Time Alive</td>\n      <td>All Heroes</td>\n      <td>232.836007</td>\n    </tr>\n    <tr>\n      <th>3</th>\n      <td>4/4/2019 23:07</td>\n      <td>21313</td>\n      <td>Overwatch League Stage 2</td>\n      <td>CONTROL</td>\n      <td>Lijiang Tower</td>\n      <td>Anamo</td>\n      <td>New York Excelsior</td>\n      <td>Barrier Damage Done</td>\n      <td>All Heroes</td>\n      <td>2912.682075</td>\n    </tr>\n    <tr>\n      <th>4</th>\n      <td>4/4/2019 23:07</td>\n      <td>21313</td>\n      <td>Overwatch League Stage 2</td>\n      <td>CONTROL</td>\n      <td>Lijiang Tower</td>\n      <td>Anamo</td>\n      <td>New York Excelsior</td>\n      <td>Damage - Quick Melee</td>\n      <td>All Heroes</td>\n      <td>143.512508</td>\n    </tr>\n    <tr>\n      <th>...</th>\n      <td>...</td>\n      <td>...</td>\n      <td>...</td>\n      <td>...</td>\n      <td>...</td>\n      <td>...</td>\n      <td>...</td>\n      <td>...</td>\n      <td>...</td>\n      <td>...</td>\n    </tr>\n    <tr>\n      <th>375854</th>\n      <td>5/12/2019 19:15</td>\n      <td>20316</td>\n      <td>Overwatch League Stage 2 Title Matches</td>\n      <td>HYBRID</td>\n      <td>Blizzard World</td>\n      <td>Twilight</td>\n      <td>Vancouver Titans</td>\n      <td>Transcendence Healing</td>\n      <td>Zenyatta</td>\n      <td>7479.629228</td>\n    </tr>\n    <tr>\n      <th>375855</th>\n      <td>5/12/2019 19:15</td>\n      <td>20316</td>\n      <td>Overwatch League Stage 2 Title Matches</td>\n      <td>HYBRID</td>\n      <td>Blizzard World</td>\n      <td>Twilight</td>\n      <td>Vancouver Titans</td>\n      <td>Transcendence Percent of Healing</td>\n      <td>Zenyatta</td>\n      <td>0.452374</td>\n    </tr>\n    <tr>\n      <th>375856</th>\n      <td>5/12/2019 19:15</td>\n      <td>20316</td>\n      <td>Overwatch League Stage 2 Title Matches</td>\n      <td>HYBRID</td>\n      <td>Blizzard World</td>\n      <td>Twilight</td>\n      <td>Vancouver Titans</td>\n      <td>Ultimates Earned - Fractional</td>\n      <td>Zenyatta</td>\n      <td>7.242204</td>\n    </tr>\n    <tr>\n      <th>375857</th>\n      <td>5/12/2019 19:15</td>\n      <td>20316</td>\n      <td>Overwatch League Stage 2 Title Matches</td>\n      <td>HYBRID</td>\n      <td>Blizzard World</td>\n      <td>Twilight</td>\n      <td>Vancouver Titans</td>\n      <td>Ultimates Used</td>\n      <td>Zenyatta</td>\n      <td>6.000000</td>\n    </tr>\n    <tr>\n      <th>375858</th>\n      <td>5/12/2019 19:15</td>\n      <td>20316</td>\n      <td>Overwatch League Stage 2 Title Matches</td>\n      <td>HYBRID</td>\n      <td>Blizzard World</td>\n      <td>Twilight</td>\n      <td>Vancouver Titans</td>\n      <td>Weapon Accuracy</td>\n      <td>Zenyatta</td>\n      <td>0.390358</td>\n    </tr>\n  </tbody>\n</table>\n<p>375859 rows × 10 columns</p>\n</div>"
     },
     "execution_count": 18,
     "metadata": {},
     "output_type": "execute_result"
    }
   ],
   "source": [
    "df_2019_s2"
   ],
   "metadata": {
    "collapsed": false,
    "ExecuteTime": {
     "end_time": "2024-02-08T17:33:01.331276400Z",
     "start_time": "2024-02-08T17:33:00.799163400Z"
    }
   },
   "id": "ec480adb2d7725a5",
   "execution_count": 18
  },
  {
   "cell_type": "markdown",
   "source": [
    "# 2019 STAGE 3"
   ],
   "metadata": {
    "collapsed": false
   },
   "id": "87508769140d0047"
  },
  {
   "cell_type": "code",
   "outputs": [],
   "source": [
    "# |exporti\n",
    "df_2019_s3 = pd.read_csv(f'{owl_path}/phs_2019_stage_3.csv')"
   ],
   "metadata": {
    "collapsed": false,
    "ExecuteTime": {
     "end_time": "2024-02-08T17:33:02.006909900Z",
     "start_time": "2024-02-08T17:33:00.818340300Z"
    }
   },
   "id": "9d5d89e8f557bc83",
   "execution_count": 19
  },
  {
   "cell_type": "code",
   "outputs": [
    {
     "data": {
      "text/plain": "             start_time  match_id                                   stage  \\\n0        6/6/2019 23:08     21300                Overwatch League Stage 3   \n1        6/6/2019 23:08     21300                Overwatch League Stage 3   \n2        6/6/2019 23:08     21300                Overwatch League Stage 3   \n3        6/6/2019 23:08     21300                Overwatch League Stage 3   \n4        6/6/2019 23:08     21300                Overwatch League Stage 3   \n...                 ...       ...                                     ...   \n384480  7/14/2019 22:40     20326  Overwatch League Stage 3 Title Matches   \n384481  7/14/2019 22:40     20326  Overwatch League Stage 3 Title Matches   \n384482  7/14/2019 22:40     20326  Overwatch League Stage 3 Title Matches   \n384483  7/14/2019 22:40     20326  Overwatch League Stage 3 Title Matches   \n384484  7/14/2019 22:40     20326  Overwatch League Stage 3 Title Matches   \n\n       map_type     map player              team  \\\n0       CONTROL   Ilios   Daco     Atlanta Reign   \n1       CONTROL   Ilios   Daco     Atlanta Reign   \n2       CONTROL   Ilios   Daco     Atlanta Reign   \n3       CONTROL   Ilios   Daco     Atlanta Reign   \n4       CONTROL   Ilios   Daco     Atlanta Reign   \n...         ...     ...    ...               ...   \n384480  PAYLOAD  Dorado   diem  Shanghai Dragons   \n384481  PAYLOAD  Dorado   diem  Shanghai Dragons   \n384482  PAYLOAD  Dorado   diem  Shanghai Dragons   \n384483  PAYLOAD  Dorado   diem  Shanghai Dragons   \n384484  PAYLOAD  Dorado   diem  Shanghai Dragons   \n\n                                 stat        hero   stat_amount  \n0                     All Damage Done  All Heroes  16204.560360  \n1                             Assists  All Heroes     24.000000  \n2                  Average Time Alive  All Heroes    142.997504  \n3                 Barrier Damage Done  All Heroes   5989.367281  \n4                Damage - Quick Melee  All Heroes    131.131728  \n...                               ...         ...           ...  \n384480                    Time Played  Widowmaker    589.852445  \n384481  Ultimates Earned - Fractional  Widowmaker      6.204235  \n384482                 Ultimates Used  Widowmaker      6.000000  \n384483               Venom Mine Kills  Widowmaker      1.000000  \n384484                Weapon Accuracy  Widowmaker      0.576271  \n\n[384485 rows x 10 columns]",
      "text/html": "<div>\n<style scoped>\n    .dataframe tbody tr th:only-of-type {\n        vertical-align: middle;\n    }\n\n    .dataframe tbody tr th {\n        vertical-align: top;\n    }\n\n    .dataframe thead th {\n        text-align: right;\n    }\n</style>\n<table border=\"1\" class=\"dataframe\">\n  <thead>\n    <tr style=\"text-align: right;\">\n      <th></th>\n      <th>start_time</th>\n      <th>match_id</th>\n      <th>stage</th>\n      <th>map_type</th>\n      <th>map</th>\n      <th>player</th>\n      <th>team</th>\n      <th>stat</th>\n      <th>hero</th>\n      <th>stat_amount</th>\n    </tr>\n  </thead>\n  <tbody>\n    <tr>\n      <th>0</th>\n      <td>6/6/2019 23:08</td>\n      <td>21300</td>\n      <td>Overwatch League Stage 3</td>\n      <td>CONTROL</td>\n      <td>Ilios</td>\n      <td>Daco</td>\n      <td>Atlanta Reign</td>\n      <td>All Damage Done</td>\n      <td>All Heroes</td>\n      <td>16204.560360</td>\n    </tr>\n    <tr>\n      <th>1</th>\n      <td>6/6/2019 23:08</td>\n      <td>21300</td>\n      <td>Overwatch League Stage 3</td>\n      <td>CONTROL</td>\n      <td>Ilios</td>\n      <td>Daco</td>\n      <td>Atlanta Reign</td>\n      <td>Assists</td>\n      <td>All Heroes</td>\n      <td>24.000000</td>\n    </tr>\n    <tr>\n      <th>2</th>\n      <td>6/6/2019 23:08</td>\n      <td>21300</td>\n      <td>Overwatch League Stage 3</td>\n      <td>CONTROL</td>\n      <td>Ilios</td>\n      <td>Daco</td>\n      <td>Atlanta Reign</td>\n      <td>Average Time Alive</td>\n      <td>All Heroes</td>\n      <td>142.997504</td>\n    </tr>\n    <tr>\n      <th>3</th>\n      <td>6/6/2019 23:08</td>\n      <td>21300</td>\n      <td>Overwatch League Stage 3</td>\n      <td>CONTROL</td>\n      <td>Ilios</td>\n      <td>Daco</td>\n      <td>Atlanta Reign</td>\n      <td>Barrier Damage Done</td>\n      <td>All Heroes</td>\n      <td>5989.367281</td>\n    </tr>\n    <tr>\n      <th>4</th>\n      <td>6/6/2019 23:08</td>\n      <td>21300</td>\n      <td>Overwatch League Stage 3</td>\n      <td>CONTROL</td>\n      <td>Ilios</td>\n      <td>Daco</td>\n      <td>Atlanta Reign</td>\n      <td>Damage - Quick Melee</td>\n      <td>All Heroes</td>\n      <td>131.131728</td>\n    </tr>\n    <tr>\n      <th>...</th>\n      <td>...</td>\n      <td>...</td>\n      <td>...</td>\n      <td>...</td>\n      <td>...</td>\n      <td>...</td>\n      <td>...</td>\n      <td>...</td>\n      <td>...</td>\n      <td>...</td>\n    </tr>\n    <tr>\n      <th>384480</th>\n      <td>7/14/2019 22:40</td>\n      <td>20326</td>\n      <td>Overwatch League Stage 3 Title Matches</td>\n      <td>PAYLOAD</td>\n      <td>Dorado</td>\n      <td>diem</td>\n      <td>Shanghai Dragons</td>\n      <td>Time Played</td>\n      <td>Widowmaker</td>\n      <td>589.852445</td>\n    </tr>\n    <tr>\n      <th>384481</th>\n      <td>7/14/2019 22:40</td>\n      <td>20326</td>\n      <td>Overwatch League Stage 3 Title Matches</td>\n      <td>PAYLOAD</td>\n      <td>Dorado</td>\n      <td>diem</td>\n      <td>Shanghai Dragons</td>\n      <td>Ultimates Earned - Fractional</td>\n      <td>Widowmaker</td>\n      <td>6.204235</td>\n    </tr>\n    <tr>\n      <th>384482</th>\n      <td>7/14/2019 22:40</td>\n      <td>20326</td>\n      <td>Overwatch League Stage 3 Title Matches</td>\n      <td>PAYLOAD</td>\n      <td>Dorado</td>\n      <td>diem</td>\n      <td>Shanghai Dragons</td>\n      <td>Ultimates Used</td>\n      <td>Widowmaker</td>\n      <td>6.000000</td>\n    </tr>\n    <tr>\n      <th>384483</th>\n      <td>7/14/2019 22:40</td>\n      <td>20326</td>\n      <td>Overwatch League Stage 3 Title Matches</td>\n      <td>PAYLOAD</td>\n      <td>Dorado</td>\n      <td>diem</td>\n      <td>Shanghai Dragons</td>\n      <td>Venom Mine Kills</td>\n      <td>Widowmaker</td>\n      <td>1.000000</td>\n    </tr>\n    <tr>\n      <th>384484</th>\n      <td>7/14/2019 22:40</td>\n      <td>20326</td>\n      <td>Overwatch League Stage 3 Title Matches</td>\n      <td>PAYLOAD</td>\n      <td>Dorado</td>\n      <td>diem</td>\n      <td>Shanghai Dragons</td>\n      <td>Weapon Accuracy</td>\n      <td>Widowmaker</td>\n      <td>0.576271</td>\n    </tr>\n  </tbody>\n</table>\n<p>384485 rows × 10 columns</p>\n</div>"
     },
     "execution_count": 20,
     "metadata": {},
     "output_type": "execute_result"
    }
   ],
   "source": [
    "df_2019_s3"
   ],
   "metadata": {
    "collapsed": false,
    "ExecuteTime": {
     "end_time": "2024-02-08T17:33:02.008420700Z",
     "start_time": "2024-02-08T17:33:01.426749500Z"
    }
   },
   "id": "c0bdbaf542ff32cd",
   "execution_count": 20
  },
  {
   "cell_type": "markdown",
   "source": [
    "# 2019 STAGE 4"
   ],
   "metadata": {
    "collapsed": false
   },
   "id": "81c9026aba4bb06e"
  },
  {
   "cell_type": "code",
   "outputs": [],
   "source": [
    "# |exporti\n",
    "df_2019_s4 = pd.read_csv(f'{owl_path}/phs_2019_stage_4.csv')"
   ],
   "metadata": {
    "collapsed": false,
    "ExecuteTime": {
     "end_time": "2024-02-08T17:33:02.556140600Z",
     "start_time": "2024-02-08T17:33:01.442802100Z"
    }
   },
   "id": "c7cfc6a8b09746ac",
   "execution_count": 21
  },
  {
   "cell_type": "code",
   "outputs": [
    {
     "data": {
      "text/plain": "             start_time  match_id                     stage map_type  \\\n0       7/25/2019 23:05     21358  Overwatch League Stage 4  CONTROL   \n1       7/25/2019 23:05     21358  Overwatch League Stage 4  CONTROL   \n2       7/25/2019 23:05     21358  Overwatch League Stage 4  CONTROL   \n3       7/25/2019 23:05     21358  Overwatch League Stage 4  CONTROL   \n4       7/25/2019 23:05     21358  Overwatch League Stage 4  CONTROL   \n...                 ...       ...                       ...      ...   \n362288   8/26/2019 1:48     21515  Overwatch League Stage 4  PAYLOAD   \n362289   8/26/2019 1:48     21515  Overwatch League Stage 4  PAYLOAD   \n362290   8/26/2019 1:48     21515  Overwatch League Stage 4  PAYLOAD   \n362291   8/26/2019 1:48     21515  Overwatch League Stage 4  PAYLOAD   \n362292   8/26/2019 1:48     21515  Overwatch League Stage 4  PAYLOAD   \n\n               map player                 team  \\\n0            Busan  Boink      Houston Outlaws   \n1            Busan  Boink      Houston Outlaws   \n2            Busan  Boink      Houston Outlaws   \n3            Busan  Boink      Houston Outlaws   \n4            Busan  Boink      Houston Outlaws   \n...            ...    ...                  ...   \n362288  Junkertown  super  San Francisco Shock   \n362289  Junkertown  super  San Francisco Shock   \n362290  Junkertown  super  San Francisco Shock   \n362291  Junkertown  super  San Francisco Shock   \n362292  Junkertown  super  San Francisco Shock   \n\n                                    stat        hero  stat_amount  \n0                        All Damage Done  All Heroes  5511.995864  \n1                                Assists  All Heroes    11.000000  \n2                     Average Time Alive  All Heroes   103.182203  \n3                    Barrier Damage Done  All Heroes  1733.995926  \n4                   Damage - Quick Melee  All Heroes    80.708832  \n...                                  ...         ...          ...  \n362288  Time Elapsed per Ultimate Earned   Reinhardt    82.719690  \n362289             Time Holding Ultimate   Reinhardt     3.115000  \n362290                       Time Played   Reinhardt   188.790534  \n362291     Ultimates Earned - Fractional   Reinhardt     2.177353  \n362292                    Ultimates Used   Reinhardt     2.000000  \n\n[362293 rows x 10 columns]",
      "text/html": "<div>\n<style scoped>\n    .dataframe tbody tr th:only-of-type {\n        vertical-align: middle;\n    }\n\n    .dataframe tbody tr th {\n        vertical-align: top;\n    }\n\n    .dataframe thead th {\n        text-align: right;\n    }\n</style>\n<table border=\"1\" class=\"dataframe\">\n  <thead>\n    <tr style=\"text-align: right;\">\n      <th></th>\n      <th>start_time</th>\n      <th>match_id</th>\n      <th>stage</th>\n      <th>map_type</th>\n      <th>map</th>\n      <th>player</th>\n      <th>team</th>\n      <th>stat</th>\n      <th>hero</th>\n      <th>stat_amount</th>\n    </tr>\n  </thead>\n  <tbody>\n    <tr>\n      <th>0</th>\n      <td>7/25/2019 23:05</td>\n      <td>21358</td>\n      <td>Overwatch League Stage 4</td>\n      <td>CONTROL</td>\n      <td>Busan</td>\n      <td>Boink</td>\n      <td>Houston Outlaws</td>\n      <td>All Damage Done</td>\n      <td>All Heroes</td>\n      <td>5511.995864</td>\n    </tr>\n    <tr>\n      <th>1</th>\n      <td>7/25/2019 23:05</td>\n      <td>21358</td>\n      <td>Overwatch League Stage 4</td>\n      <td>CONTROL</td>\n      <td>Busan</td>\n      <td>Boink</td>\n      <td>Houston Outlaws</td>\n      <td>Assists</td>\n      <td>All Heroes</td>\n      <td>11.000000</td>\n    </tr>\n    <tr>\n      <th>2</th>\n      <td>7/25/2019 23:05</td>\n      <td>21358</td>\n      <td>Overwatch League Stage 4</td>\n      <td>CONTROL</td>\n      <td>Busan</td>\n      <td>Boink</td>\n      <td>Houston Outlaws</td>\n      <td>Average Time Alive</td>\n      <td>All Heroes</td>\n      <td>103.182203</td>\n    </tr>\n    <tr>\n      <th>3</th>\n      <td>7/25/2019 23:05</td>\n      <td>21358</td>\n      <td>Overwatch League Stage 4</td>\n      <td>CONTROL</td>\n      <td>Busan</td>\n      <td>Boink</td>\n      <td>Houston Outlaws</td>\n      <td>Barrier Damage Done</td>\n      <td>All Heroes</td>\n      <td>1733.995926</td>\n    </tr>\n    <tr>\n      <th>4</th>\n      <td>7/25/2019 23:05</td>\n      <td>21358</td>\n      <td>Overwatch League Stage 4</td>\n      <td>CONTROL</td>\n      <td>Busan</td>\n      <td>Boink</td>\n      <td>Houston Outlaws</td>\n      <td>Damage - Quick Melee</td>\n      <td>All Heroes</td>\n      <td>80.708832</td>\n    </tr>\n    <tr>\n      <th>...</th>\n      <td>...</td>\n      <td>...</td>\n      <td>...</td>\n      <td>...</td>\n      <td>...</td>\n      <td>...</td>\n      <td>...</td>\n      <td>...</td>\n      <td>...</td>\n      <td>...</td>\n    </tr>\n    <tr>\n      <th>362288</th>\n      <td>8/26/2019 1:48</td>\n      <td>21515</td>\n      <td>Overwatch League Stage 4</td>\n      <td>PAYLOAD</td>\n      <td>Junkertown</td>\n      <td>super</td>\n      <td>San Francisco Shock</td>\n      <td>Time Elapsed per Ultimate Earned</td>\n      <td>Reinhardt</td>\n      <td>82.719690</td>\n    </tr>\n    <tr>\n      <th>362289</th>\n      <td>8/26/2019 1:48</td>\n      <td>21515</td>\n      <td>Overwatch League Stage 4</td>\n      <td>PAYLOAD</td>\n      <td>Junkertown</td>\n      <td>super</td>\n      <td>San Francisco Shock</td>\n      <td>Time Holding Ultimate</td>\n      <td>Reinhardt</td>\n      <td>3.115000</td>\n    </tr>\n    <tr>\n      <th>362290</th>\n      <td>8/26/2019 1:48</td>\n      <td>21515</td>\n      <td>Overwatch League Stage 4</td>\n      <td>PAYLOAD</td>\n      <td>Junkertown</td>\n      <td>super</td>\n      <td>San Francisco Shock</td>\n      <td>Time Played</td>\n      <td>Reinhardt</td>\n      <td>188.790534</td>\n    </tr>\n    <tr>\n      <th>362291</th>\n      <td>8/26/2019 1:48</td>\n      <td>21515</td>\n      <td>Overwatch League Stage 4</td>\n      <td>PAYLOAD</td>\n      <td>Junkertown</td>\n      <td>super</td>\n      <td>San Francisco Shock</td>\n      <td>Ultimates Earned - Fractional</td>\n      <td>Reinhardt</td>\n      <td>2.177353</td>\n    </tr>\n    <tr>\n      <th>362292</th>\n      <td>8/26/2019 1:48</td>\n      <td>21515</td>\n      <td>Overwatch League Stage 4</td>\n      <td>PAYLOAD</td>\n      <td>Junkertown</td>\n      <td>super</td>\n      <td>San Francisco Shock</td>\n      <td>Ultimates Used</td>\n      <td>Reinhardt</td>\n      <td>2.000000</td>\n    </tr>\n  </tbody>\n</table>\n<p>362293 rows × 10 columns</p>\n</div>"
     },
     "execution_count": 22,
     "metadata": {},
     "output_type": "execute_result"
    }
   ],
   "source": [
    "df_2019_s4"
   ],
   "metadata": {
    "collapsed": false,
    "ExecuteTime": {
     "end_time": "2024-02-08T17:33:02.786382200Z",
     "start_time": "2024-02-08T17:33:02.018772700Z"
    }
   },
   "id": "93cddffdb3983aba",
   "execution_count": 22
  },
  {
   "cell_type": "markdown",
   "source": [
    "# 2019 PLAYOFFS"
   ],
   "metadata": {
    "collapsed": false
   },
   "id": "741707e96539b4db"
  },
  {
   "cell_type": "code",
   "outputs": [],
   "source": [
    "# |exporti\n",
    "df_2019_po = pd.read_csv(f'{owl_path}/phs_2019_playoffs.csv')"
   ],
   "metadata": {
    "collapsed": false,
    "ExecuteTime": {
     "end_time": "2024-02-08T17:33:02.879440900Z",
     "start_time": "2024-02-08T17:33:02.030885900Z"
    }
   },
   "id": "4c2b0602886915f7",
   "execution_count": 23
  },
  {
   "cell_type": "code",
   "outputs": [
    {
     "data": {
      "text/plain": "             start_time  match_id                              stage map_type  \\\n0        8/31/2019 1:09     30172  Overwatch League 2019 Post-Season  CONTROL   \n1        8/31/2019 1:09     30172  Overwatch League 2019 Post-Season  CONTROL   \n2        8/31/2019 1:09     30172  Overwatch League 2019 Post-Season  CONTROL   \n3        8/31/2019 1:09     30172  Overwatch League 2019 Post-Season  CONTROL   \n4        8/31/2019 1:09     30172  Overwatch League 2019 Post-Season  CONTROL   \n...                 ...       ...                                ...      ...   \n103967  9/29/2019 20:47     30157  Overwatch League 2019 Post-Season  PAYLOAD   \n103968  9/29/2019 20:47     30157  Overwatch League 2019 Post-Season  PAYLOAD   \n103969  9/29/2019 20:47     30157  Overwatch League 2019 Post-Season  PAYLOAD   \n103970  9/29/2019 20:47     30157  Overwatch League 2019 Post-Season  PAYLOAD   \n103971  9/29/2019 20:47     30157  Overwatch League 2019 Post-Season  PAYLOAD   \n\n                          map    player              team  \\\n0                       Ilios      Elsa   Chengdu Hunters   \n1                       Ilios      Elsa   Chengdu Hunters   \n2                       Ilios      Elsa   Chengdu Hunters   \n3                       Ilios      Elsa   Chengdu Hunters   \n4                       Ilios      Elsa   Chengdu Hunters   \n...                       ...       ...               ...   \n103967  Watchpoint: Gibraltar  Twilight  Vancouver Titans   \n103968  Watchpoint: Gibraltar  Twilight  Vancouver Titans   \n103969  Watchpoint: Gibraltar  Twilight  Vancouver Titans   \n103970  Watchpoint: Gibraltar  Twilight  Vancouver Titans   \n103971  Watchpoint: Gibraltar  Twilight  Vancouver Titans   \n\n                        stat        hero   stat_amount  \n0            All Damage Done  All Heroes  19059.670270  \n1                    Assists  All Heroes     22.000000  \n2         Average Time Alive  All Heroes    302.704223  \n3        Barrier Damage Done  All Heroes   8861.540116  \n4       Damage - Quick Melee  All Heroes    152.999995  \n...                      ...         ...           ...  \n103967        Ultimates Used         Ana      6.000000  \n103968     Unscoped Accuracy         Ana      0.528777  \n103969         Unscoped Hits         Ana    147.000000  \n103970        Unscoped Shots         Ana    278.000000  \n103971       Weapon Accuracy         Ana      0.273504  \n\n[103972 rows x 10 columns]",
      "text/html": "<div>\n<style scoped>\n    .dataframe tbody tr th:only-of-type {\n        vertical-align: middle;\n    }\n\n    .dataframe tbody tr th {\n        vertical-align: top;\n    }\n\n    .dataframe thead th {\n        text-align: right;\n    }\n</style>\n<table border=\"1\" class=\"dataframe\">\n  <thead>\n    <tr style=\"text-align: right;\">\n      <th></th>\n      <th>start_time</th>\n      <th>match_id</th>\n      <th>stage</th>\n      <th>map_type</th>\n      <th>map</th>\n      <th>player</th>\n      <th>team</th>\n      <th>stat</th>\n      <th>hero</th>\n      <th>stat_amount</th>\n    </tr>\n  </thead>\n  <tbody>\n    <tr>\n      <th>0</th>\n      <td>8/31/2019 1:09</td>\n      <td>30172</td>\n      <td>Overwatch League 2019 Post-Season</td>\n      <td>CONTROL</td>\n      <td>Ilios</td>\n      <td>Elsa</td>\n      <td>Chengdu Hunters</td>\n      <td>All Damage Done</td>\n      <td>All Heroes</td>\n      <td>19059.670270</td>\n    </tr>\n    <tr>\n      <th>1</th>\n      <td>8/31/2019 1:09</td>\n      <td>30172</td>\n      <td>Overwatch League 2019 Post-Season</td>\n      <td>CONTROL</td>\n      <td>Ilios</td>\n      <td>Elsa</td>\n      <td>Chengdu Hunters</td>\n      <td>Assists</td>\n      <td>All Heroes</td>\n      <td>22.000000</td>\n    </tr>\n    <tr>\n      <th>2</th>\n      <td>8/31/2019 1:09</td>\n      <td>30172</td>\n      <td>Overwatch League 2019 Post-Season</td>\n      <td>CONTROL</td>\n      <td>Ilios</td>\n      <td>Elsa</td>\n      <td>Chengdu Hunters</td>\n      <td>Average Time Alive</td>\n      <td>All Heroes</td>\n      <td>302.704223</td>\n    </tr>\n    <tr>\n      <th>3</th>\n      <td>8/31/2019 1:09</td>\n      <td>30172</td>\n      <td>Overwatch League 2019 Post-Season</td>\n      <td>CONTROL</td>\n      <td>Ilios</td>\n      <td>Elsa</td>\n      <td>Chengdu Hunters</td>\n      <td>Barrier Damage Done</td>\n      <td>All Heroes</td>\n      <td>8861.540116</td>\n    </tr>\n    <tr>\n      <th>4</th>\n      <td>8/31/2019 1:09</td>\n      <td>30172</td>\n      <td>Overwatch League 2019 Post-Season</td>\n      <td>CONTROL</td>\n      <td>Ilios</td>\n      <td>Elsa</td>\n      <td>Chengdu Hunters</td>\n      <td>Damage - Quick Melee</td>\n      <td>All Heroes</td>\n      <td>152.999995</td>\n    </tr>\n    <tr>\n      <th>...</th>\n      <td>...</td>\n      <td>...</td>\n      <td>...</td>\n      <td>...</td>\n      <td>...</td>\n      <td>...</td>\n      <td>...</td>\n      <td>...</td>\n      <td>...</td>\n      <td>...</td>\n    </tr>\n    <tr>\n      <th>103967</th>\n      <td>9/29/2019 20:47</td>\n      <td>30157</td>\n      <td>Overwatch League 2019 Post-Season</td>\n      <td>PAYLOAD</td>\n      <td>Watchpoint: Gibraltar</td>\n      <td>Twilight</td>\n      <td>Vancouver Titans</td>\n      <td>Ultimates Used</td>\n      <td>Ana</td>\n      <td>6.000000</td>\n    </tr>\n    <tr>\n      <th>103968</th>\n      <td>9/29/2019 20:47</td>\n      <td>30157</td>\n      <td>Overwatch League 2019 Post-Season</td>\n      <td>PAYLOAD</td>\n      <td>Watchpoint: Gibraltar</td>\n      <td>Twilight</td>\n      <td>Vancouver Titans</td>\n      <td>Unscoped Accuracy</td>\n      <td>Ana</td>\n      <td>0.528777</td>\n    </tr>\n    <tr>\n      <th>103969</th>\n      <td>9/29/2019 20:47</td>\n      <td>30157</td>\n      <td>Overwatch League 2019 Post-Season</td>\n      <td>PAYLOAD</td>\n      <td>Watchpoint: Gibraltar</td>\n      <td>Twilight</td>\n      <td>Vancouver Titans</td>\n      <td>Unscoped Hits</td>\n      <td>Ana</td>\n      <td>147.000000</td>\n    </tr>\n    <tr>\n      <th>103970</th>\n      <td>9/29/2019 20:47</td>\n      <td>30157</td>\n      <td>Overwatch League 2019 Post-Season</td>\n      <td>PAYLOAD</td>\n      <td>Watchpoint: Gibraltar</td>\n      <td>Twilight</td>\n      <td>Vancouver Titans</td>\n      <td>Unscoped Shots</td>\n      <td>Ana</td>\n      <td>278.000000</td>\n    </tr>\n    <tr>\n      <th>103971</th>\n      <td>9/29/2019 20:47</td>\n      <td>30157</td>\n      <td>Overwatch League 2019 Post-Season</td>\n      <td>PAYLOAD</td>\n      <td>Watchpoint: Gibraltar</td>\n      <td>Twilight</td>\n      <td>Vancouver Titans</td>\n      <td>Weapon Accuracy</td>\n      <td>Ana</td>\n      <td>0.273504</td>\n    </tr>\n  </tbody>\n</table>\n<p>103972 rows × 10 columns</p>\n</div>"
     },
     "execution_count": 24,
     "metadata": {},
     "output_type": "execute_result"
    }
   ],
   "source": [
    "df_2019_po"
   ],
   "metadata": {
    "collapsed": false,
    "ExecuteTime": {
     "end_time": "2024-02-08T17:33:02.888417Z",
     "start_time": "2024-02-08T17:33:02.250860700Z"
    }
   },
   "id": "c21ff89aaedece33",
   "execution_count": 24
  },
  {
   "cell_type": "markdown",
   "source": [
    "# 2020 STAGE 1"
   ],
   "metadata": {
    "collapsed": false
   },
   "id": "de42be7a4a2bea68"
  },
  {
   "cell_type": "code",
   "outputs": [],
   "source": [
    "# |exporti\n",
    "df_2020_s1 = pd.read_csv(f'{owl_path}/phs_2020_1.csv')"
   ],
   "metadata": {
    "collapsed": false,
    "ExecuteTime": {
     "end_time": "2024-02-08T17:33:04.143040400Z",
     "start_time": "2024-02-08T17:33:02.266491500Z"
    }
   },
   "id": "e9d60cd662b792c8",
   "execution_count": 25
  },
  {
   "cell_type": "code",
   "outputs": [
    {
     "data": {
      "text/plain": "            start_time  match_id                    stage map_type  \\\n0       2/8/2020 18:13     30991  OWL 2020 Regular Season  CONTROL   \n1       2/8/2020 18:13     30991  OWL 2020 Regular Season  CONTROL   \n2       2/8/2020 18:13     30991  OWL 2020 Regular Season  CONTROL   \n3       2/8/2020 18:13     30991  OWL 2020 Regular Season  CONTROL   \n4       2/8/2020 18:13     30991  OWL 2020 Regular Season  CONTROL   \n...                ...       ...                      ...      ...   \n760106   7/6/2020 3:12     34751  OWL 2020 Regular Season  PAYLOAD   \n760107   7/6/2020 3:12     34751  OWL 2020 Regular Season  PAYLOAD   \n760108   7/6/2020 3:12     34751  OWL 2020 Regular Season  PAYLOAD   \n760109   7/6/2020 3:12     34751  OWL 2020 Regular Season  PAYLOAD   \n760110   7/6/2020 3:12     34751  OWL 2020 Regular Season  PAYLOAD   \n\n                  map   player                 team  \\\n0       Lijiang Tower  BenBest        Paris Eternal   \n1       Lijiang Tower  BenBest        Paris Eternal   \n2       Lijiang Tower  BenBest        Paris Eternal   \n3       Lijiang Tower  BenBest        Paris Eternal   \n4       Lijiang Tower  BenBest        Paris Eternal   \n...               ...      ...                  ...   \n760106         Rialto      eqo  Philadelphia Fusion   \n760107         Rialto      eqo  Philadelphia Fusion   \n760108         Rialto      eqo  Philadelphia Fusion   \n760109         Rialto      eqo  Philadelphia Fusion   \n760110         Rialto      eqo  Philadelphia Fusion   \n\n                                    stat        hero   stat_amount  \n0                        All Damage Done  All Heroes   6674.164055  \n1                                Assists  All Heroes     11.000000  \n2                     Average Time Alive  All Heroes     60.199502  \n3                    Barrier Damage Done  All Heroes   1875.000000  \n4                         Damage Blocked  All Heroes  14640.911780  \n...                                  ...         ...           ...  \n760106                        Time Alive      Tracer      3.675000  \n760107            Time Building Ultimate      Tracer      3.675000  \n760108  Time Elapsed per Ultimate Earned      Tracer    308.700003  \n760109                       Time Played      Tracer      3.896239  \n760110     Ultimates Earned - Fractional      Tracer      0.011905  \n\n[760111 rows x 10 columns]",
      "text/html": "<div>\n<style scoped>\n    .dataframe tbody tr th:only-of-type {\n        vertical-align: middle;\n    }\n\n    .dataframe tbody tr th {\n        vertical-align: top;\n    }\n\n    .dataframe thead th {\n        text-align: right;\n    }\n</style>\n<table border=\"1\" class=\"dataframe\">\n  <thead>\n    <tr style=\"text-align: right;\">\n      <th></th>\n      <th>start_time</th>\n      <th>match_id</th>\n      <th>stage</th>\n      <th>map_type</th>\n      <th>map</th>\n      <th>player</th>\n      <th>team</th>\n      <th>stat</th>\n      <th>hero</th>\n      <th>stat_amount</th>\n    </tr>\n  </thead>\n  <tbody>\n    <tr>\n      <th>0</th>\n      <td>2/8/2020 18:13</td>\n      <td>30991</td>\n      <td>OWL 2020 Regular Season</td>\n      <td>CONTROL</td>\n      <td>Lijiang Tower</td>\n      <td>BenBest</td>\n      <td>Paris Eternal</td>\n      <td>All Damage Done</td>\n      <td>All Heroes</td>\n      <td>6674.164055</td>\n    </tr>\n    <tr>\n      <th>1</th>\n      <td>2/8/2020 18:13</td>\n      <td>30991</td>\n      <td>OWL 2020 Regular Season</td>\n      <td>CONTROL</td>\n      <td>Lijiang Tower</td>\n      <td>BenBest</td>\n      <td>Paris Eternal</td>\n      <td>Assists</td>\n      <td>All Heroes</td>\n      <td>11.000000</td>\n    </tr>\n    <tr>\n      <th>2</th>\n      <td>2/8/2020 18:13</td>\n      <td>30991</td>\n      <td>OWL 2020 Regular Season</td>\n      <td>CONTROL</td>\n      <td>Lijiang Tower</td>\n      <td>BenBest</td>\n      <td>Paris Eternal</td>\n      <td>Average Time Alive</td>\n      <td>All Heroes</td>\n      <td>60.199502</td>\n    </tr>\n    <tr>\n      <th>3</th>\n      <td>2/8/2020 18:13</td>\n      <td>30991</td>\n      <td>OWL 2020 Regular Season</td>\n      <td>CONTROL</td>\n      <td>Lijiang Tower</td>\n      <td>BenBest</td>\n      <td>Paris Eternal</td>\n      <td>Barrier Damage Done</td>\n      <td>All Heroes</td>\n      <td>1875.000000</td>\n    </tr>\n    <tr>\n      <th>4</th>\n      <td>2/8/2020 18:13</td>\n      <td>30991</td>\n      <td>OWL 2020 Regular Season</td>\n      <td>CONTROL</td>\n      <td>Lijiang Tower</td>\n      <td>BenBest</td>\n      <td>Paris Eternal</td>\n      <td>Damage Blocked</td>\n      <td>All Heroes</td>\n      <td>14640.911780</td>\n    </tr>\n    <tr>\n      <th>...</th>\n      <td>...</td>\n      <td>...</td>\n      <td>...</td>\n      <td>...</td>\n      <td>...</td>\n      <td>...</td>\n      <td>...</td>\n      <td>...</td>\n      <td>...</td>\n      <td>...</td>\n    </tr>\n    <tr>\n      <th>760106</th>\n      <td>7/6/2020 3:12</td>\n      <td>34751</td>\n      <td>OWL 2020 Regular Season</td>\n      <td>PAYLOAD</td>\n      <td>Rialto</td>\n      <td>eqo</td>\n      <td>Philadelphia Fusion</td>\n      <td>Time Alive</td>\n      <td>Tracer</td>\n      <td>3.675000</td>\n    </tr>\n    <tr>\n      <th>760107</th>\n      <td>7/6/2020 3:12</td>\n      <td>34751</td>\n      <td>OWL 2020 Regular Season</td>\n      <td>PAYLOAD</td>\n      <td>Rialto</td>\n      <td>eqo</td>\n      <td>Philadelphia Fusion</td>\n      <td>Time Building Ultimate</td>\n      <td>Tracer</td>\n      <td>3.675000</td>\n    </tr>\n    <tr>\n      <th>760108</th>\n      <td>7/6/2020 3:12</td>\n      <td>34751</td>\n      <td>OWL 2020 Regular Season</td>\n      <td>PAYLOAD</td>\n      <td>Rialto</td>\n      <td>eqo</td>\n      <td>Philadelphia Fusion</td>\n      <td>Time Elapsed per Ultimate Earned</td>\n      <td>Tracer</td>\n      <td>308.700003</td>\n    </tr>\n    <tr>\n      <th>760109</th>\n      <td>7/6/2020 3:12</td>\n      <td>34751</td>\n      <td>OWL 2020 Regular Season</td>\n      <td>PAYLOAD</td>\n      <td>Rialto</td>\n      <td>eqo</td>\n      <td>Philadelphia Fusion</td>\n      <td>Time Played</td>\n      <td>Tracer</td>\n      <td>3.896239</td>\n    </tr>\n    <tr>\n      <th>760110</th>\n      <td>7/6/2020 3:12</td>\n      <td>34751</td>\n      <td>OWL 2020 Regular Season</td>\n      <td>PAYLOAD</td>\n      <td>Rialto</td>\n      <td>eqo</td>\n      <td>Philadelphia Fusion</td>\n      <td>Ultimates Earned - Fractional</td>\n      <td>Tracer</td>\n      <td>0.011905</td>\n    </tr>\n  </tbody>\n</table>\n<p>760111 rows × 10 columns</p>\n</div>"
     },
     "execution_count": 26,
     "metadata": {},
     "output_type": "execute_result"
    }
   ],
   "source": [
    "df_2020_s1"
   ],
   "metadata": {
    "collapsed": false,
    "ExecuteTime": {
     "end_time": "2024-02-08T17:33:04.146057Z",
     "start_time": "2024-02-08T17:33:03.541931600Z"
    }
   },
   "id": "7e14106bf8758131",
   "execution_count": 26
  },
  {
   "cell_type": "markdown",
   "source": [
    "# 2020 STAGE 2"
   ],
   "metadata": {
    "collapsed": false
   },
   "id": "5f2cadb575664ed4"
  },
  {
   "cell_type": "code",
   "outputs": [],
   "source": [
    "# |exporti\n",
    "df_2020_s2 = pd.read_csv(f'{owl_path}/phs_2020_2.csv')"
   ],
   "metadata": {
    "collapsed": false,
    "ExecuteTime": {
     "end_time": "2024-02-08T17:33:04.820641300Z",
     "start_time": "2024-02-08T17:33:03.596267600Z"
    }
   },
   "id": "93bfab799999676",
   "execution_count": 27
  },
  {
   "cell_type": "code",
   "outputs": [
    {
     "data": {
      "text/plain": "                 start_time  match_id                    stage map_type  \\\n0       2020-07-17 19:17:13     34844  OWL 2020 Regular Season  CONTROL   \n1       2020-07-17 19:17:13     34844  OWL 2020 Regular Season  CONTROL   \n2       2020-07-17 19:17:13     34844  OWL 2020 Regular Season  CONTROL   \n3       2020-07-17 19:17:13     34844  OWL 2020 Regular Season  CONTROL   \n4       2020-07-17 19:17:13     34844  OWL 2020 Regular Season  CONTROL   \n...                     ...       ...                      ...      ...   \n473159  2020-10-10 15:21:26     35552  OWL 2020 Regular Season   HYBRID   \n473160  2020-10-10 15:21:26     35552  OWL 2020 Regular Season   HYBRID   \n473161  2020-10-10 15:21:26     35552  OWL 2020 Regular Season   HYBRID   \n473162  2020-10-10 15:21:26     35552  OWL 2020 Regular Season   HYBRID   \n473163  2020-10-10 15:21:26     35552  OWL 2020 Regular Season   HYBRID   \n\n                  map   player           team                           stat  \\\n0       Lijiang Tower  BenBest  Paris Eternal                All Damage Done   \n1       Lijiang Tower  BenBest  Paris Eternal                        Assists   \n2       Lijiang Tower  BenBest  Paris Eternal             Average Time Alive   \n3       Lijiang Tower  BenBest  Paris Eternal            Barrier Damage Done   \n4       Lijiang Tower  BenBest  Paris Eternal                 Damage Blocked   \n...               ...      ...            ...                            ...   \n473159      Hollywood     tobi  Seoul Dynasty                    Time Played   \n473160      Hollywood     tobi  Seoul Dynasty  Ultimates Earned - Fractional   \n473161      Hollywood     tobi  Seoul Dynasty                 Ultimates Used   \n473162      Hollywood     tobi  Seoul Dynasty    Valkyrie Healing Efficiency   \n473163      Hollywood     tobi  Seoul Dynasty                Weapon Accuracy   \n\n              hero   stat_amount  \n0       All Heroes   6437.383286  \n1       All Heroes     12.000000  \n2       All Heroes     63.518002  \n3       All Heroes   2300.000000  \n4       All Heroes  10770.851446  \n...            ...           ...  \n473159       Mercy    919.875289  \n473160       Mercy      4.811592  \n473161       Mercy      4.000000  \n473162       Mercy    301.680441  \n473163       Mercy      0.368421  \n\n[473164 rows x 10 columns]",
      "text/html": "<div>\n<style scoped>\n    .dataframe tbody tr th:only-of-type {\n        vertical-align: middle;\n    }\n\n    .dataframe tbody tr th {\n        vertical-align: top;\n    }\n\n    .dataframe thead th {\n        text-align: right;\n    }\n</style>\n<table border=\"1\" class=\"dataframe\">\n  <thead>\n    <tr style=\"text-align: right;\">\n      <th></th>\n      <th>start_time</th>\n      <th>match_id</th>\n      <th>stage</th>\n      <th>map_type</th>\n      <th>map</th>\n      <th>player</th>\n      <th>team</th>\n      <th>stat</th>\n      <th>hero</th>\n      <th>stat_amount</th>\n    </tr>\n  </thead>\n  <tbody>\n    <tr>\n      <th>0</th>\n      <td>2020-07-17 19:17:13</td>\n      <td>34844</td>\n      <td>OWL 2020 Regular Season</td>\n      <td>CONTROL</td>\n      <td>Lijiang Tower</td>\n      <td>BenBest</td>\n      <td>Paris Eternal</td>\n      <td>All Damage Done</td>\n      <td>All Heroes</td>\n      <td>6437.383286</td>\n    </tr>\n    <tr>\n      <th>1</th>\n      <td>2020-07-17 19:17:13</td>\n      <td>34844</td>\n      <td>OWL 2020 Regular Season</td>\n      <td>CONTROL</td>\n      <td>Lijiang Tower</td>\n      <td>BenBest</td>\n      <td>Paris Eternal</td>\n      <td>Assists</td>\n      <td>All Heroes</td>\n      <td>12.000000</td>\n    </tr>\n    <tr>\n      <th>2</th>\n      <td>2020-07-17 19:17:13</td>\n      <td>34844</td>\n      <td>OWL 2020 Regular Season</td>\n      <td>CONTROL</td>\n      <td>Lijiang Tower</td>\n      <td>BenBest</td>\n      <td>Paris Eternal</td>\n      <td>Average Time Alive</td>\n      <td>All Heroes</td>\n      <td>63.518002</td>\n    </tr>\n    <tr>\n      <th>3</th>\n      <td>2020-07-17 19:17:13</td>\n      <td>34844</td>\n      <td>OWL 2020 Regular Season</td>\n      <td>CONTROL</td>\n      <td>Lijiang Tower</td>\n      <td>BenBest</td>\n      <td>Paris Eternal</td>\n      <td>Barrier Damage Done</td>\n      <td>All Heroes</td>\n      <td>2300.000000</td>\n    </tr>\n    <tr>\n      <th>4</th>\n      <td>2020-07-17 19:17:13</td>\n      <td>34844</td>\n      <td>OWL 2020 Regular Season</td>\n      <td>CONTROL</td>\n      <td>Lijiang Tower</td>\n      <td>BenBest</td>\n      <td>Paris Eternal</td>\n      <td>Damage Blocked</td>\n      <td>All Heroes</td>\n      <td>10770.851446</td>\n    </tr>\n    <tr>\n      <th>...</th>\n      <td>...</td>\n      <td>...</td>\n      <td>...</td>\n      <td>...</td>\n      <td>...</td>\n      <td>...</td>\n      <td>...</td>\n      <td>...</td>\n      <td>...</td>\n      <td>...</td>\n    </tr>\n    <tr>\n      <th>473159</th>\n      <td>2020-10-10 15:21:26</td>\n      <td>35552</td>\n      <td>OWL 2020 Regular Season</td>\n      <td>HYBRID</td>\n      <td>Hollywood</td>\n      <td>tobi</td>\n      <td>Seoul Dynasty</td>\n      <td>Time Played</td>\n      <td>Mercy</td>\n      <td>919.875289</td>\n    </tr>\n    <tr>\n      <th>473160</th>\n      <td>2020-10-10 15:21:26</td>\n      <td>35552</td>\n      <td>OWL 2020 Regular Season</td>\n      <td>HYBRID</td>\n      <td>Hollywood</td>\n      <td>tobi</td>\n      <td>Seoul Dynasty</td>\n      <td>Ultimates Earned - Fractional</td>\n      <td>Mercy</td>\n      <td>4.811592</td>\n    </tr>\n    <tr>\n      <th>473161</th>\n      <td>2020-10-10 15:21:26</td>\n      <td>35552</td>\n      <td>OWL 2020 Regular Season</td>\n      <td>HYBRID</td>\n      <td>Hollywood</td>\n      <td>tobi</td>\n      <td>Seoul Dynasty</td>\n      <td>Ultimates Used</td>\n      <td>Mercy</td>\n      <td>4.000000</td>\n    </tr>\n    <tr>\n      <th>473162</th>\n      <td>2020-10-10 15:21:26</td>\n      <td>35552</td>\n      <td>OWL 2020 Regular Season</td>\n      <td>HYBRID</td>\n      <td>Hollywood</td>\n      <td>tobi</td>\n      <td>Seoul Dynasty</td>\n      <td>Valkyrie Healing Efficiency</td>\n      <td>Mercy</td>\n      <td>301.680441</td>\n    </tr>\n    <tr>\n      <th>473163</th>\n      <td>2020-10-10 15:21:26</td>\n      <td>35552</td>\n      <td>OWL 2020 Regular Season</td>\n      <td>HYBRID</td>\n      <td>Hollywood</td>\n      <td>tobi</td>\n      <td>Seoul Dynasty</td>\n      <td>Weapon Accuracy</td>\n      <td>Mercy</td>\n      <td>0.368421</td>\n    </tr>\n  </tbody>\n</table>\n<p>473164 rows × 10 columns</p>\n</div>"
     },
     "execution_count": 28,
     "metadata": {},
     "output_type": "execute_result"
    }
   ],
   "source": [
    "df_2020_s2"
   ],
   "metadata": {
    "collapsed": false,
    "ExecuteTime": {
     "end_time": "2024-02-08T17:33:04.825640200Z",
     "start_time": "2024-02-08T17:33:04.395175100Z"
    }
   },
   "id": "efbfc9b1ce370a70",
   "execution_count": 28
  },
  {
   "cell_type": "markdown",
   "source": [
    "# 2021 STAGE"
   ],
   "metadata": {
    "collapsed": false
   },
   "id": "44f2c084cfff13ea"
  },
  {
   "cell_type": "code",
   "outputs": [],
   "source": [
    "# |exporti\n",
    "df_2021 = pd.read_csv(f'{owl_path}/phs_2021_1.csv')"
   ],
   "metadata": {
    "collapsed": false,
    "ExecuteTime": {
     "end_time": "2024-02-08T17:33:06.656491900Z",
     "start_time": "2024-02-08T17:33:04.620020500Z"
    }
   },
   "id": "ead818c30db59409",
   "execution_count": 29
  },
  {
   "cell_type": "code",
   "outputs": [
    {
     "data": {
      "text/plain": "                  start_time  match_id     stage map_type     map player  \\\n0        2021-04-16 19:08:52     37234  OWL 2021  CONTROL   Busan   Doha   \n1        2021-04-16 19:08:52     37234  OWL 2021  CONTROL   Busan   Doha   \n2        2021-04-16 19:08:52     37234  OWL 2021  CONTROL   Busan   Doha   \n3        2021-04-16 19:08:52     37234  OWL 2021  CONTROL   Busan   Doha   \n4        2021-04-16 19:08:52     37234  OWL 2021  CONTROL   Busan   Doha   \n...                      ...       ...       ...      ...     ...    ...   \n1031553  2021-09-26 02:53:59     37441  OWL 2021  PAYLOAD  Havana   Void   \n1031554  2021-09-26 02:53:59     37441  OWL 2021  PAYLOAD  Havana   Void   \n1031555  2021-09-26 02:53:59     37441  OWL 2021  PAYLOAD  Havana   Void   \n1031556  2021-09-26 02:53:59     37441  OWL 2021  PAYLOAD  Havana   Void   \n1031557  2021-09-26 02:53:59     37441  OWL 2021  PAYLOAD  Havana   Void   \n\n                     team                  stat        hero   stat_amount  \n0             Dallas Fuel       All Damage Done  All Heroes  13900.680095  \n1             Dallas Fuel               Assists  All Heroes      8.000000  \n2             Dallas Fuel    Average Time Alive  All Heroes     56.481102  \n3             Dallas Fuel   Barrier Damage Done  All Heroes   1495.492155  \n4             Dallas Fuel  Damage - Quick Melee  All Heroes     60.000000  \n...                   ...                   ...         ...           ...  \n1031553  Shanghai Dragons        Ultimates Used       Zarya      2.000000  \n1031554  Shanghai Dragons       Weapon Accuracy       Zarya      0.260870  \n1031555  Shanghai Dragons                   NaN       Zarya      0.919047  \n1031556  Shanghai Dragons                   NaN       Zarya      0.459524  \n1031557  Shanghai Dragons                   NaN       Zarya      0.459524  \n\n[1031558 rows x 10 columns]",
      "text/html": "<div>\n<style scoped>\n    .dataframe tbody tr th:only-of-type {\n        vertical-align: middle;\n    }\n\n    .dataframe tbody tr th {\n        vertical-align: top;\n    }\n\n    .dataframe thead th {\n        text-align: right;\n    }\n</style>\n<table border=\"1\" class=\"dataframe\">\n  <thead>\n    <tr style=\"text-align: right;\">\n      <th></th>\n      <th>start_time</th>\n      <th>match_id</th>\n      <th>stage</th>\n      <th>map_type</th>\n      <th>map</th>\n      <th>player</th>\n      <th>team</th>\n      <th>stat</th>\n      <th>hero</th>\n      <th>stat_amount</th>\n    </tr>\n  </thead>\n  <tbody>\n    <tr>\n      <th>0</th>\n      <td>2021-04-16 19:08:52</td>\n      <td>37234</td>\n      <td>OWL 2021</td>\n      <td>CONTROL</td>\n      <td>Busan</td>\n      <td>Doha</td>\n      <td>Dallas Fuel</td>\n      <td>All Damage Done</td>\n      <td>All Heroes</td>\n      <td>13900.680095</td>\n    </tr>\n    <tr>\n      <th>1</th>\n      <td>2021-04-16 19:08:52</td>\n      <td>37234</td>\n      <td>OWL 2021</td>\n      <td>CONTROL</td>\n      <td>Busan</td>\n      <td>Doha</td>\n      <td>Dallas Fuel</td>\n      <td>Assists</td>\n      <td>All Heroes</td>\n      <td>8.000000</td>\n    </tr>\n    <tr>\n      <th>2</th>\n      <td>2021-04-16 19:08:52</td>\n      <td>37234</td>\n      <td>OWL 2021</td>\n      <td>CONTROL</td>\n      <td>Busan</td>\n      <td>Doha</td>\n      <td>Dallas Fuel</td>\n      <td>Average Time Alive</td>\n      <td>All Heroes</td>\n      <td>56.481102</td>\n    </tr>\n    <tr>\n      <th>3</th>\n      <td>2021-04-16 19:08:52</td>\n      <td>37234</td>\n      <td>OWL 2021</td>\n      <td>CONTROL</td>\n      <td>Busan</td>\n      <td>Doha</td>\n      <td>Dallas Fuel</td>\n      <td>Barrier Damage Done</td>\n      <td>All Heroes</td>\n      <td>1495.492155</td>\n    </tr>\n    <tr>\n      <th>4</th>\n      <td>2021-04-16 19:08:52</td>\n      <td>37234</td>\n      <td>OWL 2021</td>\n      <td>CONTROL</td>\n      <td>Busan</td>\n      <td>Doha</td>\n      <td>Dallas Fuel</td>\n      <td>Damage - Quick Melee</td>\n      <td>All Heroes</td>\n      <td>60.000000</td>\n    </tr>\n    <tr>\n      <th>...</th>\n      <td>...</td>\n      <td>...</td>\n      <td>...</td>\n      <td>...</td>\n      <td>...</td>\n      <td>...</td>\n      <td>...</td>\n      <td>...</td>\n      <td>...</td>\n      <td>...</td>\n    </tr>\n    <tr>\n      <th>1031553</th>\n      <td>2021-09-26 02:53:59</td>\n      <td>37441</td>\n      <td>OWL 2021</td>\n      <td>PAYLOAD</td>\n      <td>Havana</td>\n      <td>Void</td>\n      <td>Shanghai Dragons</td>\n      <td>Ultimates Used</td>\n      <td>Zarya</td>\n      <td>2.000000</td>\n    </tr>\n    <tr>\n      <th>1031554</th>\n      <td>2021-09-26 02:53:59</td>\n      <td>37441</td>\n      <td>OWL 2021</td>\n      <td>PAYLOAD</td>\n      <td>Havana</td>\n      <td>Void</td>\n      <td>Shanghai Dragons</td>\n      <td>Weapon Accuracy</td>\n      <td>Zarya</td>\n      <td>0.260870</td>\n    </tr>\n    <tr>\n      <th>1031555</th>\n      <td>2021-09-26 02:53:59</td>\n      <td>37441</td>\n      <td>OWL 2021</td>\n      <td>PAYLOAD</td>\n      <td>Havana</td>\n      <td>Void</td>\n      <td>Shanghai Dragons</td>\n      <td>NaN</td>\n      <td>Zarya</td>\n      <td>0.919047</td>\n    </tr>\n    <tr>\n      <th>1031556</th>\n      <td>2021-09-26 02:53:59</td>\n      <td>37441</td>\n      <td>OWL 2021</td>\n      <td>PAYLOAD</td>\n      <td>Havana</td>\n      <td>Void</td>\n      <td>Shanghai Dragons</td>\n      <td>NaN</td>\n      <td>Zarya</td>\n      <td>0.459524</td>\n    </tr>\n    <tr>\n      <th>1031557</th>\n      <td>2021-09-26 02:53:59</td>\n      <td>37441</td>\n      <td>OWL 2021</td>\n      <td>PAYLOAD</td>\n      <td>Havana</td>\n      <td>Void</td>\n      <td>Shanghai Dragons</td>\n      <td>NaN</td>\n      <td>Zarya</td>\n      <td>0.459524</td>\n    </tr>\n  </tbody>\n</table>\n<p>1031558 rows × 10 columns</p>\n</div>"
     },
     "execution_count": 30,
     "metadata": {},
     "output_type": "execute_result"
    }
   ],
   "source": [
    "df_2021"
   ],
   "metadata": {
    "collapsed": false,
    "ExecuteTime": {
     "end_time": "2024-02-08T17:33:06.669535Z",
     "start_time": "2024-02-08T17:33:06.248065700Z"
    }
   },
   "id": "29cc3e2458900720",
   "execution_count": 30
  },
  {
   "cell_type": "markdown",
   "source": [
    "# 2022 STAGE"
   ],
   "metadata": {
    "collapsed": false
   },
   "id": "fc10f27cf20fbb5c"
  },
  {
   "cell_type": "code",
   "outputs": [],
   "source": [
    "# |exporti\n",
    "df_2022 = pd.read_csv(f'{owl_path}/phs_2022.csv')"
   ],
   "metadata": {
    "collapsed": false,
    "ExecuteTime": {
     "end_time": "2024-02-08T17:33:08.238274700Z",
     "start_time": "2024-02-08T17:33:06.264802700Z"
    }
   },
   "id": "f6f560d5b9a8c4e7",
   "execution_count": 31
  },
  {
   "cell_type": "code",
   "outputs": [
    {
     "data": {
      "text/plain": "                      start_time  match_id                      stage  \\\n0        2022-05-05 19:10:00 UTC     38971  Kickoff Clash: Qualifiers   \n1        2022-05-05 19:10:00 UTC     38971  Kickoff Clash: Qualifiers   \n2        2022-05-05 19:10:00 UTC     38971  Kickoff Clash: Qualifiers   \n3        2022-05-05 19:10:00 UTC     38971  Kickoff Clash: Qualifiers   \n4        2022-05-05 19:10:00 UTC     38971  Kickoff Clash: Qualifiers   \n...                          ...       ...                        ...   \n1048570  2022-10-08 10:28:00 UTC     39346  Countdown Cup: Qualifiers   \n1048571  2022-10-08 10:28:00 UTC     39346  Countdown Cup: Qualifiers   \n1048572  2022-10-08 10:28:00 UTC     39346  Countdown Cup: Qualifiers   \n1048573  2022-10-08 10:28:00 UTC     39346  Countdown Cup: Qualifiers   \n1048574  2022-10-08 10:28:00 UTC     39346  Countdown Cup: Qualifiers   \n\n        map_type            map      player                    team  \\\n0        control  Lijiang Tower  FunnyAstro  Los Angeles Gladiators   \n1        control  Lijiang Tower  FunnyAstro  Los Angeles Gladiators   \n2        control  Lijiang Tower  FunnyAstro  Los Angeles Gladiators   \n3        control  Lijiang Tower  FunnyAstro  Los Angeles Gladiators   \n4        control  Lijiang Tower  FunnyAstro  Los Angeles Gladiators   \n...          ...            ...         ...                     ...   \n1048570   hybrid    Eichenwalde  ChoiSehwan        Guangzhou Charge   \n1048571   hybrid    Eichenwalde  ChoiSehwan        Guangzhou Charge   \n1048572   hybrid    Eichenwalde  ChoiSehwan        Guangzhou Charge   \n1048573   hybrid    Eichenwalde  ChoiSehwan        Guangzhou Charge   \n1048574   hybrid    Eichenwalde  ChoiSehwan        Guangzhou Charge   \n\n                         stat        hero   stat_amount  \n0             All Damage Done  All Heroes  11560.871071  \n1                     Assists  All Heroes     15.000000  \n2          Average Time Alive  All Heroes     83.394003  \n3         Barrier Damage Done  All Heroes   4265.500527  \n4        Damage - Quick Melee  All Heroes    135.000000  \n...                       ...         ...           ...  \n1048570      Healing Received      Tracer   4543.289774  \n1048571      Hero Damage Done      Tracer  14736.386035  \n1048572     Melee Final Blows      Tracer      5.000000  \n1048573       Objective Kills      Tracer      9.000000  \n1048574     Quick Melee Ticks      Tracer     41.000000  \n\n[1048575 rows x 10 columns]",
      "text/html": "<div>\n<style scoped>\n    .dataframe tbody tr th:only-of-type {\n        vertical-align: middle;\n    }\n\n    .dataframe tbody tr th {\n        vertical-align: top;\n    }\n\n    .dataframe thead th {\n        text-align: right;\n    }\n</style>\n<table border=\"1\" class=\"dataframe\">\n  <thead>\n    <tr style=\"text-align: right;\">\n      <th></th>\n      <th>start_time</th>\n      <th>match_id</th>\n      <th>stage</th>\n      <th>map_type</th>\n      <th>map</th>\n      <th>player</th>\n      <th>team</th>\n      <th>stat</th>\n      <th>hero</th>\n      <th>stat_amount</th>\n    </tr>\n  </thead>\n  <tbody>\n    <tr>\n      <th>0</th>\n      <td>2022-05-05 19:10:00 UTC</td>\n      <td>38971</td>\n      <td>Kickoff Clash: Qualifiers</td>\n      <td>control</td>\n      <td>Lijiang Tower</td>\n      <td>FunnyAstro</td>\n      <td>Los Angeles Gladiators</td>\n      <td>All Damage Done</td>\n      <td>All Heroes</td>\n      <td>11560.871071</td>\n    </tr>\n    <tr>\n      <th>1</th>\n      <td>2022-05-05 19:10:00 UTC</td>\n      <td>38971</td>\n      <td>Kickoff Clash: Qualifiers</td>\n      <td>control</td>\n      <td>Lijiang Tower</td>\n      <td>FunnyAstro</td>\n      <td>Los Angeles Gladiators</td>\n      <td>Assists</td>\n      <td>All Heroes</td>\n      <td>15.000000</td>\n    </tr>\n    <tr>\n      <th>2</th>\n      <td>2022-05-05 19:10:00 UTC</td>\n      <td>38971</td>\n      <td>Kickoff Clash: Qualifiers</td>\n      <td>control</td>\n      <td>Lijiang Tower</td>\n      <td>FunnyAstro</td>\n      <td>Los Angeles Gladiators</td>\n      <td>Average Time Alive</td>\n      <td>All Heroes</td>\n      <td>83.394003</td>\n    </tr>\n    <tr>\n      <th>3</th>\n      <td>2022-05-05 19:10:00 UTC</td>\n      <td>38971</td>\n      <td>Kickoff Clash: Qualifiers</td>\n      <td>control</td>\n      <td>Lijiang Tower</td>\n      <td>FunnyAstro</td>\n      <td>Los Angeles Gladiators</td>\n      <td>Barrier Damage Done</td>\n      <td>All Heroes</td>\n      <td>4265.500527</td>\n    </tr>\n    <tr>\n      <th>4</th>\n      <td>2022-05-05 19:10:00 UTC</td>\n      <td>38971</td>\n      <td>Kickoff Clash: Qualifiers</td>\n      <td>control</td>\n      <td>Lijiang Tower</td>\n      <td>FunnyAstro</td>\n      <td>Los Angeles Gladiators</td>\n      <td>Damage - Quick Melee</td>\n      <td>All Heroes</td>\n      <td>135.000000</td>\n    </tr>\n    <tr>\n      <th>...</th>\n      <td>...</td>\n      <td>...</td>\n      <td>...</td>\n      <td>...</td>\n      <td>...</td>\n      <td>...</td>\n      <td>...</td>\n      <td>...</td>\n      <td>...</td>\n      <td>...</td>\n    </tr>\n    <tr>\n      <th>1048570</th>\n      <td>2022-10-08 10:28:00 UTC</td>\n      <td>39346</td>\n      <td>Countdown Cup: Qualifiers</td>\n      <td>hybrid</td>\n      <td>Eichenwalde</td>\n      <td>ChoiSehwan</td>\n      <td>Guangzhou Charge</td>\n      <td>Healing Received</td>\n      <td>Tracer</td>\n      <td>4543.289774</td>\n    </tr>\n    <tr>\n      <th>1048571</th>\n      <td>2022-10-08 10:28:00 UTC</td>\n      <td>39346</td>\n      <td>Countdown Cup: Qualifiers</td>\n      <td>hybrid</td>\n      <td>Eichenwalde</td>\n      <td>ChoiSehwan</td>\n      <td>Guangzhou Charge</td>\n      <td>Hero Damage Done</td>\n      <td>Tracer</td>\n      <td>14736.386035</td>\n    </tr>\n    <tr>\n      <th>1048572</th>\n      <td>2022-10-08 10:28:00 UTC</td>\n      <td>39346</td>\n      <td>Countdown Cup: Qualifiers</td>\n      <td>hybrid</td>\n      <td>Eichenwalde</td>\n      <td>ChoiSehwan</td>\n      <td>Guangzhou Charge</td>\n      <td>Melee Final Blows</td>\n      <td>Tracer</td>\n      <td>5.000000</td>\n    </tr>\n    <tr>\n      <th>1048573</th>\n      <td>2022-10-08 10:28:00 UTC</td>\n      <td>39346</td>\n      <td>Countdown Cup: Qualifiers</td>\n      <td>hybrid</td>\n      <td>Eichenwalde</td>\n      <td>ChoiSehwan</td>\n      <td>Guangzhou Charge</td>\n      <td>Objective Kills</td>\n      <td>Tracer</td>\n      <td>9.000000</td>\n    </tr>\n    <tr>\n      <th>1048574</th>\n      <td>2022-10-08 10:28:00 UTC</td>\n      <td>39346</td>\n      <td>Countdown Cup: Qualifiers</td>\n      <td>hybrid</td>\n      <td>Eichenwalde</td>\n      <td>ChoiSehwan</td>\n      <td>Guangzhou Charge</td>\n      <td>Quick Melee Ticks</td>\n      <td>Tracer</td>\n      <td>41.000000</td>\n    </tr>\n  </tbody>\n</table>\n<p>1048575 rows × 10 columns</p>\n</div>"
     },
     "execution_count": 32,
     "metadata": {},
     "output_type": "execute_result"
    }
   ],
   "source": [
    "df_2022"
   ],
   "metadata": {
    "collapsed": false,
    "ExecuteTime": {
     "end_time": "2024-02-08T17:33:08.279149600Z",
     "start_time": "2024-02-08T17:33:08.068028300Z"
    }
   },
   "id": "a63195fa6b0be279",
   "execution_count": 32
  },
  {
   "cell_type": "markdown",
   "source": [
    "# 2023 STAGE"
   ],
   "metadata": {
    "collapsed": false
   },
   "id": "9b8f0c2967b2d0f"
  },
  {
   "cell_type": "code",
   "outputs": [],
   "source": [
    "# |exporti\n",
    "df_2023 = pd.read_csv(f'{owl_path}/phs_2023.csv')"
   ],
   "metadata": {
    "collapsed": false,
    "ExecuteTime": {
     "end_time": "2024-02-08T17:33:09.414327700Z",
     "start_time": "2024-02-08T17:33:08.080103800Z"
    }
   },
   "id": "b093d40296cb28c6",
   "execution_count": 33
  },
  {
   "cell_type": "code",
   "outputs": [
    {
     "data": {
      "text/plain": "                     start_time  match_id              stage map_type  \\\n0       2023-03-23 20:11:00 UTC     41215             Pro-Am  control   \n1       2023-03-23 20:11:00 UTC     41215             Pro-Am  control   \n2       2023-03-23 20:11:00 UTC     41215             Pro-Am  control   \n3       2023-03-23 20:11:00 UTC     41215             Pro-Am  control   \n4       2023-03-23 20:11:00 UTC     41215             Pro-Am  control   \n...                         ...       ...                ...      ...   \n676461  2023-06-18 05:27:00 UTC     41057  Midseason Madness  control   \n676462  2023-06-18 05:27:00 UTC     41057  Midseason Madness  control   \n676463  2023-06-18 05:27:00 UTC     41057  Midseason Madness  control   \n676464  2023-06-18 05:27:00 UTC     41057  Midseason Madness  control   \n676465  2023-06-18 05:27:00 UTC     41057  Midseason Madness  control   \n\n                        map   player             team  \\\n0                     Nepal  CH0R0NG   Florida Mayhem   \n1                     Nepal  CH0R0NG   Florida Mayhem   \n2                     Nepal  CH0R0NG   Florida Mayhem   \n3                     Nepal  CH0R0NG   Florida Mayhem   \n4                     Nepal  CH0R0NG   Florida Mayhem   \n...                     ...      ...              ...   \n676461  Antarctic Peninsula      shu  Houston Outlaws   \n676462  Antarctic Peninsula      shu  Houston Outlaws   \n676463  Antarctic Peninsula      shu  Houston Outlaws   \n676464  Antarctic Peninsula      shu  Houston Outlaws   \n676465  Antarctic Peninsula      shu  Houston Outlaws   \n\n                                    stat        hero  stat_amount  \n0                        All Damage Done  All Heroes  4618.946262  \n1                                Assists  All Heroes    23.000000  \n2                                Assists  All Heroes    10.000000  \n3              Assists  - Avg per 10 min  All Heroes     0.029220  \n4                 Assists - Most in Game  All Heroes    23.000000  \n...                                  ...         ...          ...  \n676461                        Time Alive       Moira    51.267001  \n676462            Time Building Ultimate       Moira    74.061002  \n676463  Time Elapsed per Ultimate Earned       Moira   123.979228  \n676464                       Time Played       Moira    74.527243  \n676465     Ultimates Earned - Fractional       Moira     0.597366  \n\n[676466 rows x 10 columns]",
      "text/html": "<div>\n<style scoped>\n    .dataframe tbody tr th:only-of-type {\n        vertical-align: middle;\n    }\n\n    .dataframe tbody tr th {\n        vertical-align: top;\n    }\n\n    .dataframe thead th {\n        text-align: right;\n    }\n</style>\n<table border=\"1\" class=\"dataframe\">\n  <thead>\n    <tr style=\"text-align: right;\">\n      <th></th>\n      <th>start_time</th>\n      <th>match_id</th>\n      <th>stage</th>\n      <th>map_type</th>\n      <th>map</th>\n      <th>player</th>\n      <th>team</th>\n      <th>stat</th>\n      <th>hero</th>\n      <th>stat_amount</th>\n    </tr>\n  </thead>\n  <tbody>\n    <tr>\n      <th>0</th>\n      <td>2023-03-23 20:11:00 UTC</td>\n      <td>41215</td>\n      <td>Pro-Am</td>\n      <td>control</td>\n      <td>Nepal</td>\n      <td>CH0R0NG</td>\n      <td>Florida Mayhem</td>\n      <td>All Damage Done</td>\n      <td>All Heroes</td>\n      <td>4618.946262</td>\n    </tr>\n    <tr>\n      <th>1</th>\n      <td>2023-03-23 20:11:00 UTC</td>\n      <td>41215</td>\n      <td>Pro-Am</td>\n      <td>control</td>\n      <td>Nepal</td>\n      <td>CH0R0NG</td>\n      <td>Florida Mayhem</td>\n      <td>Assists</td>\n      <td>All Heroes</td>\n      <td>23.000000</td>\n    </tr>\n    <tr>\n      <th>2</th>\n      <td>2023-03-23 20:11:00 UTC</td>\n      <td>41215</td>\n      <td>Pro-Am</td>\n      <td>control</td>\n      <td>Nepal</td>\n      <td>CH0R0NG</td>\n      <td>Florida Mayhem</td>\n      <td>Assists</td>\n      <td>All Heroes</td>\n      <td>10.000000</td>\n    </tr>\n    <tr>\n      <th>3</th>\n      <td>2023-03-23 20:11:00 UTC</td>\n      <td>41215</td>\n      <td>Pro-Am</td>\n      <td>control</td>\n      <td>Nepal</td>\n      <td>CH0R0NG</td>\n      <td>Florida Mayhem</td>\n      <td>Assists  - Avg per 10 min</td>\n      <td>All Heroes</td>\n      <td>0.029220</td>\n    </tr>\n    <tr>\n      <th>4</th>\n      <td>2023-03-23 20:11:00 UTC</td>\n      <td>41215</td>\n      <td>Pro-Am</td>\n      <td>control</td>\n      <td>Nepal</td>\n      <td>CH0R0NG</td>\n      <td>Florida Mayhem</td>\n      <td>Assists - Most in Game</td>\n      <td>All Heroes</td>\n      <td>23.000000</td>\n    </tr>\n    <tr>\n      <th>...</th>\n      <td>...</td>\n      <td>...</td>\n      <td>...</td>\n      <td>...</td>\n      <td>...</td>\n      <td>...</td>\n      <td>...</td>\n      <td>...</td>\n      <td>...</td>\n      <td>...</td>\n    </tr>\n    <tr>\n      <th>676461</th>\n      <td>2023-06-18 05:27:00 UTC</td>\n      <td>41057</td>\n      <td>Midseason Madness</td>\n      <td>control</td>\n      <td>Antarctic Peninsula</td>\n      <td>shu</td>\n      <td>Houston Outlaws</td>\n      <td>Time Alive</td>\n      <td>Moira</td>\n      <td>51.267001</td>\n    </tr>\n    <tr>\n      <th>676462</th>\n      <td>2023-06-18 05:27:00 UTC</td>\n      <td>41057</td>\n      <td>Midseason Madness</td>\n      <td>control</td>\n      <td>Antarctic Peninsula</td>\n      <td>shu</td>\n      <td>Houston Outlaws</td>\n      <td>Time Building Ultimate</td>\n      <td>Moira</td>\n      <td>74.061002</td>\n    </tr>\n    <tr>\n      <th>676463</th>\n      <td>2023-06-18 05:27:00 UTC</td>\n      <td>41057</td>\n      <td>Midseason Madness</td>\n      <td>control</td>\n      <td>Antarctic Peninsula</td>\n      <td>shu</td>\n      <td>Houston Outlaws</td>\n      <td>Time Elapsed per Ultimate Earned</td>\n      <td>Moira</td>\n      <td>123.979228</td>\n    </tr>\n    <tr>\n      <th>676464</th>\n      <td>2023-06-18 05:27:00 UTC</td>\n      <td>41057</td>\n      <td>Midseason Madness</td>\n      <td>control</td>\n      <td>Antarctic Peninsula</td>\n      <td>shu</td>\n      <td>Houston Outlaws</td>\n      <td>Time Played</td>\n      <td>Moira</td>\n      <td>74.527243</td>\n    </tr>\n    <tr>\n      <th>676465</th>\n      <td>2023-06-18 05:27:00 UTC</td>\n      <td>41057</td>\n      <td>Midseason Madness</td>\n      <td>control</td>\n      <td>Antarctic Peninsula</td>\n      <td>shu</td>\n      <td>Houston Outlaws</td>\n      <td>Ultimates Earned - Fractional</td>\n      <td>Moira</td>\n      <td>0.597366</td>\n    </tr>\n  </tbody>\n</table>\n<p>676466 rows × 10 columns</p>\n</div>"
     },
     "execution_count": 34,
     "metadata": {},
     "output_type": "execute_result"
    }
   ],
   "source": [
    "df_2023"
   ],
   "metadata": {
    "collapsed": false,
    "ExecuteTime": {
     "end_time": "2024-02-08T17:33:09.512587Z",
     "start_time": "2024-02-08T17:33:09.147416300Z"
    }
   },
   "id": "86a05193bc4ec221",
   "execution_count": 34
  },
  {
   "cell_type": "markdown",
   "source": [
    "# MERGE DATAFRAMES"
   ],
   "metadata": {
    "collapsed": false
   },
   "id": "611ac6522bfb9392"
  },
  {
   "cell_type": "code",
   "outputs": [],
   "source": [
    "# |export\n",
    "# merge every dataframes in one\n",
    "df = pd.concat(\n",
    "    [df_2018_s1, df_2018_s2, df_2018_s3, df_2018_s4, df_2018_po, df_2019_s1, df_2019_s2, df_2019_s3, df_2019_s4,\n",
    "     df_2019_po, df_2020_s1, df_2020_s2, df_2021, df_2022, df_2023])"
   ],
   "metadata": {
    "collapsed": false,
    "ExecuteTime": {
     "end_time": "2024-02-08T17:33:09.895582Z",
     "start_time": "2024-02-08T17:33:09.158542300Z"
    }
   },
   "id": "1f40ba42d731ef80",
   "execution_count": 35
  },
  {
   "cell_type": "code",
   "outputs": [
    {
     "data": {
      "text/plain": "                     start_time  match_id                       stage  \\\n0                1/11/2018 0:12     10223  Overwatch League - Stage 1   \n1                1/11/2018 0:12     10223  Overwatch League - Stage 1   \n2                1/11/2018 0:12     10223  Overwatch League - Stage 1   \n3                1/11/2018 0:12     10223  Overwatch League - Stage 1   \n4                1/11/2018 0:12     10223  Overwatch League - Stage 1   \n...                         ...       ...                         ...   \n676461  2023-06-18 05:27:00 UTC     41057           Midseason Madness   \n676462  2023-06-18 05:27:00 UTC     41057           Midseason Madness   \n676463  2023-06-18 05:27:00 UTC     41057           Midseason Madness   \n676464  2023-06-18 05:27:00 UTC     41057           Midseason Madness   \n676465  2023-06-18 05:27:00 UTC     41057           Midseason Madness   \n\n       map_type                  map     player                 team  \\\n0       PAYLOAD               Dorado  Agilities  Los Angeles Valiant   \n1       PAYLOAD               Dorado  Agilities  Los Angeles Valiant   \n2       PAYLOAD               Dorado  Agilities  Los Angeles Valiant   \n3       PAYLOAD               Dorado  Agilities  Los Angeles Valiant   \n4       PAYLOAD               Dorado  Agilities  Los Angeles Valiant   \n...         ...                  ...        ...                  ...   \n676461  control  Antarctic Peninsula        shu      Houston Outlaws   \n676462  control  Antarctic Peninsula        shu      Houston Outlaws   \n676463  control  Antarctic Peninsula        shu      Houston Outlaws   \n676464  control  Antarctic Peninsula        shu      Houston Outlaws   \n676465  control  Antarctic Peninsula        shu      Houston Outlaws   \n\n                                    stat        hero   stat_amount  \n0                        All Damage Done  All Heroes  18079.206920  \n1                                Assists  All Heroes     17.000000  \n2                    Barrier Damage Done  All Heroes   2893.659185  \n3                   Damage - Quick Melee  All Heroes    443.204010  \n4                                 Deaths  All Heroes     11.000000  \n...                                  ...         ...           ...  \n676461                        Time Alive       Moira     51.267001  \n676462            Time Building Ultimate       Moira     74.061002  \n676463  Time Elapsed per Ultimate Earned       Moira    123.979228  \n676464                       Time Played       Moira     74.527243  \n676465     Ultimates Earned - Fractional       Moira      0.597366  \n\n[6672124 rows x 10 columns]",
      "text/html": "<div>\n<style scoped>\n    .dataframe tbody tr th:only-of-type {\n        vertical-align: middle;\n    }\n\n    .dataframe tbody tr th {\n        vertical-align: top;\n    }\n\n    .dataframe thead th {\n        text-align: right;\n    }\n</style>\n<table border=\"1\" class=\"dataframe\">\n  <thead>\n    <tr style=\"text-align: right;\">\n      <th></th>\n      <th>start_time</th>\n      <th>match_id</th>\n      <th>stage</th>\n      <th>map_type</th>\n      <th>map</th>\n      <th>player</th>\n      <th>team</th>\n      <th>stat</th>\n      <th>hero</th>\n      <th>stat_amount</th>\n    </tr>\n  </thead>\n  <tbody>\n    <tr>\n      <th>0</th>\n      <td>1/11/2018 0:12</td>\n      <td>10223</td>\n      <td>Overwatch League - Stage 1</td>\n      <td>PAYLOAD</td>\n      <td>Dorado</td>\n      <td>Agilities</td>\n      <td>Los Angeles Valiant</td>\n      <td>All Damage Done</td>\n      <td>All Heroes</td>\n      <td>18079.206920</td>\n    </tr>\n    <tr>\n      <th>1</th>\n      <td>1/11/2018 0:12</td>\n      <td>10223</td>\n      <td>Overwatch League - Stage 1</td>\n      <td>PAYLOAD</td>\n      <td>Dorado</td>\n      <td>Agilities</td>\n      <td>Los Angeles Valiant</td>\n      <td>Assists</td>\n      <td>All Heroes</td>\n      <td>17.000000</td>\n    </tr>\n    <tr>\n      <th>2</th>\n      <td>1/11/2018 0:12</td>\n      <td>10223</td>\n      <td>Overwatch League - Stage 1</td>\n      <td>PAYLOAD</td>\n      <td>Dorado</td>\n      <td>Agilities</td>\n      <td>Los Angeles Valiant</td>\n      <td>Barrier Damage Done</td>\n      <td>All Heroes</td>\n      <td>2893.659185</td>\n    </tr>\n    <tr>\n      <th>3</th>\n      <td>1/11/2018 0:12</td>\n      <td>10223</td>\n      <td>Overwatch League - Stage 1</td>\n      <td>PAYLOAD</td>\n      <td>Dorado</td>\n      <td>Agilities</td>\n      <td>Los Angeles Valiant</td>\n      <td>Damage - Quick Melee</td>\n      <td>All Heroes</td>\n      <td>443.204010</td>\n    </tr>\n    <tr>\n      <th>4</th>\n      <td>1/11/2018 0:12</td>\n      <td>10223</td>\n      <td>Overwatch League - Stage 1</td>\n      <td>PAYLOAD</td>\n      <td>Dorado</td>\n      <td>Agilities</td>\n      <td>Los Angeles Valiant</td>\n      <td>Deaths</td>\n      <td>All Heroes</td>\n      <td>11.000000</td>\n    </tr>\n    <tr>\n      <th>...</th>\n      <td>...</td>\n      <td>...</td>\n      <td>...</td>\n      <td>...</td>\n      <td>...</td>\n      <td>...</td>\n      <td>...</td>\n      <td>...</td>\n      <td>...</td>\n      <td>...</td>\n    </tr>\n    <tr>\n      <th>676461</th>\n      <td>2023-06-18 05:27:00 UTC</td>\n      <td>41057</td>\n      <td>Midseason Madness</td>\n      <td>control</td>\n      <td>Antarctic Peninsula</td>\n      <td>shu</td>\n      <td>Houston Outlaws</td>\n      <td>Time Alive</td>\n      <td>Moira</td>\n      <td>51.267001</td>\n    </tr>\n    <tr>\n      <th>676462</th>\n      <td>2023-06-18 05:27:00 UTC</td>\n      <td>41057</td>\n      <td>Midseason Madness</td>\n      <td>control</td>\n      <td>Antarctic Peninsula</td>\n      <td>shu</td>\n      <td>Houston Outlaws</td>\n      <td>Time Building Ultimate</td>\n      <td>Moira</td>\n      <td>74.061002</td>\n    </tr>\n    <tr>\n      <th>676463</th>\n      <td>2023-06-18 05:27:00 UTC</td>\n      <td>41057</td>\n      <td>Midseason Madness</td>\n      <td>control</td>\n      <td>Antarctic Peninsula</td>\n      <td>shu</td>\n      <td>Houston Outlaws</td>\n      <td>Time Elapsed per Ultimate Earned</td>\n      <td>Moira</td>\n      <td>123.979228</td>\n    </tr>\n    <tr>\n      <th>676464</th>\n      <td>2023-06-18 05:27:00 UTC</td>\n      <td>41057</td>\n      <td>Midseason Madness</td>\n      <td>control</td>\n      <td>Antarctic Peninsula</td>\n      <td>shu</td>\n      <td>Houston Outlaws</td>\n      <td>Time Played</td>\n      <td>Moira</td>\n      <td>74.527243</td>\n    </tr>\n    <tr>\n      <th>676465</th>\n      <td>2023-06-18 05:27:00 UTC</td>\n      <td>41057</td>\n      <td>Midseason Madness</td>\n      <td>control</td>\n      <td>Antarctic Peninsula</td>\n      <td>shu</td>\n      <td>Houston Outlaws</td>\n      <td>Ultimates Earned - Fractional</td>\n      <td>Moira</td>\n      <td>0.597366</td>\n    </tr>\n  </tbody>\n</table>\n<p>6672124 rows × 10 columns</p>\n</div>"
     },
     "execution_count": 36,
     "metadata": {},
     "output_type": "execute_result"
    }
   ],
   "source": [
    "df"
   ],
   "metadata": {
    "collapsed": false,
    "ExecuteTime": {
     "end_time": "2024-02-08T17:33:09.898097800Z",
     "start_time": "2024-02-08T17:33:09.567335500Z"
    }
   },
   "id": "9cef15576c323ae3",
   "execution_count": 36
  },
  {
   "cell_type": "markdown",
   "source": [
    "# CLEAN DATA"
   ],
   "metadata": {
    "collapsed": false
   },
   "id": "1fb7a7b355de6cbe"
  },
  {
   "cell_type": "code",
   "outputs": [],
   "source": [
    "# |exporti\n",
    "# replace every 'McCree' in 'hero' column by 'Cassidy' (do not create a new column)\n",
    "df.replace({'hero': 'McCree'}, 'Cassidy', inplace=True)\n",
    "df.replace({'hero': 'Lucio'}, 'Lúcio', inplace=True)\n",
    "df.replace({'hero': 'Torbjorn'}, 'Torbjörn', inplace=True)\n",
    "# todo rename every 'old' teams by their 'new' name\n",
    "# todo remove player from team list"
   ],
   "metadata": {
    "collapsed": false,
    "ExecuteTime": {
     "end_time": "2024-02-08T17:33:11.391161900Z",
     "start_time": "2024-02-08T17:33:09.581508400Z"
    }
   },
   "id": "15f1f268a6a8c483",
   "execution_count": 37
  },
  {
   "cell_type": "code",
   "outputs": [
    {
     "data": {
      "text/plain": "Empty DataFrame\nColumns: [start_time, match_id, stage, map_type, map, player, team, stat, hero, stat_amount]\nIndex: []",
      "text/html": "<div>\n<style scoped>\n    .dataframe tbody tr th:only-of-type {\n        vertical-align: middle;\n    }\n\n    .dataframe tbody tr th {\n        vertical-align: top;\n    }\n\n    .dataframe thead th {\n        text-align: right;\n    }\n</style>\n<table border=\"1\" class=\"dataframe\">\n  <thead>\n    <tr style=\"text-align: right;\">\n      <th></th>\n      <th>start_time</th>\n      <th>match_id</th>\n      <th>stage</th>\n      <th>map_type</th>\n      <th>map</th>\n      <th>player</th>\n      <th>team</th>\n      <th>stat</th>\n      <th>hero</th>\n      <th>stat_amount</th>\n    </tr>\n  </thead>\n  <tbody>\n  </tbody>\n</table>\n</div>"
     },
     "execution_count": 38,
     "metadata": {},
     "output_type": "execute_result"
    }
   ],
   "source": [
    "# check if it worked\n",
    "df[df['hero'] == 'McCree']"
   ],
   "metadata": {
    "collapsed": false,
    "ExecuteTime": {
     "end_time": "2024-02-08T17:33:11.879584800Z",
     "start_time": "2024-02-08T17:33:11.348610Z"
    }
   },
   "id": "aa6ac5613df082b1",
   "execution_count": 38
  },
  {
   "cell_type": "markdown",
   "source": [
    "# PLAYGROUND"
   ],
   "metadata": {
    "collapsed": false
   },
   "id": "660a099e741ec1e7"
  },
  {
   "cell_type": "code",
   "execution_count": 39,
   "outputs": [
    {
     "data": {
      "text/plain": "map"
     },
     "execution_count": 39,
     "metadata": {},
     "output_type": "execute_result"
    }
   ],
   "source": [
    "map"
   ],
   "metadata": {
    "collapsed": false,
    "ExecuteTime": {
     "end_time": "2024-02-08T17:33:11.888083900Z",
     "start_time": "2024-02-08T17:33:11.801554100Z"
    }
   },
   "id": "a99e17e4df846a77"
  },
  {
   "cell_type": "code",
   "outputs": [
    {
     "data": {
      "text/plain": "Index(['start_time', 'match_id', 'stage', 'map_type', 'map', 'player', 'team',\n       'stat', 'hero', 'stat_amount'],\n      dtype='object')"
     },
     "execution_count": 40,
     "metadata": {},
     "output_type": "execute_result"
    }
   ],
   "source": [
    "# get columns\n",
    "df.columns"
   ],
   "metadata": {
    "collapsed": false,
    "ExecuteTime": {
     "end_time": "2024-02-08T17:33:11.891093100Z",
     "start_time": "2024-02-08T17:33:11.808400Z"
    }
   },
   "id": "159cbca5a19ad2b5",
   "execution_count": 40
  },
  {
   "cell_type": "code",
   "outputs": [],
   "source": [
    "# |export\n",
    "def get_heroes_stat(stat: str) -> pd.Series:\n",
    "    result = df[df['stat'] == stat].groupby('hero')['stat_amount'].sum().sort_values(ascending=False)\n",
    "    result.name = stat\n",
    "    result.index.name = 'Hero'\n",
    "    return result\n"
   ],
   "metadata": {
    "collapsed": false,
    "ExecuteTime": {
     "end_time": "2024-02-08T17:33:11.893093900Z",
     "start_time": "2024-02-08T17:33:11.815092500Z"
    }
   },
   "id": "ac4573860101ded6",
   "execution_count": 41
  },
  {
   "cell_type": "code",
   "outputs": [
    {
     "data": {
      "text/plain": "Hero\nAll Heroes       5.276624e+08\nD.Va             4.938023e+07\nTracer           4.045653e+07\nZenyatta         3.799789e+07\nWinston          3.410991e+07\nZarya            3.002529e+07\nLúcio            2.823626e+07\nBrigitte         2.282757e+07\nReinhardt        2.203964e+07\nGenji            2.026381e+07\nSombra           1.772802e+07\nSigma            1.658381e+07\nWidowmaker       1.556286e+07\nAshe             1.491497e+07\nOrisa            1.443518e+07\nAna              1.440564e+07\nCassidy          1.250256e+07\nReaper           1.185404e+07\nMei              1.157157e+07\nSojourn          1.138871e+07\nHanzo            1.095003e+07\nEcho             1.081501e+07\nBaptiste         1.068435e+07\nPharah           1.005415e+07\nWrecking Ball    9.119774e+06\nSoldier: 76      8.750529e+06\nMoira            7.957078e+06\nJunker Queen     6.368943e+06\nDoomfist         5.995476e+06\nJunkrat          5.962906e+06\nRoadhog          5.006571e+06\nRamattra         2.582117e+06\nTorbjörn         2.276272e+06\nSymmetra         2.191157e+06\nBastion          1.302136e+06\nKiriko           1.215698e+06\nMercy            5.569027e+05\nLifeweaver       2.185426e+03\nName: Hero Damage Done, dtype: float64"
     },
     "execution_count": 42,
     "metadata": {},
     "output_type": "execute_result"
    }
   ],
   "source": [
    "get_heroes_stat('Hero Damage Done')"
   ],
   "metadata": {
    "collapsed": false,
    "ExecuteTime": {
     "end_time": "2024-02-08T17:33:12.339098400Z",
     "start_time": "2024-02-08T17:33:11.820000100Z"
    }
   },
   "id": "913faa6045b2c3ab",
   "execution_count": 42
  },
  {
   "cell_type": "code",
   "outputs": [],
   "source": [
    "# |export\n",
    "def get_heroes_stat_by_player(stat: str, player: str) -> pd.Series:\n",
    "    result = df[(df['stat'] == stat) & (df['player'] == player)].groupby('hero')['stat_amount'].sum().sort_values(\n",
    "        ascending=False)\n",
    "    result.name = stat\n",
    "    result.index.name = 'Hero'\n",
    "    return result"
   ],
   "metadata": {
    "collapsed": false,
    "ExecuteTime": {
     "end_time": "2024-02-08T17:33:12.341102300Z",
     "start_time": "2024-02-08T17:33:12.245698900Z"
    }
   },
   "id": "7f80046716c303bc",
   "execution_count": 43
  },
  {
   "cell_type": "markdown",
   "source": [],
   "metadata": {
    "collapsed": false
   },
   "id": "57bb14ffcc94ee74"
  },
  {
   "cell_type": "code",
   "outputs": [
    {
     "data": {
      "text/plain": "Hero\nAll Heroes     3.475305e+06\nTracer         1.117671e+06\nWidowmaker     8.452178e+05\nZarya          4.540467e+05\nReaper         2.464126e+05\nSombra         1.892018e+05\nAshe           1.616637e+05\nCassidy        1.578507e+05\nHanzo          7.359692e+04\nSymmetra       6.375518e+04\nJunkrat        6.177393e+04\nBastion        4.808167e+04\nTorbjörn       2.485384e+04\nSoldier: 76    1.818807e+04\nBrigitte       5.557341e+03\nDoomfist       3.000751e+03\nRoadhog        2.571373e+03\nMei            1.862042e+03\nName: Hero Damage Done, dtype: float64"
     },
     "execution_count": 44,
     "metadata": {},
     "output_type": "execute_result"
    }
   ],
   "source": [
    "get_heroes_stat_by_player('Hero Damage Done', 'SoOn')"
   ],
   "metadata": {
    "collapsed": false,
    "ExecuteTime": {
     "end_time": "2024-02-08T17:33:13.322836800Z",
     "start_time": "2024-02-08T17:33:12.250208700Z"
    }
   },
   "id": "78c36d2859327c6b",
   "execution_count": 44
  },
  {
   "cell_type": "code",
   "outputs": [],
   "source": [
    "# |export\n",
    "def get_players_stat_by_team(stat: str, team: str) -> pd.DataFrame:\n",
    "    result = df[(df['stat'] == stat) & (df['team'] == team)].groupby('player')['stat_amount'].sum().sort_values(\n",
    "        ascending=False)\n",
    "    result.name = stat\n",
    "    result.index.name = 'Player'\n",
    "    return result"
   ],
   "metadata": {
    "collapsed": false,
    "ExecuteTime": {
     "end_time": "2024-02-08T17:33:13.326836300Z",
     "start_time": "2024-02-08T17:33:13.305802500Z"
    }
   },
   "id": "437343fad92ca3aa",
   "execution_count": 45
  },
  {
   "cell_type": "code",
   "outputs": [
    {
     "data": {
      "text/plain": "Player\nSoOn          3.263117e+06\nHanbin        2.181567e+06\nBenBest       2.133641e+06\nNiCOgdh       2.021381e+06\nFinnsi        1.811031e+06\nNaga          1.494430e+06\nGreyy         1.442293e+06\nOnigod        1.440920e+06\nSP9RK1E       1.222159e+06\nKruise        1.180250e+06\nDaan          1.177268e+06\nXzi           1.156354e+06\nFDGod         1.088555e+06\nShaDowBurn    1.072179e+06\nLhCloudy      9.694601e+05\nKaan          8.627800e+05\ndanye         8.441667e+05\nVestola       8.026986e+05\nFielder       7.108555e+05\nNoSmite       6.840970e+05\nHyP           6.744572e+05\ndridro        4.515350e+05\nELLIVOTE      3.717484e+05\nTsuna         1.682613e+05\nneptuNo       1.280552e+05\nName: Hero Damage Done, dtype: float64"
     },
     "execution_count": 46,
     "metadata": {},
     "output_type": "execute_result"
    }
   ],
   "source": [
    "get_players_stat_by_team('Hero Damage Done', 'Paris Eternal')"
   ],
   "metadata": {
    "collapsed": false,
    "ExecuteTime": {
     "end_time": "2024-02-08T17:33:14.246896900Z",
     "start_time": "2024-02-08T17:33:13.313322400Z"
    }
   },
   "id": "621dd27f87e3dca5",
   "execution_count": 46
  },
  {
   "cell_type": "code",
   "outputs": [],
   "source": [
    "# |export\n",
    "def get_team_scores(team: str, map_type: str = None) -> pd.DataFrame:\n",
    "    # stock every unique game from team (each game as a unique 'match_id'), team name is stocked in 'team_one_name' or 'team_two_name'\n",
    "    team_games = map_stats[(map_stats['team_one_name'] == team) | (map_stats['team_two_name'] == team)]\n",
    "    if map_type:  # only 1 row per game\n",
    "        # add column 'map_type' from dataframe 'df'\n",
    "        team_games = team_games.merge(df[['match_id', 'map_type']], on='match_id')\n",
    "        print(team_games['map_type'].str.lower().unique())\n",
    "        team_games = team_games[team_games['map_type'].str.lower() == map_type.lower()]\n",
    "        # get one row per map\n",
    "        team_games = team_games.drop_duplicates(subset='round_start_time')\n",
    "        # do not keep twice same game_number per match_id\n",
    "        df_grp = team_games.groupby(['match_id', 'game_number'])\n",
    "        team_games = df_grp.first().reset_index()\n",
    "    else:  # only 1 row per match\n",
    "        # get one row per match\n",
    "        team_games = team_games.drop_duplicates(subset='match_id')\n",
    "\n",
    "    # get teams list\n",
    "    opponents = team_games[['team_one_name', 'team_two_name']]\n",
    "    # remove team input from opponents list\n",
    "    opponents = opponents[opponents != team]\n",
    "    # regroup in one column and remove duplicates\n",
    "    opponents = opponents.stack().reset_index(drop=True).drop_duplicates()\n",
    "\n",
    "    results = pd.DataFrame(columns=['team', 'opponent', 'win', 'loss', 'winrate', 'map_type', 'only_matches'])\n",
    "\n",
    "    for opponent in opponents:\n",
    "        matches = team_games[((team_games['team_one_name'] == team) &\n",
    "                              (team_games['team_two_name'] == opponent)) | (\n",
    "                                     (team_games['team_one_name'] == opponent) & (team_games['team_two_name'] == team))]\n",
    "\n",
    "        if map_type:\n",
    "            wins = matches['map_winner'] == team\n",
    "        else:\n",
    "            wins = matches['match_winner'] == team\n",
    "\n",
    "        total_matches = matches.shape[0]\n",
    "        if total_matches == 0:\n",
    "            continue\n",
    "        wins = wins.sum()\n",
    "        losses = len(matches) - wins\n",
    "        winrate = wins / total_matches\n",
    "\n",
    "        row = pd.DataFrame(\n",
    "            {'team': team, 'opponent': opponent, 'total_matches': total_matches, 'win': wins, 'loss': losses,\n",
    "             'winrate': winrate, 'map_type': map_type,\n",
    "             'only_matches': not map_type}, index=[0])\n",
    "        results = pd.concat([results, row], ignore_index=True)\n",
    "\n",
    "    return results"
   ],
   "metadata": {
    "collapsed": false,
    "ExecuteTime": {
     "end_time": "2024-02-08T17:33:14.249409400Z",
     "start_time": "2024-02-08T17:33:14.205132600Z"
    }
   },
   "id": "afa0aba395bc4034",
   "execution_count": 47
  },
  {
   "cell_type": "code",
   "outputs": [
    {
     "name": "stderr",
     "output_type": "stream",
     "text": [
      "C:\\Users\\omist\\AppData\\Local\\Temp\\ipykernel_12488\\2468746795.py:49: FutureWarning: The behavior of DataFrame concatenation with empty or all-NA entries is deprecated. In a future version, this will no longer exclude empty or all-NA columns when determining the result dtypes. To retain the old behavior, exclude the relevant entries before the concat operation.\n",
      "  results = pd.concat([results, row], ignore_index=True)\n"
     ]
    },
    {
     "data": {
      "text/plain": "           team                opponent win loss   winrate map_type  \\\n0   Dallas Fuel           Seoul Dynasty   3    5  0.375000     None   \n1   Dallas Fuel     Los Angeles Valiant   3    5  0.375000     None   \n2   Dallas Fuel         Houston Outlaws   8    6  0.571429     None   \n3   Dallas Fuel         London Spitfire   6    3  0.666667     None   \n4   Dallas Fuel     San Francisco Shock   8   12  0.400000     None   \n5   Dallas Fuel         Boston Uprising   5    4  0.555556     None   \n6   Dallas Fuel     Philadelphia Fusion   2    5  0.285714     None   \n7   Dallas Fuel      New York Excelsior   2    5  0.285714     None   \n8   Dallas Fuel        Shanghai Dragons  10    3  0.769231     None   \n9   Dallas Fuel  Los Angeles Gladiators   6    8  0.428571     None   \n10  Dallas Fuel          Florida Mayhem   7    3  0.700000     None   \n11  Dallas Fuel        Guangzhou Charge   0    3  0.000000     None   \n12  Dallas Fuel         Toronto Defiant   7    0  1.000000     None   \n13  Dallas Fuel           Paris Eternal   1    4  0.200000     None   \n14  Dallas Fuel        Vancouver Titans   4    4  0.500000     None   \n15  Dallas Fuel      Washington Justice   9    2  0.818182     None   \n16  Dallas Fuel         Chengdu Hunters   2    4  0.333333     None   \n17  Dallas Fuel          Hangzhou Spark   1    3  0.250000     None   \n18  Dallas Fuel           Atlanta Reign   5    5  0.500000     None   \n19  Dallas Fuel           Vegas Eternal   2    0  1.000000     None   \n20  Dallas Fuel          Seoul Infernal   0    4  0.000000     None   \n21  Dallas Fuel        Sin Prisa Gaming   1    0  1.000000     None   \n22  Dallas Fuel                O2 Blast   1    0  1.000000     None   \n\n   only_matches  total_matches  \n0          True            8.0  \n1          True            8.0  \n2          True           14.0  \n3          True            9.0  \n4          True           20.0  \n5          True            9.0  \n6          True            7.0  \n7          True            7.0  \n8          True           13.0  \n9          True           14.0  \n10         True           10.0  \n11         True            3.0  \n12         True            7.0  \n13         True            5.0  \n14         True            8.0  \n15         True           11.0  \n16         True            6.0  \n17         True            4.0  \n18         True           10.0  \n19         True            2.0  \n20         True            4.0  \n21         True            1.0  \n22         True            1.0  ",
      "text/html": "<div>\n<style scoped>\n    .dataframe tbody tr th:only-of-type {\n        vertical-align: middle;\n    }\n\n    .dataframe tbody tr th {\n        vertical-align: top;\n    }\n\n    .dataframe thead th {\n        text-align: right;\n    }\n</style>\n<table border=\"1\" class=\"dataframe\">\n  <thead>\n    <tr style=\"text-align: right;\">\n      <th></th>\n      <th>team</th>\n      <th>opponent</th>\n      <th>win</th>\n      <th>loss</th>\n      <th>winrate</th>\n      <th>map_type</th>\n      <th>only_matches</th>\n      <th>total_matches</th>\n    </tr>\n  </thead>\n  <tbody>\n    <tr>\n      <th>0</th>\n      <td>Dallas Fuel</td>\n      <td>Seoul Dynasty</td>\n      <td>3</td>\n      <td>5</td>\n      <td>0.375000</td>\n      <td>None</td>\n      <td>True</td>\n      <td>8.0</td>\n    </tr>\n    <tr>\n      <th>1</th>\n      <td>Dallas Fuel</td>\n      <td>Los Angeles Valiant</td>\n      <td>3</td>\n      <td>5</td>\n      <td>0.375000</td>\n      <td>None</td>\n      <td>True</td>\n      <td>8.0</td>\n    </tr>\n    <tr>\n      <th>2</th>\n      <td>Dallas Fuel</td>\n      <td>Houston Outlaws</td>\n      <td>8</td>\n      <td>6</td>\n      <td>0.571429</td>\n      <td>None</td>\n      <td>True</td>\n      <td>14.0</td>\n    </tr>\n    <tr>\n      <th>3</th>\n      <td>Dallas Fuel</td>\n      <td>London Spitfire</td>\n      <td>6</td>\n      <td>3</td>\n      <td>0.666667</td>\n      <td>None</td>\n      <td>True</td>\n      <td>9.0</td>\n    </tr>\n    <tr>\n      <th>4</th>\n      <td>Dallas Fuel</td>\n      <td>San Francisco Shock</td>\n      <td>8</td>\n      <td>12</td>\n      <td>0.400000</td>\n      <td>None</td>\n      <td>True</td>\n      <td>20.0</td>\n    </tr>\n    <tr>\n      <th>5</th>\n      <td>Dallas Fuel</td>\n      <td>Boston Uprising</td>\n      <td>5</td>\n      <td>4</td>\n      <td>0.555556</td>\n      <td>None</td>\n      <td>True</td>\n      <td>9.0</td>\n    </tr>\n    <tr>\n      <th>6</th>\n      <td>Dallas Fuel</td>\n      <td>Philadelphia Fusion</td>\n      <td>2</td>\n      <td>5</td>\n      <td>0.285714</td>\n      <td>None</td>\n      <td>True</td>\n      <td>7.0</td>\n    </tr>\n    <tr>\n      <th>7</th>\n      <td>Dallas Fuel</td>\n      <td>New York Excelsior</td>\n      <td>2</td>\n      <td>5</td>\n      <td>0.285714</td>\n      <td>None</td>\n      <td>True</td>\n      <td>7.0</td>\n    </tr>\n    <tr>\n      <th>8</th>\n      <td>Dallas Fuel</td>\n      <td>Shanghai Dragons</td>\n      <td>10</td>\n      <td>3</td>\n      <td>0.769231</td>\n      <td>None</td>\n      <td>True</td>\n      <td>13.0</td>\n    </tr>\n    <tr>\n      <th>9</th>\n      <td>Dallas Fuel</td>\n      <td>Los Angeles Gladiators</td>\n      <td>6</td>\n      <td>8</td>\n      <td>0.428571</td>\n      <td>None</td>\n      <td>True</td>\n      <td>14.0</td>\n    </tr>\n    <tr>\n      <th>10</th>\n      <td>Dallas Fuel</td>\n      <td>Florida Mayhem</td>\n      <td>7</td>\n      <td>3</td>\n      <td>0.700000</td>\n      <td>None</td>\n      <td>True</td>\n      <td>10.0</td>\n    </tr>\n    <tr>\n      <th>11</th>\n      <td>Dallas Fuel</td>\n      <td>Guangzhou Charge</td>\n      <td>0</td>\n      <td>3</td>\n      <td>0.000000</td>\n      <td>None</td>\n      <td>True</td>\n      <td>3.0</td>\n    </tr>\n    <tr>\n      <th>12</th>\n      <td>Dallas Fuel</td>\n      <td>Toronto Defiant</td>\n      <td>7</td>\n      <td>0</td>\n      <td>1.000000</td>\n      <td>None</td>\n      <td>True</td>\n      <td>7.0</td>\n    </tr>\n    <tr>\n      <th>13</th>\n      <td>Dallas Fuel</td>\n      <td>Paris Eternal</td>\n      <td>1</td>\n      <td>4</td>\n      <td>0.200000</td>\n      <td>None</td>\n      <td>True</td>\n      <td>5.0</td>\n    </tr>\n    <tr>\n      <th>14</th>\n      <td>Dallas Fuel</td>\n      <td>Vancouver Titans</td>\n      <td>4</td>\n      <td>4</td>\n      <td>0.500000</td>\n      <td>None</td>\n      <td>True</td>\n      <td>8.0</td>\n    </tr>\n    <tr>\n      <th>15</th>\n      <td>Dallas Fuel</td>\n      <td>Washington Justice</td>\n      <td>9</td>\n      <td>2</td>\n      <td>0.818182</td>\n      <td>None</td>\n      <td>True</td>\n      <td>11.0</td>\n    </tr>\n    <tr>\n      <th>16</th>\n      <td>Dallas Fuel</td>\n      <td>Chengdu Hunters</td>\n      <td>2</td>\n      <td>4</td>\n      <td>0.333333</td>\n      <td>None</td>\n      <td>True</td>\n      <td>6.0</td>\n    </tr>\n    <tr>\n      <th>17</th>\n      <td>Dallas Fuel</td>\n      <td>Hangzhou Spark</td>\n      <td>1</td>\n      <td>3</td>\n      <td>0.250000</td>\n      <td>None</td>\n      <td>True</td>\n      <td>4.0</td>\n    </tr>\n    <tr>\n      <th>18</th>\n      <td>Dallas Fuel</td>\n      <td>Atlanta Reign</td>\n      <td>5</td>\n      <td>5</td>\n      <td>0.500000</td>\n      <td>None</td>\n      <td>True</td>\n      <td>10.0</td>\n    </tr>\n    <tr>\n      <th>19</th>\n      <td>Dallas Fuel</td>\n      <td>Vegas Eternal</td>\n      <td>2</td>\n      <td>0</td>\n      <td>1.000000</td>\n      <td>None</td>\n      <td>True</td>\n      <td>2.0</td>\n    </tr>\n    <tr>\n      <th>20</th>\n      <td>Dallas Fuel</td>\n      <td>Seoul Infernal</td>\n      <td>0</td>\n      <td>4</td>\n      <td>0.000000</td>\n      <td>None</td>\n      <td>True</td>\n      <td>4.0</td>\n    </tr>\n    <tr>\n      <th>21</th>\n      <td>Dallas Fuel</td>\n      <td>Sin Prisa Gaming</td>\n      <td>1</td>\n      <td>0</td>\n      <td>1.000000</td>\n      <td>None</td>\n      <td>True</td>\n      <td>1.0</td>\n    </tr>\n    <tr>\n      <th>22</th>\n      <td>Dallas Fuel</td>\n      <td>O2 Blast</td>\n      <td>1</td>\n      <td>0</td>\n      <td>1.000000</td>\n      <td>None</td>\n      <td>True</td>\n      <td>1.0</td>\n    </tr>\n  </tbody>\n</table>\n</div>"
     },
     "execution_count": 48,
     "metadata": {},
     "output_type": "execute_result"
    }
   ],
   "source": [
    "get_team_scores('Dallas Fuel')"
   ],
   "metadata": {
    "collapsed": false,
    "ExecuteTime": {
     "end_time": "2024-02-08T17:33:14.308193600Z",
     "start_time": "2024-02-08T17:33:14.211146500Z"
    }
   },
   "id": "3ea2eafd8bece7f9",
   "execution_count": 48
  },
  {
   "cell_type": "code",
   "outputs": [
    {
     "name": "stdout",
     "output_type": "stream",
     "text": [
      "64\n"
     ]
    },
    {
     "data": {
      "text/plain": "['ANS',\n 'Atlanta Reign',\n 'Baconjack',\n 'Boston Uprising',\n 'Bren',\n 'Brick Movers',\n 'Carpe',\n 'Chengdu Hunters',\n 'Colourhex',\n 'Dallas Fuel',\n 'Dalton',\n 'Diem',\n 'Dreamers',\n 'Fits',\n 'Florida Mayhem',\n 'Glister',\n 'GodsB',\n 'Guangzhou Charge',\n 'Haksal',\n 'Hangzhou Spark',\n 'Happy',\n 'Houston Outlaws',\n 'Jehong and Students',\n 'Jinmu',\n 'KSP',\n 'LiNkzr',\n 'Logix',\n 'London Spitfire',\n 'Los Angeles Gladiators',\n 'Los Angeles Valiant',\n 'New York Excelsior',\n 'O2 Blast',\n 'Onigod',\n 'PANTHERA',\n 'Paris Eternal',\n 'Philadelphia Fusion',\n 'Poker Face',\n 'Profit',\n 'Redbird Esports',\n 'Rhodes',\n 'Saints',\n 'San Francisco Shock',\n 'Seoul Dynasty',\n 'Seoul Infernal',\n 'Shanghai Dragons',\n 'Shockwave',\n 'Sin Prisa Gaming',\n 'Soon',\n 'Sp9rk1e',\n 'Team Custa',\n 'Team D.va',\n 'Team Jake',\n 'Team Peps',\n 'Team Reinhardt',\n 'Team Universe',\n 'Timeless',\n 'Toronto Defiant',\n 'Trick Room',\n 'Triple A',\n 'Twisted Minds',\n 'Vancouver Titans',\n 'Vegas Eternal',\n 'WISP',\n 'Washington Justice']"
     },
     "execution_count": 49,
     "metadata": {},
     "output_type": "execute_result"
    }
   ],
   "source": [
    "# get every team in alphabetical order\n",
    "teams = df['team'].unique()\n",
    "print(len(teams))\n",
    "sorted(teams)"
   ],
   "metadata": {
    "collapsed": false,
    "ExecuteTime": {
     "end_time": "2024-02-08T17:33:14.891766700Z",
     "start_time": "2024-02-08T17:33:14.286614Z"
    }
   },
   "id": "982b59a4e5509a4c",
   "execution_count": 49
  },
  {
   "cell_type": "code",
   "outputs": [
    {
     "name": "stdout",
     "output_type": "stream",
     "text": [
      "32\n"
     ]
    },
    {
     "data": {
      "text/plain": "['Antarctic Peninsula',\n 'Blizzard World',\n 'Busan',\n 'Castillo',\n 'Circuit royal',\n 'Colosseo',\n 'Dorado',\n 'Ecopoint: Antarctica',\n 'Eichenwalde',\n 'Esperança',\n 'Hanamura',\n 'Havana',\n 'Hollywood',\n 'Horizon Lunar Colony',\n 'Ilios',\n 'Junkertown',\n \"King's Row\",\n 'Lijiang Tower',\n 'Midtown',\n 'Necropolis',\n 'Nepal',\n 'New Queen Street',\n 'Numbani',\n 'Oasis',\n 'Paraíso',\n 'Paris',\n 'Rialto',\n 'Route 66',\n 'Shambali Monastery',\n 'Temple of Anubis',\n 'Volskaya Industries',\n 'Watchpoint: Gibraltar']"
     },
     "execution_count": 50,
     "metadata": {},
     "output_type": "execute_result"
    }
   ],
   "source": [
    "# get every map in alphabetical order\n",
    "maps = df['map'].unique()\n",
    "print(len(maps))\n",
    "sorted(maps)"
   ],
   "metadata": {
    "collapsed": false,
    "ExecuteTime": {
     "end_time": "2024-02-08T17:33:15.095993Z",
     "start_time": "2024-02-08T17:33:14.729424600Z"
    }
   },
   "id": "59dcec0a88787ac7",
   "execution_count": 50
  },
  {
   "cell_type": "code",
   "outputs": [
    {
     "name": "stdout",
     "output_type": "stream",
     "text": [
      "38\n"
     ]
    },
    {
     "data": {
      "text/plain": "['All Heroes',\n 'Ana',\n 'Ashe',\n 'Baptiste',\n 'Bastion',\n 'Brigitte',\n 'Cassidy',\n 'D.Va',\n 'Doomfist',\n 'Echo',\n 'Genji',\n 'Hanzo',\n 'Junker Queen',\n 'Junkrat',\n 'Kiriko',\n 'Lifeweaver',\n 'Lúcio',\n 'Mei',\n 'Mercy',\n 'Moira',\n 'Orisa',\n 'Pharah',\n 'Ramattra',\n 'Reaper',\n 'Reinhardt',\n 'Roadhog',\n 'Sigma',\n 'Sojourn',\n 'Soldier: 76',\n 'Sombra',\n 'Symmetra',\n 'Torbjörn',\n 'Tracer',\n 'Widowmaker',\n 'Winston',\n 'Wrecking Ball',\n 'Zarya',\n 'Zenyatta']"
     },
     "execution_count": 51,
     "metadata": {},
     "output_type": "execute_result"
    }
   ],
   "source": [
    "# get every hero in alphabetical order\n",
    "heroes = df['hero'].unique()\n",
    "print(len(heroes))\n",
    "sorted(heroes)"
   ],
   "metadata": {
    "collapsed": false,
    "ExecuteTime": {
     "end_time": "2024-02-08T17:33:15.426527400Z",
     "start_time": "2024-02-08T17:33:15.078391900Z"
    }
   },
   "id": "21ab26a7cd80311a",
   "execution_count": 51
  },
  {
   "cell_type": "code",
   "outputs": [],
   "source": [
    "from nbdev.export import nb_export\n",
    "\n",
    "nb_export(\"owl.ipynb\", lib_path=\"./\", name=\"owl_module\")"
   ],
   "metadata": {
    "collapsed": false,
    "ExecuteTime": {
     "end_time": "2024-02-08T17:35:42.651384Z",
     "start_time": "2024-02-08T17:35:42.638045900Z"
    }
   },
   "id": "94657f606c59e76f",
   "execution_count": 53
  }
 ],
 "metadata": {
  "kernelspec": {
   "display_name": "Python 3",
   "language": "python",
   "name": "python3"
  },
  "language_info": {
   "codemirror_mode": {
    "name": "ipython",
    "version": 2
   },
   "file_extension": ".py",
   "mimetype": "text/x-python",
   "name": "python",
   "nbconvert_exporter": "python",
   "pygments_lexer": "ipython2",
   "version": "2.7.6"
  }
 },
 "nbformat": 4,
 "nbformat_minor": 5
}
