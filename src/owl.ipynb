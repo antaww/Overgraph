{
 "cells": [
  {
   "cell_type": "code",
   "execution_count": 1,
   "id": "initial_id",
   "metadata": {
    "collapsed": true,
    "ExecuteTime": {
     "end_time": "2024-02-13T18:51:05.516490400Z",
     "start_time": "2024-02-13T18:51:03.169969800Z"
    }
   },
   "outputs": [],
   "source": [
    "# |exporti\n",
    "\n",
    "import pandas as pd\n",
    "import streamlit as st\n",
    "import dateutil.parser as dparser\n",
    "from streamlit_jupyter import StreamlitPatcher"
   ]
  },
  {
   "cell_type": "code",
   "outputs": [],
   "source": [
    "sp = StreamlitPatcher()\n",
    "sp.jupyter()  # register patcher with streamlit"
   ],
   "metadata": {
    "collapsed": false,
    "ExecuteTime": {
     "end_time": "2024-02-13T18:51:05.517489700Z",
     "start_time": "2024-02-13T18:51:05.512214300Z"
    }
   },
   "id": "7e2936994752ffeb",
   "execution_count": 2
  },
  {
   "cell_type": "code",
   "outputs": [],
   "source": [
    "# |exporti\n",
    "import os\n",
    "\n",
    "project_name = 'Overgraph'\n",
    "path = os.getcwd().split(project_name)[0] + project_name\n",
    "owl_path = f'{path}/src/datas/owl'\n"
   ],
   "metadata": {
    "collapsed": false,
    "ExecuteTime": {
     "end_time": "2024-02-13T18:51:05.526051400Z",
     "start_time": "2024-02-13T18:51:05.515105100Z"
    }
   },
   "id": "e40769f2e005bab",
   "execution_count": 3
  },
  {
   "cell_type": "markdown",
   "source": [
    "# MAPS"
   ],
   "metadata": {
    "collapsed": false
   },
   "id": "d070459e9200c8b0"
  },
  {
   "cell_type": "code",
   "outputs": [],
   "source": [
    "# |export\n",
    "map_stats = pd.read_csv(f'{owl_path}/match_map_stats.csv')"
   ],
   "metadata": {
    "collapsed": false,
    "ExecuteTime": {
     "end_time": "2024-02-13T18:51:05.588128500Z",
     "start_time": "2024-02-13T18:51:05.523541100Z"
    }
   },
   "id": "430f11901d665e",
   "execution_count": 4
  },
  {
   "cell_type": "markdown",
   "source": [
    "# 2018 STAGE 1"
   ],
   "metadata": {
    "collapsed": false
   },
   "id": "fedaf35c47762b6f"
  },
  {
   "cell_type": "code",
   "outputs": [],
   "source": [
    "# |exporti\n",
    "df_2018_s1 = pd.read_csv(f'{owl_path}/phs_2018_stage_1.csv')"
   ],
   "metadata": {
    "collapsed": false,
    "ExecuteTime": {
     "end_time": "2024-02-13T18:51:05.836761300Z",
     "start_time": "2024-02-13T18:51:05.589129700Z"
    }
   },
   "id": "ae71f4d91bb0dad5",
   "execution_count": 5
  },
  {
   "cell_type": "code",
   "outputs": [],
   "source": [
    "# df_2018_s1"
   ],
   "metadata": {
    "collapsed": false,
    "ExecuteTime": {
     "end_time": "2024-02-13T18:51:05.838925100Z",
     "start_time": "2024-02-13T18:51:05.837416100Z"
    }
   },
   "id": "e8f655ce086ea1b6",
   "execution_count": 6
  },
  {
   "cell_type": "markdown",
   "source": [
    "# 2018 STAGE 2"
   ],
   "metadata": {
    "collapsed": false
   },
   "id": "8b1f51fab3dc6a59"
  },
  {
   "cell_type": "code",
   "outputs": [],
   "source": [
    "# |exporti\n",
    "df_2018_s2 = pd.read_csv(f'{owl_path}/phs_2018_stage_2.csv')"
   ],
   "metadata": {
    "collapsed": false,
    "ExecuteTime": {
     "end_time": "2024-02-13T18:51:06.092436200Z",
     "start_time": "2024-02-13T18:51:05.838925100Z"
    }
   },
   "id": "afc06707722d7660",
   "execution_count": 7
  },
  {
   "cell_type": "code",
   "outputs": [],
   "source": [
    "# df_2018_s2"
   ],
   "metadata": {
    "collapsed": false,
    "ExecuteTime": {
     "end_time": "2024-02-13T18:51:06.093440700Z",
     "start_time": "2024-02-13T18:51:06.091931400Z"
    }
   },
   "id": "6822f1b3bc0103a1",
   "execution_count": 8
  },
  {
   "cell_type": "markdown",
   "source": [
    "# 2018 STAGE 3"
   ],
   "metadata": {
    "collapsed": false
   },
   "id": "3e44f8484353a9bf"
  },
  {
   "cell_type": "code",
   "outputs": [],
   "source": [
    "# |exporti\n",
    "df_2018_s3 = pd.read_csv(f'{owl_path}/phs_2018_stage_3.csv')"
   ],
   "metadata": {
    "collapsed": false,
    "ExecuteTime": {
     "end_time": "2024-02-13T18:51:06.316708Z",
     "start_time": "2024-02-13T18:51:06.093440700Z"
    }
   },
   "id": "a29a2634f35346f0",
   "execution_count": 9
  },
  {
   "cell_type": "code",
   "outputs": [],
   "source": [
    "# df_2018_s3"
   ],
   "metadata": {
    "collapsed": false,
    "ExecuteTime": {
     "end_time": "2024-02-13T18:51:06.320158100Z",
     "start_time": "2024-02-13T18:51:06.317648600Z"
    }
   },
   "id": "c443a94b249fd428",
   "execution_count": 10
  },
  {
   "cell_type": "markdown",
   "source": [
    "# 2018 STAGE 4"
   ],
   "metadata": {
    "collapsed": false
   },
   "id": "a8e6220b55a18269"
  },
  {
   "cell_type": "code",
   "outputs": [],
   "source": [
    "# |exporti\n",
    "df_2018_s4 = pd.read_csv(f'{owl_path}/phs_2018_stage_4.csv')"
   ],
   "metadata": {
    "collapsed": false,
    "ExecuteTime": {
     "end_time": "2024-02-13T18:51:06.558209500Z",
     "start_time": "2024-02-13T18:51:06.319157500Z"
    }
   },
   "id": "dd0b2d17a2727a20",
   "execution_count": 11
  },
  {
   "cell_type": "code",
   "outputs": [],
   "source": [
    "# df_2018_s4"
   ],
   "metadata": {
    "collapsed": false,
    "ExecuteTime": {
     "end_time": "2024-02-13T18:51:06.560356100Z",
     "start_time": "2024-02-13T18:51:06.558845400Z"
    }
   },
   "id": "5495d6682805f3bc",
   "execution_count": 12
  },
  {
   "cell_type": "markdown",
   "source": [
    "# 2018 PLAYOFFS"
   ],
   "metadata": {
    "collapsed": false
   },
   "id": "65d01c2b31074ef1"
  },
  {
   "cell_type": "code",
   "outputs": [],
   "source": [
    "# |exporti\n",
    "df_2018_po = pd.read_csv(f'{owl_path}/phs_2018_playoffs.csv')"
   ],
   "metadata": {
    "collapsed": false,
    "ExecuteTime": {
     "end_time": "2024-02-13T18:51:06.638453500Z",
     "start_time": "2024-02-13T18:51:06.560356100Z"
    }
   },
   "id": "601d38346d8fb1fb",
   "execution_count": 13
  },
  {
   "cell_type": "code",
   "outputs": [],
   "source": [
    "# df_2018_po"
   ],
   "metadata": {
    "collapsed": false,
    "ExecuteTime": {
     "end_time": "2024-02-13T18:51:06.641327700Z",
     "start_time": "2024-02-13T18:51:06.639818700Z"
    }
   },
   "id": "ca51f63d5c712272",
   "execution_count": 14
  },
  {
   "cell_type": "markdown",
   "source": [
    "# 2019 STAGE 1"
   ],
   "metadata": {
    "collapsed": false
   },
   "id": "476eec10af4d6220"
  },
  {
   "cell_type": "code",
   "outputs": [],
   "source": [
    "# |exporti\n",
    "df_2019_s1 = pd.read_csv(f'{owl_path}/phs_2019_stage_1.csv')"
   ],
   "metadata": {
    "collapsed": false,
    "ExecuteTime": {
     "end_time": "2024-02-13T18:51:06.908497300Z",
     "start_time": "2024-02-13T18:51:06.641327700Z"
    }
   },
   "id": "a7c744f5ff8a32f8",
   "execution_count": 15
  },
  {
   "cell_type": "code",
   "outputs": [],
   "source": [
    "# df_2019_s1"
   ],
   "metadata": {
    "collapsed": false,
    "ExecuteTime": {
     "end_time": "2024-02-13T18:51:06.910818Z",
     "start_time": "2024-02-13T18:51:06.909307Z"
    }
   },
   "id": "ba50696b0f72f5a5",
   "execution_count": 16
  },
  {
   "cell_type": "markdown",
   "source": [
    "# 2019 STAGE 2"
   ],
   "metadata": {
    "collapsed": false
   },
   "id": "4eb6e02ffdaffa00"
  },
  {
   "cell_type": "code",
   "outputs": [],
   "source": [
    "# |exporti\n",
    "df_2019_s2 = pd.read_csv(f'{owl_path}/phs_2019_stage_2.csv')"
   ],
   "metadata": {
    "collapsed": false,
    "ExecuteTime": {
     "end_time": "2024-02-13T18:51:07.219046200Z",
     "start_time": "2024-02-13T18:51:06.910818Z"
    }
   },
   "id": "4aa2a5e715ac8790",
   "execution_count": 17
  },
  {
   "cell_type": "code",
   "outputs": [],
   "source": [
    "# df_2019_s2"
   ],
   "metadata": {
    "collapsed": false,
    "ExecuteTime": {
     "end_time": "2024-02-13T18:51:07.221348700Z",
     "start_time": "2024-02-13T18:51:07.219837900Z"
    }
   },
   "id": "845ee1781bfa5f8b",
   "execution_count": 18
  },
  {
   "cell_type": "markdown",
   "source": [
    "# 2019 STAGE 3"
   ],
   "metadata": {
    "collapsed": false
   },
   "id": "a0ea23af7e5877be"
  },
  {
   "cell_type": "code",
   "outputs": [],
   "source": [
    "# |exporti\n",
    "df_2019_s3 = pd.read_csv(f'{owl_path}/phs_2019_stage_3.csv')"
   ],
   "metadata": {
    "collapsed": false,
    "ExecuteTime": {
     "end_time": "2024-02-13T18:51:07.607636900Z",
     "start_time": "2024-02-13T18:51:07.221348700Z"
    }
   },
   "id": "6ec37fb764a37d6f",
   "execution_count": 19
  },
  {
   "cell_type": "code",
   "outputs": [],
   "source": [
    "# df_2019_s3"
   ],
   "metadata": {
    "collapsed": false,
    "ExecuteTime": {
     "end_time": "2024-02-13T18:51:07.609886400Z",
     "start_time": "2024-02-13T18:51:07.608376400Z"
    }
   },
   "id": "d79668f0958771fe",
   "execution_count": 20
  },
  {
   "cell_type": "markdown",
   "source": [
    "# 2019 STAGE 4"
   ],
   "metadata": {
    "collapsed": false
   },
   "id": "169aca4202c080a8"
  },
  {
   "cell_type": "code",
   "outputs": [],
   "source": [
    "# |exporti\n",
    "df_2019_s4 = pd.read_csv(f'{owl_path}/phs_2019_stage_4.csv')"
   ],
   "metadata": {
    "collapsed": false,
    "ExecuteTime": {
     "end_time": "2024-02-13T18:51:07.900852600Z",
     "start_time": "2024-02-13T18:51:07.609886400Z"
    }
   },
   "id": "1139c720bd0d9602",
   "execution_count": 21
  },
  {
   "cell_type": "code",
   "outputs": [],
   "source": [
    "# df_2019_s4"
   ],
   "metadata": {
    "collapsed": false,
    "ExecuteTime": {
     "end_time": "2024-02-13T18:51:07.904134500Z",
     "start_time": "2024-02-13T18:51:07.901624200Z"
    }
   },
   "id": "de265edd7486d1e6",
   "execution_count": 22
  },
  {
   "cell_type": "markdown",
   "source": [
    "# 2019 PLAYOFFS"
   ],
   "metadata": {
    "collapsed": false
   },
   "id": "258d3d09ad9baaa9"
  },
  {
   "cell_type": "code",
   "outputs": [],
   "source": [
    "# |exporti\n",
    "df_2019_po = pd.read_csv(f'{owl_path}/phs_2019_playoffs.csv')"
   ],
   "metadata": {
    "collapsed": false,
    "ExecuteTime": {
     "end_time": "2024-02-13T18:51:08.032904400Z",
     "start_time": "2024-02-13T18:51:07.903134Z"
    }
   },
   "id": "a7c34fc760fbba55",
   "execution_count": 23
  },
  {
   "cell_type": "code",
   "outputs": [],
   "source": [
    "# df_2019_po"
   ],
   "metadata": {
    "collapsed": false,
    "ExecuteTime": {
     "end_time": "2024-02-13T18:51:08.034976400Z",
     "start_time": "2024-02-13T18:51:08.032904400Z"
    }
   },
   "id": "8d09479ebd112f14",
   "execution_count": 24
  },
  {
   "cell_type": "markdown",
   "source": [
    "# 2020 STAGE 1"
   ],
   "metadata": {
    "collapsed": false
   },
   "id": "758b9254ffd7c77e"
  },
  {
   "cell_type": "code",
   "outputs": [],
   "source": [
    "# |exporti\n",
    "df_2020_s1 = pd.read_csv(f'{owl_path}/phs_2020_1.csv')"
   ],
   "metadata": {
    "collapsed": false,
    "ExecuteTime": {
     "end_time": "2024-02-13T18:51:08.594865400Z",
     "start_time": "2024-02-13T18:51:08.034976400Z"
    }
   },
   "id": "3a2cfa21f90612d4",
   "execution_count": 25
  },
  {
   "cell_type": "code",
   "outputs": [],
   "source": [
    "# df_2020_s1"
   ],
   "metadata": {
    "collapsed": false,
    "ExecuteTime": {
     "end_time": "2024-02-13T18:51:08.597117600Z",
     "start_time": "2024-02-13T18:51:08.595606400Z"
    }
   },
   "id": "b330e51dcc6d11a7",
   "execution_count": 26
  },
  {
   "cell_type": "markdown",
   "source": [
    "# 2020 STAGE 2"
   ],
   "metadata": {
    "collapsed": false
   },
   "id": "3c2f401924341244"
  },
  {
   "cell_type": "code",
   "outputs": [],
   "source": [
    "# |exporti\n",
    "df_2020_s2 = pd.read_csv(f'{owl_path}/phs_2020_2.csv')"
   ],
   "metadata": {
    "collapsed": false,
    "ExecuteTime": {
     "end_time": "2024-02-13T18:51:09.020994600Z",
     "start_time": "2024-02-13T18:51:08.597117600Z"
    }
   },
   "id": "d258beaea2726aeb",
   "execution_count": 27
  },
  {
   "cell_type": "code",
   "outputs": [],
   "source": [
    "# df_2020_s2"
   ],
   "metadata": {
    "collapsed": false,
    "ExecuteTime": {
     "end_time": "2024-02-13T18:51:09.023199400Z",
     "start_time": "2024-02-13T18:51:09.021689100Z"
    }
   },
   "id": "af48fc760f5a616c",
   "execution_count": 28
  },
  {
   "cell_type": "markdown",
   "source": [
    "# 2021 STAGE"
   ],
   "metadata": {
    "collapsed": false
   },
   "id": "f0e399cf79fdd603"
  },
  {
   "cell_type": "code",
   "outputs": [],
   "source": [
    "# |exporti\n",
    "df_2021 = pd.read_csv(f'{owl_path}/phs_2021_1.csv')"
   ],
   "metadata": {
    "collapsed": false,
    "ExecuteTime": {
     "end_time": "2024-02-13T18:51:10.002904Z",
     "start_time": "2024-02-13T18:51:09.024199500Z"
    }
   },
   "id": "4cd117336d6455e2",
   "execution_count": 29
  },
  {
   "cell_type": "code",
   "outputs": [],
   "source": [
    "# df_2021"
   ],
   "metadata": {
    "collapsed": false,
    "ExecuteTime": {
     "end_time": "2024-02-13T18:51:10.005713400Z",
     "start_time": "2024-02-13T18:51:10.003698Z"
    }
   },
   "id": "ed7eace15d3f8045",
   "execution_count": 30
  },
  {
   "cell_type": "markdown",
   "source": [
    "# 2022 STAGE"
   ],
   "metadata": {
    "collapsed": false
   },
   "id": "1bf7513ffeba41e2"
  },
  {
   "cell_type": "code",
   "outputs": [],
   "source": [
    "# |exporti\n",
    "df_2022 = pd.read_csv(f'{owl_path}/phs_2022.csv')"
   ],
   "metadata": {
    "collapsed": false,
    "ExecuteTime": {
     "end_time": "2024-02-13T18:51:10.898846Z",
     "start_time": "2024-02-13T18:51:10.005713400Z"
    }
   },
   "id": "41672bf958b5759d",
   "execution_count": 31
  },
  {
   "cell_type": "code",
   "outputs": [],
   "source": [
    "# df_2022"
   ],
   "metadata": {
    "collapsed": false,
    "ExecuteTime": {
     "end_time": "2024-02-13T18:51:10.901177200Z",
     "start_time": "2024-02-13T18:51:10.898846Z"
    }
   },
   "id": "848145f5694561",
   "execution_count": 32
  },
  {
   "cell_type": "markdown",
   "source": [
    "# 2023 STAGE"
   ],
   "metadata": {
    "collapsed": false
   },
   "id": "77300b08a323f6cb"
  },
  {
   "cell_type": "code",
   "outputs": [],
   "source": [
    "# |exporti\n",
    "df_2023 = pd.read_csv(f'{owl_path}/phs_2023.csv')"
   ],
   "metadata": {
    "collapsed": false,
    "ExecuteTime": {
     "end_time": "2024-02-13T18:51:11.381586400Z",
     "start_time": "2024-02-13T18:51:10.901177200Z"
    }
   },
   "id": "c90b4df891bc6cba",
   "execution_count": 33
  },
  {
   "cell_type": "code",
   "outputs": [],
   "source": [
    "# df_2023"
   ],
   "metadata": {
    "collapsed": false,
    "ExecuteTime": {
     "end_time": "2024-02-13T18:51:11.383715800Z",
     "start_time": "2024-02-13T18:51:11.382205100Z"
    }
   },
   "id": "abdefd073a4ef70",
   "execution_count": 34
  },
  {
   "cell_type": "markdown",
   "source": [
    "# MERGE DATAFRAMES"
   ],
   "metadata": {
    "collapsed": false
   },
   "id": "f9f44aa3cc12b1a7"
  },
  {
   "cell_type": "code",
   "outputs": [],
   "source": [
    "# |export\n",
    "# merge every dataframes in one\n",
    "df = pd.concat(\n",
    "    [df_2018_s1, df_2018_s2, df_2018_s3, df_2018_s4, df_2018_po, df_2019_s1, df_2019_s2, df_2019_s3, df_2019_s4,\n",
    "     df_2019_po, df_2020_s1, df_2020_s2, df_2021, df_2022, df_2023])"
   ],
   "metadata": {
    "collapsed": false,
    "ExecuteTime": {
     "end_time": "2024-02-13T18:51:11.512177200Z",
     "start_time": "2024-02-13T18:51:11.383715800Z"
    }
   },
   "id": "ae7a63da7d03489e",
   "execution_count": 35
  },
  {
   "cell_type": "code",
   "outputs": [],
   "source": [
    "# df"
   ],
   "metadata": {
    "collapsed": false,
    "ExecuteTime": {
     "end_time": "2024-02-13T18:51:11.514958400Z",
     "start_time": "2024-02-13T18:51:11.513446300Z"
    }
   },
   "id": "47f8c6c2861c3ba2",
   "execution_count": 36
  },
  {
   "cell_type": "markdown",
   "source": [
    "# CLEAN DATA"
   ],
   "metadata": {
    "collapsed": false
   },
   "id": "47e536ff43c2f4a0"
  },
  {
   "cell_type": "code",
   "outputs": [],
   "source": [
    "# |exporti\n",
    "df.replace({'hero': 'McCree'}, 'Cassidy', inplace=True)\n",
    "df.replace({'hero': 'Lucio'}, 'Lúcio', inplace=True)\n",
    "df.replace({'hero': 'Torbjorn'}, 'Torbjörn', inplace=True)\n",
    "df = df[df['map_type'].str.lower() != 'UNKNOWN'.lower()]\n",
    "df.replace({'team': 'Paris Eternal'}, 'Vegas Eternal', inplace=True)\n",
    "df.replace({'team': 'Philadelphia Fusion'}, 'Seoul Infernal', inplace=True)\n",
    "# todo: rework this part with 'start_time' year extraction and place it in 'stage'\n",
    "stage_2018 = ['Overwatch League - Stage 1', 'Overwatch League - Stage 2', 'Overwatch League - Stage 3',\n",
    "              'Overwatch League - Stage 4', 'Overwatch League - Stage 1 - Title Matches',\n",
    "              'Overwatch League - Stage 2 Title Matches',\n",
    "              'Overwatch League - Stage 3 Title Matches', 'Overwatch League - Stage 4 Title Matches',\n",
    "              'Overwatch League Inaugural Season Championship']\n",
    "stage_2019 = ['Overwatch League Stage 1', 'Overwatch League Stage 2', 'Overwatch League Stage 3',\n",
    "              'Overwatch League Stage 4', 'Overwatch League Stage 1 Title Matches',\n",
    "              'Overwatch League Stage 2 Title Matches', 'Overwatch League Stage 3 Title Matches',\n",
    "              'Overwatch League Stage 4 Title Matches', 'Overwatch League 2019 Post-Season']\n",
    "stage_2020 = ['OWL 2020 Regular Season', 'OWL APAC All-Stars', 'OWL North America All-Stars']\n",
    "stage_2021 = ['OWL 2021']\n",
    "stage_2022 = ['Kickoff Clash: Qualifiers', 'Kickoff Clash: Tournament', 'Midseason Madness: Qualifiers',\n",
    "              'Midseason Madness: Tournament', 'Summer Showdown: Qualifiers', 'Summer Showdown: Tournament',\n",
    "              'Countdown Cup: Qualifiers', 'Countdown Cup: Tournament', 'Postseason']\n",
    "stage_2023 = ['Pro-Am', 'Spring Qualifiers', 'Spring Knockouts', 'Midseason Madness', 'Summer Showdown',\n",
    "              'Countdown Cup', 'Postseason']\n",
    "\n",
    "for stage in stage_2018:\n",
    "    df.replace({'stage': stage}, f'2018 : {stage}', inplace=True)\n",
    "for stage in stage_2019:\n",
    "    df.replace({'stage': stage}, f'2019 : {stage}', inplace=True)\n",
    "for stage in stage_2020:\n",
    "    df.replace({'stage': stage}, f'2020 : {stage}', inplace=True)\n",
    "for stage in stage_2021:\n",
    "    df.replace({'stage': stage}, f'2021 : {stage}', inplace=True)\n",
    "for stage in stage_2022:\n",
    "    df.replace({'stage': stage}, f'2022 : {stage}', inplace=True)\n",
    "for stage in stage_2023:\n",
    "    df.replace({'stage': stage}, f'2023 : {stage}', inplace=True)\n",
    "\n",
    "\n",
    "\n",
    "# !!!! to save execution time, match_map_stats.csv cleaned version has been saved\n",
    "# !!!! if it's your first run, you must uncomment the following part: \n",
    "# for col in ['match_winner', 'map_winner', 'map_loser', 'attacker', 'defender', 'team_one_name', 'team_two_name']:\n",
    "#     map_stats.replace({col: 'Paris Eternal'}, 'Vegas Eternal', inplace=True)\n",
    "#     map_stats.replace({col: 'Philadelphia Fusion'}, 'Seoul Infernal', inplace=True)\n",
    "# map_stats['round_start_time'] = map_stats['round_start_time'].str.replace(' UTC', '')\n",
    "# map_stats['round_end_time'] = map_stats['round_end_time'].str.replace(' UTC', '')\n",
    "# map_stats['round_start_time'] = map_stats['round_start_time'].apply(lambda x: dparser.parse(x, fuzzy=True))\n",
    "# map_stats['round_end_time'] = map_stats['round_end_time'].apply(lambda x: dparser.parse(x, fuzzy=True))\n",
    "# map_stats.to_csv(f'{owl_path}/match_map_stats.csv', index=False)"
   ],
   "metadata": {
    "collapsed": false,
    "ExecuteTime": {
     "end_time": "2024-02-13T18:51:23.340906Z",
     "start_time": "2024-02-13T18:51:11.515964400Z"
    }
   },
   "id": "fd3d61ef96e05cfe",
   "execution_count": 37
  },
  {
   "cell_type": "markdown",
   "source": [
    "# PLAYGROUND"
   ],
   "metadata": {
    "collapsed": false
   },
   "id": "efc94a3a6d74f1c8"
  },
  {
   "cell_type": "code",
   "outputs": [
    {
     "data": {
      "text/plain": "Index(['start_time', 'match_id', 'stage', 'map_type', 'map', 'player', 'team',\n       'stat', 'hero', 'stat_amount'],\n      dtype='object')"
     },
     "execution_count": 38,
     "metadata": {},
     "output_type": "execute_result"
    }
   ],
   "source": [
    "df.columns"
   ],
   "metadata": {
    "collapsed": false,
    "ExecuteTime": {
     "end_time": "2024-02-13T18:51:23.352087600Z",
     "start_time": "2024-02-13T18:51:23.341910300Z"
    }
   },
   "id": "ae366b829d48e921",
   "execution_count": 38
  },
  {
   "cell_type": "code",
   "outputs": [
    {
     "data": {
      "text/plain": "Index(['round_start_time', 'round_end_time', 'stage', 'match_id',\n       'game_number', 'match_winner', 'map_winner', 'map_loser', 'map_name',\n       'map_round', 'winning_team_final_map_score',\n       'losing_team_final_map_score', 'control_round_name', 'Attacker',\n       'Defender', 'team_one_name', 'team_two_name',\n       'attacker_payload_distance', 'defender_payload_distance',\n       'attacker_time_banked', 'defender_time_banked',\n       'attacker_control_perecent', 'defender_control_perecent',\n       'attacker_round_end_score', 'defender_round_end_score'],\n      dtype='object')"
     },
     "execution_count": 39,
     "metadata": {},
     "output_type": "execute_result"
    }
   ],
   "source": [
    "map_stats.columns"
   ],
   "metadata": {
    "collapsed": false,
    "ExecuteTime": {
     "end_time": "2024-02-13T18:51:23.354086700Z",
     "start_time": "2024-02-13T18:51:23.345081500Z"
    }
   },
   "id": "5f0972d157d4eab7",
   "execution_count": 39
  },
  {
   "cell_type": "code",
   "outputs": [],
   "source": [
    "# |export\n",
    "def get_team_profile(team: str, stat: str, stage: str = None) -> pd.DataFrame:\n",
    "    result = df[df['team'] == team]\n",
    "    result = result[result['stat'] == stat]\n",
    "    result = result[result['hero'] == 'All Heroes']\n",
    "    if stage:\n",
    "        print('stage filter')\n",
    "        result = result[result['stage'] == stage]\n",
    "    # sum of every stat_amount for the same match_id\n",
    "    stat_result = result.groupby(['match_id'])['stat_amount'].sum()\n",
    "    # before calculating the avg_stat, sum the stat_amount for the same match_id and same start_time\n",
    "    # example:  3 differents start_time & 1 match_id, the mean will be the sum of the 3 stat_amount divided by 3\n",
    "    total_stat_amount = result.groupby(['match_id', 'start_time'])['stat_amount'].sum()\n",
    "    # get the number of start_time for the same match_id\n",
    "    number_of_start_time_per_match = total_stat_amount.groupby(['match_id']).count()\n",
    "    # calculate the avg_stat\n",
    "    avg_stat = total_stat_amount.groupby(['match_id']).sum() / number_of_start_time_per_match\n",
    "    result['stat_match_total'] = result['match_id'].apply(lambda x: stat_result[x])\n",
    "    result['avg_stat'] = result['match_id'].apply(lambda x: avg_stat[x])\n",
    "    # make every value of stat_match_total in stat_amount\n",
    "    result['stat_amount'] = result['stat_match_total']\n",
    "    result = result.drop(columns=['stat_match_total'])\n",
    "    result = result.reset_index().merge(\n",
    "        map_stats[['match_id', 'match_winner', 'team_one_name', 'team_two_name']], on='match_id')\n",
    "    result['opponent'] = result['team_one_name']\n",
    "    result['opponent'] = result['opponent'].where(result['team_one_name'] != team, result['team_two_name'])\n",
    "    result = result.drop(columns=['team_one_name', 'team_two_name'])\n",
    "    result = result.drop_duplicates(subset='match_id')\n",
    "    result = result.set_index('match_id')\n",
    "    result['start_time'] = result['start_time'].str.replace(' UTC', '')\n",
    "    result['start_time'] = result['start_time'].apply(lambda x: dparser.parse(x, fuzzy=True))\n",
    "    result = result.sort_values(by='start_time')\n",
    "    \n",
    "    # add a column winrate, that will start from 0%, and will be updated \n",
    "    result['winrate'] = 0\n",
    "    win = 0\n",
    "    loss = 0\n",
    "    for match in result.index:\n",
    "        if result.loc[match, 'match_winner'] == team:\n",
    "            win += 1\n",
    "        else:\n",
    "            loss += 1\n",
    "        result.loc[match, 'winrate'] = win / (win + loss) * 100\n",
    "        \n",
    "    # delete useless columns\n",
    "    result = result.drop(columns=['index', 'stat', 'map_type', 'map', 'player', 'hero', 'team'])\n",
    "\n",
    "    result.rename(\n",
    "        columns={'start_time': 'Start Time', 'stat_amount': stat, 'match_winner': 'Match Winner', 'winrate': 'Winrate', 'opponent': 'Opponent', 'stage': 'Stage', 'avg_stat': f'Avg {stat}'},\n",
    "        inplace=True)\n",
    "    result.index.name = 'Match ID'\n",
    "    return result"
   ],
   "metadata": {
    "collapsed": false,
    "ExecuteTime": {
     "end_time": "2024-02-13T18:51:23.362217Z",
     "start_time": "2024-02-13T18:51:23.351086400Z"
    }
   },
   "id": "398dcf28002011fa",
   "execution_count": 40
  },
  {
   "cell_type": "code",
   "outputs": [
    {
     "name": "stderr",
     "output_type": "stream",
     "text": [
      "C:\\Users\\anta\\AppData\\Local\\Temp\\ipykernel_2216\\2801635961.py:43: FutureWarning: Setting an item of incompatible dtype is deprecated and will raise an error in a future version of pandas. Value '66.66666666666666' has dtype incompatible with int64, please explicitly cast to a compatible dtype first.\n",
      "  result.loc[match, 'winrate'] = win / (win + loss) * 100\n"
     ]
    },
    {
     "data": {
      "text/plain": "                  Start Time                            Stage  \\\nMatch ID                                                        \n21209    2019-02-16 20:06:00  2019 : Overwatch League Stage 1   \n21243    2019-02-23 20:05:00  2019 : Overwatch League Stage 1   \n21263    2019-03-02 20:06:00  2019 : Overwatch League Stage 1   \n21303    2019-03-09 01:35:00  2019 : Overwatch League Stage 1   \n21236    2019-03-10 19:06:00  2019 : Overwatch League Stage 1   \n...                      ...                              ...   \n40967    2023-05-13 20:26:00         2023 : Spring Qualifiers   \n40972    2023-05-19 19:12:00         2023 : Spring Qualifiers   \n40975    2023-05-20 19:09:00         2023 : Spring Qualifiers   \n40982    2023-05-26 20:38:00         2023 : Spring Qualifiers   \n40989    2023-05-28 19:05:00         2023 : Spring Qualifiers   \n\n          Hero Damage Done  Avg Hero Damage Done            Match Winner  \\\nMatch ID                                                                   \n21209        158329.157898          39582.289475           Vegas Eternal   \n21243        288877.539596          72219.384899           Vegas Eternal   \n21263        185250.958492          46312.739623           Atlanta Reign   \n21303        243317.837676          60829.459419        Vancouver Titans   \n21236        217677.266882          54419.316720     San Francisco Shock   \n...                    ...                   ...                     ...   \n40967        157359.024199          39339.756050      New York Excelsior   \n40972         89274.181043          29758.060348         Boston Uprising   \n40975        123130.519146          41043.506382  Los Angeles Gladiators   \n40982         96131.888044          32043.962681           Atlanta Reign   \n40989        142845.076955          47615.025652         Toronto Defiant   \n\n                        Opponent     Winrate  \nMatch ID                                      \n21209            London Spitfire  100.000000  \n21243     Los Angeles Gladiators  100.000000  \n21263              Atlanta Reign   66.666667  \n21303           Vancouver Titans   50.000000  \n21236        San Francisco Shock   40.000000  \n...                          ...         ...  \n40967         New York Excelsior   37.272727  \n40972            Boston Uprising   36.936937  \n40975     Los Angeles Gladiators   36.607143  \n40982              Atlanta Reign   36.283186  \n40989            Toronto Defiant   35.964912  \n\n[114 rows x 7 columns]",
      "text/html": "<div>\n<style scoped>\n    .dataframe tbody tr th:only-of-type {\n        vertical-align: middle;\n    }\n\n    .dataframe tbody tr th {\n        vertical-align: top;\n    }\n\n    .dataframe thead th {\n        text-align: right;\n    }\n</style>\n<table border=\"1\" class=\"dataframe\">\n  <thead>\n    <tr style=\"text-align: right;\">\n      <th></th>\n      <th>Start Time</th>\n      <th>Stage</th>\n      <th>Hero Damage Done</th>\n      <th>Avg Hero Damage Done</th>\n      <th>Match Winner</th>\n      <th>Opponent</th>\n      <th>Winrate</th>\n    </tr>\n    <tr>\n      <th>Match ID</th>\n      <th></th>\n      <th></th>\n      <th></th>\n      <th></th>\n      <th></th>\n      <th></th>\n      <th></th>\n    </tr>\n  </thead>\n  <tbody>\n    <tr>\n      <th>21209</th>\n      <td>2019-02-16 20:06:00</td>\n      <td>2019 : Overwatch League Stage 1</td>\n      <td>158329.157898</td>\n      <td>39582.289475</td>\n      <td>Vegas Eternal</td>\n      <td>London Spitfire</td>\n      <td>100.000000</td>\n    </tr>\n    <tr>\n      <th>21243</th>\n      <td>2019-02-23 20:05:00</td>\n      <td>2019 : Overwatch League Stage 1</td>\n      <td>288877.539596</td>\n      <td>72219.384899</td>\n      <td>Vegas Eternal</td>\n      <td>Los Angeles Gladiators</td>\n      <td>100.000000</td>\n    </tr>\n    <tr>\n      <th>21263</th>\n      <td>2019-03-02 20:06:00</td>\n      <td>2019 : Overwatch League Stage 1</td>\n      <td>185250.958492</td>\n      <td>46312.739623</td>\n      <td>Atlanta Reign</td>\n      <td>Atlanta Reign</td>\n      <td>66.666667</td>\n    </tr>\n    <tr>\n      <th>21303</th>\n      <td>2019-03-09 01:35:00</td>\n      <td>2019 : Overwatch League Stage 1</td>\n      <td>243317.837676</td>\n      <td>60829.459419</td>\n      <td>Vancouver Titans</td>\n      <td>Vancouver Titans</td>\n      <td>50.000000</td>\n    </tr>\n    <tr>\n      <th>21236</th>\n      <td>2019-03-10 19:06:00</td>\n      <td>2019 : Overwatch League Stage 1</td>\n      <td>217677.266882</td>\n      <td>54419.316720</td>\n      <td>San Francisco Shock</td>\n      <td>San Francisco Shock</td>\n      <td>40.000000</td>\n    </tr>\n    <tr>\n      <th>...</th>\n      <td>...</td>\n      <td>...</td>\n      <td>...</td>\n      <td>...</td>\n      <td>...</td>\n      <td>...</td>\n      <td>...</td>\n    </tr>\n    <tr>\n      <th>40967</th>\n      <td>2023-05-13 20:26:00</td>\n      <td>2023 : Spring Qualifiers</td>\n      <td>157359.024199</td>\n      <td>39339.756050</td>\n      <td>New York Excelsior</td>\n      <td>New York Excelsior</td>\n      <td>37.272727</td>\n    </tr>\n    <tr>\n      <th>40972</th>\n      <td>2023-05-19 19:12:00</td>\n      <td>2023 : Spring Qualifiers</td>\n      <td>89274.181043</td>\n      <td>29758.060348</td>\n      <td>Boston Uprising</td>\n      <td>Boston Uprising</td>\n      <td>36.936937</td>\n    </tr>\n    <tr>\n      <th>40975</th>\n      <td>2023-05-20 19:09:00</td>\n      <td>2023 : Spring Qualifiers</td>\n      <td>123130.519146</td>\n      <td>41043.506382</td>\n      <td>Los Angeles Gladiators</td>\n      <td>Los Angeles Gladiators</td>\n      <td>36.607143</td>\n    </tr>\n    <tr>\n      <th>40982</th>\n      <td>2023-05-26 20:38:00</td>\n      <td>2023 : Spring Qualifiers</td>\n      <td>96131.888044</td>\n      <td>32043.962681</td>\n      <td>Atlanta Reign</td>\n      <td>Atlanta Reign</td>\n      <td>36.283186</td>\n    </tr>\n    <tr>\n      <th>40989</th>\n      <td>2023-05-28 19:05:00</td>\n      <td>2023 : Spring Qualifiers</td>\n      <td>142845.076955</td>\n      <td>47615.025652</td>\n      <td>Toronto Defiant</td>\n      <td>Toronto Defiant</td>\n      <td>35.964912</td>\n    </tr>\n  </tbody>\n</table>\n<p>114 rows × 7 columns</p>\n</div>"
     },
     "execution_count": 41,
     "metadata": {},
     "output_type": "execute_result"
    }
   ],
   "source": [
    "get_team_profile('Vegas Eternal', 'Hero Damage Done')"
   ],
   "metadata": {
    "collapsed": false,
    "ExecuteTime": {
     "end_time": "2024-02-13T18:51:23.626431800Z",
     "start_time": "2024-02-13T18:51:23.359216600Z"
    }
   },
   "id": "a9f978128baf33f3",
   "execution_count": 41
  },
  {
   "cell_type": "code",
   "outputs": [],
   "source": [
    "# |export\n",
    "def get_heroes_stat(stat: str) -> pd.Series:\n",
    "    result = df[df['stat'] == stat].groupby('hero')['stat_amount'].sum().sort_values(ascending=False)\n",
    "    result.name = stat\n",
    "    result.index.name = 'Hero'\n",
    "    return result\n"
   ],
   "metadata": {
    "collapsed": false,
    "ExecuteTime": {
     "end_time": "2024-02-13T18:51:23.629940400Z",
     "start_time": "2024-02-13T18:51:23.625124Z"
    }
   },
   "id": "652979432107645a",
   "execution_count": 42
  },
  {
   "cell_type": "code",
   "outputs": [],
   "source": [
    "# get_heroes_stat('Hero Damage Done')"
   ],
   "metadata": {
    "collapsed": false,
    "ExecuteTime": {
     "end_time": "2024-02-13T18:51:23.640977600Z",
     "start_time": "2024-02-13T18:51:23.627940500Z"
    }
   },
   "id": "7de4dd0240b4719c",
   "execution_count": 43
  },
  {
   "cell_type": "code",
   "outputs": [],
   "source": [
    "# |export\n",
    "def get_players_stat(stat: str) -> pd.Series:\n",
    "    result = df[df['stat'] == stat].groupby('player')['stat_amount'].sum().sort_values(ascending=False)\n",
    "    result.name = stat\n",
    "    result.index.name = 'Player'\n",
    "    return result"
   ],
   "metadata": {
    "collapsed": false,
    "ExecuteTime": {
     "end_time": "2024-02-13T18:51:23.668509600Z",
     "start_time": "2024-02-13T18:51:23.640977600Z"
    }
   },
   "id": "859d029a0a1deb",
   "execution_count": 44
  },
  {
   "cell_type": "code",
   "outputs": [],
   "source": [
    "# get_players_stat('Hero Damage Done')"
   ],
   "metadata": {
    "collapsed": false,
    "ExecuteTime": {
     "end_time": "2024-02-13T18:51:23.686137300Z",
     "start_time": "2024-02-13T18:51:23.651029500Z"
    }
   },
   "id": "c02504eb51e5a53d",
   "execution_count": 45
  },
  {
   "cell_type": "code",
   "outputs": [],
   "source": [
    "# |exporti\n",
    "def avg_stats_per_game(stat: str, player: str) -> pd.DataFrame:\n",
    "    player_data = df[(df['stat'] == stat) & (df['player'] == player)]\n",
    "    results = pd.DataFrame(columns=['Hero', 'Stat', 'Avg per game'])\n",
    "\n",
    "    stat_data = player_data[player_data['stat'] == stat]\n",
    "    avg_per_game = stat_data.groupby(['hero'])['stat_amount'].mean().reset_index()\n",
    "    avg_per_game.columns = ['Hero', 'Avg per game']\n",
    "    avg_per_game['Number of game'] = stat_data.groupby(['hero'])['stat_amount'].count().reset_index()['stat_amount']\n",
    "    results = pd.concat([results, avg_per_game], ignore_index=True, sort=False)\n",
    "\n",
    "    return results[['Hero', 'Avg per game', 'Number of game']]"
   ],
   "metadata": {
    "collapsed": false,
    "ExecuteTime": {
     "end_time": "2024-02-13T18:51:23.687643Z",
     "start_time": "2024-02-13T18:51:23.661995Z"
    }
   },
   "id": "2117c7d3c4980543",
   "execution_count": 46
  },
  {
   "cell_type": "code",
   "outputs": [],
   "source": [
    "# |export\n",
    "def get_heroes_stat_by_player(stat: str, player: str) -> pd.Series:\n",
    "    result = df[(df['stat'] == stat) & (df['player'] == player)].groupby('hero')['stat_amount'].sum().sort_values(\n",
    "        ascending=False)\n",
    "    result.name = stat\n",
    "    result.index.name = 'Hero'\n",
    "    stat_avg = avg_stats_per_game(stat, player)\n",
    "    result = result.reset_index().merge(stat_avg, on='Hero', how='left')\n",
    "    #reset index\n",
    "    result = result.set_index('Hero')\n",
    "    return result"
   ],
   "metadata": {
    "collapsed": false,
    "ExecuteTime": {
     "end_time": "2024-02-13T18:51:23.787659500Z",
     "start_time": "2024-02-13T18:51:23.671353500Z"
    }
   },
   "id": "4a9787f3b5901826",
   "execution_count": 47
  },
  {
   "cell_type": "markdown",
   "source": [],
   "metadata": {
    "collapsed": false
   },
   "id": "990f5c86d8c8998c"
  },
  {
   "cell_type": "code",
   "outputs": [],
   "source": [
    "# get_heroes_stat_by_player('Hero Damage Done', 'SoOn')\n",
    "# df.head()\n",
    "# avg_stats_per_game('SoOn')"
   ],
   "metadata": {
    "collapsed": false,
    "ExecuteTime": {
     "end_time": "2024-02-13T18:51:23.788663500Z",
     "start_time": "2024-02-13T18:51:23.747246400Z"
    }
   },
   "id": "7153fcad2db4a9f5",
   "execution_count": 48
  },
  {
   "cell_type": "code",
   "outputs": [],
   "source": [
    "# |export\n",
    "def get_players_stat_by_team(stat: str, team: str) -> pd.DataFrame:\n",
    "    result = df[(df['stat'] == stat) & (df['team'] == team)].groupby('player')['stat_amount'].sum().sort_values(\n",
    "        ascending=False)\n",
    "    result.name = stat\n",
    "    result.index.name = 'Player'\n",
    "    return result"
   ],
   "metadata": {
    "collapsed": false,
    "ExecuteTime": {
     "end_time": "2024-02-13T18:51:23.797179100Z",
     "start_time": "2024-02-13T18:51:23.752708500Z"
    }
   },
   "id": "81355387a68caeb4",
   "execution_count": 49
  },
  {
   "cell_type": "code",
   "outputs": [],
   "source": [
    "# get_players_stat_by_team('Hero Damage Done', 'Paris Eternal')"
   ],
   "metadata": {
    "collapsed": false,
    "ExecuteTime": {
     "end_time": "2024-02-13T18:51:23.799178200Z",
     "start_time": "2024-02-13T18:51:23.759542500Z"
    }
   },
   "id": "19ff4a3270061fd7",
   "execution_count": 50
  },
  {
   "cell_type": "code",
   "outputs": [],
   "source": [
    "# |export\n",
    "def get_team_scores(team: str, map_type: str = None) -> pd.DataFrame:\n",
    "    # stock every unique game from team (each game as a unique 'match_id'), team name is stocked in 'team_one_name' or 'team_two_name'\n",
    "    team_games = map_stats[(map_stats['team_one_name'] == team) | (map_stats['team_two_name'] == team)]\n",
    "    if map_type:  # only 1 row per game\n",
    "        # add column 'map_type' from dataframe 'df'\n",
    "        team_games = team_games.merge(df[['match_id', 'map_type']], on='match_id')\n",
    "        print(team_games['map_type'].str.lower().unique())\n",
    "        team_games = team_games[team_games['map_type'].str.lower() == map_type.lower()]\n",
    "        # get one row per map\n",
    "        team_games = team_games.drop_duplicates(subset='round_start_time')\n",
    "        # do not keep twice same game_number per match_id\n",
    "        df_grp = team_games.groupby(['match_id', 'game_number'])\n",
    "        team_games = df_grp.first().reset_index()\n",
    "    else:  # only 1 row per match\n",
    "        # get one row per match\n",
    "        team_games = team_games.drop_duplicates(subset='match_id')\n",
    "\n",
    "    # get teams list\n",
    "    opponents = team_games[['team_one_name', 'team_two_name']]\n",
    "    # remove team input from opponents list\n",
    "    opponents = opponents[opponents != team]\n",
    "    # regroup in one column and remove duplicates\n",
    "    opponents = opponents.stack().reset_index(drop=True).drop_duplicates()\n",
    "\n",
    "    results = pd.DataFrame(columns=['team', 'opponent', 'win', 'loss', 'winrate', 'map_type', 'only_matches'])\n",
    "\n",
    "    for opponent in opponents:\n",
    "        matches = team_games[((team_games['team_one_name'] == team) &\n",
    "                              (team_games['team_two_name'] == opponent)) | (\n",
    "                                     (team_games['team_one_name'] == opponent) & (team_games['team_two_name'] == team))]\n",
    "\n",
    "        if map_type:\n",
    "            wins = matches['map_winner'] == team\n",
    "        else:\n",
    "            wins = matches['match_winner'] == team\n",
    "\n",
    "        total_matches = matches.shape[0]\n",
    "        if total_matches == 0:\n",
    "            continue\n",
    "        wins = wins.sum()\n",
    "        losses = len(matches) - wins\n",
    "        winrate = wins / total_matches\n",
    "\n",
    "        row = pd.DataFrame(\n",
    "            {'team': team, 'opponent': opponent, 'total_matches': total_matches, 'win': wins, 'loss': losses,\n",
    "             'winrate': winrate * 100, 'map_type': map_type,\n",
    "             'only_matches': not map_type}, index=[0])\n",
    "        results = pd.concat([results, row])\n",
    "\n",
    "    # rename columns\n",
    "    results.rename(columns={'team': 'Team', 'opponent': 'Opponent', 'total_matches': 'Total Matches', 'win': 'Win',\n",
    "                            'loss': 'Loss', 'winrate': 'Winrate', 'map_type': 'Map Type',\n",
    "                            'only_matches': 'Only Matches'},\n",
    "                   inplace=True)\n",
    "\n",
    "    # reorder columns\n",
    "    results = results[['Team', 'Opponent', 'Total Matches', 'Win', 'Loss', 'Winrate', 'Map Type', 'Only Matches']]\n",
    "    if not map_type:\n",
    "        results = results.drop(columns='Map Type')\n",
    "\n",
    "    results = results.set_index('Team')\n",
    "    return results"
   ],
   "metadata": {
    "collapsed": false,
    "ExecuteTime": {
     "end_time": "2024-02-13T18:51:23.835066300Z",
     "start_time": "2024-02-13T18:51:23.768051700Z"
    }
   },
   "id": "35050d14f1f2aaf4",
   "execution_count": 51
  },
  {
   "cell_type": "code",
   "outputs": [
    {
     "name": "stderr",
     "output_type": "stream",
     "text": [
      "C:\\Users\\anta\\AppData\\Local\\Temp\\ipykernel_2216\\1787698808.py:49: FutureWarning: The behavior of DataFrame concatenation with empty or all-NA entries is deprecated. In a future version, this will no longer exclude empty or all-NA columns when determining the result dtypes. To retain the old behavior, exclude the relevant entries before the concat operation.\n",
      "  results = pd.concat([results, row])\n"
     ]
    },
    {
     "data": {
      "text/plain": "                           Opponent  Total Matches Win Loss     Winrate  \\\nTeam                                                                      \nDallas Fuel           Seoul Dynasty            8.0   3    5   37.500000   \nDallas Fuel     Los Angeles Valiant            8.0   3    5   37.500000   \nDallas Fuel         Houston Outlaws           14.0   8    6   57.142857   \nDallas Fuel         London Spitfire            9.0   6    3   66.666667   \nDallas Fuel     San Francisco Shock           20.0   8   12   40.000000   \nDallas Fuel         Boston Uprising            9.0   5    4   55.555556   \nDallas Fuel          Seoul Infernal           11.0   2    9   18.181818   \nDallas Fuel      New York Excelsior            7.0   2    5   28.571429   \nDallas Fuel        Shanghai Dragons           13.0  10    3   76.923077   \nDallas Fuel  Los Angeles Gladiators           14.0   6    8   42.857143   \nDallas Fuel          Florida Mayhem           10.0   7    3   70.000000   \nDallas Fuel        Guangzhou Charge            3.0   0    3    0.000000   \nDallas Fuel         Toronto Defiant            7.0   7    0  100.000000   \nDallas Fuel           Vegas Eternal            7.0   3    4   42.857143   \nDallas Fuel        Vancouver Titans            8.0   4    4   50.000000   \nDallas Fuel      Washington Justice           11.0   9    2   81.818182   \nDallas Fuel         Chengdu Hunters            6.0   2    4   33.333333   \nDallas Fuel          Hangzhou Spark            4.0   1    3   25.000000   \nDallas Fuel           Atlanta Reign           10.0   5    5   50.000000   \nDallas Fuel        Sin Prisa Gaming            1.0   1    0  100.000000   \nDallas Fuel                O2 Blast            1.0   1    0  100.000000   \n\n            Only Matches  \nTeam                      \nDallas Fuel         True  \nDallas Fuel         True  \nDallas Fuel         True  \nDallas Fuel         True  \nDallas Fuel         True  \nDallas Fuel         True  \nDallas Fuel         True  \nDallas Fuel         True  \nDallas Fuel         True  \nDallas Fuel         True  \nDallas Fuel         True  \nDallas Fuel         True  \nDallas Fuel         True  \nDallas Fuel         True  \nDallas Fuel         True  \nDallas Fuel         True  \nDallas Fuel         True  \nDallas Fuel         True  \nDallas Fuel         True  \nDallas Fuel         True  \nDallas Fuel         True  ",
      "text/html": "<div>\n<style scoped>\n    .dataframe tbody tr th:only-of-type {\n        vertical-align: middle;\n    }\n\n    .dataframe tbody tr th {\n        vertical-align: top;\n    }\n\n    .dataframe thead th {\n        text-align: right;\n    }\n</style>\n<table border=\"1\" class=\"dataframe\">\n  <thead>\n    <tr style=\"text-align: right;\">\n      <th></th>\n      <th>Opponent</th>\n      <th>Total Matches</th>\n      <th>Win</th>\n      <th>Loss</th>\n      <th>Winrate</th>\n      <th>Only Matches</th>\n    </tr>\n    <tr>\n      <th>Team</th>\n      <th></th>\n      <th></th>\n      <th></th>\n      <th></th>\n      <th></th>\n      <th></th>\n    </tr>\n  </thead>\n  <tbody>\n    <tr>\n      <th>Dallas Fuel</th>\n      <td>Seoul Dynasty</td>\n      <td>8.0</td>\n      <td>3</td>\n      <td>5</td>\n      <td>37.500000</td>\n      <td>True</td>\n    </tr>\n    <tr>\n      <th>Dallas Fuel</th>\n      <td>Los Angeles Valiant</td>\n      <td>8.0</td>\n      <td>3</td>\n      <td>5</td>\n      <td>37.500000</td>\n      <td>True</td>\n    </tr>\n    <tr>\n      <th>Dallas Fuel</th>\n      <td>Houston Outlaws</td>\n      <td>14.0</td>\n      <td>8</td>\n      <td>6</td>\n      <td>57.142857</td>\n      <td>True</td>\n    </tr>\n    <tr>\n      <th>Dallas Fuel</th>\n      <td>London Spitfire</td>\n      <td>9.0</td>\n      <td>6</td>\n      <td>3</td>\n      <td>66.666667</td>\n      <td>True</td>\n    </tr>\n    <tr>\n      <th>Dallas Fuel</th>\n      <td>San Francisco Shock</td>\n      <td>20.0</td>\n      <td>8</td>\n      <td>12</td>\n      <td>40.000000</td>\n      <td>True</td>\n    </tr>\n    <tr>\n      <th>Dallas Fuel</th>\n      <td>Boston Uprising</td>\n      <td>9.0</td>\n      <td>5</td>\n      <td>4</td>\n      <td>55.555556</td>\n      <td>True</td>\n    </tr>\n    <tr>\n      <th>Dallas Fuel</th>\n      <td>Seoul Infernal</td>\n      <td>11.0</td>\n      <td>2</td>\n      <td>9</td>\n      <td>18.181818</td>\n      <td>True</td>\n    </tr>\n    <tr>\n      <th>Dallas Fuel</th>\n      <td>New York Excelsior</td>\n      <td>7.0</td>\n      <td>2</td>\n      <td>5</td>\n      <td>28.571429</td>\n      <td>True</td>\n    </tr>\n    <tr>\n      <th>Dallas Fuel</th>\n      <td>Shanghai Dragons</td>\n      <td>13.0</td>\n      <td>10</td>\n      <td>3</td>\n      <td>76.923077</td>\n      <td>True</td>\n    </tr>\n    <tr>\n      <th>Dallas Fuel</th>\n      <td>Los Angeles Gladiators</td>\n      <td>14.0</td>\n      <td>6</td>\n      <td>8</td>\n      <td>42.857143</td>\n      <td>True</td>\n    </tr>\n    <tr>\n      <th>Dallas Fuel</th>\n      <td>Florida Mayhem</td>\n      <td>10.0</td>\n      <td>7</td>\n      <td>3</td>\n      <td>70.000000</td>\n      <td>True</td>\n    </tr>\n    <tr>\n      <th>Dallas Fuel</th>\n      <td>Guangzhou Charge</td>\n      <td>3.0</td>\n      <td>0</td>\n      <td>3</td>\n      <td>0.000000</td>\n      <td>True</td>\n    </tr>\n    <tr>\n      <th>Dallas Fuel</th>\n      <td>Toronto Defiant</td>\n      <td>7.0</td>\n      <td>7</td>\n      <td>0</td>\n      <td>100.000000</td>\n      <td>True</td>\n    </tr>\n    <tr>\n      <th>Dallas Fuel</th>\n      <td>Vegas Eternal</td>\n      <td>7.0</td>\n      <td>3</td>\n      <td>4</td>\n      <td>42.857143</td>\n      <td>True</td>\n    </tr>\n    <tr>\n      <th>Dallas Fuel</th>\n      <td>Vancouver Titans</td>\n      <td>8.0</td>\n      <td>4</td>\n      <td>4</td>\n      <td>50.000000</td>\n      <td>True</td>\n    </tr>\n    <tr>\n      <th>Dallas Fuel</th>\n      <td>Washington Justice</td>\n      <td>11.0</td>\n      <td>9</td>\n      <td>2</td>\n      <td>81.818182</td>\n      <td>True</td>\n    </tr>\n    <tr>\n      <th>Dallas Fuel</th>\n      <td>Chengdu Hunters</td>\n      <td>6.0</td>\n      <td>2</td>\n      <td>4</td>\n      <td>33.333333</td>\n      <td>True</td>\n    </tr>\n    <tr>\n      <th>Dallas Fuel</th>\n      <td>Hangzhou Spark</td>\n      <td>4.0</td>\n      <td>1</td>\n      <td>3</td>\n      <td>25.000000</td>\n      <td>True</td>\n    </tr>\n    <tr>\n      <th>Dallas Fuel</th>\n      <td>Atlanta Reign</td>\n      <td>10.0</td>\n      <td>5</td>\n      <td>5</td>\n      <td>50.000000</td>\n      <td>True</td>\n    </tr>\n    <tr>\n      <th>Dallas Fuel</th>\n      <td>Sin Prisa Gaming</td>\n      <td>1.0</td>\n      <td>1</td>\n      <td>0</td>\n      <td>100.000000</td>\n      <td>True</td>\n    </tr>\n    <tr>\n      <th>Dallas Fuel</th>\n      <td>O2 Blast</td>\n      <td>1.0</td>\n      <td>1</td>\n      <td>0</td>\n      <td>100.000000</td>\n      <td>True</td>\n    </tr>\n  </tbody>\n</table>\n</div>"
     },
     "execution_count": 52,
     "metadata": {},
     "output_type": "execute_result"
    }
   ],
   "source": [
    "get_team_scores('Dallas Fuel')"
   ],
   "metadata": {
    "collapsed": false,
    "ExecuteTime": {
     "end_time": "2024-02-13T18:51:23.848645800Z",
     "start_time": "2024-02-13T18:51:23.773136Z"
    }
   },
   "id": "da43cd8fcfa32b3b",
   "execution_count": 52
  },
  {
   "cell_type": "code",
   "outputs": [],
   "source": [
    "# get every team in alphabetical order\n",
    "# df['team'].unique()"
   ],
   "metadata": {
    "collapsed": false,
    "ExecuteTime": {
     "end_time": "2024-02-13T18:51:23.849644900Z",
     "start_time": "2024-02-13T18:51:23.825130200Z"
    }
   },
   "id": "10bc4a3296879f81",
   "execution_count": 53
  },
  {
   "cell_type": "code",
   "outputs": [],
   "source": [
    "# get every map in alphabetical order\n",
    "# df['map'].unique()"
   ],
   "metadata": {
    "collapsed": false,
    "ExecuteTime": {
     "end_time": "2024-02-13T18:51:23.850645300Z",
     "start_time": "2024-02-13T18:51:23.826638800Z"
    }
   },
   "id": "3f67a44fee9df0c0",
   "execution_count": 54
  },
  {
   "cell_type": "code",
   "outputs": [],
   "source": [
    "# get every hero in alphabetical order\n",
    "# df['hero'].unique()"
   ],
   "metadata": {
    "collapsed": false,
    "ExecuteTime": {
     "end_time": "2024-02-13T18:51:23.855148900Z",
     "start_time": "2024-02-13T18:51:23.833561800Z"
    }
   },
   "id": "c1227d7ab661ef07",
   "execution_count": 55
  },
  {
   "cell_type": "code",
   "outputs": [
    {
     "name": "stderr",
     "output_type": "stream",
     "text": [
      "C:\\Users\\anta\\PycharmProjects\\Overgraph\\.venv\\Lib\\site-packages\\nbdev\\doclinks.py:101: SyntaxWarning: invalid escape sequence '\\.'\n",
      "  for file in globtastic(dest, file_glob=\"*.py\", skip_file_re='^_', skip_folder_re=\"\\.ipynb_checkpoints\"):\n"
     ]
    },
    {
     "ename": "ModuleNotFoundError",
     "evalue": "No module named 'pkg_resources'",
     "output_type": "error",
     "traceback": [
      "\u001B[1;31m---------------------------------------------------------------------------\u001B[0m",
      "\u001B[1;31mModuleNotFoundError\u001B[0m                       Traceback (most recent call last)",
      "Cell \u001B[1;32mIn[56], line 1\u001B[0m\n\u001B[1;32m----> 1\u001B[0m \u001B[38;5;28;01mfrom\u001B[39;00m \u001B[38;5;21;01mnbdev\u001B[39;00m\u001B[38;5;21;01m.\u001B[39;00m\u001B[38;5;21;01mexport\u001B[39;00m \u001B[38;5;28;01mimport\u001B[39;00m nb_export\n\u001B[0;32m      3\u001B[0m nb_export(\u001B[38;5;124m\"\u001B[39m\u001B[38;5;124mowl.ipynb\u001B[39m\u001B[38;5;124m\"\u001B[39m, lib_path\u001B[38;5;241m=\u001B[39m\u001B[38;5;124m\"\u001B[39m\u001B[38;5;124m./\u001B[39m\u001B[38;5;124m\"\u001B[39m, name\u001B[38;5;241m=\u001B[39m\u001B[38;5;124m\"\u001B[39m\u001B[38;5;124mowl_module\u001B[39m\u001B[38;5;124m\"\u001B[39m)\n",
      "File \u001B[1;32m~\\PycharmProjects\\Overgraph\\.venv\\Lib\\site-packages\\nbdev\\__init__.py:3\u001B[0m\n\u001B[0;32m      1\u001B[0m __version__ \u001B[38;5;241m=\u001B[39m \u001B[38;5;124m\"\u001B[39m\u001B[38;5;124m2.3.13\u001B[39m\u001B[38;5;124m\"\u001B[39m\n\u001B[1;32m----> 3\u001B[0m \u001B[38;5;28;01mfrom\u001B[39;00m \u001B[38;5;21;01m.\u001B[39;00m\u001B[38;5;21;01mdoclinks\u001B[39;00m \u001B[38;5;28;01mimport\u001B[39;00m nbdev_export\n\u001B[0;32m      4\u001B[0m \u001B[38;5;28;01mfrom\u001B[39;00m \u001B[38;5;21;01m.\u001B[39;00m\u001B[38;5;21;01mshowdoc\u001B[39;00m \u001B[38;5;28;01mimport\u001B[39;00m show_doc\n",
      "File \u001B[1;32m~\\PycharmProjects\\Overgraph\\.venv\\Lib\\site-packages\\nbdev\\doclinks.py:17\u001B[0m\n\u001B[0;32m     14\u001B[0m \u001B[38;5;28;01mfrom\u001B[39;00m \u001B[38;5;21;01mfastcore\u001B[39;00m\u001B[38;5;21;01m.\u001B[39;00m\u001B[38;5;21;01mmeta\u001B[39;00m \u001B[38;5;28;01mimport\u001B[39;00m delegates\n\u001B[0;32m     16\u001B[0m \u001B[38;5;28;01mimport\u001B[39;00m \u001B[38;5;21;01mast\u001B[39;00m\u001B[38;5;241m,\u001B[39m\u001B[38;5;21;01mcontextlib\u001B[39;00m\n\u001B[1;32m---> 17\u001B[0m \u001B[38;5;28;01mimport\u001B[39;00m \u001B[38;5;21;01mpkg_resources\u001B[39;00m\u001B[38;5;241m,\u001B[39m\u001B[38;5;21;01mimportlib\u001B[39;00m\n\u001B[0;32m     18\u001B[0m \u001B[38;5;28;01mfrom\u001B[39;00m \u001B[38;5;21;01mastunparse\u001B[39;00m \u001B[38;5;28;01mimport\u001B[39;00m unparse\n\u001B[0;32m     20\u001B[0m \u001B[38;5;28;01mfrom\u001B[39;00m \u001B[38;5;21;01mpprint\u001B[39;00m \u001B[38;5;28;01mimport\u001B[39;00m pformat\n",
      "\u001B[1;31mModuleNotFoundError\u001B[0m: No module named 'pkg_resources'"
     ]
    }
   ],
   "source": [
    "from nbdev.export import nb_export\n",
    "\n",
    "nb_export(\"owl.ipynb\", lib_path=\"./\", name=\"owl_module\")"
   ],
   "metadata": {
    "collapsed": false,
    "ExecuteTime": {
     "end_time": "2024-02-13T18:51:24.097300300Z",
     "start_time": "2024-02-13T18:51:23.841134400Z"
    }
   },
   "id": "d95a21067163bf79",
   "execution_count": 56
  }
 ],
 "metadata": {
  "kernelspec": {
   "display_name": "Python 3",
   "language": "python",
   "name": "python3"
  },
  "language_info": {
   "codemirror_mode": {
    "name": "ipython",
    "version": 2
   },
   "file_extension": ".py",
   "mimetype": "text/x-python",
   "name": "python",
   "nbconvert_exporter": "python",
   "pygments_lexer": "ipython2",
   "version": "2.7.6"
  }
 },
 "nbformat": 4,
 "nbformat_minor": 5
}
