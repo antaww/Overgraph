{
 "cells": [
  {
   "cell_type": "code",
   "execution_count": 193,
   "id": "initial_id",
   "metadata": {
    "collapsed": true,
    "ExecuteTime": {
     "end_time": "2024-02-11T22:32:15.908732Z",
     "start_time": "2024-02-11T22:32:15.377079600Z"
    }
   },
   "outputs": [],
   "source": [
    "# |exporti\n",
    "\n",
    "import pandas as pd\n",
    "import streamlit as st\n",
    "\n",
    "from streamlit_jupyter import StreamlitPatcher"
   ]
  },
  {
   "cell_type": "code",
   "outputs": [],
   "source": [
    "sp = StreamlitPatcher()\n",
    "sp.jupyter()  # register patcher with streamlit"
   ],
   "metadata": {
    "collapsed": false,
    "ExecuteTime": {
     "end_time": "2024-02-11T22:32:15.993210100Z",
     "start_time": "2024-02-11T22:32:15.911727300Z"
    }
   },
   "id": "7e2936994752ffeb",
   "execution_count": 194
  },
  {
   "cell_type": "code",
   "outputs": [],
   "source": [
    "# |exporti\n",
    "import os\n",
    "\n",
    "project_name = 'Overgraph'\n",
    "path = os.getcwd().split(project_name)[0] + project_name\n",
    "owl_path = f'{path}/src/datas/owl'\n"
   ],
   "metadata": {
    "collapsed": false,
    "ExecuteTime": {
     "end_time": "2024-02-11T22:32:16.147079300Z",
     "start_time": "2024-02-11T22:32:15.943390200Z"
    }
   },
   "id": "d665395acb288412",
   "execution_count": 195
  },
  {
   "cell_type": "markdown",
   "source": [
    "# MAPS"
   ],
   "metadata": {
    "collapsed": false
   },
   "id": "3cfa13abee0f49ec"
  },
  {
   "cell_type": "code",
   "execution_count": 196,
   "outputs": [],
   "source": [
    "# |export\n",
    "map_stats = pd.read_csv(f'{owl_path}/match_map_stats.csv')"
   ],
   "metadata": {
    "collapsed": false,
    "ExecuteTime": {
     "end_time": "2024-02-11T22:32:16.309014500Z",
     "start_time": "2024-02-11T22:32:16.149082500Z"
    }
   },
   "id": "7d59d473d0779de2"
  },
  {
   "cell_type": "markdown",
   "source": [
    "# 2018 STAGE 1"
   ],
   "metadata": {
    "collapsed": false
   },
   "id": "49b3b0b721be898e"
  },
  {
   "cell_type": "code",
   "outputs": [],
   "source": [
    "# |exporti\n",
    "df_2018_s1 = pd.read_csv(f'{owl_path}/phs_2018_stage_1.csv')"
   ],
   "metadata": {
    "collapsed": false,
    "ExecuteTime": {
     "end_time": "2024-02-11T22:32:16.674025100Z",
     "start_time": "2024-02-11T22:32:16.214504200Z"
    }
   },
   "id": "f0f86c6d38cab044",
   "execution_count": 197
  },
  {
   "cell_type": "code",
   "outputs": [],
   "source": [
    "# df_2018_s1"
   ],
   "metadata": {
    "collapsed": false,
    "ExecuteTime": {
     "end_time": "2024-02-11T22:32:16.686202400Z",
     "start_time": "2024-02-11T22:32:16.611924800Z"
    }
   },
   "id": "fe30803ec16390d9",
   "execution_count": 198
  },
  {
   "cell_type": "markdown",
   "source": [
    "# 2018 STAGE 2"
   ],
   "metadata": {
    "collapsed": false
   },
   "id": "d950a081343e6e55"
  },
  {
   "cell_type": "code",
   "outputs": [],
   "source": [
    "# |exporti\n",
    "df_2018_s2 = pd.read_csv(f'{owl_path}/phs_2018_stage_2.csv')"
   ],
   "metadata": {
    "collapsed": false,
    "ExecuteTime": {
     "end_time": "2024-02-11T22:32:17.057268800Z",
     "start_time": "2024-02-11T22:32:16.616513Z"
    }
   },
   "id": "d94afc6ee52db40e",
   "execution_count": 199
  },
  {
   "cell_type": "code",
   "outputs": [],
   "source": [
    "# df_2018_s2"
   ],
   "metadata": {
    "collapsed": false,
    "ExecuteTime": {
     "end_time": "2024-02-11T22:32:17.059271200Z",
     "start_time": "2024-02-11T22:32:17.047260800Z"
    }
   },
   "id": "d48047896535d119",
   "execution_count": 200
  },
  {
   "cell_type": "markdown",
   "source": [
    "# 2018 STAGE 3"
   ],
   "metadata": {
    "collapsed": false
   },
   "id": "b4aa8f5ca6a90da3"
  },
  {
   "cell_type": "code",
   "outputs": [],
   "source": [
    "# |exporti\n",
    "df_2018_s3 = pd.read_csv(f'{owl_path}/phs_2018_stage_3.csv')"
   ],
   "metadata": {
    "collapsed": false,
    "ExecuteTime": {
     "end_time": "2024-02-11T22:32:17.554380400Z",
     "start_time": "2024-02-11T22:32:17.054230900Z"
    }
   },
   "id": "2c1f2caa5f8c5eb0",
   "execution_count": 201
  },
  {
   "cell_type": "code",
   "outputs": [],
   "source": [
    "# df_2018_s3"
   ],
   "metadata": {
    "collapsed": false,
    "ExecuteTime": {
     "end_time": "2024-02-11T22:32:17.571404800Z",
     "start_time": "2024-02-11T22:32:17.521325100Z"
    }
   },
   "id": "fdd95eb6a7aef722",
   "execution_count": 202
  },
  {
   "cell_type": "markdown",
   "source": [
    "# 2018 STAGE 4"
   ],
   "metadata": {
    "collapsed": false
   },
   "id": "d486c5a7da7f8a6a"
  },
  {
   "cell_type": "code",
   "outputs": [],
   "source": [
    "# |exporti\n",
    "df_2018_s4 = pd.read_csv(f'{owl_path}/phs_2018_stage_4.csv')"
   ],
   "metadata": {
    "collapsed": false,
    "ExecuteTime": {
     "end_time": "2024-02-11T22:32:17.978831800Z",
     "start_time": "2024-02-11T22:32:17.527343500Z"
    }
   },
   "id": "5b054829ca13dd84",
   "execution_count": 203
  },
  {
   "cell_type": "code",
   "outputs": [],
   "source": [
    "# df_2018_s4"
   ],
   "metadata": {
    "collapsed": false,
    "ExecuteTime": {
     "end_time": "2024-02-11T22:32:17.981921Z",
     "start_time": "2024-02-11T22:32:17.974118800Z"
    }
   },
   "id": "496d913d87e78886",
   "execution_count": 204
  },
  {
   "cell_type": "markdown",
   "source": [
    "# 2018 PLAYOFFS"
   ],
   "metadata": {
    "collapsed": false
   },
   "id": "1c29402ecde8f4cb"
  },
  {
   "cell_type": "code",
   "outputs": [],
   "source": [
    "# |exporti\n",
    "df_2018_po = pd.read_csv(f'{owl_path}/phs_2018_playoffs.csv')"
   ],
   "metadata": {
    "collapsed": false,
    "ExecuteTime": {
     "end_time": "2024-02-11T22:32:18.133529600Z",
     "start_time": "2024-02-11T22:32:17.977828200Z"
    }
   },
   "id": "6b7f02e481a28e80",
   "execution_count": 205
  },
  {
   "cell_type": "code",
   "outputs": [],
   "source": [
    "# df_2018_po"
   ],
   "metadata": {
    "collapsed": false,
    "ExecuteTime": {
     "end_time": "2024-02-11T22:32:18.149512100Z",
     "start_time": "2024-02-11T22:32:18.082577300Z"
    }
   },
   "id": "4a3fa51552d0add3",
   "execution_count": 206
  },
  {
   "cell_type": "markdown",
   "source": [
    "# 2019 STAGE 1"
   ],
   "metadata": {
    "collapsed": false
   },
   "id": "ada37fbd3f635046"
  },
  {
   "cell_type": "code",
   "outputs": [],
   "source": [
    "# |exporti\n",
    "df_2019_s1 = pd.read_csv(f'{owl_path}/phs_2019_stage_1.csv')"
   ],
   "metadata": {
    "collapsed": false,
    "ExecuteTime": {
     "end_time": "2024-02-11T22:32:18.526847200Z",
     "start_time": "2024-02-11T22:32:18.087607Z"
    }
   },
   "id": "12308ec5aa1e80ef",
   "execution_count": 207
  },
  {
   "cell_type": "code",
   "outputs": [],
   "source": [
    "# df_2019_s1"
   ],
   "metadata": {
    "collapsed": false,
    "ExecuteTime": {
     "end_time": "2024-02-11T22:32:18.529823Z",
     "start_time": "2024-02-11T22:32:18.526847200Z"
    }
   },
   "id": "882ceb34022383ec",
   "execution_count": 208
  },
  {
   "cell_type": "markdown",
   "source": [
    "# 2019 STAGE 2"
   ],
   "metadata": {
    "collapsed": false
   },
   "id": "2224c90be0782609"
  },
  {
   "cell_type": "code",
   "outputs": [],
   "source": [
    "# |exporti\n",
    "df_2019_s2 = pd.read_csv(f'{owl_path}/phs_2019_stage_2.csv')"
   ],
   "metadata": {
    "collapsed": false,
    "ExecuteTime": {
     "end_time": "2024-02-11T22:32:19.214299600Z",
     "start_time": "2024-02-11T22:32:18.530826300Z"
    }
   },
   "id": "6022459c2ef67947",
   "execution_count": 209
  },
  {
   "cell_type": "code",
   "outputs": [],
   "source": [
    "# df_2019_s2"
   ],
   "metadata": {
    "collapsed": false,
    "ExecuteTime": {
     "end_time": "2024-02-11T22:32:19.216317600Z",
     "start_time": "2024-02-11T22:32:19.207376600Z"
    }
   },
   "id": "ec480adb2d7725a5",
   "execution_count": 210
  },
  {
   "cell_type": "markdown",
   "source": [
    "# 2019 STAGE 3"
   ],
   "metadata": {
    "collapsed": false
   },
   "id": "87508769140d0047"
  },
  {
   "cell_type": "code",
   "outputs": [],
   "source": [
    "# |exporti\n",
    "df_2019_s3 = pd.read_csv(f'{owl_path}/phs_2019_stage_3.csv')"
   ],
   "metadata": {
    "collapsed": false,
    "ExecuteTime": {
     "end_time": "2024-02-11T22:32:19.696860700Z",
     "start_time": "2024-02-11T22:32:19.211269400Z"
    }
   },
   "id": "9d5d89e8f557bc83",
   "execution_count": 211
  },
  {
   "cell_type": "code",
   "outputs": [],
   "source": [
    "# df_2019_s3"
   ],
   "metadata": {
    "collapsed": false,
    "ExecuteTime": {
     "end_time": "2024-02-11T22:32:19.701426700Z",
     "start_time": "2024-02-11T22:32:19.697861700Z"
    }
   },
   "id": "c0bdbaf542ff32cd",
   "execution_count": 212
  },
  {
   "cell_type": "markdown",
   "source": [
    "# 2019 STAGE 4"
   ],
   "metadata": {
    "collapsed": false
   },
   "id": "81c9026aba4bb06e"
  },
  {
   "cell_type": "code",
   "outputs": [],
   "source": [
    "# |exporti\n",
    "df_2019_s4 = pd.read_csv(f'{owl_path}/phs_2019_stage_4.csv')"
   ],
   "metadata": {
    "collapsed": false,
    "ExecuteTime": {
     "end_time": "2024-02-11T22:32:20.216509700Z",
     "start_time": "2024-02-11T22:32:19.701426700Z"
    }
   },
   "id": "c7cfc6a8b09746ac",
   "execution_count": 213
  },
  {
   "cell_type": "code",
   "outputs": [],
   "source": [
    "# df_2019_s4"
   ],
   "metadata": {
    "collapsed": false,
    "ExecuteTime": {
     "end_time": "2024-02-11T22:32:20.222186200Z",
     "start_time": "2024-02-11T22:32:20.217507900Z"
    }
   },
   "id": "93cddffdb3983aba",
   "execution_count": 214
  },
  {
   "cell_type": "markdown",
   "source": [
    "# 2019 PLAYOFFS"
   ],
   "metadata": {
    "collapsed": false
   },
   "id": "741707e96539b4db"
  },
  {
   "cell_type": "code",
   "outputs": [],
   "source": [
    "# |exporti\n",
    "df_2019_po = pd.read_csv(f'{owl_path}/phs_2019_playoffs.csv')"
   ],
   "metadata": {
    "collapsed": false,
    "ExecuteTime": {
     "end_time": "2024-02-11T22:32:20.406440300Z",
     "start_time": "2024-02-11T22:32:20.222186200Z"
    }
   },
   "id": "4c2b0602886915f7",
   "execution_count": 215
  },
  {
   "cell_type": "code",
   "outputs": [],
   "source": [
    "# df_2019_po"
   ],
   "metadata": {
    "collapsed": false,
    "ExecuteTime": {
     "end_time": "2024-02-11T22:32:20.411311800Z",
     "start_time": "2024-02-11T22:32:20.407432500Z"
    }
   },
   "id": "c21ff89aaedece33",
   "execution_count": 216
  },
  {
   "cell_type": "markdown",
   "source": [
    "# 2020 STAGE 1"
   ],
   "metadata": {
    "collapsed": false
   },
   "id": "de42be7a4a2bea68"
  },
  {
   "cell_type": "code",
   "outputs": [],
   "source": [
    "# |exporti\n",
    "df_2020_s1 = pd.read_csv(f'{owl_path}/phs_2020_1.csv')"
   ],
   "metadata": {
    "collapsed": false,
    "ExecuteTime": {
     "end_time": "2024-02-11T22:32:21.357931200Z",
     "start_time": "2024-02-11T22:32:20.411311800Z"
    }
   },
   "id": "e9d60cd662b792c8",
   "execution_count": 217
  },
  {
   "cell_type": "code",
   "outputs": [],
   "source": [
    "# df_2020_s1"
   ],
   "metadata": {
    "collapsed": false,
    "ExecuteTime": {
     "end_time": "2024-02-11T22:32:21.362035800Z",
     "start_time": "2024-02-11T22:32:21.358931300Z"
    }
   },
   "id": "7e14106bf8758131",
   "execution_count": 218
  },
  {
   "cell_type": "markdown",
   "source": [
    "# 2020 STAGE 2"
   ],
   "metadata": {
    "collapsed": false
   },
   "id": "5f2cadb575664ed4"
  },
  {
   "cell_type": "code",
   "outputs": [],
   "source": [
    "# |exporti\n",
    "df_2020_s2 = pd.read_csv(f'{owl_path}/phs_2020_2.csv')"
   ],
   "metadata": {
    "collapsed": false,
    "ExecuteTime": {
     "end_time": "2024-02-11T22:32:22.033785800Z",
     "start_time": "2024-02-11T22:32:21.362035800Z"
    }
   },
   "id": "93bfab799999676",
   "execution_count": 219
  },
  {
   "cell_type": "code",
   "outputs": [],
   "source": [
    "# df_2020_s2"
   ],
   "metadata": {
    "collapsed": false,
    "ExecuteTime": {
     "end_time": "2024-02-11T22:32:22.037844500Z",
     "start_time": "2024-02-11T22:32:22.034289800Z"
    }
   },
   "id": "efbfc9b1ce370a70",
   "execution_count": 220
  },
  {
   "cell_type": "markdown",
   "source": [
    "# 2021 STAGE"
   ],
   "metadata": {
    "collapsed": false
   },
   "id": "44f2c084cfff13ea"
  },
  {
   "cell_type": "code",
   "outputs": [],
   "source": [
    "# |exporti\n",
    "df_2021 = pd.read_csv(f'{owl_path}/phs_2021_1.csv')"
   ],
   "metadata": {
    "collapsed": false,
    "ExecuteTime": {
     "end_time": "2024-02-11T22:32:23.337741200Z",
     "start_time": "2024-02-11T22:32:22.037844500Z"
    }
   },
   "id": "ead818c30db59409",
   "execution_count": 221
  },
  {
   "cell_type": "code",
   "outputs": [],
   "source": [
    "# df_2021"
   ],
   "metadata": {
    "collapsed": false,
    "ExecuteTime": {
     "end_time": "2024-02-11T22:32:23.342085100Z",
     "start_time": "2024-02-11T22:32:23.338740100Z"
    }
   },
   "id": "29cc3e2458900720",
   "execution_count": 222
  },
  {
   "cell_type": "markdown",
   "source": [
    "# 2022 STAGE"
   ],
   "metadata": {
    "collapsed": false
   },
   "id": "fc10f27cf20fbb5c"
  },
  {
   "cell_type": "code",
   "outputs": [],
   "source": [
    "# |exporti\n",
    "df_2022 = pd.read_csv(f'{owl_path}/phs_2022.csv')"
   ],
   "metadata": {
    "collapsed": false,
    "ExecuteTime": {
     "end_time": "2024-02-11T22:32:25.012235900Z",
     "start_time": "2024-02-11T22:32:23.342085100Z"
    }
   },
   "id": "f6f560d5b9a8c4e7",
   "execution_count": 223
  },
  {
   "cell_type": "code",
   "outputs": [],
   "source": [
    "# df_2022"
   ],
   "metadata": {
    "collapsed": false,
    "ExecuteTime": {
     "end_time": "2024-02-11T22:32:25.028308300Z",
     "start_time": "2024-02-11T22:32:25.015046500Z"
    }
   },
   "id": "a63195fa6b0be279",
   "execution_count": 224
  },
  {
   "cell_type": "markdown",
   "source": [
    "# 2023 STAGE"
   ],
   "metadata": {
    "collapsed": false
   },
   "id": "9b8f0c2967b2d0f"
  },
  {
   "cell_type": "code",
   "outputs": [],
   "source": [
    "# |exporti\n",
    "df_2023 = pd.read_csv(f'{owl_path}/phs_2023.csv')"
   ],
   "metadata": {
    "collapsed": false,
    "ExecuteTime": {
     "end_time": "2024-02-11T22:32:25.905746Z",
     "start_time": "2024-02-11T22:32:25.018743300Z"
    }
   },
   "id": "b093d40296cb28c6",
   "execution_count": 225
  },
  {
   "cell_type": "code",
   "outputs": [],
   "source": [
    "# df_2023"
   ],
   "metadata": {
    "collapsed": false,
    "ExecuteTime": {
     "end_time": "2024-02-11T22:32:25.909791200Z",
     "start_time": "2024-02-11T22:32:25.905746Z"
    }
   },
   "id": "86a05193bc4ec221",
   "execution_count": 226
  },
  {
   "cell_type": "markdown",
   "source": [
    "# MERGE DATAFRAMES"
   ],
   "metadata": {
    "collapsed": false
   },
   "id": "611ac6522bfb9392"
  },
  {
   "cell_type": "code",
   "outputs": [],
   "source": [
    "# |export\n",
    "# merge every dataframes in one\n",
    "df = pd.concat(\n",
    "    [df_2018_s1, df_2018_s2, df_2018_s3, df_2018_s4, df_2018_po, df_2019_s1, df_2019_s2, df_2019_s3, df_2019_s4,\n",
    "     df_2019_po, df_2020_s1, df_2020_s2, df_2021, df_2022, df_2023])"
   ],
   "metadata": {
    "collapsed": false,
    "ExecuteTime": {
     "end_time": "2024-02-11T22:32:26.343407Z",
     "start_time": "2024-02-11T22:32:25.909791200Z"
    }
   },
   "id": "1f40ba42d731ef80",
   "execution_count": 227
  },
  {
   "cell_type": "code",
   "outputs": [],
   "source": [
    "# df"
   ],
   "metadata": {
    "collapsed": false,
    "ExecuteTime": {
     "end_time": "2024-02-11T22:32:26.347851600Z",
     "start_time": "2024-02-11T22:32:26.344447900Z"
    }
   },
   "id": "9cef15576c323ae3",
   "execution_count": 228
  },
  {
   "cell_type": "markdown",
   "source": [
    "# CLEAN DATA"
   ],
   "metadata": {
    "collapsed": false
   },
   "id": "1fb7a7b355de6cbe"
  },
  {
   "cell_type": "code",
   "outputs": [],
   "source": [
    "# |exporti\n",
    "df.replace({'hero': 'McCree'}, 'Cassidy', inplace=True)\n",
    "df.replace({'hero': 'Lucio'}, 'Lúcio', inplace=True)\n",
    "df.replace({'hero': 'Torbjorn'}, 'Torbjörn', inplace=True)\n",
    "df = df[df['map_type'].str.lower() != 'UNKNOWN'.lower()]\n",
    "df.replace({'team': 'Paris Eternal'}, 'Vegas Eternal', inplace=True)\n",
    "df.replace({'team': 'Philadelphia Fusion'}, 'Seoul Infernal', inplace=True)\n",
    "for col in ['match_winner', 'map_winner', 'map_loser', 'attacker', 'defender', 'team_one_name', 'team_two_name']:\n",
    "    map_stats.replace({col: 'Paris Eternal'}, 'Vegas Eternal', inplace=True)\n",
    "    map_stats.replace({col: 'Philadelphia Fusion'}, 'Seoul Infernal', inplace=True)"
   ],
   "metadata": {
    "collapsed": false,
    "ExecuteTime": {
     "end_time": "2024-02-11T22:32:31.272120300Z",
     "start_time": "2024-02-11T22:32:26.348847300Z"
    }
   },
   "id": "57eee12edc4ab5ae",
   "execution_count": 229
  },
  {
   "cell_type": "markdown",
   "source": [
    "# PLAYGROUND"
   ],
   "metadata": {
    "collapsed": false
   },
   "id": "cfb76c2efc749758"
  },
  {
   "cell_type": "code",
   "outputs": [
    {
     "data": {
      "text/plain": "Index(['start_time', 'match_id', 'stage', 'map_type', 'map', 'player', 'team',\n       'stat', 'hero', 'stat_amount'],\n      dtype='object')"
     },
     "execution_count": 230,
     "metadata": {},
     "output_type": "execute_result"
    }
   ],
   "source": [
    "df.columns"
   ],
   "metadata": {
    "collapsed": false,
    "ExecuteTime": {
     "end_time": "2024-02-11T22:32:31.274173600Z",
     "start_time": "2024-02-11T22:32:31.217086300Z"
    }
   },
   "id": "159cbca5a19ad2b5",
   "execution_count": 230
  },
  {
   "cell_type": "code",
   "execution_count": 231,
   "outputs": [
    {
     "data": {
      "text/plain": "Index(['round_start_time', 'round_end_time', 'stage', 'match_id',\n       'game_number', 'match_winner', 'map_winner', 'map_loser', 'map_name',\n       'map_round', 'winning_team_final_map_score',\n       'losing_team_final_map_score', 'control_round_name', 'Attacker',\n       'Defender', 'team_one_name', 'team_two_name',\n       'attacker_payload_distance', 'defender_payload_distance',\n       'attacker_time_banked', 'defender_time_banked',\n       'attacker_control_perecent', 'defender_control_perecent',\n       'attacker_round_end_score', 'defender_round_end_score'],\n      dtype='object')"
     },
     "execution_count": 231,
     "metadata": {},
     "output_type": "execute_result"
    }
   ],
   "source": [
    "map_stats.columns"
   ],
   "metadata": {
    "collapsed": false,
    "ExecuteTime": {
     "end_time": "2024-02-11T22:32:31.276183Z",
     "start_time": "2024-02-11T22:32:31.222401600Z"
    }
   },
   "id": "80da5f7697c2fd4b"
  },
  {
   "cell_type": "code",
   "outputs": [],
   "source": [
    "# |export\n",
    "def get_heroes_stat(stat: str) -> pd.Series:\n",
    "    result = df[df['stat'] == stat].groupby('hero')['stat_amount'].sum().sort_values(ascending=False)\n",
    "    result.name = stat\n",
    "    result.index.name = 'Hero'\n",
    "    return result\n"
   ],
   "metadata": {
    "collapsed": false,
    "ExecuteTime": {
     "end_time": "2024-02-11T22:32:31.338498500Z",
     "start_time": "2024-02-11T22:32:31.228241600Z"
    }
   },
   "id": "ac4573860101ded6",
   "execution_count": 232
  },
  {
   "cell_type": "code",
   "outputs": [],
   "source": [
    "# get_heroes_stat('Hero Damage Done')"
   ],
   "metadata": {
    "collapsed": false,
    "ExecuteTime": {
     "end_time": "2024-02-11T22:32:31.340509700Z",
     "start_time": "2024-02-11T22:32:31.230756Z"
    }
   },
   "id": "913faa6045b2c3ab",
   "execution_count": 233
  },
  {
   "cell_type": "code",
   "execution_count": 234,
   "outputs": [],
   "source": [
    "# |export\n",
    "def get_players_stat(stat: str) -> pd.Series:\n",
    "    result = df[df['stat'] == stat].groupby('player')['stat_amount'].sum().sort_values(ascending=False)\n",
    "    result.name = stat\n",
    "    result.index.name = 'Player'\n",
    "    return result"
   ],
   "metadata": {
    "collapsed": false,
    "ExecuteTime": {
     "end_time": "2024-02-11T22:32:31.437060Z",
     "start_time": "2024-02-11T22:32:31.235478600Z"
    }
   },
   "id": "3ff952a0d82c56e5"
  },
  {
   "cell_type": "code",
   "execution_count": 235,
   "outputs": [],
   "source": [
    "# get_players_stat('Hero Damage Done')"
   ],
   "metadata": {
    "collapsed": false,
    "ExecuteTime": {
     "end_time": "2024-02-11T22:32:31.439051100Z",
     "start_time": "2024-02-11T22:32:31.239094600Z"
    }
   },
   "id": "5e0a5e1ece9e1a96"
  },
  {
   "cell_type": "code",
   "execution_count": 236,
   "outputs": [],
   "source": [
    "# |exporti\n",
    "def avg_stats_per_game(stat: str, player: str) -> pd.DataFrame:\n",
    "    player_data = df[(df['stat'] == stat) & (df['player'] == player)]\n",
    "    results = pd.DataFrame(columns=['Hero', 'Stat', 'Avg per game'])\n",
    "\n",
    "    stat_data = player_data[player_data['stat'] == stat]\n",
    "    avg_per_game = stat_data.groupby(['hero'])['stat_amount'].mean().reset_index()\n",
    "    avg_per_game.columns = ['Hero', 'Avg per game']\n",
    "    avg_per_game['Number of game'] = stat_data.groupby(['hero'])['stat_amount'].count().reset_index()['stat_amount']\n",
    "    results = pd.concat([results, avg_per_game], ignore_index=True, sort=False)\n",
    "\n",
    "    return results[['Hero', 'Avg per game', 'Number of game']]"
   ],
   "metadata": {
    "collapsed": false,
    "ExecuteTime": {
     "end_time": "2024-02-11T22:32:31.440058600Z",
     "start_time": "2024-02-11T22:32:31.243500400Z"
    }
   },
   "id": "fdc50d164ef7f170"
  },
  {
   "cell_type": "code",
   "outputs": [],
   "source": [
    "# |export\n",
    "def get_heroes_stat_by_player(stat: str, player: str) -> pd.Series:\n",
    "    result = df[(df['stat'] == stat) & (df['player'] == player)].groupby('hero')['stat_amount'].sum().sort_values(\n",
    "        ascending=False)\n",
    "    result.name = stat\n",
    "    result.index.name = 'Hero'\n",
    "    stat_avg = avg_stats_per_game(stat, player)\n",
    "    result = result.reset_index().merge(stat_avg, on='Hero', how='left')\n",
    "    #reset index\n",
    "    result = result.set_index('Hero')\n",
    "    return result"
   ],
   "metadata": {
    "collapsed": false,
    "ExecuteTime": {
     "end_time": "2024-02-11T22:41:39.262144100Z",
     "start_time": "2024-02-11T22:41:39.243624500Z"
    }
   },
   "id": "7f80046716c303bc",
   "execution_count": 247
  },
  {
   "cell_type": "markdown",
   "source": [],
   "metadata": {
    "collapsed": false
   },
   "id": "57bb14ffcc94ee74"
  },
  {
   "cell_type": "code",
   "execution_count": 248,
   "outputs": [
    {
     "name": "stderr",
     "output_type": "stream",
     "text": [
      "C:\\Users\\omist\\AppData\\Local\\Temp\\ipykernel_2520\\2698184437.py:10: FutureWarning: The behavior of DataFrame concatenation with empty or all-NA entries is deprecated. In a future version, this will no longer exclude empty or all-NA columns when determining the result dtypes. To retain the old behavior, exclude the relevant entries before the concat operation.\n",
      "  results = pd.concat([results, avg_per_game], ignore_index=True, sort=False)\n"
     ]
    },
    {
     "data": {
      "text/plain": "             Hero Damage Done  Avg per game  Number of game\nHero                                                       \nAll Heroes       3.471344e+06  10551.198164           329.0\nTracer           1.117671e+06   5505.769189           203.0\nWidowmaker       8.412565e+05   5427.461158           155.0\nZarya            4.540467e+05   8731.667921            52.0\nReaper           2.464126e+05   5866.966213            42.0\nSombra           1.892018e+05   3503.737354            54.0\nAshe             1.616637e+05   8508.613814            19.0\nCassidy          1.578507e+05   2428.471813            65.0\nHanzo            7.359692e+04   3873.521911            19.0\nSymmetra         6.375518e+04   3984.699046            16.0\nJunkrat          6.177393e+04   3251.259295            19.0\nBastion          4.808167e+04   3698.589662            13.0\nTorbjörn         2.485384e+04   4142.306001             6.0\nSoldier: 76      1.818807e+04   2273.509267             8.0\nBrigitte         5.557341e+03   1111.468206             5.0\nDoomfist         3.000751e+03    428.678773             7.0\nRoadhog          2.571373e+03   2571.373146             1.0\nMei              1.862042e+03    620.680663             3.0",
      "text/html": "<div>\n<style scoped>\n    .dataframe tbody tr th:only-of-type {\n        vertical-align: middle;\n    }\n\n    .dataframe tbody tr th {\n        vertical-align: top;\n    }\n\n    .dataframe thead th {\n        text-align: right;\n    }\n</style>\n<table border=\"1\" class=\"dataframe\">\n  <thead>\n    <tr style=\"text-align: right;\">\n      <th></th>\n      <th>Hero Damage Done</th>\n      <th>Avg per game</th>\n      <th>Number of game</th>\n    </tr>\n    <tr>\n      <th>Hero</th>\n      <th></th>\n      <th></th>\n      <th></th>\n    </tr>\n  </thead>\n  <tbody>\n    <tr>\n      <th>All Heroes</th>\n      <td>3.471344e+06</td>\n      <td>10551.198164</td>\n      <td>329.0</td>\n    </tr>\n    <tr>\n      <th>Tracer</th>\n      <td>1.117671e+06</td>\n      <td>5505.769189</td>\n      <td>203.0</td>\n    </tr>\n    <tr>\n      <th>Widowmaker</th>\n      <td>8.412565e+05</td>\n      <td>5427.461158</td>\n      <td>155.0</td>\n    </tr>\n    <tr>\n      <th>Zarya</th>\n      <td>4.540467e+05</td>\n      <td>8731.667921</td>\n      <td>52.0</td>\n    </tr>\n    <tr>\n      <th>Reaper</th>\n      <td>2.464126e+05</td>\n      <td>5866.966213</td>\n      <td>42.0</td>\n    </tr>\n    <tr>\n      <th>Sombra</th>\n      <td>1.892018e+05</td>\n      <td>3503.737354</td>\n      <td>54.0</td>\n    </tr>\n    <tr>\n      <th>Ashe</th>\n      <td>1.616637e+05</td>\n      <td>8508.613814</td>\n      <td>19.0</td>\n    </tr>\n    <tr>\n      <th>Cassidy</th>\n      <td>1.578507e+05</td>\n      <td>2428.471813</td>\n      <td>65.0</td>\n    </tr>\n    <tr>\n      <th>Hanzo</th>\n      <td>7.359692e+04</td>\n      <td>3873.521911</td>\n      <td>19.0</td>\n    </tr>\n    <tr>\n      <th>Symmetra</th>\n      <td>6.375518e+04</td>\n      <td>3984.699046</td>\n      <td>16.0</td>\n    </tr>\n    <tr>\n      <th>Junkrat</th>\n      <td>6.177393e+04</td>\n      <td>3251.259295</td>\n      <td>19.0</td>\n    </tr>\n    <tr>\n      <th>Bastion</th>\n      <td>4.808167e+04</td>\n      <td>3698.589662</td>\n      <td>13.0</td>\n    </tr>\n    <tr>\n      <th>Torbjörn</th>\n      <td>2.485384e+04</td>\n      <td>4142.306001</td>\n      <td>6.0</td>\n    </tr>\n    <tr>\n      <th>Soldier: 76</th>\n      <td>1.818807e+04</td>\n      <td>2273.509267</td>\n      <td>8.0</td>\n    </tr>\n    <tr>\n      <th>Brigitte</th>\n      <td>5.557341e+03</td>\n      <td>1111.468206</td>\n      <td>5.0</td>\n    </tr>\n    <tr>\n      <th>Doomfist</th>\n      <td>3.000751e+03</td>\n      <td>428.678773</td>\n      <td>7.0</td>\n    </tr>\n    <tr>\n      <th>Roadhog</th>\n      <td>2.571373e+03</td>\n      <td>2571.373146</td>\n      <td>1.0</td>\n    </tr>\n    <tr>\n      <th>Mei</th>\n      <td>1.862042e+03</td>\n      <td>620.680663</td>\n      <td>3.0</td>\n    </tr>\n  </tbody>\n</table>\n</div>"
     },
     "execution_count": 248,
     "metadata": {},
     "output_type": "execute_result"
    }
   ],
   "source": [
    "get_heroes_stat_by_player('Hero Damage Done', 'SoOn')\n",
    "# df.head()\n",
    "# avg_stats_per_game('SoOn')"
   ],
   "metadata": {
    "collapsed": false,
    "ExecuteTime": {
     "end_time": "2024-02-11T22:41:42.950845100Z",
     "start_time": "2024-02-11T22:41:41.221725200Z"
    }
   },
   "id": "d995fb8d46764ad4"
  },
  {
   "cell_type": "code",
   "outputs": [],
   "source": [
    "# |export\n",
    "def get_players_stat_by_team(stat: str, team: str) -> pd.DataFrame:\n",
    "    result = df[(df['stat'] == stat) & (df['team'] == team)].groupby('player')['stat_amount'].sum().sort_values(\n",
    "        ascending=False)\n",
    "    result.name = stat\n",
    "    result.index.name = 'Player'\n",
    "    return result"
   ],
   "metadata": {
    "collapsed": false,
    "ExecuteTime": {
     "end_time": "2024-02-11T22:32:32.701685300Z",
     "start_time": "2024-02-11T22:32:32.696334700Z"
    }
   },
   "id": "437343fad92ca3aa",
   "execution_count": 239
  },
  {
   "cell_type": "code",
   "outputs": [],
   "source": [
    "# get_players_stat_by_team('Hero Damage Done', 'Paris Eternal')"
   ],
   "metadata": {
    "collapsed": false,
    "ExecuteTime": {
     "end_time": "2024-02-11T22:32:32.705364400Z",
     "start_time": "2024-02-11T22:32:32.700391400Z"
    }
   },
   "id": "621dd27f87e3dca5",
   "execution_count": 240
  },
  {
   "cell_type": "code",
   "outputs": [],
   "source": [
    "# |export\n",
    "def get_team_scores(team: str, map_type: str = None) -> pd.DataFrame:\n",
    "    # stock every unique game from team (each game as a unique 'match_id'), team name is stocked in 'team_one_name' or 'team_two_name'\n",
    "    team_games = map_stats[(map_stats['team_one_name'] == team) | (map_stats['team_two_name'] == team)]\n",
    "    if map_type:  # only 1 row per game\n",
    "        # add column 'map_type' from dataframe 'df'\n",
    "        team_games = team_games.merge(df[['match_id', 'map_type']], on='match_id')\n",
    "        print(team_games['map_type'].str.lower().unique())\n",
    "        team_games = team_games[team_games['map_type'].str.lower() == map_type.lower()]\n",
    "        # get one row per map\n",
    "        team_games = team_games.drop_duplicates(subset='round_start_time')\n",
    "        # do not keep twice same game_number per match_id\n",
    "        df_grp = team_games.groupby(['match_id', 'game_number'])\n",
    "        team_games = df_grp.first().reset_index()\n",
    "    else:  # only 1 row per match\n",
    "        # get one row per match\n",
    "        team_games = team_games.drop_duplicates(subset='match_id')\n",
    "\n",
    "    # get teams list\n",
    "    opponents = team_games[['team_one_name', 'team_two_name']]\n",
    "    # remove team input from opponents list\n",
    "    opponents = opponents[opponents != team]\n",
    "    # regroup in one column and remove duplicates\n",
    "    opponents = opponents.stack().reset_index(drop=True).drop_duplicates()\n",
    "\n",
    "    results = pd.DataFrame(columns=['team', 'opponent', 'win', 'loss', 'winrate', 'map_type', 'only_matches'])\n",
    "\n",
    "    for opponent in opponents:\n",
    "        matches = team_games[((team_games['team_one_name'] == team) &\n",
    "                              (team_games['team_two_name'] == opponent)) | (\n",
    "                                     (team_games['team_one_name'] == opponent) & (team_games['team_two_name'] == team))]\n",
    "\n",
    "        if map_type:\n",
    "            wins = matches['map_winner'] == team\n",
    "        else:\n",
    "            wins = matches['match_winner'] == team\n",
    "\n",
    "        total_matches = matches.shape[0]\n",
    "        if total_matches == 0:\n",
    "            continue\n",
    "        wins = wins.sum()\n",
    "        losses = len(matches) - wins\n",
    "        winrate = wins / total_matches\n",
    "\n",
    "        row = pd.DataFrame(\n",
    "            {'team': team, 'opponent': opponent, 'total_matches': total_matches, 'win': wins, 'loss': losses,\n",
    "             'winrate': winrate * 100, 'map_type': map_type,\n",
    "             'only_matches': not map_type}, index=[0])\n",
    "        results = pd.concat([results, row])\n",
    "\n",
    "    # rename columns\n",
    "    results.rename(columns={'team': 'Team', 'opponent': 'Opponent', 'total_matches': 'Total Matches', 'win': 'Win',\n",
    "                            'loss': 'Loss', 'winrate': 'Winrate', 'map_type': 'Map Type',\n",
    "                            'only_matches': 'Only Matches'},\n",
    "                   inplace=True)\n",
    "\n",
    "    # reorder columns\n",
    "    results = results[['Team', 'Opponent', 'Total Matches', 'Win', 'Loss', 'Winrate', 'Map Type', 'Only Matches']]\n",
    "    if not map_type:\n",
    "        results = results.drop(columns='Map Type')\n",
    "\n",
    "    results = results.set_index('Team')\n",
    "    return results"
   ],
   "metadata": {
    "collapsed": false,
    "ExecuteTime": {
     "end_time": "2024-02-11T23:02:18.338704200Z",
     "start_time": "2024-02-11T23:02:18.328514600Z"
    }
   },
   "id": "afa0aba395bc4034",
   "execution_count": 252
  },
  {
   "cell_type": "code",
   "outputs": [
    {
     "name": "stderr",
     "output_type": "stream",
     "text": [
      "C:\\Users\\omist\\AppData\\Local\\Temp\\ipykernel_2520\\1787698808.py:49: FutureWarning: The behavior of DataFrame concatenation with empty or all-NA entries is deprecated. In a future version, this will no longer exclude empty or all-NA columns when determining the result dtypes. To retain the old behavior, exclude the relevant entries before the concat operation.\n",
      "  results = pd.concat([results, row])\n"
     ]
    },
    {
     "data": {
      "text/plain": "                           Opponent  Total Matches Win Loss     Winrate  \\\nTeam                                                                      \nDallas Fuel           Seoul Dynasty            8.0   3    5   37.500000   \nDallas Fuel     Los Angeles Valiant            8.0   3    5   37.500000   \nDallas Fuel         Houston Outlaws           14.0   8    6   57.142857   \nDallas Fuel         London Spitfire            9.0   6    3   66.666667   \nDallas Fuel     San Francisco Shock           20.0   8   12   40.000000   \nDallas Fuel         Boston Uprising            9.0   5    4   55.555556   \nDallas Fuel          Seoul Infernal           11.0   2    9   18.181818   \nDallas Fuel      New York Excelsior            7.0   2    5   28.571429   \nDallas Fuel        Shanghai Dragons           13.0  10    3   76.923077   \nDallas Fuel  Los Angeles Gladiators           14.0   6    8   42.857143   \nDallas Fuel          Florida Mayhem           10.0   7    3   70.000000   \nDallas Fuel        Guangzhou Charge            3.0   0    3    0.000000   \nDallas Fuel         Toronto Defiant            7.0   7    0  100.000000   \nDallas Fuel           Vegas Eternal            7.0   3    4   42.857143   \nDallas Fuel        Vancouver Titans            8.0   4    4   50.000000   \nDallas Fuel      Washington Justice           11.0   9    2   81.818182   \nDallas Fuel         Chengdu Hunters            6.0   2    4   33.333333   \nDallas Fuel          Hangzhou Spark            4.0   1    3   25.000000   \nDallas Fuel           Atlanta Reign           10.0   5    5   50.000000   \nDallas Fuel        Sin Prisa Gaming            1.0   1    0  100.000000   \nDallas Fuel                O2 Blast            1.0   1    0  100.000000   \n\n            Only Matches  \nTeam                      \nDallas Fuel         True  \nDallas Fuel         True  \nDallas Fuel         True  \nDallas Fuel         True  \nDallas Fuel         True  \nDallas Fuel         True  \nDallas Fuel         True  \nDallas Fuel         True  \nDallas Fuel         True  \nDallas Fuel         True  \nDallas Fuel         True  \nDallas Fuel         True  \nDallas Fuel         True  \nDallas Fuel         True  \nDallas Fuel         True  \nDallas Fuel         True  \nDallas Fuel         True  \nDallas Fuel         True  \nDallas Fuel         True  \nDallas Fuel         True  \nDallas Fuel         True  ",
      "text/html": "<div>\n<style scoped>\n    .dataframe tbody tr th:only-of-type {\n        vertical-align: middle;\n    }\n\n    .dataframe tbody tr th {\n        vertical-align: top;\n    }\n\n    .dataframe thead th {\n        text-align: right;\n    }\n</style>\n<table border=\"1\" class=\"dataframe\">\n  <thead>\n    <tr style=\"text-align: right;\">\n      <th></th>\n      <th>Opponent</th>\n      <th>Total Matches</th>\n      <th>Win</th>\n      <th>Loss</th>\n      <th>Winrate</th>\n      <th>Only Matches</th>\n    </tr>\n    <tr>\n      <th>Team</th>\n      <th></th>\n      <th></th>\n      <th></th>\n      <th></th>\n      <th></th>\n      <th></th>\n    </tr>\n  </thead>\n  <tbody>\n    <tr>\n      <th>Dallas Fuel</th>\n      <td>Seoul Dynasty</td>\n      <td>8.0</td>\n      <td>3</td>\n      <td>5</td>\n      <td>37.500000</td>\n      <td>True</td>\n    </tr>\n    <tr>\n      <th>Dallas Fuel</th>\n      <td>Los Angeles Valiant</td>\n      <td>8.0</td>\n      <td>3</td>\n      <td>5</td>\n      <td>37.500000</td>\n      <td>True</td>\n    </tr>\n    <tr>\n      <th>Dallas Fuel</th>\n      <td>Houston Outlaws</td>\n      <td>14.0</td>\n      <td>8</td>\n      <td>6</td>\n      <td>57.142857</td>\n      <td>True</td>\n    </tr>\n    <tr>\n      <th>Dallas Fuel</th>\n      <td>London Spitfire</td>\n      <td>9.0</td>\n      <td>6</td>\n      <td>3</td>\n      <td>66.666667</td>\n      <td>True</td>\n    </tr>\n    <tr>\n      <th>Dallas Fuel</th>\n      <td>San Francisco Shock</td>\n      <td>20.0</td>\n      <td>8</td>\n      <td>12</td>\n      <td>40.000000</td>\n      <td>True</td>\n    </tr>\n    <tr>\n      <th>Dallas Fuel</th>\n      <td>Boston Uprising</td>\n      <td>9.0</td>\n      <td>5</td>\n      <td>4</td>\n      <td>55.555556</td>\n      <td>True</td>\n    </tr>\n    <tr>\n      <th>Dallas Fuel</th>\n      <td>Seoul Infernal</td>\n      <td>11.0</td>\n      <td>2</td>\n      <td>9</td>\n      <td>18.181818</td>\n      <td>True</td>\n    </tr>\n    <tr>\n      <th>Dallas Fuel</th>\n      <td>New York Excelsior</td>\n      <td>7.0</td>\n      <td>2</td>\n      <td>5</td>\n      <td>28.571429</td>\n      <td>True</td>\n    </tr>\n    <tr>\n      <th>Dallas Fuel</th>\n      <td>Shanghai Dragons</td>\n      <td>13.0</td>\n      <td>10</td>\n      <td>3</td>\n      <td>76.923077</td>\n      <td>True</td>\n    </tr>\n    <tr>\n      <th>Dallas Fuel</th>\n      <td>Los Angeles Gladiators</td>\n      <td>14.0</td>\n      <td>6</td>\n      <td>8</td>\n      <td>42.857143</td>\n      <td>True</td>\n    </tr>\n    <tr>\n      <th>Dallas Fuel</th>\n      <td>Florida Mayhem</td>\n      <td>10.0</td>\n      <td>7</td>\n      <td>3</td>\n      <td>70.000000</td>\n      <td>True</td>\n    </tr>\n    <tr>\n      <th>Dallas Fuel</th>\n      <td>Guangzhou Charge</td>\n      <td>3.0</td>\n      <td>0</td>\n      <td>3</td>\n      <td>0.000000</td>\n      <td>True</td>\n    </tr>\n    <tr>\n      <th>Dallas Fuel</th>\n      <td>Toronto Defiant</td>\n      <td>7.0</td>\n      <td>7</td>\n      <td>0</td>\n      <td>100.000000</td>\n      <td>True</td>\n    </tr>\n    <tr>\n      <th>Dallas Fuel</th>\n      <td>Vegas Eternal</td>\n      <td>7.0</td>\n      <td>3</td>\n      <td>4</td>\n      <td>42.857143</td>\n      <td>True</td>\n    </tr>\n    <tr>\n      <th>Dallas Fuel</th>\n      <td>Vancouver Titans</td>\n      <td>8.0</td>\n      <td>4</td>\n      <td>4</td>\n      <td>50.000000</td>\n      <td>True</td>\n    </tr>\n    <tr>\n      <th>Dallas Fuel</th>\n      <td>Washington Justice</td>\n      <td>11.0</td>\n      <td>9</td>\n      <td>2</td>\n      <td>81.818182</td>\n      <td>True</td>\n    </tr>\n    <tr>\n      <th>Dallas Fuel</th>\n      <td>Chengdu Hunters</td>\n      <td>6.0</td>\n      <td>2</td>\n      <td>4</td>\n      <td>33.333333</td>\n      <td>True</td>\n    </tr>\n    <tr>\n      <th>Dallas Fuel</th>\n      <td>Hangzhou Spark</td>\n      <td>4.0</td>\n      <td>1</td>\n      <td>3</td>\n      <td>25.000000</td>\n      <td>True</td>\n    </tr>\n    <tr>\n      <th>Dallas Fuel</th>\n      <td>Atlanta Reign</td>\n      <td>10.0</td>\n      <td>5</td>\n      <td>5</td>\n      <td>50.000000</td>\n      <td>True</td>\n    </tr>\n    <tr>\n      <th>Dallas Fuel</th>\n      <td>Sin Prisa Gaming</td>\n      <td>1.0</td>\n      <td>1</td>\n      <td>0</td>\n      <td>100.000000</td>\n      <td>True</td>\n    </tr>\n    <tr>\n      <th>Dallas Fuel</th>\n      <td>O2 Blast</td>\n      <td>1.0</td>\n      <td>1</td>\n      <td>0</td>\n      <td>100.000000</td>\n      <td>True</td>\n    </tr>\n  </tbody>\n</table>\n</div>"
     },
     "execution_count": 253,
     "metadata": {},
     "output_type": "execute_result"
    }
   ],
   "source": [
    "get_team_scores('Dallas Fuel')"
   ],
   "metadata": {
    "collapsed": false,
    "ExecuteTime": {
     "end_time": "2024-02-11T23:02:20.259414400Z",
     "start_time": "2024-02-11T23:02:20.181505800Z"
    }
   },
   "id": "3ea2eafd8bece7f9",
   "execution_count": 253
  },
  {
   "cell_type": "code",
   "outputs": [
    {
     "data": {
      "text/plain": "array(['Los Angeles Valiant', 'San Francisco Shock',\n       'Los Angeles Gladiators', 'Shanghai Dragons', 'Dallas Fuel',\n       'Seoul Dynasty', 'Florida Mayhem', 'London Spitfire',\n       'Houston Outlaws', 'Seoul Infernal', 'Boston Uprising',\n       'New York Excelsior', 'Hangzhou Spark', 'Toronto Defiant',\n       'Atlanta Reign', 'Chengdu Hunters', 'Guangzhou Charge',\n       'Vegas Eternal', 'Washington Justice', 'Vancouver Titans',\n       'Brick Movers', 'Jehong and Students', 'Team Universe', 'Triple A',\n       'Team Custa', 'Team Jake', 'Team D.va', 'Team Reinhardt',\n       'Trick Room', 'Timeless', 'Saints', 'Twisted Minds', 'Team Peps',\n       'WISP', 'Redbird Esports', 'Dreamers', 'Poker Face', 'Rhodes',\n       'O2 Blast', 'PANTHERA', 'Sin Prisa Gaming'], dtype=object)"
     },
     "execution_count": 243,
     "metadata": {},
     "output_type": "execute_result"
    }
   ],
   "source": [
    "# get every team in alphabetical order\n",
    "df['team'].unique()"
   ],
   "metadata": {
    "collapsed": false,
    "ExecuteTime": {
     "end_time": "2024-02-11T22:32:33.144124Z",
     "start_time": "2024-02-11T22:32:32.716099400Z"
    }
   },
   "id": "982b59a4e5509a4c",
   "execution_count": 243
  },
  {
   "cell_type": "code",
   "outputs": [],
   "source": [
    "# get every map in alphabetical order\n",
    "# df['map'].unique()"
   ],
   "metadata": {
    "collapsed": false,
    "ExecuteTime": {
     "end_time": "2024-02-11T22:32:33.146563200Z",
     "start_time": "2024-02-11T22:32:33.118902400Z"
    }
   },
   "id": "59dcec0a88787ac7",
   "execution_count": 244
  },
  {
   "cell_type": "code",
   "outputs": [],
   "source": [
    "# get every hero in alphabetical order\n",
    "# df['hero'].unique()"
   ],
   "metadata": {
    "collapsed": false,
    "ExecuteTime": {
     "end_time": "2024-02-11T22:32:33.170450600Z",
     "start_time": "2024-02-11T22:32:33.122029800Z"
    }
   },
   "id": "21ab26a7cd80311a",
   "execution_count": 245
  },
  {
   "cell_type": "code",
   "outputs": [],
   "source": [
    "from nbdev.export import nb_export\n",
    "\n",
    "nb_export(\"owl.ipynb\", lib_path=\"./\", name=\"owl_module\")"
   ],
   "metadata": {
    "collapsed": false,
    "ExecuteTime": {
     "end_time": "2024-02-11T23:03:11.148217500Z",
     "start_time": "2024-02-11T23:03:11.028738900Z"
    }
   },
   "id": "94657f606c59e76f",
   "execution_count": 255
  },
  {
   "cell_type": "code",
   "execution_count": null,
   "outputs": [],
   "source": [],
   "metadata": {
    "collapsed": false
   },
   "id": "8ed6d2bb300eeeaa"
  }
 ],
 "metadata": {
  "kernelspec": {
   "display_name": "Python 3",
   "language": "python",
   "name": "python3"
  },
  "language_info": {
   "codemirror_mode": {
    "name": "ipython",
    "version": 2
   },
   "file_extension": ".py",
   "mimetype": "text/x-python",
   "name": "python",
   "nbconvert_exporter": "python",
   "pygments_lexer": "ipython2",
   "version": "2.7.6"
  }
 },
 "nbformat": 4,
 "nbformat_minor": 5
}
