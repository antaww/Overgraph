{
 "cells": [
  {
   "cell_type": "code",
   "execution_count": 66,
   "id": "initial_id",
   "metadata": {
    "collapsed": true,
    "ExecuteTime": {
     "end_time": "2024-02-09T00:39:20.375576200Z",
     "start_time": "2024-02-09T00:39:19.302982Z"
    }
   },
   "outputs": [],
   "source": [
    "# |exporti\n",
    "\n",
    "import pandas as pd\n",
    "import streamlit as st\n",
    "\n",
    "from streamlit_jupyter import StreamlitPatcher"
   ]
  },
  {
   "cell_type": "code",
   "outputs": [],
   "source": [
    "sp = StreamlitPatcher()\n",
    "sp.jupyter()  # register patcher with streamlit"
   ],
   "metadata": {
    "collapsed": false,
    "ExecuteTime": {
     "end_time": "2024-02-09T00:39:20.519872800Z",
     "start_time": "2024-02-09T00:39:20.361970500Z"
    }
   },
   "id": "7e2936994752ffeb",
   "execution_count": 67
  },
  {
   "cell_type": "code",
   "outputs": [],
   "source": [
    "# |exporti\n",
    "import os\n",
    "\n",
    "project_name = 'Overgraph'\n",
    "path = os.getcwd().split(project_name)[0] + project_name\n",
    "owl_path = f'{path}/src/datas/owl'\n",
    " "
   ],
   "metadata": {
    "collapsed": false,
    "ExecuteTime": {
     "end_time": "2024-02-09T00:39:20.784405500Z",
     "start_time": "2024-02-09T00:39:20.522868200Z"
    }
   },
   "id": "d665395acb288412",
   "execution_count": 68
  },
  {
   "cell_type": "markdown",
   "source": [
    "# MAPS"
   ],
   "metadata": {
    "collapsed": false
   },
   "id": "3cfa13abee0f49ec"
  },
  {
   "cell_type": "code",
   "execution_count": 69,
   "outputs": [],
   "source": [
    "# |export\n",
    "map_stats = pd.read_csv(f'{owl_path}/match_map_stats.csv')"
   ],
   "metadata": {
    "collapsed": false,
    "ExecuteTime": {
     "end_time": "2024-02-09T00:39:21.186746100Z",
     "start_time": "2024-02-09T00:39:20.735282300Z"
    }
   },
   "id": "7d59d473d0779de2"
  },
  {
   "cell_type": "markdown",
   "source": [
    "# 2018 STAGE 1"
   ],
   "metadata": {
    "collapsed": false
   },
   "id": "49b3b0b721be898e"
  },
  {
   "cell_type": "code",
   "outputs": [],
   "source": [
    "# |exporti\n",
    "df_2018_s1 = pd.read_csv(f'{owl_path}/phs_2018_stage_1.csv')"
   ],
   "metadata": {
    "collapsed": false,
    "ExecuteTime": {
     "end_time": "2024-02-09T00:39:21.287655600Z",
     "start_time": "2024-02-09T00:39:20.973274600Z"
    }
   },
   "id": "f0f86c6d38cab044",
   "execution_count": 70
  },
  {
   "cell_type": "code",
   "outputs": [],
   "source": [
    "# df_2018_s1"
   ],
   "metadata": {
    "collapsed": false,
    "ExecuteTime": {
     "end_time": "2024-02-09T00:39:21.565524400Z",
     "start_time": "2024-02-09T00:39:21.259236500Z"
    }
   },
   "id": "fe30803ec16390d9",
   "execution_count": 71
  },
  {
   "cell_type": "markdown",
   "source": [
    "# 2018 STAGE 2"
   ],
   "metadata": {
    "collapsed": false
   },
   "id": "d950a081343e6e55"
  },
  {
   "cell_type": "code",
   "outputs": [],
   "source": [
    "# |exporti\n",
    "df_2018_s2 = pd.read_csv(f'{owl_path}/phs_2018_stage_2.csv')"
   ],
   "metadata": {
    "collapsed": false,
    "ExecuteTime": {
     "end_time": "2024-02-09T00:39:21.859685600Z",
     "start_time": "2024-02-09T00:39:21.567506Z"
    }
   },
   "id": "d94afc6ee52db40e",
   "execution_count": 72
  },
  {
   "cell_type": "code",
   "outputs": [],
   "source": [
    "# df_2018_s2"
   ],
   "metadata": {
    "collapsed": false,
    "ExecuteTime": {
     "end_time": "2024-02-09T00:39:21.862686100Z",
     "start_time": "2024-02-09T00:39:21.615362100Z"
    }
   },
   "id": "d48047896535d119",
   "execution_count": 73
  },
  {
   "cell_type": "markdown",
   "source": [
    "# 2018 STAGE 3"
   ],
   "metadata": {
    "collapsed": false
   },
   "id": "b4aa8f5ca6a90da3"
  },
  {
   "cell_type": "code",
   "outputs": [],
   "source": [
    "# |exporti\n",
    "df_2018_s3 = pd.read_csv(f'{owl_path}/phs_2018_stage_3.csv')"
   ],
   "metadata": {
    "collapsed": false,
    "ExecuteTime": {
     "end_time": "2024-02-09T00:39:22.176165500Z",
     "start_time": "2024-02-09T00:39:21.865199300Z"
    }
   },
   "id": "2c1f2caa5f8c5eb0",
   "execution_count": 74
  },
  {
   "cell_type": "code",
   "outputs": [],
   "source": [
    "# df_2018_s3"
   ],
   "metadata": {
    "collapsed": false,
    "ExecuteTime": {
     "end_time": "2024-02-09T00:39:22.320401300Z",
     "start_time": "2024-02-09T00:39:22.018124400Z"
    }
   },
   "id": "fdd95eb6a7aef722",
   "execution_count": 75
  },
  {
   "cell_type": "markdown",
   "source": [
    "# 2018 STAGE 4"
   ],
   "metadata": {
    "collapsed": false
   },
   "id": "d486c5a7da7f8a6a"
  },
  {
   "cell_type": "code",
   "outputs": [],
   "source": [
    "# |exporti\n",
    "df_2018_s4 = pd.read_csv(f'{owl_path}/phs_2018_stage_4.csv')"
   ],
   "metadata": {
    "collapsed": false,
    "ExecuteTime": {
     "end_time": "2024-02-09T00:39:22.478278100Z",
     "start_time": "2024-02-09T00:39:22.255117800Z"
    }
   },
   "id": "5b054829ca13dd84",
   "execution_count": 76
  },
  {
   "cell_type": "code",
   "outputs": [],
   "source": [
    "# df_2018_s4"
   ],
   "metadata": {
    "collapsed": false,
    "ExecuteTime": {
     "end_time": "2024-02-09T00:39:22.567196300Z",
     "start_time": "2024-02-09T00:39:22.387362500Z"
    }
   },
   "id": "496d913d87e78886",
   "execution_count": 77
  },
  {
   "cell_type": "markdown",
   "source": [
    "# 2018 PLAYOFFS"
   ],
   "metadata": {
    "collapsed": false
   },
   "id": "1c29402ecde8f4cb"
  },
  {
   "cell_type": "code",
   "outputs": [],
   "source": [
    "# |exporti\n",
    "df_2018_po = pd.read_csv(f'{owl_path}/phs_2018_playoffs.csv')"
   ],
   "metadata": {
    "collapsed": false,
    "ExecuteTime": {
     "end_time": "2024-02-09T00:39:22.901145Z",
     "start_time": "2024-02-09T00:39:22.570207500Z"
    }
   },
   "id": "6b7f02e481a28e80",
   "execution_count": 78
  },
  {
   "cell_type": "code",
   "outputs": [],
   "source": [
    "# df_2018_po"
   ],
   "metadata": {
    "collapsed": false,
    "ExecuteTime": {
     "end_time": "2024-02-09T00:39:23.009749900Z",
     "start_time": "2024-02-09T00:39:22.867637800Z"
    }
   },
   "id": "4a3fa51552d0add3",
   "execution_count": 79
  },
  {
   "cell_type": "markdown",
   "source": [
    "# 2019 STAGE 1"
   ],
   "metadata": {
    "collapsed": false
   },
   "id": "ada37fbd3f635046"
  },
  {
   "cell_type": "code",
   "outputs": [],
   "source": [
    "# |exporti\n",
    "df_2019_s1 = pd.read_csv(f'{owl_path}/phs_2019_stage_1.csv')"
   ],
   "metadata": {
    "collapsed": false,
    "ExecuteTime": {
     "end_time": "2024-02-09T00:39:23.274952300Z",
     "start_time": "2024-02-09T00:39:22.974949200Z"
    }
   },
   "id": "12308ec5aa1e80ef",
   "execution_count": 80
  },
  {
   "cell_type": "code",
   "outputs": [],
   "source": [
    "# df_2019_s1"
   ],
   "metadata": {
    "collapsed": false,
    "ExecuteTime": {
     "end_time": "2024-02-09T00:39:23.384336400Z",
     "start_time": "2024-02-09T00:39:23.245930Z"
    }
   },
   "id": "882ceb34022383ec",
   "execution_count": 81
  },
  {
   "cell_type": "markdown",
   "source": [
    "# 2019 STAGE 2"
   ],
   "metadata": {
    "collapsed": false
   },
   "id": "2224c90be0782609"
  },
  {
   "cell_type": "code",
   "outputs": [],
   "source": [
    "# |exporti\n",
    "df_2019_s2 = pd.read_csv(f'{owl_path}/phs_2019_stage_2.csv')"
   ],
   "metadata": {
    "collapsed": false,
    "ExecuteTime": {
     "end_time": "2024-02-09T00:39:23.649380500Z",
     "start_time": "2024-02-09T00:39:23.369303800Z"
    }
   },
   "id": "6022459c2ef67947",
   "execution_count": 82
  },
  {
   "cell_type": "code",
   "outputs": [],
   "source": [
    "# df_2019_s2"
   ],
   "metadata": {
    "collapsed": false,
    "ExecuteTime": {
     "end_time": "2024-02-09T00:39:23.693330600Z",
     "start_time": "2024-02-09T00:39:23.509869100Z"
    }
   },
   "id": "ec480adb2d7725a5",
   "execution_count": 83
  },
  {
   "cell_type": "markdown",
   "source": [
    "# 2019 STAGE 3"
   ],
   "metadata": {
    "collapsed": false
   },
   "id": "87508769140d0047"
  },
  {
   "cell_type": "code",
   "outputs": [],
   "source": [
    "# |exporti\n",
    "df_2019_s3 = pd.read_csv(f'{owl_path}/phs_2019_stage_3.csv')"
   ],
   "metadata": {
    "collapsed": false,
    "ExecuteTime": {
     "end_time": "2024-02-09T00:39:24.065800300Z",
     "start_time": "2024-02-09T00:39:23.672284800Z"
    }
   },
   "id": "9d5d89e8f557bc83",
   "execution_count": 84
  },
  {
   "cell_type": "code",
   "outputs": [],
   "source": [
    "# df_2019_s3"
   ],
   "metadata": {
    "collapsed": false,
    "ExecuteTime": {
     "end_time": "2024-02-09T00:39:24.216008500Z",
     "start_time": "2024-02-09T00:39:24.064545400Z"
    }
   },
   "id": "c0bdbaf542ff32cd",
   "execution_count": 85
  },
  {
   "cell_type": "markdown",
   "source": [
    "# 2019 STAGE 4"
   ],
   "metadata": {
    "collapsed": false
   },
   "id": "81c9026aba4bb06e"
  },
  {
   "cell_type": "code",
   "outputs": [],
   "source": [
    "# |exporti\n",
    "df_2019_s4 = pd.read_csv(f'{owl_path}/phs_2019_stage_4.csv')"
   ],
   "metadata": {
    "collapsed": false,
    "ExecuteTime": {
     "end_time": "2024-02-09T00:39:24.581644100Z",
     "start_time": "2024-02-09T00:39:24.139619100Z"
    }
   },
   "id": "c7cfc6a8b09746ac",
   "execution_count": 86
  },
  {
   "cell_type": "code",
   "outputs": [],
   "source": [
    "# df_2019_s4"
   ],
   "metadata": {
    "collapsed": false,
    "ExecuteTime": {
     "end_time": "2024-02-09T00:39:24.731873200Z",
     "start_time": "2024-02-09T00:39:24.584163600Z"
    }
   },
   "id": "93cddffdb3983aba",
   "execution_count": 87
  },
  {
   "cell_type": "markdown",
   "source": [
    "# 2019 PLAYOFFS"
   ],
   "metadata": {
    "collapsed": false
   },
   "id": "741707e96539b4db"
  },
  {
   "cell_type": "code",
   "outputs": [],
   "source": [
    "# |exporti\n",
    "df_2019_po = pd.read_csv(f'{owl_path}/phs_2019_playoffs.csv')"
   ],
   "metadata": {
    "collapsed": false,
    "ExecuteTime": {
     "end_time": "2024-02-09T00:39:24.975007400Z",
     "start_time": "2024-02-09T00:39:24.622863Z"
    }
   },
   "id": "4c2b0602886915f7",
   "execution_count": 88
  },
  {
   "cell_type": "code",
   "outputs": [],
   "source": [
    "# df_2019_po"
   ],
   "metadata": {
    "collapsed": false,
    "ExecuteTime": {
     "end_time": "2024-02-09T00:39:25.068377500Z",
     "start_time": "2024-02-09T00:39:24.915260600Z"
    }
   },
   "id": "c21ff89aaedece33",
   "execution_count": 89
  },
  {
   "cell_type": "markdown",
   "source": [
    "# 2020 STAGE 1"
   ],
   "metadata": {
    "collapsed": false
   },
   "id": "de42be7a4a2bea68"
  },
  {
   "cell_type": "code",
   "outputs": [],
   "source": [
    "# |exporti\n",
    "df_2020_s1 = pd.read_csv(f'{owl_path}/phs_2020_1.csv')"
   ],
   "metadata": {
    "collapsed": false,
    "ExecuteTime": {
     "end_time": "2024-02-09T00:39:25.237441600Z",
     "start_time": "2024-02-09T00:39:25.008640400Z"
    }
   },
   "id": "e9d60cd662b792c8",
   "execution_count": 90
  },
  {
   "cell_type": "code",
   "outputs": [],
   "source": [
    "# df_2020_s1"
   ],
   "metadata": {
    "collapsed": false,
    "ExecuteTime": {
     "end_time": "2024-02-09T00:39:25.315626500Z",
     "start_time": "2024-02-09T00:39:25.239946400Z"
    }
   },
   "id": "7e14106bf8758131",
   "execution_count": 91
  },
  {
   "cell_type": "markdown",
   "source": [
    "# 2020 STAGE 2"
   ],
   "metadata": {
    "collapsed": false
   },
   "id": "5f2cadb575664ed4"
  },
  {
   "cell_type": "code",
   "outputs": [],
   "source": [
    "# |exporti\n",
    "df_2020_s2 = pd.read_csv(f'{owl_path}/phs_2020_2.csv')"
   ],
   "metadata": {
    "collapsed": false,
    "ExecuteTime": {
     "end_time": "2024-02-09T00:39:25.492488600Z",
     "start_time": "2024-02-09T00:39:25.315626500Z"
    }
   },
   "id": "93bfab799999676",
   "execution_count": 92
  },
  {
   "cell_type": "code",
   "outputs": [],
   "source": [
    "# df_2020_s2"
   ],
   "metadata": {
    "collapsed": false,
    "ExecuteTime": {
     "end_time": "2024-02-09T00:39:25.556257800Z",
     "start_time": "2024-02-09T00:39:25.418725800Z"
    }
   },
   "id": "efbfc9b1ce370a70",
   "execution_count": 93
  },
  {
   "cell_type": "markdown",
   "source": [
    "# 2021 STAGE"
   ],
   "metadata": {
    "collapsed": false
   },
   "id": "44f2c084cfff13ea"
  },
  {
   "cell_type": "code",
   "outputs": [],
   "source": [
    "# |exporti\n",
    "df_2021 = pd.read_csv(f'{owl_path}/phs_2021_1.csv')"
   ],
   "metadata": {
    "collapsed": false,
    "ExecuteTime": {
     "end_time": "2024-02-09T00:39:25.761075200Z",
     "start_time": "2024-02-09T00:39:25.558245300Z"
    }
   },
   "id": "ead818c30db59409",
   "execution_count": 94
  },
  {
   "cell_type": "code",
   "outputs": [],
   "source": [
    "# df_2021"
   ],
   "metadata": {
    "collapsed": false,
    "ExecuteTime": {
     "end_time": "2024-02-09T00:39:25.832855600Z",
     "start_time": "2024-02-09T00:39:25.759677300Z"
    }
   },
   "id": "29cc3e2458900720",
   "execution_count": 95
  },
  {
   "cell_type": "markdown",
   "source": [
    "# 2022 STAGE"
   ],
   "metadata": {
    "collapsed": false
   },
   "id": "fc10f27cf20fbb5c"
  },
  {
   "cell_type": "code",
   "outputs": [],
   "source": [
    "# |exporti\n",
    "df_2022 = pd.read_csv(f'{owl_path}/phs_2022.csv')"
   ],
   "metadata": {
    "collapsed": false,
    "ExecuteTime": {
     "end_time": "2024-02-09T00:39:26.045175300Z",
     "start_time": "2024-02-09T00:39:25.832855600Z"
    }
   },
   "id": "f6f560d5b9a8c4e7",
   "execution_count": 96
  },
  {
   "cell_type": "code",
   "outputs": [],
   "source": [
    "# df_2022"
   ],
   "metadata": {
    "collapsed": false,
    "ExecuteTime": {
     "end_time": "2024-02-09T00:39:26.127593700Z",
     "start_time": "2024-02-09T00:39:25.973355900Z"
    }
   },
   "id": "a63195fa6b0be279",
   "execution_count": 97
  },
  {
   "cell_type": "markdown",
   "source": [
    "# 2023 STAGE"
   ],
   "metadata": {
    "collapsed": false
   },
   "id": "9b8f0c2967b2d0f"
  },
  {
   "cell_type": "code",
   "outputs": [],
   "source": [
    "# |exporti\n",
    "df_2023 = pd.read_csv(f'{owl_path}/phs_2023.csv')"
   ],
   "metadata": {
    "collapsed": false,
    "ExecuteTime": {
     "end_time": "2024-02-09T00:39:26.387920200Z",
     "start_time": "2024-02-09T00:39:26.129591600Z"
    }
   },
   "id": "b093d40296cb28c6",
   "execution_count": 98
  },
  {
   "cell_type": "code",
   "outputs": [],
   "source": [
    "# df_2023"
   ],
   "metadata": {
    "collapsed": false,
    "ExecuteTime": {
     "end_time": "2024-02-09T00:39:26.502708Z",
     "start_time": "2024-02-09T00:39:26.370827900Z"
    }
   },
   "id": "86a05193bc4ec221",
   "execution_count": 99
  },
  {
   "cell_type": "markdown",
   "source": [
    "# MERGE DATAFRAMES"
   ],
   "metadata": {
    "collapsed": false
   },
   "id": "611ac6522bfb9392"
  },
  {
   "cell_type": "code",
   "outputs": [],
   "source": [
    "# |export\n",
    "# merge every dataframes in one\n",
    "df = pd.concat(\n",
    "    [df_2018_s1, df_2018_s2, df_2018_s3, df_2018_s4, df_2018_po, df_2019_s1, df_2019_s2, df_2019_s3, df_2019_s4,\n",
    "     df_2019_po, df_2020_s1, df_2020_s2, df_2021, df_2022, df_2023])"
   ],
   "metadata": {
    "collapsed": false,
    "ExecuteTime": {
     "end_time": "2024-02-09T00:39:26.971952100Z",
     "start_time": "2024-02-09T00:39:26.506250200Z"
    }
   },
   "id": "1f40ba42d731ef80",
   "execution_count": 100
  },
  {
   "cell_type": "code",
   "outputs": [],
   "source": [
    "# df"
   ],
   "metadata": {
    "collapsed": false,
    "ExecuteTime": {
     "end_time": "2024-02-09T00:39:27.025027600Z",
     "start_time": "2024-02-09T00:39:26.854190500Z"
    }
   },
   "id": "9cef15576c323ae3",
   "execution_count": 101
  },
  {
   "cell_type": "markdown",
   "source": [
    "# CLEAN DATA"
   ],
   "metadata": {
    "collapsed": false
   },
   "id": "1fb7a7b355de6cbe"
  },
  {
   "cell_type": "code",
   "outputs": [],
   "source": [
    "# |exporti\n",
    "df.replace({'hero': 'McCree'}, 'Cassidy', inplace=True)\n",
    "df.replace({'hero': 'Lucio'}, 'Lúcio', inplace=True)\n",
    "df.replace({'hero': 'Torbjorn'}, 'Torbjörn', inplace=True)\n",
    "df = df[df['map_type'].str.lower() != 'UNKNOWN'.lower()]\n",
    "df.replace({'team': 'Paris Eternal'}, 'Vegas Eternal', inplace=True)\n",
    "df.replace({'team': 'Philadelphia Fusion'}, 'Seoul Infernal', inplace=True)\n",
    "for col in ['match_winner', 'map_winner', 'map_loser', 'attacker', 'defender', 'team_one_name', 'team_two_name']:\n",
    "    map_stats.replace({col: 'Paris Eternal'}, 'Vegas Eternal', inplace=True)\n",
    "    map_stats.replace({col: 'Philadelphia Fusion'}, 'Seoul Infernal', inplace=True)"
   ],
   "metadata": {
    "collapsed": false,
    "ExecuteTime": {
     "end_time": "2024-02-09T00:39:27.296309900Z",
     "start_time": "2024-02-09T00:39:26.862987800Z"
    }
   },
   "id": "57eee12edc4ab5ae",
   "execution_count": 102
  },
  {
   "cell_type": "markdown",
   "source": [
    "# PLAYGROUND"
   ],
   "metadata": {
    "collapsed": false
   },
   "id": "cfb76c2efc749758"
  },
  {
   "cell_type": "code",
   "outputs": [
    {
     "data": {
      "text/plain": "Index(['start_time', 'match_id', 'stage', 'map_type', 'map', 'player', 'team',\n       'stat', 'hero', 'stat_amount'],\n      dtype='object')"
     },
     "execution_count": 103,
     "metadata": {},
     "output_type": "execute_result"
    }
   ],
   "source": [
    "df.columns"
   ],
   "metadata": {
    "collapsed": false,
    "ExecuteTime": {
     "end_time": "2024-02-09T00:39:27.446456600Z",
     "start_time": "2024-02-09T00:39:27.289259200Z"
    }
   },
   "id": "159cbca5a19ad2b5",
   "execution_count": 103
  },
  {
   "cell_type": "code",
   "execution_count": 104,
   "outputs": [
    {
     "data": {
      "text/plain": "Index(['round_start_time', 'round_end_time', 'stage', 'match_id',\n       'game_number', 'match_winner', 'map_winner', 'map_loser', 'map_name',\n       'map_round', 'winning_team_final_map_score',\n       'losing_team_final_map_score', 'control_round_name', 'Attacker',\n       'Defender', 'team_one_name', 'team_two_name',\n       'attacker_payload_distance', 'defender_payload_distance',\n       'attacker_time_banked', 'defender_time_banked',\n       'attacker_control_perecent', 'defender_control_perecent',\n       'attacker_round_end_score', 'defender_round_end_score'],\n      dtype='object')"
     },
     "execution_count": 104,
     "metadata": {},
     "output_type": "execute_result"
    }
   ],
   "source": [
    "map_stats.columns"
   ],
   "metadata": {
    "collapsed": false,
    "ExecuteTime": {
     "end_time": "2024-02-09T00:39:27.465823600Z",
     "start_time": "2024-02-09T00:39:27.295311300Z"
    }
   },
   "id": "80da5f7697c2fd4b"
  },
  {
   "cell_type": "code",
   "outputs": [],
   "source": [
    "# |export\n",
    "def get_heroes_stat(stat: str) -> pd.Series:\n",
    "    result = df[df['stat'] == stat].groupby('hero')['stat_amount'].sum().sort_values(ascending=False)\n",
    "    result.name = stat\n",
    "    result.index.name = 'Hero'\n",
    "    return result\n"
   ],
   "metadata": {
    "collapsed": false,
    "ExecuteTime": {
     "end_time": "2024-02-09T00:39:27.520502800Z",
     "start_time": "2024-02-09T00:39:27.302918800Z"
    }
   },
   "id": "ac4573860101ded6",
   "execution_count": 105
  },
  {
   "cell_type": "code",
   "outputs": [],
   "source": [
    "# get_heroes_stat('Hero Damage Done')"
   ],
   "metadata": {
    "collapsed": false,
    "ExecuteTime": {
     "end_time": "2024-02-09T00:39:27.589567300Z",
     "start_time": "2024-02-09T00:39:27.451454200Z"
    }
   },
   "id": "913faa6045b2c3ab",
   "execution_count": 106
  },
  {
   "cell_type": "code",
   "execution_count": 107,
   "outputs": [],
   "source": [
    "# |export\n",
    "def get_players_stat(stat: str) -> pd.Series:\n",
    "    result = df[df['stat'] == stat].groupby('player')['stat_amount'].sum().sort_values(ascending=False)\n",
    "    result.name = stat\n",
    "    result.index.name = 'Player'\n",
    "    return result"
   ],
   "metadata": {
    "collapsed": false,
    "ExecuteTime": {
     "end_time": "2024-02-09T00:39:27.843146800Z",
     "start_time": "2024-02-09T00:39:27.590571700Z"
    }
   },
   "id": "3ff952a0d82c56e5"
  },
  {
   "cell_type": "code",
   "execution_count": 108,
   "outputs": [],
   "source": [
    "# get_players_stat('Hero Damage Done')"
   ],
   "metadata": {
    "collapsed": false,
    "ExecuteTime": {
     "end_time": "2024-02-09T00:39:27.869299400Z",
     "start_time": "2024-02-09T00:39:27.787629600Z"
    }
   },
   "id": "5e0a5e1ece9e1a96"
  },
  {
   "cell_type": "code",
   "outputs": [],
   "source": [
    "# |export\n",
    "def get_heroes_stat_by_player(stat: str, player: str) -> pd.Series:\n",
    "    result = df[(df['stat'] == stat) & (df['player'] == player)].groupby('hero')['stat_amount'].sum().sort_values(\n",
    "        ascending=False)\n",
    "    result.name = stat\n",
    "    result.index.name = 'Hero'\n",
    "    return result"
   ],
   "metadata": {
    "collapsed": false,
    "ExecuteTime": {
     "end_time": "2024-02-09T00:39:28.102569200Z",
     "start_time": "2024-02-09T00:39:27.870300700Z"
    }
   },
   "id": "7f80046716c303bc",
   "execution_count": 109
  },
  {
   "cell_type": "markdown",
   "source": [],
   "metadata": {
    "collapsed": false
   },
   "id": "57bb14ffcc94ee74"
  },
  {
   "cell_type": "code",
   "outputs": [],
   "source": [
    "# get_heroes_stat_by_player('Hero Damage Done', 'SoOn')"
   ],
   "metadata": {
    "collapsed": false,
    "ExecuteTime": {
     "end_time": "2024-02-09T00:39:28.187748400Z",
     "start_time": "2024-02-09T00:39:28.056270Z"
    }
   },
   "id": "78c36d2859327c6b",
   "execution_count": 110
  },
  {
   "cell_type": "code",
   "outputs": [],
   "source": [
    "# |export\n",
    "def get_players_stat_by_team(stat: str, team: str) -> pd.DataFrame:\n",
    "    result = df[(df['stat'] == stat) & (df['team'] == team)].groupby('player')['stat_amount'].sum().sort_values(\n",
    "        ascending=False)\n",
    "    result.name = stat\n",
    "    result.index.name = 'Player'\n",
    "    return result"
   ],
   "metadata": {
    "collapsed": false,
    "ExecuteTime": {
     "end_time": "2024-02-09T00:39:28.252545300Z",
     "start_time": "2024-02-09T00:39:28.137676900Z"
    }
   },
   "id": "437343fad92ca3aa",
   "execution_count": 111
  },
  {
   "cell_type": "code",
   "outputs": [],
   "source": [
    "# get_players_stat_by_team('Hero Damage Done', 'Paris Eternal')"
   ],
   "metadata": {
    "collapsed": false,
    "ExecuteTime": {
     "end_time": "2024-02-09T00:39:28.337833800Z",
     "start_time": "2024-02-09T00:39:28.255043400Z"
    }
   },
   "id": "621dd27f87e3dca5",
   "execution_count": 112
  },
  {
   "cell_type": "code",
   "outputs": [],
   "source": [
    "# |export\n",
    "def get_team_scores(team: str, map_type: str = None) -> pd.DataFrame:\n",
    "    # stock every unique game from team (each game as a unique 'match_id'), team name is stocked in 'team_one_name' or 'team_two_name'\n",
    "    team_games = map_stats[(map_stats['team_one_name'] == team) | (map_stats['team_two_name'] == team)]\n",
    "    if map_type:  # only 1 row per game\n",
    "        # add column 'map_type' from dataframe 'df'\n",
    "        team_games = team_games.merge(df[['match_id', 'map_type']], on='match_id')\n",
    "        print(team_games['map_type'].str.lower().unique())\n",
    "        team_games = team_games[team_games['map_type'].str.lower() == map_type.lower()]\n",
    "        # get one row per map\n",
    "        team_games = team_games.drop_duplicates(subset='round_start_time')\n",
    "        # do not keep twice same game_number per match_id\n",
    "        df_grp = team_games.groupby(['match_id', 'game_number'])\n",
    "        team_games = df_grp.first().reset_index()\n",
    "    else:  # only 1 row per match\n",
    "        # get one row per match\n",
    "        team_games = team_games.drop_duplicates(subset='match_id')\n",
    "\n",
    "    # get teams list\n",
    "    opponents = team_games[['team_one_name', 'team_two_name']]\n",
    "    # remove team input from opponents list\n",
    "    opponents = opponents[opponents != team]\n",
    "    # regroup in one column and remove duplicates\n",
    "    opponents = opponents.stack().reset_index(drop=True).drop_duplicates()\n",
    "\n",
    "    results = pd.DataFrame(columns=['team', 'opponent', 'win', 'loss', 'winrate', 'map_type', 'only_matches'])\n",
    "\n",
    "    for opponent in opponents:\n",
    "        matches = team_games[((team_games['team_one_name'] == team) &\n",
    "                              (team_games['team_two_name'] == opponent)) | (\n",
    "                                     (team_games['team_one_name'] == opponent) & (team_games['team_two_name'] == team))]\n",
    "\n",
    "        if map_type:\n",
    "            wins = matches['map_winner'] == team\n",
    "        else:\n",
    "            wins = matches['match_winner'] == team\n",
    "\n",
    "        total_matches = matches.shape[0]\n",
    "        if total_matches == 0:\n",
    "            continue\n",
    "        wins = wins.sum()\n",
    "        losses = len(matches) - wins\n",
    "        winrate = wins / total_matches\n",
    "\n",
    "        row = pd.DataFrame(\n",
    "            {'team': team, 'opponent': opponent, 'total_matches': total_matches, 'win': wins, 'loss': losses,\n",
    "             'winrate': winrate, 'map_type': map_type,\n",
    "             'only_matches': not map_type}, index=[0])\n",
    "        results = pd.concat([results, row])\n",
    "\n",
    "    # rename columns\n",
    "    results.rename(columns={'team': 'Team', 'opponent': 'Opponent', 'total_matches': 'Total Matches', 'win': 'Win',\n",
    "                            'loss': 'Loss', 'winrate': 'Winrate', 'map_type': 'Map Type', 'only_matches': 'Only Matches'},\n",
    "                   inplace=True)\n",
    "\n",
    "    # reorder columns\n",
    "    results = results[['Team', 'Opponent', 'Total Matches', 'Win', 'Loss', 'Winrate', 'Map Type', 'Only Matches']]\n",
    "    if not map_type:\n",
    "        results = results.drop(columns='Map Type')\n",
    "\n",
    "    results = results.reset_index(drop=True)\n",
    "    return results"
   ],
   "metadata": {
    "collapsed": false,
    "ExecuteTime": {
     "end_time": "2024-02-09T00:39:28.572970100Z",
     "start_time": "2024-02-09T00:39:28.352310800Z"
    }
   },
   "id": "afa0aba395bc4034",
   "execution_count": 113
  },
  {
   "cell_type": "code",
   "outputs": [],
   "source": [
    "# get_team_scores('Dallas Fuel')"
   ],
   "metadata": {
    "collapsed": false,
    "ExecuteTime": {
     "end_time": "2024-02-09T00:39:28.580503500Z",
     "start_time": "2024-02-09T00:39:28.515899700Z"
    }
   },
   "id": "3ea2eafd8bece7f9",
   "execution_count": 114
  },
  {
   "cell_type": "code",
   "outputs": [],
   "source": [
    "# get every team in alphabetical order\n",
    "# df['team'].unique()"
   ],
   "metadata": {
    "collapsed": false,
    "ExecuteTime": {
     "end_time": "2024-02-09T00:39:28.765300300Z",
     "start_time": "2024-02-09T00:39:28.583489800Z"
    }
   },
   "id": "982b59a4e5509a4c",
   "execution_count": 115
  },
  {
   "cell_type": "code",
   "outputs": [],
   "source": [
    "# get every map in alphabetical order\n",
    "# df['map'].unique()"
   ],
   "metadata": {
    "collapsed": false,
    "ExecuteTime": {
     "end_time": "2024-02-09T00:39:28.895580800Z",
     "start_time": "2024-02-09T00:39:28.765300300Z"
    }
   },
   "id": "59dcec0a88787ac7",
   "execution_count": 116
  },
  {
   "cell_type": "code",
   "outputs": [],
   "source": [
    "# get every hero in alphabetical order\n",
    "# df['hero'].unique()"
   ],
   "metadata": {
    "collapsed": false,
    "ExecuteTime": {
     "end_time": "2024-02-09T00:39:28.904573100Z",
     "start_time": "2024-02-09T00:39:28.843160200Z"
    }
   },
   "id": "21ab26a7cd80311a",
   "execution_count": 117
  },
  {
   "cell_type": "code",
   "outputs": [],
   "source": [
    "from nbdev.export import nb_export\n",
    "\n",
    "nb_export(\"owl.ipynb\", lib_path=\"./\", name=\"owl_module\")"
   ],
   "metadata": {
    "collapsed": false,
    "ExecuteTime": {
     "end_time": "2024-02-09T00:39:29.089574200Z",
     "start_time": "2024-02-09T00:39:28.906735Z"
    }
   },
   "id": "94657f606c59e76f",
   "execution_count": 118
  }
 ],
 "metadata": {
  "kernelspec": {
   "display_name": "Python 3",
   "language": "python",
   "name": "python3"
  },
  "language_info": {
   "codemirror_mode": {
    "name": "ipython",
    "version": 2
   },
   "file_extension": ".py",
   "mimetype": "text/x-python",
   "name": "python",
   "nbconvert_exporter": "python",
   "pygments_lexer": "ipython2",
   "version": "2.7.6"
  }
 },
 "nbformat": 4,
 "nbformat_minor": 5
}
