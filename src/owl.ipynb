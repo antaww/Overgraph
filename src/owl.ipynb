{
 "cells": [
  {
   "cell_type": "code",
   "id": "initial_id",
   "metadata": {
    "collapsed": true,
    "ExecuteTime": {
     "end_time": "2024-07-08T08:49:57.408113Z",
     "start_time": "2024-07-08T08:49:57.393184Z"
    }
   },
   "source": [
    "# |exporti\n",
    "\n",
    "import dateutil.parser as dparser\n",
    "import pandas as pd\n",
    "from streamlit_jupyter import StreamlitPatcher"
   ],
   "outputs": [],
   "execution_count": 94
  },
  {
   "cell_type": "code",
   "source": [
    "sp = StreamlitPatcher()\n",
    "sp.jupyter()  # register patcher with streamlit"
   ],
   "metadata": {
    "collapsed": false,
    "ExecuteTime": {
     "end_time": "2024-07-08T08:49:57.925729Z",
     "start_time": "2024-07-08T08:49:57.908806Z"
    }
   },
   "id": "7e2936994752ffeb",
   "outputs": [],
   "execution_count": 95
  },
  {
   "cell_type": "code",
   "source": [
    "# |exporti\n",
    "import os\n",
    "\n",
    "project_name = 'Overgraph'\n",
    "path = os.getcwd().split(project_name)[0] + project_name\n",
    "owl_path = f'{path}/src/datas/owl'"
   ],
   "metadata": {
    "collapsed": false,
    "ExecuteTime": {
     "end_time": "2024-07-08T08:49:57.973602Z",
     "start_time": "2024-07-08T08:49:57.958675Z"
    }
   },
   "id": "e40769f2e005bab",
   "outputs": [],
   "execution_count": 96
  },
  {
   "metadata": {
    "ExecuteTime": {
     "end_time": "2024-07-08T08:49:58.035603Z",
     "start_time": "2024-07-08T08:49:58.021641Z"
    }
   },
   "cell_type": "code",
   "source": [
    "# |exporti\n",
    "datas = {\n",
    "# https://drive.google.com/file/d/1tPx0GVfdcdJUEl57ytA_uJtArKszI4vJ/view?usp=sharing\n",
    "# Google Docs\n",
    "# match_map_stats.csv\n",
    "    'match_map_stats.csv': '1tPx0GVfdcdJUEl57ytA_uJtArKszI4vJ',\n",
    "# https://drive.google.com/file/d/1Gi0mbtmjOpcGeEBYjb9iAQiodIxd9cw_/view?usp=sharing\n",
    "# Google Docs\n",
    "# phs_2018_playoffs.csv\n",
    "    'phs_2018_playoffs.csv': '1Gi0mbtmjOpcGeEBYjb9iAQiodIxd9cw_',\n",
    "# https://drive.google.com/file/d/1SfBAigf9vclOCyHYP2-uyp24J5mbdLN7/view?usp=sharing\n",
    "# Google Docs\n",
    "# phs_2018_stage_1.csv\n",
    "    'phs_2018_stage_1.csv': '1SfBAigf9vclOCyHYP2-uyp24J5mbdLN7',\n",
    "# https://drive.google.com/file/d/1PUQKvE37wp14NII8FXqsTigTlSOmYtg-/view?usp=sharing\n",
    "# Google Docs\n",
    "# phs_2018_stage_2.csv\n",
    "    'phs_2018_stage_2.csv': '1PUQKvE37wp14NII8FXqsTigTlSOmYtg-',\n",
    "# https://drive.google.com/file/d/1HhPL5MODUIkAABjgBOkIZfSuC7g4gKaG/view?usp=sharing\n",
    "# Google Docs\n",
    "# phs_2018_stage_3.csv\n",
    "    'phs_2018_stage_3.csv': '1HhPL5MODUIkAABjgBOkIZfSuC7g4gKaG',\n",
    "# https://drive.google.com/file/d/1xhUj33D7kkZsEMU6UaORBAFs3jSDrI17/view?usp=sharing\n",
    "# Google Docs\n",
    "# phs_2018_stage_4.csv\n",
    "    'phs_2018_stage_4.csv': '1xhUj33D7kkZsEMU6UaORBAFs3jSDrI17',\n",
    "# https://drive.google.com/file/d/13Knx8WlSemwDNYXd1YT0mYpljjHk-R4Y/view?usp=sharing\n",
    "# Google Docs\n",
    "# phs_2019_playoffs.csv\n",
    "    'phs_2019_playoffs.csv': '13Knx8WlSemwDNYXd1YT0mYpljjHk-R4Y',\n",
    "# https://drive.google.com/file/d/1dCGQsAvS9xaGIrEhHhjf9NDVTL2hk2qP/view?usp=sharing\n",
    "# Google Docs\n",
    "# phs_2019_stage_1.csv\n",
    "    'phs_2019_stage_1.csv': '1dCGQsAvS9xaGIrEhHhjf9NDVTL2hk2qP',\n",
    "# https://drive.google.com/file/d/1yavjUuNO_O7fxT9PGZS8AyQpau_eZpWj/view?usp=sharing\n",
    "# Google Docs\n",
    "# phs_2019_stage_2.csv\n",
    "    'phs_2019_stage_2.csv': '1yavjUuNO_O7fxT9PGZS8AyQpau_eZpWj',\n",
    "# https://drive.google.com/file/d/1WS7btQ8HC_t_t9OAp4UCQd5O1cdGsvVA/view?usp=sharing\n",
    "# Google Docs\n",
    "# phs_2019_stage_3.csv\n",
    "    'phs_2019_stage_3.csv': '1WS7btQ8HC_t_t9OAp4UCQd5O1cdGsvVA',\n",
    "# https://drive.google.com/file/d/1fWNKo0HfWM2CQzi-6WbUK1duvBd0NQiN/view?usp=sharing\n",
    "# Google Docs\n",
    "# phs_2019_stage_4.csv\n",
    "    'phs_2019_stage_4.csv': '1fWNKo0HfWM2CQzi-6WbUK1duvBd0NQiN',\n",
    "# https://drive.google.com/file/d/1z7_MiS63noOB26Kxtbf5mwbVzTUPv1DG/view?usp=sharing\n",
    "# Google Docs\n",
    "# phs_2020_1.csv\n",
    "    'phs_2020_1.csv': '1z7_MiS63noOB26Kxtbf5mwbVzTUPv1DG',\n",
    "# https://drive.google.com/file/d/1ZWAvP5eDs2EDYiuuZLcBWRI8PgY2aiSD/view?usp=sharing\n",
    "# Google Docs\n",
    "# phs_2020_2.csv\n",
    "    'phs_2020_2.csv': '1ZWAvP5eDs2EDYiuuZLcBWRI8PgY2aiSD',\n",
    "# https://drive.google.com/file/d/1SJ5T4_8YyE-fv8flntKoboXToEupP1qE/view?usp=sharing\n",
    "# Google Docs\n",
    "# phs_2021_1.csv\n",
    "    'phs_2021_1.csv': '1SJ5T4_8YyE-fv8flntKoboXToEupP1qE',\n",
    "# https://drive.google.com/file/d/1QN5kH1ZwPUwcxjH_XqB2OadfL4qB6IFX/view?usp=sharing\n",
    "# Google Docs\n",
    "# phs_2022.csv\n",
    "    'phs_2022.csv': '1QN5kH1ZwPUwcxjH_XqB2OadfL4qB6IFX',\n",
    "# https://drive.google.com/file/d/1fKsztKPxxDbBdmLLH0WCV_GUsFcJhBph/view?usp=sharing\n",
    "# Google Docs\n",
    "# phs_2023.csv\n",
    "    'phs_2023.csv': '1fKsztKPxxDbBdmLLH0WCV_GUsFcJhBph',\n",
    "}\n",
    "\n",
    "url = 'https://drive.google.com/uc?export=download&id=%s'"
   ],
   "id": "d29e3e801d61cd9a",
   "outputs": [],
   "execution_count": 97
  },
  {
   "cell_type": "markdown",
   "source": [
    "# MAPS"
   ],
   "metadata": {
    "collapsed": false
   },
   "id": "d070459e9200c8b0"
  },
  {
   "cell_type": "code",
   "source": [
    "# |export\n",
    "map_stats = pd.read_csv(url % datas['match_map_stats.csv'])"
   ],
   "metadata": {
    "collapsed": false,
    "ExecuteTime": {
     "end_time": "2024-07-08T08:49:59.675621Z",
     "start_time": "2024-07-08T08:49:58.047570Z"
    }
   },
   "id": "430f11901d665e",
   "outputs": [],
   "execution_count": 98
  },
  {
   "cell_type": "markdown",
   "source": [
    "# 2018 STAGE 1"
   ],
   "metadata": {
    "collapsed": false
   },
   "id": "fedaf35c47762b6f"
  },
  {
   "cell_type": "code",
   "source": [
    "# |exporti\n",
    "df_2018_s1 = pd.read_csv(url % datas['phs_2018_stage_1.csv'])"
   ],
   "metadata": {
    "collapsed": false,
    "ExecuteTime": {
     "end_time": "2024-07-08T08:50:06.970916Z",
     "start_time": "2024-07-08T08:49:59.676615Z"
    }
   },
   "id": "ae71f4d91bb0dad5",
   "outputs": [],
   "execution_count": 99
  },
  {
   "cell_type": "code",
   "source": [
    "# df_2018_s1"
   ],
   "metadata": {
    "collapsed": false,
    "ExecuteTime": {
     "end_time": "2024-07-08T08:50:06.986873Z",
     "start_time": "2024-07-08T08:50:06.971913Z"
    }
   },
   "id": "e8f655ce086ea1b6",
   "outputs": [],
   "execution_count": 100
  },
  {
   "cell_type": "markdown",
   "source": [
    "# 2018 STAGE 2"
   ],
   "metadata": {
    "collapsed": false
   },
   "id": "8b1f51fab3dc6a59"
  },
  {
   "cell_type": "code",
   "source": [
    "# |exporti\n",
    "df_2018_s2 = pd.read_csv(url % datas['phs_2018_stage_2.csv'])"
   ],
   "metadata": {
    "collapsed": false,
    "ExecuteTime": {
     "end_time": "2024-07-08T08:50:13.909733Z",
     "start_time": "2024-07-08T08:50:06.988867Z"
    }
   },
   "id": "afc06707722d7660",
   "outputs": [],
   "execution_count": 101
  },
  {
   "cell_type": "code",
   "source": [
    "# df_2018_s2"
   ],
   "metadata": {
    "collapsed": false,
    "ExecuteTime": {
     "end_time": "2024-07-08T08:50:13.925691Z",
     "start_time": "2024-07-08T08:50:13.910731Z"
    }
   },
   "id": "6822f1b3bc0103a1",
   "outputs": [],
   "execution_count": 102
  },
  {
   "cell_type": "markdown",
   "source": [
    "# 2018 STAGE 3"
   ],
   "metadata": {
    "collapsed": false
   },
   "id": "3e44f8484353a9bf"
  },
  {
   "cell_type": "code",
   "source": [
    "# |exporti\n",
    "df_2018_s3 = pd.read_csv(url % datas['phs_2018_stage_3.csv'])"
   ],
   "metadata": {
    "collapsed": false,
    "ExecuteTime": {
     "end_time": "2024-07-08T08:50:21.647684Z",
     "start_time": "2024-07-08T08:50:13.926695Z"
    }
   },
   "id": "a29a2634f35346f0",
   "outputs": [],
   "execution_count": 103
  },
  {
   "cell_type": "code",
   "source": [
    "# df_2018_s3"
   ],
   "metadata": {
    "collapsed": false,
    "ExecuteTime": {
     "end_time": "2024-07-08T08:50:21.662675Z",
     "start_time": "2024-07-08T08:50:21.648678Z"
    }
   },
   "id": "c443a94b249fd428",
   "outputs": [],
   "execution_count": 104
  },
  {
   "cell_type": "markdown",
   "source": [
    "# 2018 STAGE 4"
   ],
   "metadata": {
    "collapsed": false
   },
   "id": "a8e6220b55a18269"
  },
  {
   "cell_type": "code",
   "source": [
    "# |exporti\n",
    "df_2018_s4 = pd.read_csv(url % datas['phs_2018_stage_4.csv'])"
   ],
   "metadata": {
    "collapsed": false,
    "ExecuteTime": {
     "end_time": "2024-07-08T08:50:30.601463Z",
     "start_time": "2024-07-08T08:50:21.663671Z"
    }
   },
   "id": "dd0b2d17a2727a20",
   "outputs": [],
   "execution_count": 105
  },
  {
   "cell_type": "code",
   "source": [
    "# df_2018_s4"
   ],
   "metadata": {
    "collapsed": false,
    "ExecuteTime": {
     "end_time": "2024-07-08T08:50:30.617383Z",
     "start_time": "2024-07-08T08:50:30.602460Z"
    }
   },
   "id": "5495d6682805f3bc",
   "outputs": [],
   "execution_count": 106
  },
  {
   "cell_type": "markdown",
   "source": [
    "# 2018 PLAYOFFS"
   ],
   "metadata": {
    "collapsed": false
   },
   "id": "65d01c2b31074ef1"
  },
  {
   "cell_type": "code",
   "source": [
    "# |exporti\n",
    "df_2018_po = pd.read_csv(url % datas['phs_2018_playoffs.csv'])"
   ],
   "metadata": {
    "collapsed": false,
    "ExecuteTime": {
     "end_time": "2024-07-08T08:50:33.349577Z",
     "start_time": "2024-07-08T08:50:30.621411Z"
    }
   },
   "id": "601d38346d8fb1fb",
   "outputs": [],
   "execution_count": 107
  },
  {
   "cell_type": "code",
   "source": [
    "# df_2018_po"
   ],
   "metadata": {
    "collapsed": false,
    "ExecuteTime": {
     "end_time": "2024-07-08T08:50:33.364533Z",
     "start_time": "2024-07-08T08:50:33.350571Z"
    }
   },
   "id": "ca51f63d5c712272",
   "outputs": [],
   "execution_count": 108
  },
  {
   "cell_type": "markdown",
   "source": [
    "# 2019 STAGE 1"
   ],
   "metadata": {
    "collapsed": false
   },
   "id": "476eec10af4d6220"
  },
  {
   "cell_type": "code",
   "source": [
    "# |exporti\n",
    "df_2019_s1 = pd.read_csv(url % datas['phs_2019_stage_1.csv'])"
   ],
   "metadata": {
    "collapsed": false,
    "ExecuteTime": {
     "end_time": "2024-07-08T08:50:43.976660Z",
     "start_time": "2024-07-08T08:50:33.365531Z"
    }
   },
   "id": "a7c744f5ff8a32f8",
   "outputs": [],
   "execution_count": 109
  },
  {
   "cell_type": "code",
   "source": [
    "# df_2019_s1"
   ],
   "metadata": {
    "collapsed": false,
    "ExecuteTime": {
     "end_time": "2024-07-08T08:50:43.992613Z",
     "start_time": "2024-07-08T08:50:43.977653Z"
    }
   },
   "id": "ba50696b0f72f5a5",
   "outputs": [],
   "execution_count": 110
  },
  {
   "cell_type": "markdown",
   "source": [
    "# 2019 STAGE 2"
   ],
   "metadata": {
    "collapsed": false
   },
   "id": "4eb6e02ffdaffa00"
  },
  {
   "cell_type": "code",
   "source": [
    "# |exporti\n",
    "df_2019_s2 = pd.read_csv(url % datas['phs_2019_stage_2.csv'])"
   ],
   "metadata": {
    "collapsed": false,
    "ExecuteTime": {
     "end_time": "2024-07-08T08:50:55.571639Z",
     "start_time": "2024-07-08T08:50:43.993611Z"
    }
   },
   "id": "4aa2a5e715ac8790",
   "outputs": [],
   "execution_count": 111
  },
  {
   "cell_type": "code",
   "source": [
    "# df_2019_s2"
   ],
   "metadata": {
    "collapsed": false,
    "ExecuteTime": {
     "end_time": "2024-07-08T08:50:55.587623Z",
     "start_time": "2024-07-08T08:50:55.572632Z"
    }
   },
   "id": "845ee1781bfa5f8b",
   "outputs": [],
   "execution_count": 112
  },
  {
   "cell_type": "markdown",
   "source": [
    "# 2019 STAGE 3"
   ],
   "metadata": {
    "collapsed": false
   },
   "id": "a0ea23af7e5877be"
  },
  {
   "cell_type": "code",
   "source": [
    "# |exporti\n",
    "df_2019_s3 = pd.read_csv(url % datas['phs_2019_stage_3.csv'])"
   ],
   "metadata": {
    "collapsed": false,
    "ExecuteTime": {
     "end_time": "2024-07-08T08:51:07.089783Z",
     "start_time": "2024-07-08T08:50:55.588590Z"
    }
   },
   "id": "6ec37fb764a37d6f",
   "outputs": [],
   "execution_count": 113
  },
  {
   "cell_type": "code",
   "source": [
    "# df_2019_s3"
   ],
   "metadata": {
    "collapsed": false,
    "ExecuteTime": {
     "end_time": "2024-07-08T08:51:07.105593Z",
     "start_time": "2024-07-08T08:51:07.091634Z"
    }
   },
   "id": "d79668f0958771fe",
   "outputs": [],
   "execution_count": 114
  },
  {
   "cell_type": "markdown",
   "source": [
    "# 2019 STAGE 4"
   ],
   "metadata": {
    "collapsed": false
   },
   "id": "169aca4202c080a8"
  },
  {
   "cell_type": "code",
   "source": [
    "# |exporti\n",
    "df_2019_s4 = pd.read_csv(url % datas['phs_2019_stage_4.csv'])"
   ],
   "metadata": {
    "collapsed": false,
    "ExecuteTime": {
     "end_time": "2024-07-08T08:51:18.674614Z",
     "start_time": "2024-07-08T08:51:07.107541Z"
    }
   },
   "id": "1139c720bd0d9602",
   "outputs": [],
   "execution_count": 115
  },
  {
   "cell_type": "code",
   "source": [
    "# df_2019_s4"
   ],
   "metadata": {
    "collapsed": false,
    "ExecuteTime": {
     "end_time": "2024-07-08T08:51:18.690572Z",
     "start_time": "2024-07-08T08:51:18.675614Z"
    }
   },
   "id": "de265edd7486d1e6",
   "outputs": [],
   "execution_count": 116
  },
  {
   "cell_type": "markdown",
   "source": [
    "# 2019 PLAYOFFS"
   ],
   "metadata": {
    "collapsed": false
   },
   "id": "258d3d09ad9baaa9"
  },
  {
   "cell_type": "code",
   "source": [
    "# |exporti\n",
    "df_2019_po = pd.read_csv(url % datas['phs_2019_playoffs.csv'])"
   ],
   "metadata": {
    "collapsed": false,
    "ExecuteTime": {
     "end_time": "2024-07-08T08:51:25.164619Z",
     "start_time": "2024-07-08T08:51:18.691589Z"
    }
   },
   "id": "a7c34fc760fbba55",
   "outputs": [],
   "execution_count": 117
  },
  {
   "cell_type": "code",
   "source": [
    "# df_2019_po"
   ],
   "metadata": {
    "collapsed": false,
    "ExecuteTime": {
     "end_time": "2024-07-08T08:51:25.180377Z",
     "start_time": "2024-07-08T08:51:25.165417Z"
    }
   },
   "id": "8d09479ebd112f14",
   "outputs": [],
   "execution_count": 118
  },
  {
   "cell_type": "markdown",
   "source": [
    "# 2020 STAGE 1"
   ],
   "metadata": {
    "collapsed": false
   },
   "id": "758b9254ffd7c77e"
  },
  {
   "cell_type": "code",
   "source": [
    "# |exporti\n",
    "df_2020_s1 = pd.read_csv(url % datas['phs_2020_1.csv'])"
   ],
   "metadata": {
    "collapsed": false,
    "ExecuteTime": {
     "end_time": "2024-07-08T08:51:47.945569Z",
     "start_time": "2024-07-08T08:51:25.181375Z"
    }
   },
   "id": "3a2cfa21f90612d4",
   "outputs": [],
   "execution_count": 119
  },
  {
   "cell_type": "code",
   "source": [
    "# df_2020_s1"
   ],
   "metadata": {
    "collapsed": false,
    "ExecuteTime": {
     "end_time": "2024-07-08T08:51:47.960557Z",
     "start_time": "2024-07-08T08:51:47.947571Z"
    }
   },
   "id": "b330e51dcc6d11a7",
   "outputs": [],
   "execution_count": 120
  },
  {
   "cell_type": "markdown",
   "source": [
    "# 2020 STAGE 2"
   ],
   "metadata": {
    "collapsed": false
   },
   "id": "3c2f401924341244"
  },
  {
   "cell_type": "code",
   "source": [
    "# |exporti\n",
    "df_2020_s2 = pd.read_csv(url % datas['phs_2020_2.csv'])"
   ],
   "metadata": {
    "collapsed": false,
    "ExecuteTime": {
     "end_time": "2024-07-08T08:52:05.459564Z",
     "start_time": "2024-07-08T08:51:47.961559Z"
    }
   },
   "id": "d258beaea2726aeb",
   "outputs": [],
   "execution_count": 121
  },
  {
   "cell_type": "code",
   "source": [
    "# df_2020_s2"
   ],
   "metadata": {
    "collapsed": false,
    "ExecuteTime": {
     "end_time": "2024-07-08T08:52:05.475520Z",
     "start_time": "2024-07-08T08:52:05.460563Z"
    }
   },
   "id": "af48fc760f5a616c",
   "outputs": [],
   "execution_count": 122
  },
  {
   "cell_type": "markdown",
   "source": [
    "# 2021 STAGE"
   ],
   "metadata": {
    "collapsed": false
   },
   "id": "f0e399cf79fdd603"
  },
  {
   "cell_type": "code",
   "source": [
    "# |exporti\n",
    "df_2021 = pd.read_csv(url % datas['phs_2021_1.csv'])"
   ],
   "metadata": {
    "collapsed": false,
    "ExecuteTime": {
     "end_time": "2024-07-08T08:52:05.914347Z",
     "start_time": "2024-07-08T08:52:05.476518Z"
    }
   },
   "id": "4cd117336d6455e2",
   "outputs": [],
   "execution_count": 123
  },
  {
   "cell_type": "code",
   "source": [
    "# df_2021"
   ],
   "metadata": {
    "collapsed": false,
    "ExecuteTime": {
     "end_time": "2024-07-08T08:52:05.930304Z",
     "start_time": "2024-07-08T08:52:05.915345Z"
    }
   },
   "id": "ed7eace15d3f8045",
   "outputs": [],
   "execution_count": 124
  },
  {
   "cell_type": "markdown",
   "source": [
    "# 2022 STAGE"
   ],
   "metadata": {
    "collapsed": false
   },
   "id": "1bf7513ffeba41e2"
  },
  {
   "cell_type": "code",
   "source": [
    "# |exporti\n",
    "df_2022 = pd.read_csv(url % datas['phs_2022.csv'])"
   ],
   "metadata": {
    "collapsed": false,
    "ExecuteTime": {
     "end_time": "2024-07-08T08:52:06.380177Z",
     "start_time": "2024-07-08T08:52:05.934293Z"
    }
   },
   "id": "41672bf958b5759d",
   "outputs": [],
   "execution_count": 125
  },
  {
   "cell_type": "code",
   "source": [
    "# df_2022"
   ],
   "metadata": {
    "collapsed": false,
    "ExecuteTime": {
     "end_time": "2024-07-08T08:52:06.395140Z",
     "start_time": "2024-07-08T08:52:06.381174Z"
    }
   },
   "id": "848145f5694561",
   "outputs": [],
   "execution_count": 126
  },
  {
   "cell_type": "markdown",
   "source": [
    "# 2023 STAGE"
   ],
   "metadata": {
    "collapsed": false
   },
   "id": "77300b08a323f6cb"
  },
  {
   "cell_type": "code",
   "source": [
    "# |exporti\n",
    "df_2023 = pd.read_csv(url % datas['phs_2023.csv'])"
   ],
   "metadata": {
    "collapsed": false,
    "ExecuteTime": {
     "end_time": "2024-07-08T08:52:22.366568Z",
     "start_time": "2024-07-08T08:52:06.398141Z"
    }
   },
   "id": "c90b4df891bc6cba",
   "outputs": [],
   "execution_count": 127
  },
  {
   "cell_type": "code",
   "source": [
    "# df_2023"
   ],
   "metadata": {
    "collapsed": false,
    "ExecuteTime": {
     "end_time": "2024-07-08T08:52:22.382521Z",
     "start_time": "2024-07-08T08:52:22.367561Z"
    }
   },
   "id": "abdefd073a4ef70",
   "outputs": [],
   "execution_count": 128
  },
  {
   "cell_type": "markdown",
   "source": [
    "# MERGE DATAFRAMES"
   ],
   "metadata": {
    "collapsed": false
   },
   "id": "f9f44aa3cc12b1a7"
  },
  {
   "cell_type": "code",
   "source": [
    "# |export\n",
    "# merge every dataframes in one\n",
    "df = pd.concat(\n",
    "    [df_2018_s1, df_2018_s2, df_2018_s3, df_2018_s4, df_2018_po, df_2019_s1, df_2019_s2, df_2019_s3, df_2019_s4,\n",
    "     df_2019_po, df_2020_s1, df_2020_s2, df_2021, df_2022, df_2023])"
   ],
   "metadata": {
    "collapsed": false,
    "ExecuteTime": {
     "end_time": "2024-07-08T08:52:22.791428Z",
     "start_time": "2024-07-08T08:52:22.383519Z"
    }
   },
   "id": "ae7a63da7d03489e",
   "outputs": [],
   "execution_count": 129
  },
  {
   "cell_type": "code",
   "source": [
    "# df"
   ],
   "metadata": {
    "collapsed": false,
    "ExecuteTime": {
     "end_time": "2024-07-08T08:52:22.806388Z",
     "start_time": "2024-07-08T08:52:22.792425Z"
    }
   },
   "id": "47f8c6c2861c3ba2",
   "outputs": [],
   "execution_count": 130
  },
  {
   "cell_type": "markdown",
   "source": [
    "# CLEAN DATA"
   ],
   "metadata": {
    "collapsed": false
   },
   "id": "47e536ff43c2f4a0"
  },
  {
   "cell_type": "code",
   "source": [
    "# |exporti\n",
    "df.replace({'hero': 'McCree'}, 'Cassidy', inplace=True)\n",
    "df.replace({'hero': 'Lucio'}, 'Lúcio', inplace=True)\n",
    "df.replace({'hero': 'Torbjorn'}, 'Torbjörn', inplace=True)\n",
    "df = df[df['map_type'].str.lower() != 'UNKNOWN'.lower()]\n",
    "df.replace({'team': 'Paris Eternal'}, 'Vegas Eternal', inplace=True)\n",
    "df.replace({'team': 'Philadelphia Fusion'}, 'Seoul Infernal', inplace=True)\n",
    "# todo: rework this part with 'start_time' year extraction and place it in 'stage'\n",
    "stage_2018 = ['Overwatch League - Stage 1', 'Overwatch League - Stage 2', 'Overwatch League - Stage 3',\n",
    "              'Overwatch League - Stage 4', 'Overwatch League - Stage 1 - Title Matches',\n",
    "              'Overwatch League - Stage 2 Title Matches',\n",
    "              'Overwatch League - Stage 3 Title Matches', 'Overwatch League - Stage 4 Title Matches',\n",
    "              'Overwatch League Inaugural Season Championship']\n",
    "stage_2019 = ['Overwatch League Stage 1', 'Overwatch League Stage 2', 'Overwatch League Stage 3',\n",
    "              'Overwatch League Stage 4', 'Overwatch League Stage 1 Title Matches',\n",
    "              'Overwatch League Stage 2 Title Matches', 'Overwatch League Stage 3 Title Matches',\n",
    "              'Overwatch League Stage 4 Title Matches', 'Overwatch League 2019 Post-Season']\n",
    "stage_2020 = ['OWL 2020 Regular Season', 'OWL APAC All-Stars', 'OWL North America All-Stars']\n",
    "stage_2021 = ['OWL 2021']\n",
    "stage_2022 = ['Kickoff Clash: Qualifiers', 'Kickoff Clash: Tournament', 'Midseason Madness: Qualifiers',\n",
    "              'Midseason Madness: Tournament', 'Summer Showdown: Qualifiers', 'Summer Showdown: Tournament',\n",
    "              'Countdown Cup: Qualifiers', 'Countdown Cup: Tournament', 'Postseason']\n",
    "stage_2023 = ['Pro-Am', 'Spring Qualifiers', 'Spring Knockouts', 'Midseason Madness', 'Summer Showdown',\n",
    "              'Countdown Cup', 'Postseason']\n",
    "\n",
    "for stage in stage_2018:\n",
    "    df.replace({'stage': stage}, f'2018 : {stage}', inplace=True)\n",
    "for stage in stage_2019:\n",
    "    df.replace({'stage': stage}, f'2019 : {stage}', inplace=True)\n",
    "for stage in stage_2020:\n",
    "    df.replace({'stage': stage}, f'2020 : {stage}', inplace=True)\n",
    "for stage in stage_2021:\n",
    "    df.replace({'stage': stage}, f'2021 : {stage}', inplace=True)\n",
    "for stage in stage_2022:\n",
    "    df.replace({'stage': stage}, f'2022 : {stage}', inplace=True)\n",
    "for stage in stage_2023:\n",
    "    df.replace({'stage': stage}, f'2023 : {stage}', inplace=True)\n",
    "\n",
    "dps_list = ['Ashe', 'Bastion', 'Cassidy', 'Echo', 'Genji', 'Hanzo', 'Junkrat', 'Mei', 'Pharah',\n",
    "            'Reaper', 'Sojourn', 'Soldier: 76', 'Sombra', 'Symmetra', 'Torbjörn', 'Tracer', 'Widowmaker']\n",
    "tank_list = ['D.Va', 'Doomfist', 'Junker Queen', 'Orisa', 'Ramattra', 'Reinhardt', 'Roadhog', 'Sigma', 'Winston',\n",
    "             'Wrecking Ball', 'Zarya']\n",
    "support_list = ['Ana', 'Baptiste', 'Brigitte', 'Illari', 'Kiriko', 'Lifeweaver', 'Lúcio', 'Mercy', 'Moira', 'Zenyatta']\n",
    "\n",
    "# Add a new column 'role' to the dataframe and fill it with the role of the hero\n",
    "df['role'] = df['hero']\n",
    "df.replace({'role': dps_list}, 'DPS', inplace=True)\n",
    "df.replace({'role': tank_list}, 'Tank', inplace=True)\n",
    "df.replace({'role': support_list}, 'Support', inplace=True)\n",
    "df.replace({'role': 'All Heroes'}, 'All', inplace=True)\n",
    "\n",
    "\n",
    "# !!!! to save execution time, match_map_stats.csv cleaned version has been saved\n",
    "# !!!! if it's your first run, you must uncomment the following part: \n",
    "# for col in ['match_winner', 'map_winner', 'map_loser', 'attacker', 'defender', 'team_one_name', 'team_two_name']:\n",
    "#     map_stats.replace({col: 'Paris Eternal'}, 'Vegas Eternal', inplace=True)\n",
    "#     map_stats.replace({col: 'Philadelphia Fusion'}, 'Seoul Infernal', inplace=True)\n",
    "# map_stats['round_start_time'] = map_stats['round_start_time'].str.replace(' UTC', '')\n",
    "# map_stats['round_end_time'] = map_stats['round_end_time'].str.replace(' UTC', '')\n",
    "# map_stats['round_start_time'] = map_stats['round_start_time'].apply(lambda x: dparser.parse(x, fuzzy=True))\n",
    "# map_stats['round_end_time'] = map_stats['round_end_time'].apply(lambda x: dparser.parse(x, fuzzy=True))\n",
    "# map_stats.to_csv(f'{owl_path}/match_map_stats.csv', index=False)"
   ],
   "metadata": {
    "collapsed": false,
    "ExecuteTime": {
     "end_time": "2024-07-08T08:52:38.899377Z",
     "start_time": "2024-07-08T08:52:22.807395Z"
    }
   },
   "id": "fd3d61ef96e05cfe",
   "outputs": [],
   "execution_count": 131
  },
  {
   "cell_type": "markdown",
   "source": [
    "# PLAYGROUND"
   ],
   "metadata": {
    "collapsed": false
   },
   "id": "efc94a3a6d74f1c8"
  },
  {
   "cell_type": "code",
   "source": [
    "df.columns"
   ],
   "metadata": {
    "collapsed": false,
    "ExecuteTime": {
     "end_time": "2024-07-08T08:52:38.915331Z",
     "start_time": "2024-07-08T08:52:38.900370Z"
    }
   },
   "id": "ae366b829d48e921",
   "outputs": [
    {
     "data": {
      "text/plain": [
       "Index(['start_time', 'match_id', 'stage', 'map_type', 'map', 'player', 'team',\n",
       "       'stat', 'hero', 'stat_amount',\n",
       "       '<!DOCTYPE html><html><head><title>Google Drive - Virus scan warning</title><meta http-equiv=\"content-type\" content=\"text/html; charset=utf-8\"/><style nonce=\"rK80-vqbah6cVbzd518i1w\">.goog-link-button{position:relative;color:#15c;text-decoration:underline;cursor:pointer}.goog-link-button-disabled{color:#ccc;text-decoration:none;cursor:default}body{color:#222;font:normal 13px/1.4 arial',\n",
       "       'sans-serif;margin:0}.grecaptcha-badge{visibility:hidden}.uc-main{padding-top:50px;text-align:center}#uc-dl-icon{display:inline-block;margin-top:16px;padding-right:1em;vertical-align:top}#uc-text{display:inline-block;max-width:68ex;text-align:left}.uc-error-caption',\n",
       "       '.uc-warning-caption{color:#222;font-size:16px}#uc-download-link{text-decoration:none}.uc-name-size a{color:#15c;text-decoration:none}.uc-name-size a:visited{color:#61c;text-decoration:none}.uc-name-size a:active{color:#d14836;text-decoration:none}.uc-footer{color:#777;font-size:11px;padding-bottom:5ex;padding-top:5ex;text-align:center}.uc-footer a{color:#15c}.uc-footer a:visited{color:#61c}.uc-footer a:active{color:#d14836}.uc-footer-divider{color:#ccc;width:100%}.goog-inline-block{position:relative;display:-moz-inline-box;display:inline-block}* html .goog-inline-block{display:inline}*:first-child+html .goog-inline-block{display:inline}sentinel{}</style><link rel=\"icon\" href=\"//ssl.gstatic.com/docs/doclist/images/drive_2022q3_32dp.png\"/></head><body><div class=\"uc-main\"><div id=\"uc-dl-icon\" class=\"image-container\"><div class=\"drive-sprite-aux-download-file\"></div></div><div id=\"uc-text\"><p class=\"uc-warning-caption\">Google Drive can't scan this file for viruses.</p><p class=\"uc-warning-subcaption\"><span class=\"uc-name-size\"><a href=\"/open?id=1SJ5T4_8YyE-fv8flntKoboXToEupP1qE\">phs_2021_1.csv</a> (114M)</span> is too large for Google to scan for viruses. Would you still like to download this file?</p><form id=\"download-form\" action=\"https://drive.usercontent.google.com/download\" method=\"get\"><input type=\"submit\" id=\"uc-download-link\" class=\"goog-inline-block jfk-button jfk-button-action\" value=\"Download anyway\"/><input type=\"hidden\" name=\"id\" value=\"1SJ5T4_8YyE-fv8flntKoboXToEupP1qE\"><input type=\"hidden\" name=\"export\" value=\"download\"><input type=\"hidden\" name=\"confirm\" value=\"t\"><input type=\"hidden\" name=\"uuid\" value=\"c28d12f6-2700-492a-a90e-db083e90f0a8\"></form></div></div><div class=\"uc-footer\"><hr class=\"uc-footer-divider\"></div></body></html>',\n",
       "       '<!DOCTYPE html><html><head><title>Google Drive - Virus scan warning</title><meta http-equiv=\"content-type\" content=\"text/html; charset=utf-8\"/><style nonce=\"noQYETudP5R3upzzyXJOxg\">.goog-link-button{position:relative;color:#15c;text-decoration:underline;cursor:pointer}.goog-link-button-disabled{color:#ccc;text-decoration:none;cursor:default}body{color:#222;font:normal 13px/1.4 arial',\n",
       "       '.uc-warning-caption{color:#222;font-size:16px}#uc-download-link{text-decoration:none}.uc-name-size a{color:#15c;text-decoration:none}.uc-name-size a:visited{color:#61c;text-decoration:none}.uc-name-size a:active{color:#d14836;text-decoration:none}.uc-footer{color:#777;font-size:11px;padding-bottom:5ex;padding-top:5ex;text-align:center}.uc-footer a{color:#15c}.uc-footer a:visited{color:#61c}.uc-footer a:active{color:#d14836}.uc-footer-divider{color:#ccc;width:100%}.goog-inline-block{position:relative;display:-moz-inline-box;display:inline-block}* html .goog-inline-block{display:inline}*:first-child+html .goog-inline-block{display:inline}sentinel{}</style><link rel=\"icon\" href=\"//ssl.gstatic.com/docs/doclist/images/drive_2022q3_32dp.png\"/></head><body><div class=\"uc-main\"><div id=\"uc-dl-icon\" class=\"image-container\"><div class=\"drive-sprite-aux-download-file\"></div></div><div id=\"uc-text\"><p class=\"uc-warning-caption\">Google Drive can't scan this file for viruses.</p><p class=\"uc-warning-subcaption\"><span class=\"uc-name-size\"><a href=\"/open?id=1QN5kH1ZwPUwcxjH_XqB2OadfL4qB6IFX\">phs_2022.csv</a> (134M)</span> is too large for Google to scan for viruses. Would you still like to download this file?</p><form id=\"download-form\" action=\"https://drive.usercontent.google.com/download\" method=\"get\"><input type=\"submit\" id=\"uc-download-link\" class=\"goog-inline-block jfk-button jfk-button-action\" value=\"Download anyway\"/><input type=\"hidden\" name=\"id\" value=\"1QN5kH1ZwPUwcxjH_XqB2OadfL4qB6IFX\"><input type=\"hidden\" name=\"export\" value=\"download\"><input type=\"hidden\" name=\"confirm\" value=\"t\"><input type=\"hidden\" name=\"uuid\" value=\"b5d92ad2-1b6c-487b-8812-d0b1a0c4bce6\"></form></div></div><div class=\"uc-footer\"><hr class=\"uc-footer-divider\"></div></body></html>',\n",
       "       'role'],\n",
       "      dtype='object')"
      ]
     },
     "execution_count": 132,
     "metadata": {},
     "output_type": "execute_result"
    }
   ],
   "execution_count": 132
  },
  {
   "cell_type": "code",
   "source": [
    "map_stats.columns"
   ],
   "metadata": {
    "collapsed": false,
    "ExecuteTime": {
     "end_time": "2024-07-08T08:52:38.931288Z",
     "start_time": "2024-07-08T08:52:38.916329Z"
    }
   },
   "id": "5f0972d157d4eab7",
   "outputs": [
    {
     "data": {
      "text/plain": [
       "Index(['round_start_time', 'round_end_time', 'stage', 'match_id',\n",
       "       'game_number', 'match_winner', 'map_winner', 'map_loser', 'map_name',\n",
       "       'map_round', 'winning_team_final_map_score',\n",
       "       'losing_team_final_map_score', 'control_round_name', 'Attacker',\n",
       "       'Defender', 'team_one_name', 'team_two_name',\n",
       "       'attacker_payload_distance', 'defender_payload_distance',\n",
       "       'attacker_time_banked', 'defender_time_banked',\n",
       "       'attacker_control_perecent', 'defender_control_perecent',\n",
       "       'attacker_round_end_score', 'defender_round_end_score'],\n",
       "      dtype='object')"
      ]
     },
     "execution_count": 133,
     "metadata": {},
     "output_type": "execute_result"
    }
   ],
   "execution_count": 133
  },
  {
   "cell_type": "code",
   "source": [
    "df[df['role'] == 'Support']['stat'].unique()"
   ],
   "metadata": {
    "collapsed": false,
    "ExecuteTime": {
     "end_time": "2024-07-08T08:52:39.442921Z",
     "start_time": "2024-07-08T08:52:38.932286Z"
    }
   },
   "id": "5f334aeffcca6487",
   "outputs": [
    {
     "data": {
      "text/plain": [
       "array(['All Damage Done', 'Assists', 'Barrier Damage Done',\n",
       "       'Blaster Kills', 'Critical Hit Accuracy', 'Critical Hits',\n",
       "       'Damage - Quick Melee', 'Damage - Weapon Pistol',\n",
       "       'Damage Amplified', 'Damage Taken', 'Deaths', 'Defensive Assists',\n",
       "       'Eliminations', 'Eliminations per Life', 'Healing Done',\n",
       "       'Hero Damage Done', 'Objective Kills', 'Objective Time',\n",
       "       'Offensive Assists', 'Players Resurrected', 'Players Saved',\n",
       "       'Quick Melee Accuracy', 'Quick Melee Hits', 'Quick Melee Ticks',\n",
       "       'Self Healing', 'Self Healing Percent of Damage Taken',\n",
       "       'Shots Fired', 'Shots Hit', 'Time Building Ultimate',\n",
       "       'Time Elapsed per Ultimate Earned', 'Time Holding Ultimate',\n",
       "       'Time Played', 'Ultimates Earned - Fractional', 'Ultimates Used',\n",
       "       'Weapon Accuracy', 'Critical Hit Kills', 'Damage - Weapon Charged',\n",
       "       'Damage - Weapon Primary', 'Final Blows', 'Solo Kills',\n",
       "       'Transcendence Efficiency', 'Transcendence Healing',\n",
       "       'Transcendence Percent of Healing', 'Melee Final Blows',\n",
       "       'Amped Speed Activations', 'Damage - Weapon Secondary',\n",
       "       'Heal Song Time Elapsed', 'Speed Song Time Elapsed',\n",
       "       'Biotic Orb Healing Efficiency', 'Biotic Orb Maximum Healing',\n",
       "       'Damage - Weapon', 'Healing - Biotic Orb', 'Healing - Coalescence',\n",
       "       'Healing - Secondary Fire', 'Secondary Fire Accuracy',\n",
       "       'Secondary Fire Hits', 'Secondary Fire Ticks',\n",
       "       'Average Time Alive', 'Time Alive', 'Environmental Deaths',\n",
       "       'Amped Heal Activations', 'Sound Barrier Casts',\n",
       "       'Sound Barrier Efficiency', 'Sound Barriers Provided',\n",
       "       'Damage - Biotic Grenade', 'Damage - Weapon Scoped',\n",
       "       'Enemies Slept', 'Nano Boosts Applied', 'Scoped Accuracy',\n",
       "       'Scoped Hits', 'Scoped Shots', 'Sleep Dart Hits',\n",
       "       'Sleep Dart Shots', 'Sleep Dart Success Rate', 'Unscoped Accuracy',\n",
       "       'Unscoped Hits', 'Unscoped Shots', 'Biotic Grenade Kills',\n",
       "       'Environmental Kills', 'Multikills', 'Nano Boost Assists',\n",
       "       'Nano Boost Efficiency', 'Turrets Destroyed',\n",
       "       'Biotic Orb Damage Efficiency', 'Biotic Orb Maximum Damage',\n",
       "       'Coalescence Healing', 'Coalescence Kills',\n",
       "       'Coalesence - Damage per Use', 'Coalesence - Healing per Use',\n",
       "       'Damage - Biotic Orb', 'Damage - Coalescence',\n",
       "       'Healing - Healing Boost', 'Healing - Healing Boost Amped',\n",
       "       'Players Knocked Back', 'Shots Missed', 'Healing - Biotic Grenade',\n",
       "       'Healing - Weapon', 'Healing - Weapon Scoped', 'Discord Orb Time',\n",
       "       'Harmony Orb Time', 'Healing - Harmony Orb',\n",
       "       'Healing - Transcendence', 'Healing - Weapon Valkyrie',\n",
       "       'Valkyrie Healing Efficiency', 'Armor - Rally',\n",
       "       'Armor - Repair Pack', 'Armor Provided', 'Damage - Shield Bash',\n",
       "       'Damage Blocked', 'Healing - Inspire', 'Healing - Repair Pack',\n",
       "       'Inspire Uptime', 'Inspire Uptime Percentage',\n",
       "       'Rally Armor Efficiency', 'Damage - Discord Orb',\n",
       "       'Teleporter Pads Destroyed', 'Soundwave Kills',\n",
       "       'Healing Amplified', 'Amplification Matrix Assists',\n",
       "       'Amplification Matrix Casts', 'Amplification Matrix Efficiency',\n",
       "       'Biotic Launcher Healing Explosions',\n",
       "       'Biotic Launcher Healing Shots', 'Damage Prevented',\n",
       "       'Healing - Biotic Launcher', 'Healing - Immortality Field',\n",
       "       'Healing - Regenerative Burst', 'Healing Accuracy',\n",
       "       'Immortality Field Deaths Prevented', 'Healing Received',\n",
       "       'Time Discorded', 'Time Hacked', 'Knockback Kills',\n",
       "       'Assists  - Avg per 10 min', 'Assists - Most in Game',\n",
       "       'Games Played', 'Games Played Plus Won', 'Games Won',\n",
       "       'Healing Prevented', 'Healing Prevented - Avg per 10 Min',\n",
       "       'Healing Prevented - Most in Game', 'Hero Wins',\n",
       "       'Players Saved - Average', 'Players Saved - Avg per 10 Min',\n",
       "       'Defense Contest Time', 'Defense Contest Time - Avg per 10 Min',\n",
       "       'Defense Contest Time - Most in Game',\n",
       "       'Obj Contest Time - Avg per 10 Min',\n",
       "       'Obj Contest Time - Most in Game', 'Objective Contest Time',\n",
       "       'Offense Contest Time', 'Offense Contest Time - Avg per 10 Min',\n",
       "       'Offense Contest Time - Most in Game',\n",
       "       'Players Knocked Back - Avg per 10 Min',\n",
       "       'Players Knocked Back - Most in Game',\n",
       "       'Players Saved - Most in Game',\n",
       "       'Critical Hit Kills - Avg per 10 Min',\n",
       "       'Critical Hit Kills - Most in Game', 'Kitsune Rush Assists',\n",
       "       'Kitsune Rush Assists - Avg per 10 Min',\n",
       "       'Kitsune Rush Assists - Most in Game', 'Kunai Kills',\n",
       "       'Kunai Kills - Avg per 10 Min', 'Kunai Kills - Most in Game',\n",
       "       'Negative Effects Cleansed',\n",
       "       'Negative Effects Cleansed - Avg per 10 Min',\n",
       "       'Negative Effects Cleansed - Most in Game',\n",
       "       'Charged Volley Accuracy', 'Charged Volley Kills',\n",
       "       'Charged Volley Kills - Avg per 10 Min',\n",
       "       'Charged Volley Kills - Most in Game', 'Enemies Whipshotted',\n",
       "       'Environmental Kills - Avg per 10 Min',\n",
       "       'Environmental Kills - Most in Game',\n",
       "       'Players Knocked Back - Avg per 10 Min NYI',\n",
       "       'Players Knocked Back - Most in Game NYI', 'Whipshot Accuracy',\n",
       "       'Whipshots Attempted', 'Biotic Orb Healing - Avg per 10 Min',\n",
       "       'Biotic Orb Healing - Most in Game', 'Biotic Orb Kills',\n",
       "       'Biotic Orb Kills - Avg per 10 Min',\n",
       "       'Biotic Orb Kills - Most in Game', 'Enemy Coalescence Efficiency',\n",
       "       'Ally Coalescence Efficiency', 'Life Grip Deaths Prevented',\n",
       "       'Life Grip Deaths Prevented - Avg per 10 Min',\n",
       "       'Life Grip Deaths Prevented - Most in Game',\n",
       "       'Tree of Life Healing', 'Tree of Life Healing - Avg per 10 Min',\n",
       "       'Tree of Life Healing - Most in Game', 'Thorn Volley Kills',\n",
       "       'Thorn Volley Kills - Average',\n",
       "       'Thorn Volley Kills - Avg per 10 Min',\n",
       "       'Thorn Volley Kills - Most in Game'], dtype=object)"
      ]
     },
     "execution_count": 134,
     "metadata": {},
     "output_type": "execute_result"
    }
   ],
   "execution_count": 134
  },
  {
   "cell_type": "code",
   "source": [
    "df"
   ],
   "metadata": {
    "collapsed": false,
    "ExecuteTime": {
     "end_time": "2024-07-08T08:52:39.472841Z",
     "start_time": "2024-07-08T08:52:39.443919Z"
    }
   },
   "id": "3e5bc9bda506028b",
   "outputs": [
    {
     "data": {
      "text/plain": [
       "                     start_time  match_id                              stage  \\\n",
       "0                1/11/2018 0:12   10223.0  2018 : Overwatch League - Stage 1   \n",
       "1                1/11/2018 0:12   10223.0  2018 : Overwatch League - Stage 1   \n",
       "2                1/11/2018 0:12   10223.0  2018 : Overwatch League - Stage 1   \n",
       "3                1/11/2018 0:12   10223.0  2018 : Overwatch League - Stage 1   \n",
       "4                1/11/2018 0:12   10223.0  2018 : Overwatch League - Stage 1   \n",
       "...                         ...       ...                                ...   \n",
       "676461  2023-06-18 05:27:00 UTC   41057.0           2023 : Midseason Madness   \n",
       "676462  2023-06-18 05:27:00 UTC   41057.0           2023 : Midseason Madness   \n",
       "676463  2023-06-18 05:27:00 UTC   41057.0           2023 : Midseason Madness   \n",
       "676464  2023-06-18 05:27:00 UTC   41057.0           2023 : Midseason Madness   \n",
       "676465  2023-06-18 05:27:00 UTC   41057.0           2023 : Midseason Madness   \n",
       "\n",
       "       map_type                  map     player                 team  \\\n",
       "0       PAYLOAD               Dorado  Agilities  Los Angeles Valiant   \n",
       "1       PAYLOAD               Dorado  Agilities  Los Angeles Valiant   \n",
       "2       PAYLOAD               Dorado  Agilities  Los Angeles Valiant   \n",
       "3       PAYLOAD               Dorado  Agilities  Los Angeles Valiant   \n",
       "4       PAYLOAD               Dorado  Agilities  Los Angeles Valiant   \n",
       "...         ...                  ...        ...                  ...   \n",
       "676461  control  Antarctic Peninsula        shu      Houston Outlaws   \n",
       "676462  control  Antarctic Peninsula        shu      Houston Outlaws   \n",
       "676463  control  Antarctic Peninsula        shu      Houston Outlaws   \n",
       "676464  control  Antarctic Peninsula        shu      Houston Outlaws   \n",
       "676465  control  Antarctic Peninsula        shu      Houston Outlaws   \n",
       "\n",
       "                                    stat        hero   stat_amount  \\\n",
       "0                        All Damage Done  All Heroes  18079.206920   \n",
       "1                                Assists  All Heroes     17.000000   \n",
       "2                    Barrier Damage Done  All Heroes   2893.659185   \n",
       "3                   Damage - Quick Melee  All Heroes    443.204010   \n",
       "4                                 Deaths  All Heroes     11.000000   \n",
       "...                                  ...         ...           ...   \n",
       "676461                        Time Alive       Moira     51.267001   \n",
       "676462            Time Building Ultimate       Moira     74.061002   \n",
       "676463  Time Elapsed per Ultimate Earned       Moira    123.979228   \n",
       "676464                       Time Played       Moira     74.527243   \n",
       "676465     Ultimates Earned - Fractional       Moira      0.597366   \n",
       "\n",
       "       <!DOCTYPE html><html><head><title>Google Drive - Virus scan warning</title><meta http-equiv=\"content-type\" content=\"text/html; charset=utf-8\"/><style nonce=\"rK80-vqbah6cVbzd518i1w\">.goog-link-button{position:relative;color:#15c;text-decoration:underline;cursor:pointer}.goog-link-button-disabled{color:#ccc;text-decoration:none;cursor:default}body{color:#222;font:normal 13px/1.4 arial  \\\n",
       "0                                                     NaN                                                                                                                                                                                                                                                                                                                                                  \n",
       "1                                                     NaN                                                                                                                                                                                                                                                                                                                                                  \n",
       "2                                                     NaN                                                                                                                                                                                                                                                                                                                                                  \n",
       "3                                                     NaN                                                                                                                                                                                                                                                                                                                                                  \n",
       "4                                                     NaN                                                                                                                                                                                                                                                                                                                                                  \n",
       "...                                                   ...                                                                                                                                                                                                                                                                                                                                                  \n",
       "676461                                                NaN                                                                                                                                                                                                                                                                                                                                                  \n",
       "676462                                                NaN                                                                                                                                                                                                                                                                                                                                                  \n",
       "676463                                                NaN                                                                                                                                                                                                                                                                                                                                                  \n",
       "676464                                                NaN                                                                                                                                                                                                                                                                                                                                                  \n",
       "676465                                                NaN                                                                                                                                                                                                                                                                                                                                                  \n",
       "\n",
       "       sans-serif;margin:0}.grecaptcha-badge{visibility:hidden}.uc-main{padding-top:50px;text-align:center}#uc-dl-icon{display:inline-block;margin-top:16px;padding-right:1em;vertical-align:top}#uc-text{display:inline-block;max-width:68ex;text-align:left}.uc-error-caption  \\\n",
       "0                                                     NaN                                                                                                                                                                                                                         \n",
       "1                                                     NaN                                                                                                                                                                                                                         \n",
       "2                                                     NaN                                                                                                                                                                                                                         \n",
       "3                                                     NaN                                                                                                                                                                                                                         \n",
       "4                                                     NaN                                                                                                                                                                                                                         \n",
       "...                                                   ...                                                                                                                                                                                                                         \n",
       "676461                                                NaN                                                                                                                                                                                                                         \n",
       "676462                                                NaN                                                                                                                                                                                                                         \n",
       "676463                                                NaN                                                                                                                                                                                                                         \n",
       "676464                                                NaN                                                                                                                                                                                                                         \n",
       "676465                                                NaN                                                                                                                                                                                                                         \n",
       "\n",
       "       .uc-warning-caption{color:#222;font-size:16px}#uc-download-link{text-decoration:none}.uc-name-size a{color:#15c;text-decoration:none}.uc-name-size a:visited{color:#61c;text-decoration:none}.uc-name-size a:active{color:#d14836;text-decoration:none}.uc-footer{color:#777;font-size:11px;padding-bottom:5ex;padding-top:5ex;text-align:center}.uc-footer a{color:#15c}.uc-footer a:visited{color:#61c}.uc-footer a:active{color:#d14836}.uc-footer-divider{color:#ccc;width:100%}.goog-inline-block{position:relative;display:-moz-inline-box;display:inline-block}* html .goog-inline-block{display:inline}*:first-child+html .goog-inline-block{display:inline}sentinel{}</style><link rel=\"icon\" href=\"//ssl.gstatic.com/docs/doclist/images/drive_2022q3_32dp.png\"/></head><body><div class=\"uc-main\"><div id=\"uc-dl-icon\" class=\"image-container\"><div class=\"drive-sprite-aux-download-file\"></div></div><div id=\"uc-text\"><p class=\"uc-warning-caption\">Google Drive can't scan this file for viruses.</p><p class=\"uc-warning-subcaption\"><span class=\"uc-name-size\"><a href=\"/open?id=1SJ5T4_8YyE-fv8flntKoboXToEupP1qE\">phs_2021_1.csv</a> (114M)</span> is too large for Google to scan for viruses. Would you still like to download this file?</p><form id=\"download-form\" action=\"https://drive.usercontent.google.com/download\" method=\"get\"><input type=\"submit\" id=\"uc-download-link\" class=\"goog-inline-block jfk-button jfk-button-action\" value=\"Download anyway\"/><input type=\"hidden\" name=\"id\" value=\"1SJ5T4_8YyE-fv8flntKoboXToEupP1qE\"><input type=\"hidden\" name=\"export\" value=\"download\"><input type=\"hidden\" name=\"confirm\" value=\"t\"><input type=\"hidden\" name=\"uuid\" value=\"c28d12f6-2700-492a-a90e-db083e90f0a8\"></form></div></div><div class=\"uc-footer\"><hr class=\"uc-footer-divider\"></div></body></html>  \\\n",
       "0                                                     NaN                                                                                                                                                                                                                                                                                                                                                                                                                                                                                                                                                                                                                                                                                                                                                                                                                                                                                                                                                                                                                                                                                                                                                                                                                                                                                                                                                                                                                                                                                                                                                                                                                                                                                                                                                                                                \n",
       "1                                                     NaN                                                                                                                                                                                                                                                                                                                                                                                                                                                                                                                                                                                                                                                                                                                                                                                                                                                                                                                                                                                                                                                                                                                                                                                                                                                                                                                                                                                                                                                                                                                                                                                                                                                                                                                                                                                                \n",
       "2                                                     NaN                                                                                                                                                                                                                                                                                                                                                                                                                                                                                                                                                                                                                                                                                                                                                                                                                                                                                                                                                                                                                                                                                                                                                                                                                                                                                                                                                                                                                                                                                                                                                                                                                                                                                                                                                                                                \n",
       "3                                                     NaN                                                                                                                                                                                                                                                                                                                                                                                                                                                                                                                                                                                                                                                                                                                                                                                                                                                                                                                                                                                                                                                                                                                                                                                                                                                                                                                                                                                                                                                                                                                                                                                                                                                                                                                                                                                                \n",
       "4                                                     NaN                                                                                                                                                                                                                                                                                                                                                                                                                                                                                                                                                                                                                                                                                                                                                                                                                                                                                                                                                                                                                                                                                                                                                                                                                                                                                                                                                                                                                                                                                                                                                                                                                                                                                                                                                                                                \n",
       "...                                                   ...                                                                                                                                                                                                                                                                                                                                                                                                                                                                                                                                                                                                                                                                                                                                                                                                                                                                                                                                                                                                                                                                                                                                                                                                                                                                                                                                                                                                                                                                                                                                                                                                                                                                                                                                                                                                \n",
       "676461                                                NaN                                                                                                                                                                                                                                                                                                                                                                                                                                                                                                                                                                                                                                                                                                                                                                                                                                                                                                                                                                                                                                                                                                                                                                                                                                                                                                                                                                                                                                                                                                                                                                                                                                                                                                                                                                                                \n",
       "676462                                                NaN                                                                                                                                                                                                                                                                                                                                                                                                                                                                                                                                                                                                                                                                                                                                                                                                                                                                                                                                                                                                                                                                                                                                                                                                                                                                                                                                                                                                                                                                                                                                                                                                                                                                                                                                                                                                \n",
       "676463                                                NaN                                                                                                                                                                                                                                                                                                                                                                                                                                                                                                                                                                                                                                                                                                                                                                                                                                                                                                                                                                                                                                                                                                                                                                                                                                                                                                                                                                                                                                                                                                                                                                                                                                                                                                                                                                                                \n",
       "676464                                                NaN                                                                                                                                                                                                                                                                                                                                                                                                                                                                                                                                                                                                                                                                                                                                                                                                                                                                                                                                                                                                                                                                                                                                                                                                                                                                                                                                                                                                                                                                                                                                                                                                                                                                                                                                                                                                \n",
       "676465                                                NaN                                                                                                                                                                                                                                                                                                                                                                                                                                                                                                                                                                                                                                                                                                                                                                                                                                                                                                                                                                                                                                                                                                                                                                                                                                                                                                                                                                                                                                                                                                                                                                                                                                                                                                                                                                                                \n",
       "\n",
       "       <!DOCTYPE html><html><head><title>Google Drive - Virus scan warning</title><meta http-equiv=\"content-type\" content=\"text/html; charset=utf-8\"/><style nonce=\"noQYETudP5R3upzzyXJOxg\">.goog-link-button{position:relative;color:#15c;text-decoration:underline;cursor:pointer}.goog-link-button-disabled{color:#ccc;text-decoration:none;cursor:default}body{color:#222;font:normal 13px/1.4 arial  \\\n",
       "0                                                     NaN                                                                                                                                                                                                                                                                                                                                                  \n",
       "1                                                     NaN                                                                                                                                                                                                                                                                                                                                                  \n",
       "2                                                     NaN                                                                                                                                                                                                                                                                                                                                                  \n",
       "3                                                     NaN                                                                                                                                                                                                                                                                                                                                                  \n",
       "4                                                     NaN                                                                                                                                                                                                                                                                                                                                                  \n",
       "...                                                   ...                                                                                                                                                                                                                                                                                                                                                  \n",
       "676461                                                NaN                                                                                                                                                                                                                                                                                                                                                  \n",
       "676462                                                NaN                                                                                                                                                                                                                                                                                                                                                  \n",
       "676463                                                NaN                                                                                                                                                                                                                                                                                                                                                  \n",
       "676464                                                NaN                                                                                                                                                                                                                                                                                                                                                  \n",
       "676465                                                NaN                                                                                                                                                                                                                                                                                                                                                  \n",
       "\n",
       "       .uc-warning-caption{color:#222;font-size:16px}#uc-download-link{text-decoration:none}.uc-name-size a{color:#15c;text-decoration:none}.uc-name-size a:visited{color:#61c;text-decoration:none}.uc-name-size a:active{color:#d14836;text-decoration:none}.uc-footer{color:#777;font-size:11px;padding-bottom:5ex;padding-top:5ex;text-align:center}.uc-footer a{color:#15c}.uc-footer a:visited{color:#61c}.uc-footer a:active{color:#d14836}.uc-footer-divider{color:#ccc;width:100%}.goog-inline-block{position:relative;display:-moz-inline-box;display:inline-block}* html .goog-inline-block{display:inline}*:first-child+html .goog-inline-block{display:inline}sentinel{}</style><link rel=\"icon\" href=\"//ssl.gstatic.com/docs/doclist/images/drive_2022q3_32dp.png\"/></head><body><div class=\"uc-main\"><div id=\"uc-dl-icon\" class=\"image-container\"><div class=\"drive-sprite-aux-download-file\"></div></div><div id=\"uc-text\"><p class=\"uc-warning-caption\">Google Drive can't scan this file for viruses.</p><p class=\"uc-warning-subcaption\"><span class=\"uc-name-size\"><a href=\"/open?id=1QN5kH1ZwPUwcxjH_XqB2OadfL4qB6IFX\">phs_2022.csv</a> (134M)</span> is too large for Google to scan for viruses. Would you still like to download this file?</p><form id=\"download-form\" action=\"https://drive.usercontent.google.com/download\" method=\"get\"><input type=\"submit\" id=\"uc-download-link\" class=\"goog-inline-block jfk-button jfk-button-action\" value=\"Download anyway\"/><input type=\"hidden\" name=\"id\" value=\"1QN5kH1ZwPUwcxjH_XqB2OadfL4qB6IFX\"><input type=\"hidden\" name=\"export\" value=\"download\"><input type=\"hidden\" name=\"confirm\" value=\"t\"><input type=\"hidden\" name=\"uuid\" value=\"b5d92ad2-1b6c-487b-8812-d0b1a0c4bce6\"></form></div></div><div class=\"uc-footer\"><hr class=\"uc-footer-divider\"></div></body></html>  \\\n",
       "0                                                     NaN                                                                                                                                                                                                                                                                                                                                                                                                                                                                                                                                                                                                                                                                                                                                                                                                                                                                                                                                                                                                                                                                                                                                                                                                                                                                                                                                                                                                                                                                                                                                                                                                                                                                                                                                                                                              \n",
       "1                                                     NaN                                                                                                                                                                                                                                                                                                                                                                                                                                                                                                                                                                                                                                                                                                                                                                                                                                                                                                                                                                                                                                                                                                                                                                                                                                                                                                                                                                                                                                                                                                                                                                                                                                                                                                                                                                                              \n",
       "2                                                     NaN                                                                                                                                                                                                                                                                                                                                                                                                                                                                                                                                                                                                                                                                                                                                                                                                                                                                                                                                                                                                                                                                                                                                                                                                                                                                                                                                                                                                                                                                                                                                                                                                                                                                                                                                                                                              \n",
       "3                                                     NaN                                                                                                                                                                                                                                                                                                                                                                                                                                                                                                                                                                                                                                                                                                                                                                                                                                                                                                                                                                                                                                                                                                                                                                                                                                                                                                                                                                                                                                                                                                                                                                                                                                                                                                                                                                                              \n",
       "4                                                     NaN                                                                                                                                                                                                                                                                                                                                                                                                                                                                                                                                                                                                                                                                                                                                                                                                                                                                                                                                                                                                                                                                                                                                                                                                                                                                                                                                                                                                                                                                                                                                                                                                                                                                                                                                                                                              \n",
       "...                                                   ...                                                                                                                                                                                                                                                                                                                                                                                                                                                                                                                                                                                                                                                                                                                                                                                                                                                                                                                                                                                                                                                                                                                                                                                                                                                                                                                                                                                                                                                                                                                                                                                                                                                                                                                                                                                              \n",
       "676461                                                NaN                                                                                                                                                                                                                                                                                                                                                                                                                                                                                                                                                                                                                                                                                                                                                                                                                                                                                                                                                                                                                                                                                                                                                                                                                                                                                                                                                                                                                                                                                                                                                                                                                                                                                                                                                                                              \n",
       "676462                                                NaN                                                                                                                                                                                                                                                                                                                                                                                                                                                                                                                                                                                                                                                                                                                                                                                                                                                                                                                                                                                                                                                                                                                                                                                                                                                                                                                                                                                                                                                                                                                                                                                                                                                                                                                                                                                              \n",
       "676463                                                NaN                                                                                                                                                                                                                                                                                                                                                                                                                                                                                                                                                                                                                                                                                                                                                                                                                                                                                                                                                                                                                                                                                                                                                                                                                                                                                                                                                                                                                                                                                                                                                                                                                                                                                                                                                                                              \n",
       "676464                                                NaN                                                                                                                                                                                                                                                                                                                                                                                                                                                                                                                                                                                                                                                                                                                                                                                                                                                                                                                                                                                                                                                                                                                                                                                                                                                                                                                                                                                                                                                                                                                                                                                                                                                                                                                                                                                              \n",
       "676465                                                NaN                                                                                                                                                                                                                                                                                                                                                                                                                                                                                                                                                                                                                                                                                                                                                                                                                                                                                                                                                                                                                                                                                                                                                                                                                                                                                                                                                                                                                                                                                                                                                                                                                                                                                                                                                                                              \n",
       "\n",
       "           role  \n",
       "0           All  \n",
       "1           All  \n",
       "2           All  \n",
       "3           All  \n",
       "4           All  \n",
       "...         ...  \n",
       "676461  Support  \n",
       "676462  Support  \n",
       "676463  Support  \n",
       "676464  Support  \n",
       "676465  Support  \n",
       "\n",
       "[4590437 rows x 16 columns]"
      ],
      "text/html": [
       "<div>\n",
       "<style scoped>\n",
       "    .dataframe tbody tr th:only-of-type {\n",
       "        vertical-align: middle;\n",
       "    }\n",
       "\n",
       "    .dataframe tbody tr th {\n",
       "        vertical-align: top;\n",
       "    }\n",
       "\n",
       "    .dataframe thead th {\n",
       "        text-align: right;\n",
       "    }\n",
       "</style>\n",
       "<table border=\"1\" class=\"dataframe\">\n",
       "  <thead>\n",
       "    <tr style=\"text-align: right;\">\n",
       "      <th></th>\n",
       "      <th>start_time</th>\n",
       "      <th>match_id</th>\n",
       "      <th>stage</th>\n",
       "      <th>map_type</th>\n",
       "      <th>map</th>\n",
       "      <th>player</th>\n",
       "      <th>team</th>\n",
       "      <th>stat</th>\n",
       "      <th>hero</th>\n",
       "      <th>stat_amount</th>\n",
       "      <th>&lt;!DOCTYPE html&gt;&lt;html&gt;&lt;head&gt;&lt;title&gt;Google Drive - Virus scan warning&lt;/title&gt;&lt;meta http-equiv=\"content-type\" content=\"text/html; charset=utf-8\"/&gt;&lt;style nonce=\"rK80-vqbah6cVbzd518i1w\"&gt;.goog-link-button{position:relative;color:#15c;text-decoration:underline;cursor:pointer}.goog-link-button-disabled{color:#ccc;text-decoration:none;cursor:default}body{color:#222;font:normal 13px/1.4 arial</th>\n",
       "      <th>sans-serif;margin:0}.grecaptcha-badge{visibility:hidden}.uc-main{padding-top:50px;text-align:center}#uc-dl-icon{display:inline-block;margin-top:16px;padding-right:1em;vertical-align:top}#uc-text{display:inline-block;max-width:68ex;text-align:left}.uc-error-caption</th>\n",
       "      <th>.uc-warning-caption{color:#222;font-size:16px}#uc-download-link{text-decoration:none}.uc-name-size a{color:#15c;text-decoration:none}.uc-name-size a:visited{color:#61c;text-decoration:none}.uc-name-size a:active{color:#d14836;text-decoration:none}.uc-footer{color:#777;font-size:11px;padding-bottom:5ex;padding-top:5ex;text-align:center}.uc-footer a{color:#15c}.uc-footer a:visited{color:#61c}.uc-footer a:active{color:#d14836}.uc-footer-divider{color:#ccc;width:100%}.goog-inline-block{position:relative;display:-moz-inline-box;display:inline-block}* html .goog-inline-block{display:inline}*:first-child+html .goog-inline-block{display:inline}sentinel{}&lt;/style&gt;&lt;link rel=\"icon\" href=\"//ssl.gstatic.com/docs/doclist/images/drive_2022q3_32dp.png\"/&gt;&lt;/head&gt;&lt;body&gt;&lt;div class=\"uc-main\"&gt;&lt;div id=\"uc-dl-icon\" class=\"image-container\"&gt;&lt;div class=\"drive-sprite-aux-download-file\"&gt;&lt;/div&gt;&lt;/div&gt;&lt;div id=\"uc-text\"&gt;&lt;p class=\"uc-warning-caption\"&gt;Google Drive can't scan this file for viruses.&lt;/p&gt;&lt;p class=\"uc-warning-subcaption\"&gt;&lt;span class=\"uc-name-size\"&gt;&lt;a href=\"/open?id=1SJ5T4_8YyE-fv8flntKoboXToEupP1qE\"&gt;phs_2021_1.csv&lt;/a&gt; (114M)&lt;/span&gt; is too large for Google to scan for viruses. Would you still like to download this file?&lt;/p&gt;&lt;form id=\"download-form\" action=\"https://drive.usercontent.google.com/download\" method=\"get\"&gt;&lt;input type=\"submit\" id=\"uc-download-link\" class=\"goog-inline-block jfk-button jfk-button-action\" value=\"Download anyway\"/&gt;&lt;input type=\"hidden\" name=\"id\" value=\"1SJ5T4_8YyE-fv8flntKoboXToEupP1qE\"&gt;&lt;input type=\"hidden\" name=\"export\" value=\"download\"&gt;&lt;input type=\"hidden\" name=\"confirm\" value=\"t\"&gt;&lt;input type=\"hidden\" name=\"uuid\" value=\"c28d12f6-2700-492a-a90e-db083e90f0a8\"&gt;&lt;/form&gt;&lt;/div&gt;&lt;/div&gt;&lt;div class=\"uc-footer\"&gt;&lt;hr class=\"uc-footer-divider\"&gt;&lt;/div&gt;&lt;/body&gt;&lt;/html&gt;</th>\n",
       "      <th>&lt;!DOCTYPE html&gt;&lt;html&gt;&lt;head&gt;&lt;title&gt;Google Drive - Virus scan warning&lt;/title&gt;&lt;meta http-equiv=\"content-type\" content=\"text/html; charset=utf-8\"/&gt;&lt;style nonce=\"noQYETudP5R3upzzyXJOxg\"&gt;.goog-link-button{position:relative;color:#15c;text-decoration:underline;cursor:pointer}.goog-link-button-disabled{color:#ccc;text-decoration:none;cursor:default}body{color:#222;font:normal 13px/1.4 arial</th>\n",
       "      <th>.uc-warning-caption{color:#222;font-size:16px}#uc-download-link{text-decoration:none}.uc-name-size a{color:#15c;text-decoration:none}.uc-name-size a:visited{color:#61c;text-decoration:none}.uc-name-size a:active{color:#d14836;text-decoration:none}.uc-footer{color:#777;font-size:11px;padding-bottom:5ex;padding-top:5ex;text-align:center}.uc-footer a{color:#15c}.uc-footer a:visited{color:#61c}.uc-footer a:active{color:#d14836}.uc-footer-divider{color:#ccc;width:100%}.goog-inline-block{position:relative;display:-moz-inline-box;display:inline-block}* html .goog-inline-block{display:inline}*:first-child+html .goog-inline-block{display:inline}sentinel{}&lt;/style&gt;&lt;link rel=\"icon\" href=\"//ssl.gstatic.com/docs/doclist/images/drive_2022q3_32dp.png\"/&gt;&lt;/head&gt;&lt;body&gt;&lt;div class=\"uc-main\"&gt;&lt;div id=\"uc-dl-icon\" class=\"image-container\"&gt;&lt;div class=\"drive-sprite-aux-download-file\"&gt;&lt;/div&gt;&lt;/div&gt;&lt;div id=\"uc-text\"&gt;&lt;p class=\"uc-warning-caption\"&gt;Google Drive can't scan this file for viruses.&lt;/p&gt;&lt;p class=\"uc-warning-subcaption\"&gt;&lt;span class=\"uc-name-size\"&gt;&lt;a href=\"/open?id=1QN5kH1ZwPUwcxjH_XqB2OadfL4qB6IFX\"&gt;phs_2022.csv&lt;/a&gt; (134M)&lt;/span&gt; is too large for Google to scan for viruses. Would you still like to download this file?&lt;/p&gt;&lt;form id=\"download-form\" action=\"https://drive.usercontent.google.com/download\" method=\"get\"&gt;&lt;input type=\"submit\" id=\"uc-download-link\" class=\"goog-inline-block jfk-button jfk-button-action\" value=\"Download anyway\"/&gt;&lt;input type=\"hidden\" name=\"id\" value=\"1QN5kH1ZwPUwcxjH_XqB2OadfL4qB6IFX\"&gt;&lt;input type=\"hidden\" name=\"export\" value=\"download\"&gt;&lt;input type=\"hidden\" name=\"confirm\" value=\"t\"&gt;&lt;input type=\"hidden\" name=\"uuid\" value=\"b5d92ad2-1b6c-487b-8812-d0b1a0c4bce6\"&gt;&lt;/form&gt;&lt;/div&gt;&lt;/div&gt;&lt;div class=\"uc-footer\"&gt;&lt;hr class=\"uc-footer-divider\"&gt;&lt;/div&gt;&lt;/body&gt;&lt;/html&gt;</th>\n",
       "      <th>role</th>\n",
       "    </tr>\n",
       "  </thead>\n",
       "  <tbody>\n",
       "    <tr>\n",
       "      <th>0</th>\n",
       "      <td>1/11/2018 0:12</td>\n",
       "      <td>10223.0</td>\n",
       "      <td>2018 : Overwatch League - Stage 1</td>\n",
       "      <td>PAYLOAD</td>\n",
       "      <td>Dorado</td>\n",
       "      <td>Agilities</td>\n",
       "      <td>Los Angeles Valiant</td>\n",
       "      <td>All Damage Done</td>\n",
       "      <td>All Heroes</td>\n",
       "      <td>18079.206920</td>\n",
       "      <td>NaN</td>\n",
       "      <td>NaN</td>\n",
       "      <td>NaN</td>\n",
       "      <td>NaN</td>\n",
       "      <td>NaN</td>\n",
       "      <td>All</td>\n",
       "    </tr>\n",
       "    <tr>\n",
       "      <th>1</th>\n",
       "      <td>1/11/2018 0:12</td>\n",
       "      <td>10223.0</td>\n",
       "      <td>2018 : Overwatch League - Stage 1</td>\n",
       "      <td>PAYLOAD</td>\n",
       "      <td>Dorado</td>\n",
       "      <td>Agilities</td>\n",
       "      <td>Los Angeles Valiant</td>\n",
       "      <td>Assists</td>\n",
       "      <td>All Heroes</td>\n",
       "      <td>17.000000</td>\n",
       "      <td>NaN</td>\n",
       "      <td>NaN</td>\n",
       "      <td>NaN</td>\n",
       "      <td>NaN</td>\n",
       "      <td>NaN</td>\n",
       "      <td>All</td>\n",
       "    </tr>\n",
       "    <tr>\n",
       "      <th>2</th>\n",
       "      <td>1/11/2018 0:12</td>\n",
       "      <td>10223.0</td>\n",
       "      <td>2018 : Overwatch League - Stage 1</td>\n",
       "      <td>PAYLOAD</td>\n",
       "      <td>Dorado</td>\n",
       "      <td>Agilities</td>\n",
       "      <td>Los Angeles Valiant</td>\n",
       "      <td>Barrier Damage Done</td>\n",
       "      <td>All Heroes</td>\n",
       "      <td>2893.659185</td>\n",
       "      <td>NaN</td>\n",
       "      <td>NaN</td>\n",
       "      <td>NaN</td>\n",
       "      <td>NaN</td>\n",
       "      <td>NaN</td>\n",
       "      <td>All</td>\n",
       "    </tr>\n",
       "    <tr>\n",
       "      <th>3</th>\n",
       "      <td>1/11/2018 0:12</td>\n",
       "      <td>10223.0</td>\n",
       "      <td>2018 : Overwatch League - Stage 1</td>\n",
       "      <td>PAYLOAD</td>\n",
       "      <td>Dorado</td>\n",
       "      <td>Agilities</td>\n",
       "      <td>Los Angeles Valiant</td>\n",
       "      <td>Damage - Quick Melee</td>\n",
       "      <td>All Heroes</td>\n",
       "      <td>443.204010</td>\n",
       "      <td>NaN</td>\n",
       "      <td>NaN</td>\n",
       "      <td>NaN</td>\n",
       "      <td>NaN</td>\n",
       "      <td>NaN</td>\n",
       "      <td>All</td>\n",
       "    </tr>\n",
       "    <tr>\n",
       "      <th>4</th>\n",
       "      <td>1/11/2018 0:12</td>\n",
       "      <td>10223.0</td>\n",
       "      <td>2018 : Overwatch League - Stage 1</td>\n",
       "      <td>PAYLOAD</td>\n",
       "      <td>Dorado</td>\n",
       "      <td>Agilities</td>\n",
       "      <td>Los Angeles Valiant</td>\n",
       "      <td>Deaths</td>\n",
       "      <td>All Heroes</td>\n",
       "      <td>11.000000</td>\n",
       "      <td>NaN</td>\n",
       "      <td>NaN</td>\n",
       "      <td>NaN</td>\n",
       "      <td>NaN</td>\n",
       "      <td>NaN</td>\n",
       "      <td>All</td>\n",
       "    </tr>\n",
       "    <tr>\n",
       "      <th>...</th>\n",
       "      <td>...</td>\n",
       "      <td>...</td>\n",
       "      <td>...</td>\n",
       "      <td>...</td>\n",
       "      <td>...</td>\n",
       "      <td>...</td>\n",
       "      <td>...</td>\n",
       "      <td>...</td>\n",
       "      <td>...</td>\n",
       "      <td>...</td>\n",
       "      <td>...</td>\n",
       "      <td>...</td>\n",
       "      <td>...</td>\n",
       "      <td>...</td>\n",
       "      <td>...</td>\n",
       "      <td>...</td>\n",
       "    </tr>\n",
       "    <tr>\n",
       "      <th>676461</th>\n",
       "      <td>2023-06-18 05:27:00 UTC</td>\n",
       "      <td>41057.0</td>\n",
       "      <td>2023 : Midseason Madness</td>\n",
       "      <td>control</td>\n",
       "      <td>Antarctic Peninsula</td>\n",
       "      <td>shu</td>\n",
       "      <td>Houston Outlaws</td>\n",
       "      <td>Time Alive</td>\n",
       "      <td>Moira</td>\n",
       "      <td>51.267001</td>\n",
       "      <td>NaN</td>\n",
       "      <td>NaN</td>\n",
       "      <td>NaN</td>\n",
       "      <td>NaN</td>\n",
       "      <td>NaN</td>\n",
       "      <td>Support</td>\n",
       "    </tr>\n",
       "    <tr>\n",
       "      <th>676462</th>\n",
       "      <td>2023-06-18 05:27:00 UTC</td>\n",
       "      <td>41057.0</td>\n",
       "      <td>2023 : Midseason Madness</td>\n",
       "      <td>control</td>\n",
       "      <td>Antarctic Peninsula</td>\n",
       "      <td>shu</td>\n",
       "      <td>Houston Outlaws</td>\n",
       "      <td>Time Building Ultimate</td>\n",
       "      <td>Moira</td>\n",
       "      <td>74.061002</td>\n",
       "      <td>NaN</td>\n",
       "      <td>NaN</td>\n",
       "      <td>NaN</td>\n",
       "      <td>NaN</td>\n",
       "      <td>NaN</td>\n",
       "      <td>Support</td>\n",
       "    </tr>\n",
       "    <tr>\n",
       "      <th>676463</th>\n",
       "      <td>2023-06-18 05:27:00 UTC</td>\n",
       "      <td>41057.0</td>\n",
       "      <td>2023 : Midseason Madness</td>\n",
       "      <td>control</td>\n",
       "      <td>Antarctic Peninsula</td>\n",
       "      <td>shu</td>\n",
       "      <td>Houston Outlaws</td>\n",
       "      <td>Time Elapsed per Ultimate Earned</td>\n",
       "      <td>Moira</td>\n",
       "      <td>123.979228</td>\n",
       "      <td>NaN</td>\n",
       "      <td>NaN</td>\n",
       "      <td>NaN</td>\n",
       "      <td>NaN</td>\n",
       "      <td>NaN</td>\n",
       "      <td>Support</td>\n",
       "    </tr>\n",
       "    <tr>\n",
       "      <th>676464</th>\n",
       "      <td>2023-06-18 05:27:00 UTC</td>\n",
       "      <td>41057.0</td>\n",
       "      <td>2023 : Midseason Madness</td>\n",
       "      <td>control</td>\n",
       "      <td>Antarctic Peninsula</td>\n",
       "      <td>shu</td>\n",
       "      <td>Houston Outlaws</td>\n",
       "      <td>Time Played</td>\n",
       "      <td>Moira</td>\n",
       "      <td>74.527243</td>\n",
       "      <td>NaN</td>\n",
       "      <td>NaN</td>\n",
       "      <td>NaN</td>\n",
       "      <td>NaN</td>\n",
       "      <td>NaN</td>\n",
       "      <td>Support</td>\n",
       "    </tr>\n",
       "    <tr>\n",
       "      <th>676465</th>\n",
       "      <td>2023-06-18 05:27:00 UTC</td>\n",
       "      <td>41057.0</td>\n",
       "      <td>2023 : Midseason Madness</td>\n",
       "      <td>control</td>\n",
       "      <td>Antarctic Peninsula</td>\n",
       "      <td>shu</td>\n",
       "      <td>Houston Outlaws</td>\n",
       "      <td>Ultimates Earned - Fractional</td>\n",
       "      <td>Moira</td>\n",
       "      <td>0.597366</td>\n",
       "      <td>NaN</td>\n",
       "      <td>NaN</td>\n",
       "      <td>NaN</td>\n",
       "      <td>NaN</td>\n",
       "      <td>NaN</td>\n",
       "      <td>Support</td>\n",
       "    </tr>\n",
       "  </tbody>\n",
       "</table>\n",
       "<p>4590437 rows × 16 columns</p>\n",
       "</div>"
      ]
     },
     "execution_count": 135,
     "metadata": {},
     "output_type": "execute_result"
    }
   ],
   "execution_count": 135
  },
  {
   "cell_type": "code",
   "source": [
    "# |export\n",
    "def get_match_analysis_heroes_played(stage: str, match: int, map: str, all: bool) -> pd.DataFrame:\n",
    "    # Filter the dataframe based on the stage and match_id\n",
    "    match_data = df[(df['stage'] == stage) & (df['match_id'] == match) & (df['map'] == map)]\n",
    "\n",
    "    # for each unique player, get unique 'hero' and 'stat' == 'Time Played' and 'stat_amount'\n",
    "    result = pd.DataFrame(columns=['Team', 'Player', 'Hero', 'Time Played'])\n",
    "    players = match_data['player'].unique()\n",
    "    for player in players:\n",
    "        player_data = match_data[match_data['player'] == player]\n",
    "        player_data = player_data[player_data['stat'] == 'Time Played']\n",
    "\n",
    "        # Filter the data based on the 'all' parameter\n",
    "        if all:\n",
    "            player_data = player_data[player_data['hero'] == 'All Heroes']\n",
    "        else:\n",
    "            player_data = player_data[player_data['hero'] != 'All Heroes']\n",
    "\n",
    "        player_data = player_data[['team', 'player', 'hero', 'stat_amount']]\n",
    "        player_data.columns = ['Team', 'Player', 'Hero', 'Time Played']\n",
    "        result = pd.concat([result, player_data], ignore_index=True, sort=False)\n",
    "\n",
    "    return result"
   ],
   "metadata": {
    "collapsed": false,
    "ExecuteTime": {
     "end_time": "2024-07-08T08:52:39.487801Z",
     "start_time": "2024-07-08T08:52:39.473839Z"
    }
   },
   "id": "1a293ef601beba0b",
   "outputs": [],
   "execution_count": 136
  },
  {
   "cell_type": "code",
   "source": [
    "# get_match_analysis_heroes_played('2018 : Overwatch League - Stage 1', 10223, 'Dorado', all=True)"
   ],
   "metadata": {
    "collapsed": false,
    "ExecuteTime": {
     "end_time": "2024-07-08T08:52:39.503758Z",
     "start_time": "2024-07-08T08:52:39.489815Z"
    }
   },
   "id": "2283380744174cb2",
   "outputs": [],
   "execution_count": 137
  },
  {
   "cell_type": "code",
   "source": [
    "# |export\n",
    "def get_match_analysis_all_stats(stage: str, match: int, map: str) -> pd.DataFrame:\n",
    "    # Filter the dataframe based on the stage and match_id\n",
    "    match_data = df[(df['stage'] == stage) & (df['match_id'] == match) & (df['map'] == map)]\n",
    "\n",
    "    # List of common stats to calculate\n",
    "    stats_list = [\n",
    "        'All Damage Done', 'Assists', 'Eliminations', 'Eliminations per Life', 'Deaths', 'Final Blows',\n",
    "        'Hero Damage Done', 'Time Played', 'Ultimates Used', 'Objective Kills', 'Weapon Accuracy',\n",
    "        'Average Time Alive', 'Damage Blocked', 'Healing Done', 'Players Saved']\n",
    "    \n",
    "    # get all these stat for the player : 'Team', 'Player', 'Hero', 'Role', 'Stat', 'Stat Amount'\n",
    "    result = pd.DataFrame(columns=['Team', 'Player', 'Hero', 'Role', 'Stat', 'Stat Amount'])\n",
    "    \n",
    "    for stat in stats_list:\n",
    "        player_data = match_data[match_data['stat'] == stat]\n",
    "        # Filter the data based on the 'all' parameter\n",
    "        player_data = player_data[player_data['hero'] == 'All Heroes']\n",
    "        player_data = player_data[['team', 'player', 'hero', 'role', 'stat', 'stat_amount']]\n",
    "        player_data.columns = ['Team', 'Player', 'Hero', 'Role', 'Stat', 'Stat Amount']\n",
    "        result = pd.concat([result, player_data], ignore_index=True, sort=False)\n",
    "        \n",
    "    return result"
   ],
   "metadata": {
    "collapsed": false,
    "ExecuteTime": {
     "end_time": "2024-07-08T08:52:39.518720Z",
     "start_time": "2024-07-08T08:52:39.505769Z"
    }
   },
   "id": "c5de59ba6bdec510",
   "outputs": [],
   "execution_count": 138
  },
  {
   "cell_type": "code",
   "source": [
    "get_match_analysis_all_stats('2018 : Overwatch League - Stage 1', 10223, 'Dorado')"
   ],
   "metadata": {
    "collapsed": false,
    "ExecuteTime": {
     "end_time": "2024-07-08T08:52:40.085232Z",
     "start_time": "2024-07-08T08:52:39.519716Z"
    }
   },
   "id": "c3d393206a61bab7",
   "outputs": [
    {
     "name": "stderr",
     "output_type": "stream",
     "text": [
      "C:\\Users\\antap\\AppData\\Local\\Temp\\ipykernel_18720\\3248502399.py:21: FutureWarning: The behavior of DataFrame concatenation with empty or all-NA entries is deprecated. In a future version, this will no longer exclude empty or all-NA columns when determining the result dtypes. To retain the old behavior, exclude the relevant entries before the concat operation.\n",
      "  result = pd.concat([result, player_data], ignore_index=True, sort=False)\n"
     ]
    },
    {
     "data": {
      "text/plain": [
       "                    Team     Player        Hero Role             Stat  \\\n",
       "0    Los Angeles Valiant  Agilities  All Heroes  All  All Damage Done   \n",
       "1    Los Angeles Valiant       Envy  All Heroes  All  All Damage Done   \n",
       "2    Los Angeles Valiant       Fate  All Heroes  All  All Damage Done   \n",
       "3    Los Angeles Valiant      KariV  All Heroes  All  All Damage Done   \n",
       "4    Los Angeles Valiant       SoOn  All Heroes  All  All Damage Done   \n",
       "..                   ...        ...         ...  ...              ...   \n",
       "116  San Francisco Shock       Nomy  All Heroes  All   Damage Blocked   \n",
       "117  Los Angeles Valiant      KariV  All Heroes  All     Healing Done   \n",
       "118  Los Angeles Valiant      uNKOE  All Heroes  All     Healing Done   \n",
       "119  San Francisco Shock       dhaK  All Heroes  All     Healing Done   \n",
       "120  San Francisco Shock     sleepy  All Heroes  All     Healing Done   \n",
       "\n",
       "      Stat Amount  \n",
       "0    18079.206920  \n",
       "1    16121.693630  \n",
       "2    10582.841190  \n",
       "3      370.000000  \n",
       "4    15786.973710  \n",
       "..            ...  \n",
       "116  16095.940830  \n",
       "117  16176.682260  \n",
       "118   7697.889905  \n",
       "119  20522.726070  \n",
       "120  10638.882330  \n",
       "\n",
       "[121 rows x 6 columns]"
      ],
      "text/html": [
       "<div>\n",
       "<style scoped>\n",
       "    .dataframe tbody tr th:only-of-type {\n",
       "        vertical-align: middle;\n",
       "    }\n",
       "\n",
       "    .dataframe tbody tr th {\n",
       "        vertical-align: top;\n",
       "    }\n",
       "\n",
       "    .dataframe thead th {\n",
       "        text-align: right;\n",
       "    }\n",
       "</style>\n",
       "<table border=\"1\" class=\"dataframe\">\n",
       "  <thead>\n",
       "    <tr style=\"text-align: right;\">\n",
       "      <th></th>\n",
       "      <th>Team</th>\n",
       "      <th>Player</th>\n",
       "      <th>Hero</th>\n",
       "      <th>Role</th>\n",
       "      <th>Stat</th>\n",
       "      <th>Stat Amount</th>\n",
       "    </tr>\n",
       "  </thead>\n",
       "  <tbody>\n",
       "    <tr>\n",
       "      <th>0</th>\n",
       "      <td>Los Angeles Valiant</td>\n",
       "      <td>Agilities</td>\n",
       "      <td>All Heroes</td>\n",
       "      <td>All</td>\n",
       "      <td>All Damage Done</td>\n",
       "      <td>18079.206920</td>\n",
       "    </tr>\n",
       "    <tr>\n",
       "      <th>1</th>\n",
       "      <td>Los Angeles Valiant</td>\n",
       "      <td>Envy</td>\n",
       "      <td>All Heroes</td>\n",
       "      <td>All</td>\n",
       "      <td>All Damage Done</td>\n",
       "      <td>16121.693630</td>\n",
       "    </tr>\n",
       "    <tr>\n",
       "      <th>2</th>\n",
       "      <td>Los Angeles Valiant</td>\n",
       "      <td>Fate</td>\n",
       "      <td>All Heroes</td>\n",
       "      <td>All</td>\n",
       "      <td>All Damage Done</td>\n",
       "      <td>10582.841190</td>\n",
       "    </tr>\n",
       "    <tr>\n",
       "      <th>3</th>\n",
       "      <td>Los Angeles Valiant</td>\n",
       "      <td>KariV</td>\n",
       "      <td>All Heroes</td>\n",
       "      <td>All</td>\n",
       "      <td>All Damage Done</td>\n",
       "      <td>370.000000</td>\n",
       "    </tr>\n",
       "    <tr>\n",
       "      <th>4</th>\n",
       "      <td>Los Angeles Valiant</td>\n",
       "      <td>SoOn</td>\n",
       "      <td>All Heroes</td>\n",
       "      <td>All</td>\n",
       "      <td>All Damage Done</td>\n",
       "      <td>15786.973710</td>\n",
       "    </tr>\n",
       "    <tr>\n",
       "      <th>...</th>\n",
       "      <td>...</td>\n",
       "      <td>...</td>\n",
       "      <td>...</td>\n",
       "      <td>...</td>\n",
       "      <td>...</td>\n",
       "      <td>...</td>\n",
       "    </tr>\n",
       "    <tr>\n",
       "      <th>116</th>\n",
       "      <td>San Francisco Shock</td>\n",
       "      <td>Nomy</td>\n",
       "      <td>All Heroes</td>\n",
       "      <td>All</td>\n",
       "      <td>Damage Blocked</td>\n",
       "      <td>16095.940830</td>\n",
       "    </tr>\n",
       "    <tr>\n",
       "      <th>117</th>\n",
       "      <td>Los Angeles Valiant</td>\n",
       "      <td>KariV</td>\n",
       "      <td>All Heroes</td>\n",
       "      <td>All</td>\n",
       "      <td>Healing Done</td>\n",
       "      <td>16176.682260</td>\n",
       "    </tr>\n",
       "    <tr>\n",
       "      <th>118</th>\n",
       "      <td>Los Angeles Valiant</td>\n",
       "      <td>uNKOE</td>\n",
       "      <td>All Heroes</td>\n",
       "      <td>All</td>\n",
       "      <td>Healing Done</td>\n",
       "      <td>7697.889905</td>\n",
       "    </tr>\n",
       "    <tr>\n",
       "      <th>119</th>\n",
       "      <td>San Francisco Shock</td>\n",
       "      <td>dhaK</td>\n",
       "      <td>All Heroes</td>\n",
       "      <td>All</td>\n",
       "      <td>Healing Done</td>\n",
       "      <td>20522.726070</td>\n",
       "    </tr>\n",
       "    <tr>\n",
       "      <th>120</th>\n",
       "      <td>San Francisco Shock</td>\n",
       "      <td>sleepy</td>\n",
       "      <td>All Heroes</td>\n",
       "      <td>All</td>\n",
       "      <td>Healing Done</td>\n",
       "      <td>10638.882330</td>\n",
       "    </tr>\n",
       "  </tbody>\n",
       "</table>\n",
       "<p>121 rows × 6 columns</p>\n",
       "</div>"
      ]
     },
     "execution_count": 139,
     "metadata": {},
     "output_type": "execute_result"
    }
   ],
   "execution_count": 139
  },
  {
   "cell_type": "code",
   "source": [
    "# |export\n",
    "def get_match_analysis_heroes_stats(stage: str, match: int, map: str, player: str, all: bool,\n",
    "                                    hero: str = None) -> pd.DataFrame:\n",
    "    # Filter the dataframe based on the stage and match_id\n",
    "    match_data = df[(df['stage'] == stage) & (df['match_id'] == match) & (df['map'] == map)]\n",
    "\n",
    "    # List of common stats to calculate\n",
    "    stats_list = ['All Damage Done', 'Assists', 'Eliminations', 'Eliminations per Life', 'Deaths', 'Final Blows',\n",
    "                  'Hero Damage Done', 'Time Played', 'Ultimates Used', 'Objective Kills', 'Weapon Accuracy',\n",
    "                  'Average Time Alive', 'Damage Blocked', 'Healing Done', 'Players Saved']\n",
    "\n",
    "    tank_stats = ['Damage Blocked']\n",
    "    support_stats = ['Healing Done', 'Players Saved']\n",
    "\n",
    "    # get all these stat for the player : 'Team', 'Player', 'Hero', 'Role', 'Stat', 'Stat Amount' \n",
    "    result = pd.DataFrame(columns=['Team', 'Player', 'Hero', 'Role', 'Stat', 'Stat Amount'])\n",
    "\n",
    "    for stat in stats_list:\n",
    "        player_data = match_data[(match_data['player'] == player) & (match_data['stat'] == stat)]\n",
    "        # Filter the data based on the 'all' parameter\n",
    "        if all:\n",
    "            player_data = player_data[player_data['hero'] == 'All Heroes']\n",
    "        else:\n",
    "            player_data = player_data[player_data['hero'] != 'All Heroes']\n",
    "\n",
    "        # Filter the data based on the 'hero' parameter\n",
    "        if hero is not None:\n",
    "            player_data = player_data[player_data['hero'] == hero]\n",
    "\n",
    "        player_data = player_data[['team', 'player', 'hero', 'role', 'stat', 'stat_amount']]\n",
    "\n",
    "        player_data.columns = ['Team', 'Player', 'Hero', 'Role', 'Stat', 'Stat Amount']\n",
    "        result = pd.concat([result, player_data], ignore_index=True, sort=False)\n",
    "\n",
    "    return result"
   ],
   "metadata": {
    "collapsed": false,
    "ExecuteTime": {
     "end_time": "2024-07-08T08:52:40.101162Z",
     "start_time": "2024-07-08T08:52:40.086205Z"
    }
   },
   "id": "570449d877b479a9",
   "outputs": [],
   "execution_count": 140
  },
  {
   "cell_type": "code",
   "source": [
    "get_match_analysis_heroes_stats('2018 : Overwatch League - Stage 1', 10223, 'Dorado', 'uNKOE', all=False)"
   ],
   "metadata": {
    "collapsed": false,
    "ExecuteTime": {
     "end_time": "2024-07-08T08:52:40.569939Z",
     "start_time": "2024-07-08T08:52:40.102159Z"
    }
   },
   "id": "90c6189144335f74",
   "outputs": [
    {
     "name": "stderr",
     "output_type": "stream",
     "text": [
      "C:\\Users\\antap\\AppData\\Local\\Temp\\ipykernel_18720\\2159163879.py:33: FutureWarning: The behavior of DataFrame concatenation with empty or all-NA entries is deprecated. In a future version, this will no longer exclude empty or all-NA columns when determining the result dtypes. To retain the old behavior, exclude the relevant entries before the concat operation.\n",
      "  result = pd.concat([result, player_data], ignore_index=True, sort=False)\n"
     ]
    },
    {
     "data": {
      "text/plain": [
       "                   Team Player      Hero     Role                   Stat  \\\n",
       "0   Los Angeles Valiant  uNKOE  Zenyatta  Support        All Damage Done   \n",
       "1   Los Angeles Valiant  uNKOE  Zenyatta  Support                Assists   \n",
       "2   Los Angeles Valiant  uNKOE  Zenyatta  Support           Eliminations   \n",
       "3   Los Angeles Valiant  uNKOE  Zenyatta  Support  Eliminations per Life   \n",
       "4   Los Angeles Valiant  uNKOE  Zenyatta  Support                 Deaths   \n",
       "5   Los Angeles Valiant  uNKOE  Zenyatta  Support            Final Blows   \n",
       "6   Los Angeles Valiant  uNKOE  Zenyatta  Support       Hero Damage Done   \n",
       "7   Los Angeles Valiant  uNKOE  Zenyatta  Support            Time Played   \n",
       "8   Los Angeles Valiant  uNKOE  Zenyatta  Support         Ultimates Used   \n",
       "9   Los Angeles Valiant  uNKOE  Zenyatta  Support        Objective Kills   \n",
       "10  Los Angeles Valiant  uNKOE  Zenyatta  Support        Weapon Accuracy   \n",
       "11  Los Angeles Valiant  uNKOE  Zenyatta  Support           Healing Done   \n",
       "\n",
       "     Stat Amount  \n",
       "0   10303.187680  \n",
       "1      10.000000  \n",
       "2      13.000000  \n",
       "3       1.444444  \n",
       "4       9.000000  \n",
       "5       3.000000  \n",
       "6    7311.753307  \n",
       "7     836.332770  \n",
       "8       5.000000  \n",
       "9       3.000000  \n",
       "10      0.177083  \n",
       "11   7697.889905  "
      ],
      "text/html": [
       "<div>\n",
       "<style scoped>\n",
       "    .dataframe tbody tr th:only-of-type {\n",
       "        vertical-align: middle;\n",
       "    }\n",
       "\n",
       "    .dataframe tbody tr th {\n",
       "        vertical-align: top;\n",
       "    }\n",
       "\n",
       "    .dataframe thead th {\n",
       "        text-align: right;\n",
       "    }\n",
       "</style>\n",
       "<table border=\"1\" class=\"dataframe\">\n",
       "  <thead>\n",
       "    <tr style=\"text-align: right;\">\n",
       "      <th></th>\n",
       "      <th>Team</th>\n",
       "      <th>Player</th>\n",
       "      <th>Hero</th>\n",
       "      <th>Role</th>\n",
       "      <th>Stat</th>\n",
       "      <th>Stat Amount</th>\n",
       "    </tr>\n",
       "  </thead>\n",
       "  <tbody>\n",
       "    <tr>\n",
       "      <th>0</th>\n",
       "      <td>Los Angeles Valiant</td>\n",
       "      <td>uNKOE</td>\n",
       "      <td>Zenyatta</td>\n",
       "      <td>Support</td>\n",
       "      <td>All Damage Done</td>\n",
       "      <td>10303.187680</td>\n",
       "    </tr>\n",
       "    <tr>\n",
       "      <th>1</th>\n",
       "      <td>Los Angeles Valiant</td>\n",
       "      <td>uNKOE</td>\n",
       "      <td>Zenyatta</td>\n",
       "      <td>Support</td>\n",
       "      <td>Assists</td>\n",
       "      <td>10.000000</td>\n",
       "    </tr>\n",
       "    <tr>\n",
       "      <th>2</th>\n",
       "      <td>Los Angeles Valiant</td>\n",
       "      <td>uNKOE</td>\n",
       "      <td>Zenyatta</td>\n",
       "      <td>Support</td>\n",
       "      <td>Eliminations</td>\n",
       "      <td>13.000000</td>\n",
       "    </tr>\n",
       "    <tr>\n",
       "      <th>3</th>\n",
       "      <td>Los Angeles Valiant</td>\n",
       "      <td>uNKOE</td>\n",
       "      <td>Zenyatta</td>\n",
       "      <td>Support</td>\n",
       "      <td>Eliminations per Life</td>\n",
       "      <td>1.444444</td>\n",
       "    </tr>\n",
       "    <tr>\n",
       "      <th>4</th>\n",
       "      <td>Los Angeles Valiant</td>\n",
       "      <td>uNKOE</td>\n",
       "      <td>Zenyatta</td>\n",
       "      <td>Support</td>\n",
       "      <td>Deaths</td>\n",
       "      <td>9.000000</td>\n",
       "    </tr>\n",
       "    <tr>\n",
       "      <th>5</th>\n",
       "      <td>Los Angeles Valiant</td>\n",
       "      <td>uNKOE</td>\n",
       "      <td>Zenyatta</td>\n",
       "      <td>Support</td>\n",
       "      <td>Final Blows</td>\n",
       "      <td>3.000000</td>\n",
       "    </tr>\n",
       "    <tr>\n",
       "      <th>6</th>\n",
       "      <td>Los Angeles Valiant</td>\n",
       "      <td>uNKOE</td>\n",
       "      <td>Zenyatta</td>\n",
       "      <td>Support</td>\n",
       "      <td>Hero Damage Done</td>\n",
       "      <td>7311.753307</td>\n",
       "    </tr>\n",
       "    <tr>\n",
       "      <th>7</th>\n",
       "      <td>Los Angeles Valiant</td>\n",
       "      <td>uNKOE</td>\n",
       "      <td>Zenyatta</td>\n",
       "      <td>Support</td>\n",
       "      <td>Time Played</td>\n",
       "      <td>836.332770</td>\n",
       "    </tr>\n",
       "    <tr>\n",
       "      <th>8</th>\n",
       "      <td>Los Angeles Valiant</td>\n",
       "      <td>uNKOE</td>\n",
       "      <td>Zenyatta</td>\n",
       "      <td>Support</td>\n",
       "      <td>Ultimates Used</td>\n",
       "      <td>5.000000</td>\n",
       "    </tr>\n",
       "    <tr>\n",
       "      <th>9</th>\n",
       "      <td>Los Angeles Valiant</td>\n",
       "      <td>uNKOE</td>\n",
       "      <td>Zenyatta</td>\n",
       "      <td>Support</td>\n",
       "      <td>Objective Kills</td>\n",
       "      <td>3.000000</td>\n",
       "    </tr>\n",
       "    <tr>\n",
       "      <th>10</th>\n",
       "      <td>Los Angeles Valiant</td>\n",
       "      <td>uNKOE</td>\n",
       "      <td>Zenyatta</td>\n",
       "      <td>Support</td>\n",
       "      <td>Weapon Accuracy</td>\n",
       "      <td>0.177083</td>\n",
       "    </tr>\n",
       "    <tr>\n",
       "      <th>11</th>\n",
       "      <td>Los Angeles Valiant</td>\n",
       "      <td>uNKOE</td>\n",
       "      <td>Zenyatta</td>\n",
       "      <td>Support</td>\n",
       "      <td>Healing Done</td>\n",
       "      <td>7697.889905</td>\n",
       "    </tr>\n",
       "  </tbody>\n",
       "</table>\n",
       "</div>"
      ]
     },
     "execution_count": 141,
     "metadata": {},
     "output_type": "execute_result"
    }
   ],
   "execution_count": 141
  },
  {
   "cell_type": "code",
   "source": [
    "# |export\n",
    "def get_team_profile(team: str, stat: str, stage: str = None) -> pd.DataFrame:\n",
    "    \"\"\"\n",
    "    This function generates a profile for a given team, based on a specific statistic and optionally for a specific stage.\n",
    "    \n",
    "    Parameters:\n",
    "    team (str): The name of the team.\n",
    "    stat (str): The statistic to consider.\n",
    "    stage (str, optional): The stage to consider. If None, all stages are considered.\n",
    "    \n",
    "    Returns:\n",
    "    pd.DataFrame: A DataFrame containing the team profile.\n",
    "    \"\"\"\n",
    "\n",
    "    # Filter the DataFrame based on the team, stat, and hero\n",
    "    result = df[df['team'] == team]\n",
    "    result = result[result['stat'] == stat]\n",
    "    result = result[result['hero'] == 'All Heroes']\n",
    "\n",
    "    # If a stage is specified, filter the DataFrame based on the stage\n",
    "    if stage:\n",
    "        print('stage filter')\n",
    "        result = result[result['stage'] == stage]\n",
    "\n",
    "    # Calculate the total stat amount for each match\n",
    "    stat_result = result.groupby(['match_id'])['stat_amount'].sum()\n",
    "\n",
    "    # Calculate the total stat amount for each match and start time\n",
    "    total_stat_amount = result.groupby(['match_id', 'start_time'])['stat_amount'].sum()\n",
    "\n",
    "    # Calculate the number of start times for each match\n",
    "    number_of_start_time_per_match = total_stat_amount.groupby(['match_id']).count()\n",
    "\n",
    "    # Calculate the average stat amount\n",
    "    avg_stat = total_stat_amount.groupby(['match_id']).sum() / number_of_start_time_per_match\n",
    "\n",
    "    # Add the total and average stat amounts to the DataFrame\n",
    "    result['stat_match_total'] = result['match_id'].apply(lambda x: stat_result[x])\n",
    "    result['avg_stat'] = result['match_id'].apply(lambda x: avg_stat[x])\n",
    "\n",
    "    # Replace the stat amount with the total stat amount\n",
    "    result['stat_amount'] = result['stat_match_total']\n",
    "    result = result.drop(columns=['stat_match_total'])\n",
    "\n",
    "    # Merge the DataFrame with the map stats DataFrame\n",
    "    result = result.reset_index().merge(\n",
    "        map_stats[['match_id', 'match_winner', 'team_one_name', 'team_two_name']], on='match_id')\n",
    "\n",
    "    # Add the opponent team to the DataFrame\n",
    "    result['opponent'] = result['team_one_name']\n",
    "    result['opponent'] = result['opponent'].where(result['team_one_name'] != team, result['team_two_name'])\n",
    "    result = result.drop(columns=['team_one_name', 'team_two_name'])\n",
    "\n",
    "    # Remove duplicate matches\n",
    "    result = result.drop_duplicates(subset='match_id')\n",
    "    result = result.set_index('match_id')\n",
    "\n",
    "    # Convert the start time to a datetime object and sort the DataFrame by start time\n",
    "    result['start_time'] = result['start_time'].str.replace(' UTC', '')\n",
    "    result['start_time'] = result['start_time'].apply(lambda x: dparser.parse(x, fuzzy=True))\n",
    "    result = result.sort_values(by='start_time')\n",
    "\n",
    "    # Calculate the win rate for each match\n",
    "    result['winrate'] = 0\n",
    "    win = 0\n",
    "    loss = 0\n",
    "    for match in result.index:\n",
    "        if result.loc[match, 'match_winner'] == team:\n",
    "            win += 1\n",
    "        else:\n",
    "            loss += 1\n",
    "        result.loc[match, 'winrate'] = win / (win + loss) * 100\n",
    "\n",
    "    # Remove unnecessary columns\n",
    "    result = result.drop(columns=['index', 'stat', 'map_type', 'map', 'player', 'hero', 'team'])\n",
    "\n",
    "    # Rename the columns\n",
    "    result.rename(\n",
    "        columns={'start_time': 'Start Time', 'stat_amount': stat, 'match_winner': 'Match Winner', 'winrate': 'Winrate',\n",
    "                 'opponent': 'Opponent', 'stage': 'Stage', 'avg_stat': f'Avg {stat}'},\n",
    "        inplace=True)\n",
    "\n",
    "    result.index.name = 'Match ID'\n",
    "\n",
    "    return result"
   ],
   "metadata": {
    "collapsed": false,
    "ExecuteTime": {
     "end_time": "2024-07-08T08:52:40.584894Z",
     "start_time": "2024-07-08T08:52:40.570905Z"
    }
   },
   "id": "398dcf28002011fa",
   "outputs": [],
   "execution_count": 142
  },
  {
   "cell_type": "code",
   "source": [
    "# get_team_profile('Vegas Eternal', 'Hero Damage Done')"
   ],
   "metadata": {
    "collapsed": false,
    "ExecuteTime": {
     "end_time": "2024-07-08T08:52:40.599856Z",
     "start_time": "2024-07-08T08:52:40.585896Z"
    }
   },
   "id": "a9f978128baf33f3",
   "outputs": [],
   "execution_count": 143
  },
  {
   "cell_type": "code",
   "source": [
    "# |export\n",
    "def get_heroes_stat(stat: str) -> pd.DataFrame:\n",
    "    \"\"\"\n",
    "    This function calculates the total amount of a specific statistic for each hero in the dataset.\n",
    "\n",
    "    Parameters:\n",
    "    stat (str): The statistic to consider.\n",
    "\n",
    "    Returns:\n",
    "    pd.DataFrame: A DataFrame containing the total amount of the statistic for each hero, sorted in descending order.\n",
    "    \"\"\"\n",
    "    # Filter the DataFrame based on the statistic\n",
    "    result = df[df['stat'] == stat]\n",
    "\n",
    "    # # Group by hero and sum the statistic amounts\n",
    "    # result = result.groupby('hero')['stat_amount'].sum().sort_values(ascending=False)\n",
    "    # \n",
    "    # # Set the name of the Series and its index\n",
    "    # result.name = stat\n",
    "    # result.index.name = 'Hero'\n",
    "    # \n",
    "    # # Convert the Series to a DataFrame\n",
    "    # result = result.to_frame()\n",
    "    \n",
    "    # get the sum of the stat for each hero : 'Hero', 'Role', 'Stat', 'Stat Amount'\n",
    "    result = result.groupby(['hero', 'role', 'stat'])['stat_amount'].sum().reset_index()\n",
    "    result = result[result['hero'] != 'All Heroes']\n",
    "    result = result.sort_values(by='stat_amount', ascending=False)\n",
    "    result = result.set_index('hero')\n",
    "    \n",
    "    # Rename the columns\n",
    "    result.rename(columns={'role': 'Role', 'stat': 'Stat', 'stat_amount': stat}, inplace=True)\n",
    "    result.index.name = 'Hero'\n",
    "    \n",
    "    return result\n"
   ],
   "metadata": {
    "collapsed": false,
    "ExecuteTime": {
     "end_time": "2024-07-08T08:52:40.615785Z",
     "start_time": "2024-07-08T08:52:40.601823Z"
    }
   },
   "id": "652979432107645a",
   "outputs": [],
   "execution_count": 144
  },
  {
   "cell_type": "code",
   "source": [
    "get_heroes_stat('Hero Damage Done')"
   ],
   "metadata": {
    "collapsed": false,
    "ExecuteTime": {
     "end_time": "2024-07-08T08:52:40.927951Z",
     "start_time": "2024-07-08T08:52:40.616793Z"
    }
   },
   "id": "7de4dd0240b4719c",
   "outputs": [
    {
     "data": {
      "text/plain": [
       "                  Role              Stat  Hero Damage Done\n",
       "Hero                                                      \n",
       "D.Va              Tank  Hero Damage Done      3.910453e+07\n",
       "Zenyatta       Support  Hero Damage Done      3.177756e+07\n",
       "Tracer             DPS  Hero Damage Done      2.634691e+07\n",
       "Winston           Tank  Hero Damage Done      2.451064e+07\n",
       "Zarya             Tank  Hero Damage Done      2.444823e+07\n",
       "Lúcio          Support  Hero Damage Done      1.903345e+07\n",
       "Reinhardt         Tank  Hero Damage Done      1.896988e+07\n",
       "Brigitte       Support  Hero Damage Done      1.547672e+07\n",
       "Widowmaker         DPS  Hero Damage Done      1.378153e+07\n",
       "Sombra             DPS  Hero Damage Done      1.286654e+07\n",
       "Orisa             Tank  Hero Damage Done      1.199969e+07\n",
       "Sigma             Tank  Hero Damage Done      1.184822e+07\n",
       "Genji              DPS  Hero Damage Done      1.013878e+07\n",
       "Ashe               DPS  Hero Damage Done      8.983390e+06\n",
       "Mei                DPS  Hero Damage Done      8.790441e+06\n",
       "Ana            Support  Hero Damage Done      8.636497e+06\n",
       "Pharah             DPS  Hero Damage Done      8.246764e+06\n",
       "Hanzo              DPS  Hero Damage Done      8.158478e+06\n",
       "Cassidy            DPS  Hero Damage Done      7.850819e+06\n",
       "Reaper             DPS  Hero Damage Done      6.905088e+06\n",
       "Moira          Support  Hero Damage Done      6.585596e+06\n",
       "Junkrat            DPS  Hero Damage Done      5.874226e+06\n",
       "Baptiste       Support  Hero Damage Done      5.804910e+06\n",
       "Roadhog           Tank  Hero Damage Done      4.911282e+06\n",
       "Wrecking Ball     Tank  Hero Damage Done      4.173706e+06\n",
       "Soldier: 76        DPS  Hero Damage Done      3.444453e+06\n",
       "Doomfist          Tank  Hero Damage Done      3.355204e+06\n",
       "Echo               DPS  Hero Damage Done      3.154814e+06\n",
       "Ramattra          Tank  Hero Damage Done      2.582117e+06\n",
       "Torbjörn           DPS  Hero Damage Done      1.371581e+06\n",
       "Bastion            DPS  Hero Damage Done      1.273341e+06\n",
       "Sojourn            DPS  Hero Damage Done      1.008069e+06\n",
       "Symmetra           DPS  Hero Damage Done      8.739370e+05\n",
       "Kiriko         Support  Hero Damage Done      8.673440e+05\n",
       "Mercy          Support  Hero Damage Done      4.875406e+05\n",
       "Junker Queen      Tank  Hero Damage Done      4.258750e+05\n",
       "Lifeweaver     Support  Hero Damage Done      2.185426e+03"
      ],
      "text/html": [
       "<div>\n",
       "<style scoped>\n",
       "    .dataframe tbody tr th:only-of-type {\n",
       "        vertical-align: middle;\n",
       "    }\n",
       "\n",
       "    .dataframe tbody tr th {\n",
       "        vertical-align: top;\n",
       "    }\n",
       "\n",
       "    .dataframe thead th {\n",
       "        text-align: right;\n",
       "    }\n",
       "</style>\n",
       "<table border=\"1\" class=\"dataframe\">\n",
       "  <thead>\n",
       "    <tr style=\"text-align: right;\">\n",
       "      <th></th>\n",
       "      <th>Role</th>\n",
       "      <th>Stat</th>\n",
       "      <th>Hero Damage Done</th>\n",
       "    </tr>\n",
       "    <tr>\n",
       "      <th>Hero</th>\n",
       "      <th></th>\n",
       "      <th></th>\n",
       "      <th></th>\n",
       "    </tr>\n",
       "  </thead>\n",
       "  <tbody>\n",
       "    <tr>\n",
       "      <th>D.Va</th>\n",
       "      <td>Tank</td>\n",
       "      <td>Hero Damage Done</td>\n",
       "      <td>3.910453e+07</td>\n",
       "    </tr>\n",
       "    <tr>\n",
       "      <th>Zenyatta</th>\n",
       "      <td>Support</td>\n",
       "      <td>Hero Damage Done</td>\n",
       "      <td>3.177756e+07</td>\n",
       "    </tr>\n",
       "    <tr>\n",
       "      <th>Tracer</th>\n",
       "      <td>DPS</td>\n",
       "      <td>Hero Damage Done</td>\n",
       "      <td>2.634691e+07</td>\n",
       "    </tr>\n",
       "    <tr>\n",
       "      <th>Winston</th>\n",
       "      <td>Tank</td>\n",
       "      <td>Hero Damage Done</td>\n",
       "      <td>2.451064e+07</td>\n",
       "    </tr>\n",
       "    <tr>\n",
       "      <th>Zarya</th>\n",
       "      <td>Tank</td>\n",
       "      <td>Hero Damage Done</td>\n",
       "      <td>2.444823e+07</td>\n",
       "    </tr>\n",
       "    <tr>\n",
       "      <th>Lúcio</th>\n",
       "      <td>Support</td>\n",
       "      <td>Hero Damage Done</td>\n",
       "      <td>1.903345e+07</td>\n",
       "    </tr>\n",
       "    <tr>\n",
       "      <th>Reinhardt</th>\n",
       "      <td>Tank</td>\n",
       "      <td>Hero Damage Done</td>\n",
       "      <td>1.896988e+07</td>\n",
       "    </tr>\n",
       "    <tr>\n",
       "      <th>Brigitte</th>\n",
       "      <td>Support</td>\n",
       "      <td>Hero Damage Done</td>\n",
       "      <td>1.547672e+07</td>\n",
       "    </tr>\n",
       "    <tr>\n",
       "      <th>Widowmaker</th>\n",
       "      <td>DPS</td>\n",
       "      <td>Hero Damage Done</td>\n",
       "      <td>1.378153e+07</td>\n",
       "    </tr>\n",
       "    <tr>\n",
       "      <th>Sombra</th>\n",
       "      <td>DPS</td>\n",
       "      <td>Hero Damage Done</td>\n",
       "      <td>1.286654e+07</td>\n",
       "    </tr>\n",
       "    <tr>\n",
       "      <th>Orisa</th>\n",
       "      <td>Tank</td>\n",
       "      <td>Hero Damage Done</td>\n",
       "      <td>1.199969e+07</td>\n",
       "    </tr>\n",
       "    <tr>\n",
       "      <th>Sigma</th>\n",
       "      <td>Tank</td>\n",
       "      <td>Hero Damage Done</td>\n",
       "      <td>1.184822e+07</td>\n",
       "    </tr>\n",
       "    <tr>\n",
       "      <th>Genji</th>\n",
       "      <td>DPS</td>\n",
       "      <td>Hero Damage Done</td>\n",
       "      <td>1.013878e+07</td>\n",
       "    </tr>\n",
       "    <tr>\n",
       "      <th>Ashe</th>\n",
       "      <td>DPS</td>\n",
       "      <td>Hero Damage Done</td>\n",
       "      <td>8.983390e+06</td>\n",
       "    </tr>\n",
       "    <tr>\n",
       "      <th>Mei</th>\n",
       "      <td>DPS</td>\n",
       "      <td>Hero Damage Done</td>\n",
       "      <td>8.790441e+06</td>\n",
       "    </tr>\n",
       "    <tr>\n",
       "      <th>Ana</th>\n",
       "      <td>Support</td>\n",
       "      <td>Hero Damage Done</td>\n",
       "      <td>8.636497e+06</td>\n",
       "    </tr>\n",
       "    <tr>\n",
       "      <th>Pharah</th>\n",
       "      <td>DPS</td>\n",
       "      <td>Hero Damage Done</td>\n",
       "      <td>8.246764e+06</td>\n",
       "    </tr>\n",
       "    <tr>\n",
       "      <th>Hanzo</th>\n",
       "      <td>DPS</td>\n",
       "      <td>Hero Damage Done</td>\n",
       "      <td>8.158478e+06</td>\n",
       "    </tr>\n",
       "    <tr>\n",
       "      <th>Cassidy</th>\n",
       "      <td>DPS</td>\n",
       "      <td>Hero Damage Done</td>\n",
       "      <td>7.850819e+06</td>\n",
       "    </tr>\n",
       "    <tr>\n",
       "      <th>Reaper</th>\n",
       "      <td>DPS</td>\n",
       "      <td>Hero Damage Done</td>\n",
       "      <td>6.905088e+06</td>\n",
       "    </tr>\n",
       "    <tr>\n",
       "      <th>Moira</th>\n",
       "      <td>Support</td>\n",
       "      <td>Hero Damage Done</td>\n",
       "      <td>6.585596e+06</td>\n",
       "    </tr>\n",
       "    <tr>\n",
       "      <th>Junkrat</th>\n",
       "      <td>DPS</td>\n",
       "      <td>Hero Damage Done</td>\n",
       "      <td>5.874226e+06</td>\n",
       "    </tr>\n",
       "    <tr>\n",
       "      <th>Baptiste</th>\n",
       "      <td>Support</td>\n",
       "      <td>Hero Damage Done</td>\n",
       "      <td>5.804910e+06</td>\n",
       "    </tr>\n",
       "    <tr>\n",
       "      <th>Roadhog</th>\n",
       "      <td>Tank</td>\n",
       "      <td>Hero Damage Done</td>\n",
       "      <td>4.911282e+06</td>\n",
       "    </tr>\n",
       "    <tr>\n",
       "      <th>Wrecking Ball</th>\n",
       "      <td>Tank</td>\n",
       "      <td>Hero Damage Done</td>\n",
       "      <td>4.173706e+06</td>\n",
       "    </tr>\n",
       "    <tr>\n",
       "      <th>Soldier: 76</th>\n",
       "      <td>DPS</td>\n",
       "      <td>Hero Damage Done</td>\n",
       "      <td>3.444453e+06</td>\n",
       "    </tr>\n",
       "    <tr>\n",
       "      <th>Doomfist</th>\n",
       "      <td>Tank</td>\n",
       "      <td>Hero Damage Done</td>\n",
       "      <td>3.355204e+06</td>\n",
       "    </tr>\n",
       "    <tr>\n",
       "      <th>Echo</th>\n",
       "      <td>DPS</td>\n",
       "      <td>Hero Damage Done</td>\n",
       "      <td>3.154814e+06</td>\n",
       "    </tr>\n",
       "    <tr>\n",
       "      <th>Ramattra</th>\n",
       "      <td>Tank</td>\n",
       "      <td>Hero Damage Done</td>\n",
       "      <td>2.582117e+06</td>\n",
       "    </tr>\n",
       "    <tr>\n",
       "      <th>Torbjörn</th>\n",
       "      <td>DPS</td>\n",
       "      <td>Hero Damage Done</td>\n",
       "      <td>1.371581e+06</td>\n",
       "    </tr>\n",
       "    <tr>\n",
       "      <th>Bastion</th>\n",
       "      <td>DPS</td>\n",
       "      <td>Hero Damage Done</td>\n",
       "      <td>1.273341e+06</td>\n",
       "    </tr>\n",
       "    <tr>\n",
       "      <th>Sojourn</th>\n",
       "      <td>DPS</td>\n",
       "      <td>Hero Damage Done</td>\n",
       "      <td>1.008069e+06</td>\n",
       "    </tr>\n",
       "    <tr>\n",
       "      <th>Symmetra</th>\n",
       "      <td>DPS</td>\n",
       "      <td>Hero Damage Done</td>\n",
       "      <td>8.739370e+05</td>\n",
       "    </tr>\n",
       "    <tr>\n",
       "      <th>Kiriko</th>\n",
       "      <td>Support</td>\n",
       "      <td>Hero Damage Done</td>\n",
       "      <td>8.673440e+05</td>\n",
       "    </tr>\n",
       "    <tr>\n",
       "      <th>Mercy</th>\n",
       "      <td>Support</td>\n",
       "      <td>Hero Damage Done</td>\n",
       "      <td>4.875406e+05</td>\n",
       "    </tr>\n",
       "    <tr>\n",
       "      <th>Junker Queen</th>\n",
       "      <td>Tank</td>\n",
       "      <td>Hero Damage Done</td>\n",
       "      <td>4.258750e+05</td>\n",
       "    </tr>\n",
       "    <tr>\n",
       "      <th>Lifeweaver</th>\n",
       "      <td>Support</td>\n",
       "      <td>Hero Damage Done</td>\n",
       "      <td>2.185426e+03</td>\n",
       "    </tr>\n",
       "  </tbody>\n",
       "</table>\n",
       "</div>"
      ]
     },
     "execution_count": 145,
     "metadata": {},
     "output_type": "execute_result"
    }
   ],
   "execution_count": 145
  },
  {
   "cell_type": "code",
   "source": [
    "# |export\n",
    "def get_players_stat(stat: str) -> pd.DataFrame:\n",
    "    \"\"\"\n",
    "    This function calculates the total amount of a specific statistic for each player in the dataset.\n",
    "\n",
    "    Parameters:\n",
    "    stat (str): The statistic to consider.\n",
    "\n",
    "    Returns:\n",
    "    pd.DataFrame: A DataFrame containing the total amount of the statistic for each player, sorted in descending order.\n",
    "    \"\"\"\n",
    "    # Filter the DataFrame based on the statistic\n",
    "    result = df[df['stat'] == stat]\n",
    "\n",
    "    # Group by player and sum the statistic amounts\n",
    "    result = result.groupby('player')['stat_amount'].sum().sort_values(ascending=False)\n",
    "\n",
    "    # Set the name of the Series and its index\n",
    "    result.name = stat\n",
    "    result.index.name = 'Player'\n",
    "\n",
    "    # Convert the Series to a DataFrame\n",
    "    result = result.to_frame()\n",
    "\n",
    "    return result"
   ],
   "metadata": {
    "collapsed": false,
    "ExecuteTime": {
     "end_time": "2024-07-08T08:52:40.942911Z",
     "start_time": "2024-07-08T08:52:40.928949Z"
    }
   },
   "id": "859d029a0a1deb",
   "outputs": [],
   "execution_count": 146
  },
  {
   "cell_type": "code",
   "source": [
    "# get_players_stat('Hero Damage Done')"
   ],
   "metadata": {
    "collapsed": false,
    "ExecuteTime": {
     "end_time": "2024-07-08T08:52:40.957871Z",
     "start_time": "2024-07-08T08:52:40.943908Z"
    }
   },
   "id": "c02504eb51e5a53d",
   "outputs": [],
   "execution_count": 147
  },
  {
   "cell_type": "code",
   "source": [
    "# |exporti\n",
    "def avg_stats_per_game(stat: str, player: str) -> pd.DataFrame:\n",
    "    \"\"\"\n",
    "    This function calculates the average amount of a specific statistic per game for a specific player.\n",
    "\n",
    "    Parameters:\n",
    "    stat (str): The statistic to consider.\n",
    "    player (str): The player to consider.\n",
    "\n",
    "    Returns:\n",
    "    pd.DataFrame: A DataFrame containing the average amount of the statistic per game for each hero the player has played, \n",
    "    the number of games played with each hero, sorted in descending order of the average statistic.\n",
    "    \"\"\"\n",
    "    # Filter the DataFrame based on the statistic and player\n",
    "    player_data = df[(df['stat'] == stat) & (df['player'] == player)]\n",
    "    results = pd.DataFrame(columns=['Hero', 'Stat', 'Avg per game'])\n",
    "\n",
    "    # Filter the DataFrame based on the statistic\n",
    "    stat_data = player_data[player_data['stat'] == stat]\n",
    "\n",
    "    # Calculate the average statistic amount per game for each hero\n",
    "    avg_per_game = stat_data.groupby(['hero'])['stat_amount'].mean().reset_index()\n",
    "    avg_per_game.columns = ['Hero', 'Avg per game']\n",
    "\n",
    "    # Calculate the number of games played with each hero\n",
    "    avg_per_game['Number of game'] = stat_data.groupby(['hero'])['stat_amount'].count().reset_index()['stat_amount']\n",
    "\n",
    "    # Concatenate the results\n",
    "    results = pd.concat([results, avg_per_game], ignore_index=True, sort=False)\n",
    "\n",
    "    return results[['Hero', 'Avg per game', 'Number of game']]"
   ],
   "metadata": {
    "collapsed": false,
    "ExecuteTime": {
     "end_time": "2024-07-08T08:52:40.973829Z",
     "start_time": "2024-07-08T08:52:40.958869Z"
    }
   },
   "id": "2117c7d3c4980543",
   "outputs": [],
   "execution_count": 148
  },
  {
   "cell_type": "code",
   "source": [
    "# |export\n",
    "def get_teams_leaderboard(stage=None):\n",
    "    \"\"\"\n",
    "    This function calculates the win rate for each team in the dataset, optionally for a specific stage.\n",
    "\n",
    "    Parameters:\n",
    "    stage (str, optional): The stage to consider. If None, all stages are considered.\n",
    "\n",
    "    Returns:\n",
    "    pd.DataFrame: A DataFrame containing the win rate for each team, sorted in descending order.\n",
    "    \"\"\"\n",
    "\n",
    "    # Get a list of unique teams\n",
    "    teams = df['team'].unique()\n",
    "\n",
    "    # Initialize an empty list to store the win rates\n",
    "    winrates = []\n",
    "\n",
    "    # Calculate the win rate for each team\n",
    "    for team in teams:\n",
    "        # Get all matches involving the team\n",
    "        team_matches = df[(df['team'] == team)]\n",
    "\n",
    "        # If a stage is specified, filter the matches by stage\n",
    "        if stage is not None:\n",
    "            # Keep only rows where 'stage' is equal to the specified stage\n",
    "            team_matches = team_matches[team_matches['stage'] == stage]\n",
    "\n",
    "        # If team_matches is empty, continue to the next team\n",
    "        if team_matches.empty:\n",
    "            continue\n",
    "\n",
    "        # Get match_ids for the filtered matches\n",
    "        match_ids = team_matches['match_id'].unique()\n",
    "\n",
    "        # Filter map_stats by these match_ids\n",
    "        team_map_stats = map_stats[map_stats['match_id'].isin(match_ids)]\n",
    "\n",
    "        # Count the number of matches won by the team\n",
    "        wins = len(team_map_stats[team_map_stats['match_winner'] == team])\n",
    "\n",
    "        # Calculate the total number of matches played by the team\n",
    "        total_matches = len(team_map_stats)\n",
    "\n",
    "        # Calculate the win rate\n",
    "        if total_matches > 0:\n",
    "            winrate = (wins / total_matches) * 100\n",
    "        else:\n",
    "            winrate = 0\n",
    "\n",
    "        # Append the team and its win rate to the list\n",
    "        winrates.append((team, winrate))\n",
    "\n",
    "    # Convert the list to a DataFrame\n",
    "    winrates_df = pd.DataFrame(winrates, columns=['Team', 'Winrate'])\n",
    "\n",
    "    # Sort the DataFrame by win rate in descending order\n",
    "    winrates_df = winrates_df.sort_values('Winrate', ascending=False)\n",
    "    \n",
    "    return winrates_df"
   ],
   "metadata": {
    "collapsed": false,
    "ExecuteTime": {
     "end_time": "2024-07-08T08:52:40.989786Z",
     "start_time": "2024-07-08T08:52:40.975825Z"
    }
   },
   "id": "ab6b4064970d73de",
   "outputs": [],
   "execution_count": 149
  },
  {
   "cell_type": "code",
   "source": [
    "get_teams_leaderboard()"
   ],
   "metadata": {
    "collapsed": false,
    "ExecuteTime": {
     "end_time": "2024-07-08T08:52:50.447047Z",
     "start_time": "2024-07-08T08:52:40.990784Z"
    }
   },
   "id": "c4a62dbfb693e962",
   "outputs": [
    {
     "data": {
      "text/plain": [
       "                      Team    Winrate\n",
       "35                Dreamers  66.666667\n",
       "11      New York Excelsior  66.225681\n",
       "1      San Francisco Shock  65.337201\n",
       "19        Vancouver Titans  63.888889\n",
       "9           Seoul Infernal  61.028839\n",
       "16        Guangzhou Charge  57.933042\n",
       "12          Hangzhou Spark  56.603774\n",
       "2   Los Angeles Gladiators  55.150041\n",
       "31           Twisted Minds  55.000000\n",
       "0      Los Angeles Valiant  52.467532\n",
       "38                O2 Blast  51.282051\n",
       "14           Atlanta Reign  50.709677\n",
       "7          London Spitfire  50.519031\n",
       "5            Seoul Dynasty  49.048801\n",
       "30                  Saints  47.368421\n",
       "17           Vegas Eternal  47.093023\n",
       "10         Boston Uprising  45.213675\n",
       "36              Poker Face  43.333333\n",
       "8          Houston Outlaws  42.328042\n",
       "40        Sin Prisa Gaming  42.307692\n",
       "3         Shanghai Dragons  41.573034\n",
       "15         Chengdu Hunters  38.250429\n",
       "6           Florida Mayhem  37.081545\n",
       "4              Dallas Fuel  36.100746\n",
       "13         Toronto Defiant  35.893648\n",
       "18      Washington Justice  35.022355\n",
       "28              Trick Room  33.333333\n",
       "33                    WISP  31.578947\n",
       "39                PANTHERA  31.578947\n",
       "29                Timeless  23.809524\n",
       "26               Team D.va   0.000000\n",
       "27          Team Reinhardt   0.000000\n",
       "21     Jehong and Students   0.000000\n",
       "25               Team Jake   0.000000\n",
       "32               Team Peps   0.000000\n",
       "34         Redbird Esports   0.000000\n",
       "24              Team Custa   0.000000\n",
       "23                Triple A   0.000000\n",
       "37                  Rhodes   0.000000\n",
       "22           Team Universe   0.000000\n",
       "20            Brick Movers   0.000000"
      ],
      "text/html": [
       "<div>\n",
       "<style scoped>\n",
       "    .dataframe tbody tr th:only-of-type {\n",
       "        vertical-align: middle;\n",
       "    }\n",
       "\n",
       "    .dataframe tbody tr th {\n",
       "        vertical-align: top;\n",
       "    }\n",
       "\n",
       "    .dataframe thead th {\n",
       "        text-align: right;\n",
       "    }\n",
       "</style>\n",
       "<table border=\"1\" class=\"dataframe\">\n",
       "  <thead>\n",
       "    <tr style=\"text-align: right;\">\n",
       "      <th></th>\n",
       "      <th>Team</th>\n",
       "      <th>Winrate</th>\n",
       "    </tr>\n",
       "  </thead>\n",
       "  <tbody>\n",
       "    <tr>\n",
       "      <th>35</th>\n",
       "      <td>Dreamers</td>\n",
       "      <td>66.666667</td>\n",
       "    </tr>\n",
       "    <tr>\n",
       "      <th>11</th>\n",
       "      <td>New York Excelsior</td>\n",
       "      <td>66.225681</td>\n",
       "    </tr>\n",
       "    <tr>\n",
       "      <th>1</th>\n",
       "      <td>San Francisco Shock</td>\n",
       "      <td>65.337201</td>\n",
       "    </tr>\n",
       "    <tr>\n",
       "      <th>19</th>\n",
       "      <td>Vancouver Titans</td>\n",
       "      <td>63.888889</td>\n",
       "    </tr>\n",
       "    <tr>\n",
       "      <th>9</th>\n",
       "      <td>Seoul Infernal</td>\n",
       "      <td>61.028839</td>\n",
       "    </tr>\n",
       "    <tr>\n",
       "      <th>16</th>\n",
       "      <td>Guangzhou Charge</td>\n",
       "      <td>57.933042</td>\n",
       "    </tr>\n",
       "    <tr>\n",
       "      <th>12</th>\n",
       "      <td>Hangzhou Spark</td>\n",
       "      <td>56.603774</td>\n",
       "    </tr>\n",
       "    <tr>\n",
       "      <th>2</th>\n",
       "      <td>Los Angeles Gladiators</td>\n",
       "      <td>55.150041</td>\n",
       "    </tr>\n",
       "    <tr>\n",
       "      <th>31</th>\n",
       "      <td>Twisted Minds</td>\n",
       "      <td>55.000000</td>\n",
       "    </tr>\n",
       "    <tr>\n",
       "      <th>0</th>\n",
       "      <td>Los Angeles Valiant</td>\n",
       "      <td>52.467532</td>\n",
       "    </tr>\n",
       "    <tr>\n",
       "      <th>38</th>\n",
       "      <td>O2 Blast</td>\n",
       "      <td>51.282051</td>\n",
       "    </tr>\n",
       "    <tr>\n",
       "      <th>14</th>\n",
       "      <td>Atlanta Reign</td>\n",
       "      <td>50.709677</td>\n",
       "    </tr>\n",
       "    <tr>\n",
       "      <th>7</th>\n",
       "      <td>London Spitfire</td>\n",
       "      <td>50.519031</td>\n",
       "    </tr>\n",
       "    <tr>\n",
       "      <th>5</th>\n",
       "      <td>Seoul Dynasty</td>\n",
       "      <td>49.048801</td>\n",
       "    </tr>\n",
       "    <tr>\n",
       "      <th>30</th>\n",
       "      <td>Saints</td>\n",
       "      <td>47.368421</td>\n",
       "    </tr>\n",
       "    <tr>\n",
       "      <th>17</th>\n",
       "      <td>Vegas Eternal</td>\n",
       "      <td>47.093023</td>\n",
       "    </tr>\n",
       "    <tr>\n",
       "      <th>10</th>\n",
       "      <td>Boston Uprising</td>\n",
       "      <td>45.213675</td>\n",
       "    </tr>\n",
       "    <tr>\n",
       "      <th>36</th>\n",
       "      <td>Poker Face</td>\n",
       "      <td>43.333333</td>\n",
       "    </tr>\n",
       "    <tr>\n",
       "      <th>8</th>\n",
       "      <td>Houston Outlaws</td>\n",
       "      <td>42.328042</td>\n",
       "    </tr>\n",
       "    <tr>\n",
       "      <th>40</th>\n",
       "      <td>Sin Prisa Gaming</td>\n",
       "      <td>42.307692</td>\n",
       "    </tr>\n",
       "    <tr>\n",
       "      <th>3</th>\n",
       "      <td>Shanghai Dragons</td>\n",
       "      <td>41.573034</td>\n",
       "    </tr>\n",
       "    <tr>\n",
       "      <th>15</th>\n",
       "      <td>Chengdu Hunters</td>\n",
       "      <td>38.250429</td>\n",
       "    </tr>\n",
       "    <tr>\n",
       "      <th>6</th>\n",
       "      <td>Florida Mayhem</td>\n",
       "      <td>37.081545</td>\n",
       "    </tr>\n",
       "    <tr>\n",
       "      <th>4</th>\n",
       "      <td>Dallas Fuel</td>\n",
       "      <td>36.100746</td>\n",
       "    </tr>\n",
       "    <tr>\n",
       "      <th>13</th>\n",
       "      <td>Toronto Defiant</td>\n",
       "      <td>35.893648</td>\n",
       "    </tr>\n",
       "    <tr>\n",
       "      <th>18</th>\n",
       "      <td>Washington Justice</td>\n",
       "      <td>35.022355</td>\n",
       "    </tr>\n",
       "    <tr>\n",
       "      <th>28</th>\n",
       "      <td>Trick Room</td>\n",
       "      <td>33.333333</td>\n",
       "    </tr>\n",
       "    <tr>\n",
       "      <th>33</th>\n",
       "      <td>WISP</td>\n",
       "      <td>31.578947</td>\n",
       "    </tr>\n",
       "    <tr>\n",
       "      <th>39</th>\n",
       "      <td>PANTHERA</td>\n",
       "      <td>31.578947</td>\n",
       "    </tr>\n",
       "    <tr>\n",
       "      <th>29</th>\n",
       "      <td>Timeless</td>\n",
       "      <td>23.809524</td>\n",
       "    </tr>\n",
       "    <tr>\n",
       "      <th>26</th>\n",
       "      <td>Team D.va</td>\n",
       "      <td>0.000000</td>\n",
       "    </tr>\n",
       "    <tr>\n",
       "      <th>27</th>\n",
       "      <td>Team Reinhardt</td>\n",
       "      <td>0.000000</td>\n",
       "    </tr>\n",
       "    <tr>\n",
       "      <th>21</th>\n",
       "      <td>Jehong and Students</td>\n",
       "      <td>0.000000</td>\n",
       "    </tr>\n",
       "    <tr>\n",
       "      <th>25</th>\n",
       "      <td>Team Jake</td>\n",
       "      <td>0.000000</td>\n",
       "    </tr>\n",
       "    <tr>\n",
       "      <th>32</th>\n",
       "      <td>Team Peps</td>\n",
       "      <td>0.000000</td>\n",
       "    </tr>\n",
       "    <tr>\n",
       "      <th>34</th>\n",
       "      <td>Redbird Esports</td>\n",
       "      <td>0.000000</td>\n",
       "    </tr>\n",
       "    <tr>\n",
       "      <th>24</th>\n",
       "      <td>Team Custa</td>\n",
       "      <td>0.000000</td>\n",
       "    </tr>\n",
       "    <tr>\n",
       "      <th>23</th>\n",
       "      <td>Triple A</td>\n",
       "      <td>0.000000</td>\n",
       "    </tr>\n",
       "    <tr>\n",
       "      <th>37</th>\n",
       "      <td>Rhodes</td>\n",
       "      <td>0.000000</td>\n",
       "    </tr>\n",
       "    <tr>\n",
       "      <th>22</th>\n",
       "      <td>Team Universe</td>\n",
       "      <td>0.000000</td>\n",
       "    </tr>\n",
       "    <tr>\n",
       "      <th>20</th>\n",
       "      <td>Brick Movers</td>\n",
       "      <td>0.000000</td>\n",
       "    </tr>\n",
       "  </tbody>\n",
       "</table>\n",
       "</div>"
      ]
     },
     "execution_count": 150,
     "metadata": {},
     "output_type": "execute_result"
    }
   ],
   "execution_count": 150
  },
  {
   "cell_type": "code",
   "source": [
    "# |export\n",
    "def get_heroes_stat_by_player(stat: str, player: str) -> pd.Series:\n",
    "    \"\"\"\n",
    "    This function calculates the total amount of a specific statistic for each hero played by a specific player.\n",
    "\n",
    "    Parameters:\n",
    "    stat (str): The statistic to consider.\n",
    "    player (str): The player to consider.\n",
    "\n",
    "    Returns:\n",
    "    pd.Series: A Series containing the total amount of the statistic for each hero played by the player, \n",
    "    sorted in descending order, and the average statistic per game.\n",
    "    \"\"\"\n",
    "    # Filter the DataFrame based on the statistic and player\n",
    "    result = df[(df['stat'] == stat) & (df['player'] == player)].groupby('hero')['stat_amount'].sum().sort_values(\n",
    "        ascending=False)\n",
    "    result.name = stat\n",
    "    result.index.name = 'Hero'\n",
    "\n",
    "    # Calculate the average statistic per game\n",
    "    stat_avg = avg_stats_per_game(stat, player)\n",
    "\n",
    "    # Merge the total and average statistics\n",
    "    result = result.reset_index().merge(stat_avg, on='Hero', how='left')\n",
    "\n",
    "    # Reset the index\n",
    "    result = result.set_index('Hero')\n",
    "\n",
    "    return result"
   ],
   "metadata": {
    "collapsed": false,
    "ExecuteTime": {
     "end_time": "2024-07-08T08:52:50.462973Z",
     "start_time": "2024-07-08T08:52:50.449018Z"
    }
   },
   "id": "4a9787f3b5901826",
   "outputs": [],
   "execution_count": 151
  },
  {
   "cell_type": "markdown",
   "source": [],
   "metadata": {
    "collapsed": false
   },
   "id": "990f5c86d8c8998c"
  },
  {
   "cell_type": "code",
   "source": [
    "# get_heroes_stat_by_player('Hero Damage Done', 'SoOn')\n",
    "# df.head()\n",
    "# avg_stats_per_game('SoOn')"
   ],
   "metadata": {
    "collapsed": false,
    "ExecuteTime": {
     "end_time": "2024-07-08T08:52:50.478970Z",
     "start_time": "2024-07-08T08:52:50.464998Z"
    }
   },
   "id": "7153fcad2db4a9f5",
   "outputs": [],
   "execution_count": 152
  },
  {
   "cell_type": "code",
   "source": [
    "# |export\n",
    "def get_players_stat_by_team(stat: str, team: str) -> pd.DataFrame:\n",
    "    \"\"\"\n",
    "    This function calculates the total amount of a specific statistic for each player in a specific team.\n",
    "\n",
    "    Parameters:\n",
    "    stat (str): The statistic to consider.\n",
    "    team (str): The team to consider.\n",
    "\n",
    "    Returns:\n",
    "    pd.DataFrame: A DataFrame containing the total amount of the statistic for each player in the team, sorted in descending order.\n",
    "    \"\"\"\n",
    "    # Filter the DataFrame based on the statistic and team\n",
    "    result = df[(df['stat'] == stat) & (df['team'] == team)].groupby('player')['stat_amount'].sum().sort_values(\n",
    "        ascending=False)\n",
    "\n",
    "    # Set the name of the Series and its index\n",
    "    result.name = stat\n",
    "    result.index.name = 'Player'\n",
    "    result = result.to_frame()\n",
    "\n",
    "    return result"
   ],
   "metadata": {
    "collapsed": false,
    "ExecuteTime": {
     "end_time": "2024-07-08T08:52:50.494895Z",
     "start_time": "2024-07-08T08:52:50.479928Z"
    }
   },
   "id": "81355387a68caeb4",
   "outputs": [],
   "execution_count": 153
  },
  {
   "cell_type": "code",
   "source": [
    "# get_players_stat_by_team('Hero Damage Done', 'Paris Eternal')"
   ],
   "metadata": {
    "collapsed": false,
    "ExecuteTime": {
     "end_time": "2024-07-08T08:52:50.510845Z",
     "start_time": "2024-07-08T08:52:50.498877Z"
    }
   },
   "id": "19ff4a3270061fd7",
   "outputs": [],
   "execution_count": 154
  },
  {
   "cell_type": "code",
   "source": [
    "# |export\n",
    "def get_team_scores(team: str, map_type: str = None, map_name: str = None) -> pd.DataFrame:\n",
    "    \"\"\"\n",
    "    This function generates a DataFrame containing the scores of a specific team, optionally filtered by map type and map name.\n",
    "\n",
    "    Parameters:\n",
    "    team (str): The name of the team.\n",
    "    map_type (str, optional): The type of the map. If None, all map types are considered.\n",
    "    map_name (str, optional): The name of the map. If None, all maps are considered.\n",
    "\n",
    "    Returns:\n",
    "    pd.DataFrame: A DataFrame containing the scores of the team, including the number of wins, losses, and the win rate.\n",
    "    \"\"\"\n",
    "    # Stock every unique game from team (each game as a unique 'match_id'), team name is stocked in 'team_one_name' or 'team_two_name'\n",
    "    team_games = map_stats[(map_stats['team_one_name'] == team) | (map_stats['team_two_name'] == team)]\n",
    "    if map_type:  # only 1 row per game\n",
    "        # Add column 'map_type' from dataframe 'df'\n",
    "        team_games = team_games.merge(df[['match_id', 'map_type']], on='match_id')\n",
    "        team_games = team_games[team_games['map_type'].str.lower() == map_type.lower()]\n",
    "        if map_name:  # only 1 row per game\n",
    "            team_games = team_games[team_games['map_name'].str.lower() == map_name.lower()]\n",
    "        # Get one row per map\n",
    "        team_games = team_games.drop_duplicates(subset='round_start_time')\n",
    "        # Do not keep twice same game_number per match_id\n",
    "        df_grp = team_games.groupby(['match_id', 'game_number'])\n",
    "        team_games = df_grp.first().reset_index()\n",
    "    else:  # only 1 row per match\n",
    "        # Get one row per match\n",
    "        team_games = team_games.drop_duplicates(subset='match_id')\n",
    "\n",
    "    # Get teams list\n",
    "    opponents = team_games[['team_one_name', 'team_two_name']]\n",
    "    # Remove team input from opponents list\n",
    "    opponents = opponents[opponents != team]\n",
    "    # Regroup in one column and remove duplicates\n",
    "    opponents = opponents.stack().reset_index(drop=True).drop_duplicates()\n",
    "\n",
    "    results = pd.DataFrame(columns=['team', 'opponent', 'win', 'loss', 'winrate', 'map_type', 'only_matches'])\n",
    "\n",
    "    for opponent in opponents:\n",
    "        matches = team_games[((team_games['team_one_name'] == team) &\n",
    "                              (team_games['team_two_name'] == opponent)) | (\n",
    "                                     (team_games['team_one_name'] == opponent) & (team_games['team_two_name'] == team))]\n",
    "\n",
    "        if map_type:\n",
    "            wins = matches['map_winner'] == team\n",
    "        else:\n",
    "            wins = matches['match_winner'] == team\n",
    "\n",
    "        total_matches = matches.shape[0]\n",
    "        if total_matches == 0:\n",
    "            continue\n",
    "        wins = wins.sum()\n",
    "        losses = len(matches) - wins\n",
    "        winrate = wins / total_matches\n",
    "\n",
    "        row = pd.DataFrame(\n",
    "            {'team': team, 'opponent': opponent, 'total_matches': total_matches, 'win': wins, 'loss': losses,\n",
    "             'winrate': winrate * 100, 'map_type': map_type,\n",
    "             'only_matches': not map_type, 'map_name': map_name}, index=[0])\n",
    "        results = pd.concat([results, row])\n",
    "\n",
    "    # Rename columns\n",
    "    results.rename(columns={'team': 'Team', 'opponent': 'Opponent', 'total_matches': 'Total Matches', 'win': 'Win',\n",
    "                            'loss': 'Loss', 'winrate': 'Winrate', 'map_type': 'Map Type',\n",
    "                            'only_matches': 'Only Matches', 'map_name': 'Map Name'},\n",
    "                   inplace=True)\n",
    "\n",
    "    # Reorder columns\n",
    "    results = results[\n",
    "        ['Team', 'Opponent', 'Total Matches', 'Win', 'Loss', 'Winrate', 'Map Type', 'Map Name', 'Only Matches']]\n",
    "    if not map_type:\n",
    "        results = results.drop(columns='Map Type')\n",
    "    if not map_name:\n",
    "        results = results.drop(columns='Map Name')\n",
    "\n",
    "    results = results.set_index('Team')\n",
    "    return results"
   ],
   "metadata": {
    "collapsed": false,
    "ExecuteTime": {
     "end_time": "2024-07-08T08:52:50.526802Z",
     "start_time": "2024-07-08T08:52:50.511867Z"
    }
   },
   "id": "35050d14f1f2aaf4",
   "outputs": [],
   "execution_count": 155
  },
  {
   "cell_type": "code",
   "source": [
    "# get_team_scores('Dallas Fuel', 'Control', 'Nepal')"
   ],
   "metadata": {
    "collapsed": false,
    "ExecuteTime": {
     "end_time": "2024-07-08T08:52:50.542760Z",
     "start_time": "2024-07-08T08:52:50.527800Z"
    }
   },
   "id": "da43cd8fcfa32b3b",
   "outputs": [],
   "execution_count": 156
  },
  {
   "cell_type": "code",
   "source": [
    "# get every team in alphabetical order\n",
    "# df['team'].unique()"
   ],
   "metadata": {
    "collapsed": false,
    "ExecuteTime": {
     "end_time": "2024-07-08T08:52:50.558718Z",
     "start_time": "2024-07-08T08:52:50.543758Z"
    }
   },
   "id": "10bc4a3296879f81",
   "outputs": [],
   "execution_count": 157
  },
  {
   "cell_type": "code",
   "source": [
    "# get every map in alphabetical order\n",
    "# df['map'].unique()"
   ],
   "metadata": {
    "collapsed": false,
    "ExecuteTime": {
     "end_time": "2024-07-08T08:52:50.573709Z",
     "start_time": "2024-07-08T08:52:50.559715Z"
    }
   },
   "id": "3f67a44fee9df0c0",
   "outputs": [],
   "execution_count": 158
  },
  {
   "cell_type": "code",
   "source": [
    "# get every hero in alphabetical order\n",
    "# df['hero'].unique()"
   ],
   "metadata": {
    "collapsed": false,
    "ExecuteTime": {
     "end_time": "2024-07-08T08:52:50.588637Z",
     "start_time": "2024-07-08T08:52:50.574675Z"
    }
   },
   "id": "c1227d7ab661ef07",
   "outputs": [],
   "execution_count": 159
  },
  {
   "cell_type": "code",
   "source": [
    "from nbdev.export import nb_export\n",
    "\n",
    "nb_export(\"owl.ipynb\", lib_path=\"./\", name=\"owl_module\")"
   ],
   "metadata": {
    "collapsed": false,
    "ExecuteTime": {
     "end_time": "2024-07-08T08:52:50.618558Z",
     "start_time": "2024-07-08T08:52:50.589635Z"
    }
   },
   "id": "d95a21067163bf79",
   "outputs": [],
   "execution_count": 160
  }
 ],
 "metadata": {
  "kernelspec": {
   "display_name": "Python 3",
   "language": "python",
   "name": "python3"
  },
  "language_info": {
   "codemirror_mode": {
    "name": "ipython",
    "version": 2
   },
   "file_extension": ".py",
   "mimetype": "text/x-python",
   "name": "python",
   "nbconvert_exporter": "python",
   "pygments_lexer": "ipython2",
   "version": "2.7.6"
  }
 },
 "nbformat": 4,
 "nbformat_minor": 5
}
